{
 "cells": [
  {
   "cell_type": "markdown",
   "id": "c370b8f0-ad4f-4d31-b308-27eaf6e52b76",
   "metadata": {},
   "source": [
    "# Data Aggregation and Wrangling"
   ]
  },
  {
   "cell_type": "code",
   "execution_count": 1,
   "id": "c7785a1c-15b4-4f42-8dc2-0fd0fe6db0d3",
   "metadata": {
    "tags": []
   },
   "outputs": [],
   "source": [
    "import shutup; shutup.please()"
   ]
  },
  {
   "cell_type": "code",
   "execution_count": 2,
   "id": "6aabac48-9965-4e51-935e-e608c249574b",
   "metadata": {
    "tags": []
   },
   "outputs": [
    {
     "name": "stderr",
     "output_type": "stream",
     "text": [
      "2023-05-11 12:07:00.858092: I tensorflow/tsl/cuda/cudart_stub.cc:28] Could not find cuda drivers on your machine, GPU will not be used.\n",
      "2023-05-11 12:07:01.410982: I tensorflow/tsl/cuda/cudart_stub.cc:28] Could not find cuda drivers on your machine, GPU will not be used.\n",
      "2023-05-11 12:07:01.412916: I tensorflow/core/platform/cpu_feature_guard.cc:182] This TensorFlow binary is optimized to use available CPU instructions in performance-critical operations.\n",
      "To enable the following instructions: AVX2 FMA, in other operations, rebuild TensorFlow with the appropriate compiler flags.\n",
      "2023-05-11 12:07:02.897665: W tensorflow/compiler/tf2tensorrt/utils/py_utils.cc:38] TF-TRT Warning: Could not find TensorRT\n"
     ]
    }
   ],
   "source": [
    "import numpy as np\n",
    "import pandas as pd\n",
    "from keras.models import Sequential\n",
    "from keras.layers import Dense, SimpleRNN, Dropout, LSTM\n",
    "from keras.preprocessing.text import Tokenizer\n",
    "from keras.constraints import maxnorm\n",
    "import time\n",
    "import warnings\n",
    "from keras.utils import pad_sequences\n",
    "from tensorflow.keras.layers import Embedding\n",
    "from collections import Counter\n",
    "import itertools\n",
    "from sklearn.model_selection import train_test_split\n",
    "from sklearn.preprocessing import (\n",
    "    StandardScaler, LabelBinarizer, FunctionTransformer,PolynomialFeatures, OrdinalEncoder,LabelEncoder,MinMaxScaler\n",
    ")\n",
    "warnings.filterwarnings(\"ignore\")"
   ]
  },
  {
   "cell_type": "code",
   "execution_count": null,
   "id": "5b5db8bb-d419-4883-8daf-1236edb0cc1d",
   "metadata": {},
   "outputs": [],
   "source": [
    "from sklearn.metrics import(\n",
    "    classification_report, confusion_matrix, accuracy_score, mean_squared_error, mean_absolute_error\n",
    ")"
   ]
  },
  {
   "cell_type": "markdown",
   "id": "ab2e70ad-276d-4230-b232-76108dc0fbaa",
   "metadata": {},
   "source": [
    "### Basic functions"
   ]
  },
  {
   "cell_type": "code",
   "execution_count": null,
   "id": "8c5bc766-0d8b-4750-9ae7-f0bb6e3e1d7c",
   "metadata": {},
   "outputs": [],
   "source": [
    "\n",
    "# class for Y convertions\n",
    "class TextLabelEncoderDummy:\n",
    "\n",
    "    def labelencoder(y_df):\n",
    "        encoder = LabelEncoder()\n",
    "        encoder.fit(y_df)\n",
    "        encoded_Y = encoder.transform(y_df)\n",
    "        return encoded_Y, encoder\n",
    "\n",
    "\n",
    "    def encoded_to_dummy(encoded_Y):\n",
    "        # convert encoder variable to dummy variable\n",
    "        uniques, ids = np.unique(encoded_Y, return_inverse=True)\n",
    "        dummy_y = to_categorical(ids, len(uniques))\n",
    "        # dummy_y = np_utils.to_categorical(encoded_Y)\n",
    "        return dummy_y, uniques\n",
    "\n",
    "\n",
    "    def reverse_dummy_to_encoded(y_test):\n",
    "        reverse_dummy = uniques[y_test.argmax(1)]\n",
    "        return reverse_dummy\n",
    "\n",
    "\n",
    "    def reverse_encoded_to_text(reverse_dummy):\n",
    "        reverse_encoded = encoder.inverse_transform(reverse_dummy)\n",
    "        return reverse_encoded"
   ]
  },
  {
   "cell_type": "markdown",
   "id": "5ca75071-9299-4736-b36f-f0c346ffda2f",
   "metadata": {},
   "source": [
    "## Concat height and tor to df"
   ]
  },
  {
   "cell_type": "code",
   "execution_count": 2,
   "id": "a369bc08-d11d-461f-a0b8-a1ce25d5f8f0",
   "metadata": {
    "tags": []
   },
   "outputs": [
    {
     "data": {
      "text/html": [
       "<div>\n",
       "<style scoped>\n",
       "    .dataframe tbody tr th:only-of-type {\n",
       "        vertical-align: middle;\n",
       "    }\n",
       "\n",
       "    .dataframe tbody tr th {\n",
       "        vertical-align: top;\n",
       "    }\n",
       "\n",
       "    .dataframe thead th {\n",
       "        text-align: right;\n",
       "    }\n",
       "</style>\n",
       "<table border=\"1\" class=\"dataframe\">\n",
       "  <thead>\n",
       "    <tr style=\"text-align: right;\">\n",
       "      <th></th>\n",
       "      <th>strain</th>\n",
       "      <th>stress</th>\n",
       "      <th>height</th>\n",
       "      <th>tor</th>\n",
       "    </tr>\n",
       "  </thead>\n",
       "  <tbody>\n",
       "    <tr>\n",
       "      <th>0</th>\n",
       "      <td>-0.0149</td>\n",
       "      <td>0.428</td>\n",
       "      <td>2.450000</td>\n",
       "      <td>168</td>\n",
       "    </tr>\n",
       "    <tr>\n",
       "      <th>1</th>\n",
       "      <td>0.0003</td>\n",
       "      <td>1.925</td>\n",
       "      <td>2.450577</td>\n",
       "      <td>168</td>\n",
       "    </tr>\n",
       "    <tr>\n",
       "      <th>2</th>\n",
       "      <td>0.0005</td>\n",
       "      <td>3.209</td>\n",
       "      <td>2.451155</td>\n",
       "      <td>168</td>\n",
       "    </tr>\n",
       "    <tr>\n",
       "      <th>3</th>\n",
       "      <td>0.0007</td>\n",
       "      <td>4.279</td>\n",
       "      <td>2.451732</td>\n",
       "      <td>168</td>\n",
       "    </tr>\n",
       "    <tr>\n",
       "      <th>4</th>\n",
       "      <td>0.0010</td>\n",
       "      <td>5.562</td>\n",
       "      <td>2.452309</td>\n",
       "      <td>168</td>\n",
       "    </tr>\n",
       "    <tr>\n",
       "      <th>...</th>\n",
       "      <td>...</td>\n",
       "      <td>...</td>\n",
       "      <td>...</td>\n",
       "      <td>...</td>\n",
       "    </tr>\n",
       "    <tr>\n",
       "      <th>429</th>\n",
       "      <td>19.7470</td>\n",
       "      <td>302.808</td>\n",
       "      <td>2.697691</td>\n",
       "      <td>168</td>\n",
       "    </tr>\n",
       "    <tr>\n",
       "      <th>430</th>\n",
       "      <td>19.8442</td>\n",
       "      <td>302.269</td>\n",
       "      <td>2.698268</td>\n",
       "      <td>168</td>\n",
       "    </tr>\n",
       "    <tr>\n",
       "      <th>431</th>\n",
       "      <td>19.9040</td>\n",
       "      <td>301.839</td>\n",
       "      <td>2.698845</td>\n",
       "      <td>168</td>\n",
       "    </tr>\n",
       "    <tr>\n",
       "      <th>432</th>\n",
       "      <td>19.9564</td>\n",
       "      <td>301.623</td>\n",
       "      <td>2.699423</td>\n",
       "      <td>168</td>\n",
       "    </tr>\n",
       "    <tr>\n",
       "      <th>433</th>\n",
       "      <td>20.0012</td>\n",
       "      <td>301.621</td>\n",
       "      <td>2.700000</td>\n",
       "      <td>168</td>\n",
       "    </tr>\n",
       "  </tbody>\n",
       "</table>\n",
       "<p>434 rows × 4 columns</p>\n",
       "</div>"
      ],
      "text/plain": [
       "      strain   stress    height  tor\n",
       "0    -0.0149    0.428  2.450000  168\n",
       "1     0.0003    1.925  2.450577  168\n",
       "2     0.0005    3.209  2.451155  168\n",
       "3     0.0007    4.279  2.451732  168\n",
       "4     0.0010    5.562  2.452309  168\n",
       "..       ...      ...       ...  ...\n",
       "429  19.7470  302.808  2.697691  168\n",
       "430  19.8442  302.269  2.698268  168\n",
       "431  19.9040  301.839  2.698845  168\n",
       "432  19.9564  301.623  2.699423  168\n",
       "433  20.0012  301.621  2.700000  168\n",
       "\n",
       "[434 rows x 4 columns]"
      ]
     },
     "execution_count": 2,
     "metadata": {},
     "output_type": "execute_result"
    }
   ],
   "source": [
    "data_list = ['AGR-201','AGR-184','AGR-182','AGR-207','AGR-209','AGR-190','AGR-213','AGR-194']\n",
    " \n",
    "height_list = [2.6,6.6,3.95,2.6,4.25,7.25,9.0,2.45]\n",
    "height_list2 = [2.85,6.85,4.2,2.85,4.5,7.5,9.25,2.7]\n",
    "t = [184,383,482,160,186,70,389,168]\n",
    "for i in range(len(data_list)):\n",
    "    # print(i)\n",
    "    df = pd.read_csv('../../../datasets/dr-nubel/strain_stress/{}.csv'.format(data_list[i]))\n",
    "    # create range of height base on given height range\n",
    "    s = np.linspace(height_list[i],height_list2[i],len(df))\n",
    "    s=pd.Series(s,name='height')\n",
    "    # list of tor according to dataset lenght\n",
    "    df_t = [t[i] for e in range(len(df))]\n",
    "    df_t = pd.Series(df_t,name='tor')\n",
    "    # concatenate dataframe and serires\n",
    "    df = pd.concat([df,s,df_t],axis=1)\n",
    "    df.to_csv('../../../datasets/dr-nubel/strain_stress_with_target/{}_.csv'.format(data_list[i]))\n",
    "    # print(df)\n",
    "df"
   ]
  },
  {
   "cell_type": "code",
   "execution_count": 3,
   "id": "363534bb-b492-4d96-9d37-7594de12b9f1",
   "metadata": {
    "tags": []
   },
   "outputs": [
    {
     "data": {
      "text/html": [
       "<div>\n",
       "<style scoped>\n",
       "    .dataframe tbody tr th:only-of-type {\n",
       "        vertical-align: middle;\n",
       "    }\n",
       "\n",
       "    .dataframe tbody tr th {\n",
       "        vertical-align: top;\n",
       "    }\n",
       "\n",
       "    .dataframe thead th {\n",
       "        text-align: right;\n",
       "    }\n",
       "</style>\n",
       "<table border=\"1\" class=\"dataframe\">\n",
       "  <thead>\n",
       "    <tr style=\"text-align: right;\">\n",
       "      <th></th>\n",
       "      <th>strain</th>\n",
       "      <th>stress</th>\n",
       "      <th>height</th>\n",
       "      <th>tor</th>\n",
       "    </tr>\n",
       "  </thead>\n",
       "  <tbody>\n",
       "    <tr>\n",
       "      <th>0</th>\n",
       "      <td>-0.0149</td>\n",
       "      <td>0.428</td>\n",
       "      <td>2.450000</td>\n",
       "      <td>168</td>\n",
       "    </tr>\n",
       "    <tr>\n",
       "      <th>1</th>\n",
       "      <td>0.0003</td>\n",
       "      <td>1.925</td>\n",
       "      <td>2.450577</td>\n",
       "      <td>168</td>\n",
       "    </tr>\n",
       "  </tbody>\n",
       "</table>\n",
       "</div>"
      ],
      "text/plain": [
       "   strain  stress    height  tor\n",
       "0 -0.0149   0.428  2.450000  168\n",
       "1  0.0003   1.925  2.450577  168"
      ]
     },
     "execution_count": 3,
     "metadata": {},
     "output_type": "execute_result"
    }
   ],
   "source": [
    "df.head(2)"
   ]
  },
  {
   "cell_type": "code",
   "execution_count": 4,
   "id": "fbfb5327-69a0-40d1-be87-f93b8a00c2f6",
   "metadata": {},
   "outputs": [],
   "source": [
    "df_lens = [182,140,152,444,407,183,423,434]"
   ]
  },
  {
   "cell_type": "markdown",
   "id": "c01752ea-5e55-4edc-83ca-99021e18c0a4",
   "metadata": {},
   "source": [
    "## Aggregate df"
   ]
  },
  {
   "cell_type": "code",
   "execution_count": 5,
   "id": "c3794233-f09c-4666-8aa7-48a5b8faf437",
   "metadata": {
    "tags": []
   },
   "outputs": [
    {
     "name": "stdout",
     "output_type": "stream",
     "text": [
      "182\n",
      "322\n",
      "474\n",
      "918\n",
      "1325\n",
      "1508\n",
      "1931\n",
      "2365\n"
     ]
    }
   ],
   "source": [
    "data_list = ['AGR-201','AGR-184','AGR-182','AGR-207','AGR-209','AGR-190','AGR-213','AGR-194']\n",
    " \n",
    "for i in range(len(data_list)):\n",
    "    # print(i)\n",
    "    if i == 0:\n",
    "        df = pd.read_csv('../../../datasets/dr-nubel/strain_stress_with_target/{}_.csv'.format(data_list[i]))\n",
    "    else:\n",
    "        df1 = pd.read_csv('../../../datasets/dr-nubel/strain_stress_with_target/{}_.csv'.format(data_list[i]))\n",
    "        df = pd.concat([df,df1],axis=0,ignore_index=True).drop(['Unnamed: 0'],axis=1)\n",
    "    print(len(df))\n",
    "    \n",
    "df.to_csv('../../../datasets/dr-nubel/strain_stress_with_target/full_strain_stress_data.csv',index=False)"
   ]
  },
  {
   "cell_type": "code",
   "execution_count": 6,
   "id": "85a4d54f-20d8-4f25-a59b-2efec19ac122",
   "metadata": {
    "tags": []
   },
   "outputs": [
    {
     "data": {
      "text/html": [
       "<div>\n",
       "<style scoped>\n",
       "    .dataframe tbody tr th:only-of-type {\n",
       "        vertical-align: middle;\n",
       "    }\n",
       "\n",
       "    .dataframe tbody tr th {\n",
       "        vertical-align: top;\n",
       "    }\n",
       "\n",
       "    .dataframe thead th {\n",
       "        text-align: right;\n",
       "    }\n",
       "</style>\n",
       "<table border=\"1\" class=\"dataframe\">\n",
       "  <thead>\n",
       "    <tr style=\"text-align: right;\">\n",
       "      <th></th>\n",
       "      <th>strain</th>\n",
       "      <th>stress</th>\n",
       "      <th>height</th>\n",
       "      <th>tor</th>\n",
       "    </tr>\n",
       "  </thead>\n",
       "  <tbody>\n",
       "    <tr>\n",
       "      <th>0</th>\n",
       "      <td>-0.0135</td>\n",
       "      <td>0.630</td>\n",
       "      <td>2.600000</td>\n",
       "      <td>184</td>\n",
       "    </tr>\n",
       "    <tr>\n",
       "      <th>1</th>\n",
       "      <td>0.0272</td>\n",
       "      <td>2.311</td>\n",
       "      <td>2.601381</td>\n",
       "      <td>184</td>\n",
       "    </tr>\n",
       "    <tr>\n",
       "      <th>2</th>\n",
       "      <td>0.0679</td>\n",
       "      <td>4.201</td>\n",
       "      <td>2.602762</td>\n",
       "      <td>184</td>\n",
       "    </tr>\n",
       "    <tr>\n",
       "      <th>3</th>\n",
       "      <td>0.1356</td>\n",
       "      <td>6.301</td>\n",
       "      <td>2.604144</td>\n",
       "      <td>184</td>\n",
       "    </tr>\n",
       "    <tr>\n",
       "      <th>4</th>\n",
       "      <td>0.1899</td>\n",
       "      <td>8.402</td>\n",
       "      <td>2.605525</td>\n",
       "      <td>184</td>\n",
       "    </tr>\n",
       "    <tr>\n",
       "      <th>...</th>\n",
       "      <td>...</td>\n",
       "      <td>...</td>\n",
       "      <td>...</td>\n",
       "      <td>...</td>\n",
       "    </tr>\n",
       "    <tr>\n",
       "      <th>2360</th>\n",
       "      <td>19.7470</td>\n",
       "      <td>302.808</td>\n",
       "      <td>2.697691</td>\n",
       "      <td>168</td>\n",
       "    </tr>\n",
       "    <tr>\n",
       "      <th>2361</th>\n",
       "      <td>19.8442</td>\n",
       "      <td>302.269</td>\n",
       "      <td>2.698268</td>\n",
       "      <td>168</td>\n",
       "    </tr>\n",
       "    <tr>\n",
       "      <th>2362</th>\n",
       "      <td>19.9040</td>\n",
       "      <td>301.839</td>\n",
       "      <td>2.698845</td>\n",
       "      <td>168</td>\n",
       "    </tr>\n",
       "    <tr>\n",
       "      <th>2363</th>\n",
       "      <td>19.9564</td>\n",
       "      <td>301.623</td>\n",
       "      <td>2.699423</td>\n",
       "      <td>168</td>\n",
       "    </tr>\n",
       "    <tr>\n",
       "      <th>2364</th>\n",
       "      <td>20.0012</td>\n",
       "      <td>301.621</td>\n",
       "      <td>2.700000</td>\n",
       "      <td>168</td>\n",
       "    </tr>\n",
       "  </tbody>\n",
       "</table>\n",
       "<p>2365 rows × 4 columns</p>\n",
       "</div>"
      ],
      "text/plain": [
       "       strain   stress    height  tor\n",
       "0     -0.0135    0.630  2.600000  184\n",
       "1      0.0272    2.311  2.601381  184\n",
       "2      0.0679    4.201  2.602762  184\n",
       "3      0.1356    6.301  2.604144  184\n",
       "4      0.1899    8.402  2.605525  184\n",
       "...       ...      ...       ...  ...\n",
       "2360  19.7470  302.808  2.697691  168\n",
       "2361  19.8442  302.269  2.698268  168\n",
       "2362  19.9040  301.839  2.698845  168\n",
       "2363  19.9564  301.623  2.699423  168\n",
       "2364  20.0012  301.621  2.700000  168\n",
       "\n",
       "[2365 rows x 4 columns]"
      ]
     },
     "execution_count": 6,
     "metadata": {},
     "output_type": "execute_result"
    }
   ],
   "source": [
    "df"
   ]
  },
  {
   "cell_type": "markdown",
   "id": "f056f063-5591-463b-8d61-23f74dbbbde9",
   "metadata": {},
   "source": [
    "## Data Transformation"
   ]
  },
  {
   "cell_type": "code",
   "execution_count": 7,
   "id": "65742ad9-2471-4b3c-aff2-d08974a8b710",
   "metadata": {
    "tags": []
   },
   "outputs": [],
   "source": [
    "from sklearn.preprocessing import (\n",
    "    StandardScaler, LabelBinarizer, FunctionTransformer,PolynomialFeatures, OrdinalEncoder,LabelEncoder,MinMaxScaler\n",
    ")"
   ]
  },
  {
   "cell_type": "markdown",
   "id": "401d4b22-f40a-4e7b-8f65-655e89db4888",
   "metadata": {},
   "source": [
    "### Removing duplicates"
   ]
  },
  {
   "cell_type": "code",
   "execution_count": null,
   "id": "1a647ea5-9202-4f8e-bd9e-2e67bbd71300",
   "metadata": {},
   "outputs": [],
   "source": [
    "# We will use this method to first take a transpose of our dataset as shown below:\n",
    "X_T = X_df.T\n",
    "X_T.shape\n",
    "\n"
   ]
  },
  {
   "cell_type": "code",
   "execution_count": null,
   "id": "50ba3590-72b9-42a5-9f56-06d7b628cfe1",
   "metadata": {},
   "outputs": [],
   "source": [
    "# Let's find the total number of duplicate features in our dataset using the sum() method, chained with the duplicated() method as shown below.\n",
    "print(X_T.duplicated().sum())"
   ]
  },
  {
   "cell_type": "code",
   "execution_count": null,
   "id": "b209095b-289f-4c9c-9fc0-e471ae30b36c",
   "metadata": {},
   "outputs": [],
   "source": [
    "unique_features = X_T.drop_duplicates(keep='first').T\n",
    "# bNow, let's print the shape of our new training set without duplicate features:\n",
    "unique_features.shape"
   ]
  },
  {
   "cell_type": "code",
   "execution_count": null,
   "id": "a4633d10-8b91-4d6e-8fcd-a32bc1e9fe26",
   "metadata": {},
   "outputs": [],
   "source": [
    "duplicated_features = [dup_col for dup_col in X_df.columns if dup_col not in unique_features.columns]\n",
    "duplicated_features"
   ]
  },
  {
   "cell_type": "code",
   "execution_count": null,
   "id": "551b86df-d829-4ecf-83ee-5c1a718d2fe2",
   "metadata": {},
   "outputs": [],
   "source": []
  },
  {
   "cell_type": "code",
   "execution_count": null,
   "id": "8acc3011-a50d-4909-b7e2-9e28698c8144",
   "metadata": {},
   "outputs": [],
   "source": [
    "# convert dataframe to numpy array\n",
    "values = data.values\n",
    "X, y = values[:, 0:36], values[:,36]\n",
    "# X = X.reshape(len(X), 36, 1)\n",
    "\n",
    "X = np.asarray(X).astype(np.float64)"
   ]
  },
  {
   "cell_type": "code",
   "execution_count": null,
   "id": "4e8bfd16-ed4a-4d10-94f6-4996feef3f0f",
   "metadata": {},
   "outputs": [],
   "source": []
  },
  {
   "cell_type": "code",
   "execution_count": null,
   "id": "9af867f1-9cf6-4474-900a-365fac022b38",
   "metadata": {},
   "outputs": [],
   "source": [
    "# encoder = LabelEncoder()\n",
    "# encoder.fit(y_df)\n",
    "# encoded_Y = encoder.transform(y_df)\n",
    "\n",
    "encoded_Y, encoder = TextLabelEncoderDummy.labelencoder(y_df)"
   ]
  },
  {
   "cell_type": "code",
   "execution_count": null,
   "id": "d0f4fb6a-7f3f-4523-948d-1c61d9d1446c",
   "metadata": {},
   "outputs": [],
   "source": [
    "# convert encoder variable to dummy variable\n",
    "# uniques, ids = np.unique(encoded_Y, return_inverse=True)\n",
    "# dummy_y = np_utils.to_categorical(ids, len(uniques))\n",
    "# # dummy_y = np_utils.to_categorical(encoded_Y)\n",
    "\n",
    "dummy_y, uniques = TextLabelEncoderDummy.encoded_to_dummy(encoded_Y)"
   ]
  },
  {
   "cell_type": "code",
   "execution_count": null,
   "id": "fa376abf-99d5-45fe-aad5-26c52af3be54",
   "metadata": {},
   "outputs": [],
   "source": []
  },
  {
   "cell_type": "code",
   "execution_count": null,
   "id": "40750cf6-83d0-4b06-8cda-c58367a1a719",
   "metadata": {},
   "outputs": [],
   "source": []
  },
  {
   "cell_type": "code",
   "execution_count": null,
   "id": "aaadce5e-45d7-425a-b08f-ee17f542b184",
   "metadata": {},
   "outputs": [],
   "source": [
    "X_train, X_test, y_train, y_test = train_test_split(unique_numeric_features, dummy_y,test_size=0.3,random_state=42)"
   ]
  },
  {
   "cell_type": "code",
   "execution_count": null,
   "id": "640429ec-3715-4482-b1bc-bb436789d001",
   "metadata": {},
   "outputs": [],
   "source": [
    "X_val, X_test, y_val, y_test = train_test_split(X_test, y_test,test_size=0.5,random_state=42)"
   ]
  },
  {
   "cell_type": "code",
   "execution_count": null,
   "id": "0001ec11-895c-4cc0-ba29-c042e5e41ed1",
   "metadata": {},
   "outputs": [],
   "source": [
    "sc = StandardScaler()\n",
    "S_train = sc.fit_transform(X_train)\n",
    "S_val = sc.transform(X_val)\n",
    "S_test = sc.transform(X_test)"
   ]
  },
  {
   "cell_type": "code",
   "execution_count": null,
   "id": "c28149dd-6a61-47b5-b903-748cd0a35ade",
   "metadata": {},
   "outputs": [],
   "source": []
  },
  {
   "cell_type": "code",
   "execution_count": null,
   "id": "936276e8-7814-4a4f-8a37-71f5f1adfef2",
   "metadata": {},
   "outputs": [],
   "source": [
    "# example of making predictions for a regression problem\n",
    "from sklearn.datasets import make_regression\n",
    "# generate regression dataset\n",
    "scalarX, scalarY = MinMaxScaler(), MinMaxScaler()\n",
    "scalarX.fit(X)\n",
    "scalarY.fit(y.reshape(100,1))\n",
    "X = scalarX.transform(X)\n",
    "y = scalarY.transform(y.reshape(100,1))\n",
    "# define and fit the final model\n",
    "model = Sequential()\n",
    "model.add(Dense(4, input_dim=2, activation='relu'))\n",
    "model.add(Dense(4, activation='relu'))\n",
    "model.add(Dense(1, activation='linear'))\n",
    "model.compile(loss='mse', optimizer='adam')\n",
    "model.fit(X, y, epochs=1000, verbose=0)\n",
    "# new instances where we do not know the answer\n",
    "Xnew, a = make_regression(n_samples=3, n_features=2, noise=0.1, random_state=1)\n",
    "Xnew = scalarX.transform(Xnew)\n",
    "# make a prediction\n",
    "ynew = model.predict(Xnew)\n",
    "# show the inputs and predicted outputs\n",
    "for i in range(len(Xnew)):\n",
    "\tprint(\"X=%s, Predicted=%s\" % (Xnew[i], ynew[i]))a"
   ]
  },
  {
   "cell_type": "code",
   "execution_count": null,
   "id": "4425fae9-8352-480c-99dd-434ea41c43f7",
   "metadata": {},
   "outputs": [],
   "source": []
  }
 ],
 "metadata": {
  "kernelspec": {
   "display_name": "Python 3 (ipykernel)",
   "language": "python",
   "name": "python3"
  },
  "language_info": {
   "codemirror_mode": {
    "name": "ipython",
    "version": 3
   },
   "file_extension": ".py",
   "mimetype": "text/x-python",
   "name": "python",
   "nbconvert_exporter": "python",
   "pygments_lexer": "ipython3",
   "version": "3.10.6"
  }
 },
 "nbformat": 4,
 "nbformat_minor": 5
}
