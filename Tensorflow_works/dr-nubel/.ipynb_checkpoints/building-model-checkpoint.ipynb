{
 "cells": [
  {
   "cell_type": "code",
   "execution_count": 130,
   "id": "4ea11915-0c20-40cb-ba15-05ffe5650dd4",
   "metadata": {
    "tags": []
   },
   "outputs": [],
   "source": [
    "import shutup; shutup.please()"
   ]
  },
  {
   "cell_type": "code",
   "execution_count": 156,
   "id": "6c151cb1-2c67-4c90-856b-163c735b3505",
   "metadata": {
    "tags": []
   },
   "outputs": [],
   "source": [
    "import numpy as np\n",
    "import pandas as pd\n",
    "from keras.models import Sequential,load_model \n",
    "from keras.layers import Dense, SimpleRNN, Dropout, LSTM\n",
    "from keras.preprocessing.text import Tokenizer\n",
    "from keras.constraints import maxnorm\n",
    "import time\n",
    "import warnings\n",
    "from keras.utils import pad_sequences\n",
    "from keras.utils.np_utils import to_categorical\n",
    "\n",
    "from tensorflow.keras.layers import Embedding\n",
    "from collections import Counter\n",
    "import itertools\n",
    "from sklearn.model_selection import train_test_split\n",
    "from sklearn.preprocessing import (\n",
    "    StandardScaler, LabelBinarizer, FunctionTransformer,PolynomialFeatures, OrdinalEncoder,LabelEncoder,MinMaxScaler\n",
    ")\n",
    "from sklearn.metrics import(\n",
    "    classification_report, confusion_matrix, accuracy_score, mean_squared_error, mean_absolute_error\n",
    ")\n",
    "warnings.filterwarnings(\"ignore\")"
   ]
  },
  {
   "cell_type": "code",
   "execution_count": 132,
   "id": "e2f99c39-ee98-46d1-8b31-1d0cca4e7b6b",
   "metadata": {
    "tags": []
   },
   "outputs": [],
   "source": [
    "from sklearn.preprocessing import (\n",
    "    StandardScaler, LabelBinarizer, FunctionTransformer,PolynomialFeatures, OrdinalEncoder,LabelEncoder,MinMaxScaler\n",
    ")"
   ]
  },
  {
   "cell_type": "code",
   "execution_count": 319,
   "id": "788b1adf-02a1-426f-8b45-76def3bc33d9",
   "metadata": {
    "tags": []
   },
   "outputs": [],
   "source": [
    "from keras.wrappers.scikit_learn import KerasClassifier,KerasRegressor \n",
    "from sklearn.model_selection import cross_val_score, KFold, RepeatedKFold\n",
    "from sklearn.metrics import mean_squared_error, mean_absolute_error\n",
    "import matplotlib.pyplot as plt"
   ]
  },
  {
   "cell_type": "markdown",
   "id": "5c5d4138-b1fd-4dcb-8c33-d9e9c53f9a68",
   "metadata": {
    "jp-MarkdownHeadingCollapsed": true,
    "tags": []
   },
   "source": [
    "### Basic functions"
   ]
  },
  {
   "cell_type": "code",
   "execution_count": 19,
   "id": "b33c548d-8fd7-4a71-8b8d-3dbb75170134",
   "metadata": {},
   "outputs": [],
   "source": [
    "\n",
    "# class for Y convertions\n",
    "class TextLabelEncoderDummy:\n",
    "\n",
    "    def labelencoder(y_df):\n",
    "        encoder = LabelEncoder()\n",
    "        encoder.fit(y_df)\n",
    "        encoded_Y = encoder.transform(y_df)\n",
    "        return encoded_Y, encoder\n",
    "\n",
    "\n",
    "    def encoded_to_dummy(encoded_Y):\n",
    "        # convert encoder variable to dummy variable\n",
    "        uniques, ids = np.unique(encoded_Y, return_inverse=True)\n",
    "        dummy_y = to_categorical(ids, len(uniques))\n",
    "        # dummy_y = np_utils.to_categorical(encoded_Y)\n",
    "        return dummy_y, uniques\n",
    "\n",
    "\n",
    "    def reverse_dummy_to_encoded(y_test):\n",
    "        reverse_dummy = uniques[y_test.argmax(1)]\n",
    "        return reverse_dummy\n",
    "\n",
    "\n",
    "    def reverse_encoded_to_text(reverse_dummy):\n",
    "        reverse_encoded = encoder.inverse_transform(reverse_dummy)\n",
    "        return reverse_encoded"
   ]
  },
  {
   "cell_type": "markdown",
   "id": "40a9c42c-7f58-4f8a-b9a9-4dd7bf5e857f",
   "metadata": {},
   "source": [
    "## Data Transformation"
   ]
  },
  {
   "cell_type": "code",
   "execution_count": 7,
   "id": "f9792b17-d379-406b-8b02-fabdc2446566",
   "metadata": {
    "tags": []
   },
   "outputs": [
    {
     "data": {
      "text/html": [
       "<div>\n",
       "<style scoped>\n",
       "    .dataframe tbody tr th:only-of-type {\n",
       "        vertical-align: middle;\n",
       "    }\n",
       "\n",
       "    .dataframe tbody tr th {\n",
       "        vertical-align: top;\n",
       "    }\n",
       "\n",
       "    .dataframe thead th {\n",
       "        text-align: right;\n",
       "    }\n",
       "</style>\n",
       "<table border=\"1\" class=\"dataframe\">\n",
       "  <thead>\n",
       "    <tr style=\"text-align: right;\">\n",
       "      <th></th>\n",
       "      <th>strain</th>\n",
       "      <th>stress</th>\n",
       "      <th>height</th>\n",
       "      <th>tor</th>\n",
       "    </tr>\n",
       "  </thead>\n",
       "  <tbody>\n",
       "    <tr>\n",
       "      <th>0</th>\n",
       "      <td>-0.0135</td>\n",
       "      <td>0.630</td>\n",
       "      <td>2.600000</td>\n",
       "      <td>184</td>\n",
       "    </tr>\n",
       "    <tr>\n",
       "      <th>1</th>\n",
       "      <td>0.0272</td>\n",
       "      <td>2.311</td>\n",
       "      <td>2.601381</td>\n",
       "      <td>184</td>\n",
       "    </tr>\n",
       "  </tbody>\n",
       "</table>\n",
       "</div>"
      ],
      "text/plain": [
       "   strain  stress    height  tor\n",
       "0 -0.0135   0.630  2.600000  184\n",
       "1  0.0272   2.311  2.601381  184"
      ]
     },
     "execution_count": 7,
     "metadata": {},
     "output_type": "execute_result"
    }
   ],
   "source": [
    "df = pd.read_csv('../../../datasets/dr-nubel/strain_stress_with_target/full_strain_stress_data.csv')\n",
    "df.head(2)"
   ]
  },
  {
   "cell_type": "code",
   "execution_count": 8,
   "id": "58e41ff9-a0cd-45b7-9d86-e3111c0b88f6",
   "metadata": {
    "tags": []
   },
   "outputs": [
    {
     "name": "stdout",
     "output_type": "stream",
     "text": [
      "<class 'pandas.core.frame.DataFrame'>\n",
      "RangeIndex: 2365 entries, 0 to 2364\n",
      "Data columns (total 4 columns):\n",
      " #   Column  Non-Null Count  Dtype  \n",
      "---  ------  --------------  -----  \n",
      " 0   strain  2365 non-null   float64\n",
      " 1   stress  2365 non-null   float64\n",
      " 2   height  2365 non-null   float64\n",
      " 3   tor     2365 non-null   int64  \n",
      "dtypes: float64(3), int64(1)\n",
      "memory usage: 74.0 KB\n"
     ]
    }
   ],
   "source": [
    "df.info()"
   ]
  },
  {
   "cell_type": "markdown",
   "id": "6ed05e07-4158-4a43-adb9-f9693060642c",
   "metadata": {},
   "source": [
    "### Removing duplicates"
   ]
  },
  {
   "cell_type": "code",
   "execution_count": 9,
   "id": "715a1d47-553d-4ce6-b9f3-aa07ecea1602",
   "metadata": {},
   "outputs": [
    {
     "data": {
      "text/plain": [
       "(4, 2365)"
      ]
     },
     "execution_count": 9,
     "metadata": {},
     "output_type": "execute_result"
    }
   ],
   "source": [
    "# We will use this method to first take a transpose of our dataset as shown below:\n",
    "df_T = df.T\n",
    "df_T.shape"
   ]
  },
  {
   "cell_type": "code",
   "execution_count": 11,
   "id": "2a1b30e0-b643-4ca4-ac53-7f0702cac9a7",
   "metadata": {},
   "outputs": [
    {
     "name": "stdout",
     "output_type": "stream",
     "text": [
      "0\n"
     ]
    }
   ],
   "source": [
    "# Let's find the total number of duplicate features in our dataset using the sum() method, chained with the duplicated() method as shown below.\n",
    "print(df_T.duplicated().sum())"
   ]
  },
  {
   "cell_type": "code",
   "execution_count": 12,
   "id": "28aa5220-633d-42d3-a447-5b67df689ca6",
   "metadata": {},
   "outputs": [
    {
     "data": {
      "text/plain": [
       "(2365, 4)"
      ]
     },
     "execution_count": 12,
     "metadata": {},
     "output_type": "execute_result"
    }
   ],
   "source": [
    "unique_features = df_T.drop_duplicates(keep='first').T\n",
    "# bNow, let's print the shape of our new training set without duplicate features:\n",
    "unique_features.shape"
   ]
  },
  {
   "cell_type": "code",
   "execution_count": 15,
   "id": "5f2e9f7b-5b0d-46cc-97d1-3da67db59e37",
   "metadata": {
    "collapsed": true,
    "jupyter": {
     "outputs_hidden": true
    },
    "tags": []
   },
   "outputs": [
    {
     "data": {
      "text/plain": [
       "[0,\n",
       " 1,\n",
       " 2,\n",
       " 3,\n",
       " 4,\n",
       " 5,\n",
       " 6,\n",
       " 7,\n",
       " 8,\n",
       " 9,\n",
       " 10,\n",
       " 11,\n",
       " 12,\n",
       " 13,\n",
       " 14,\n",
       " 15,\n",
       " 16,\n",
       " 17,\n",
       " 18,\n",
       " 19,\n",
       " 20,\n",
       " 21,\n",
       " 22,\n",
       " 23,\n",
       " 24,\n",
       " 25,\n",
       " 26,\n",
       " 27,\n",
       " 28,\n",
       " 29,\n",
       " 30,\n",
       " 31,\n",
       " 32,\n",
       " 33,\n",
       " 34,\n",
       " 35,\n",
       " 36,\n",
       " 37,\n",
       " 38,\n",
       " 39,\n",
       " 40,\n",
       " 41,\n",
       " 42,\n",
       " 43,\n",
       " 44,\n",
       " 45,\n",
       " 46,\n",
       " 47,\n",
       " 48,\n",
       " 49,\n",
       " 50,\n",
       " 51,\n",
       " 52,\n",
       " 53,\n",
       " 54,\n",
       " 55,\n",
       " 56,\n",
       " 57,\n",
       " 58,\n",
       " 59,\n",
       " 60,\n",
       " 61,\n",
       " 62,\n",
       " 63,\n",
       " 64,\n",
       " 65,\n",
       " 66,\n",
       " 67,\n",
       " 68,\n",
       " 69,\n",
       " 70,\n",
       " 71,\n",
       " 72,\n",
       " 73,\n",
       " 74,\n",
       " 75,\n",
       " 76,\n",
       " 77,\n",
       " 78,\n",
       " 79,\n",
       " 80,\n",
       " 81,\n",
       " 82,\n",
       " 83,\n",
       " 84,\n",
       " 85,\n",
       " 86,\n",
       " 87,\n",
       " 88,\n",
       " 89,\n",
       " 90,\n",
       " 91,\n",
       " 92,\n",
       " 93,\n",
       " 94,\n",
       " 95,\n",
       " 96,\n",
       " 97,\n",
       " 98,\n",
       " 99,\n",
       " 100,\n",
       " 101,\n",
       " 102,\n",
       " 103,\n",
       " 104,\n",
       " 105,\n",
       " 106,\n",
       " 107,\n",
       " 108,\n",
       " 109,\n",
       " 110,\n",
       " 111,\n",
       " 112,\n",
       " 113,\n",
       " 114,\n",
       " 115,\n",
       " 116,\n",
       " 117,\n",
       " 118,\n",
       " 119,\n",
       " 120,\n",
       " 121,\n",
       " 122,\n",
       " 123,\n",
       " 124,\n",
       " 125,\n",
       " 126,\n",
       " 127,\n",
       " 128,\n",
       " 129,\n",
       " 130,\n",
       " 131,\n",
       " 132,\n",
       " 133,\n",
       " 134,\n",
       " 135,\n",
       " 136,\n",
       " 137,\n",
       " 138,\n",
       " 139,\n",
       " 140,\n",
       " 141,\n",
       " 142,\n",
       " 143,\n",
       " 144,\n",
       " 145,\n",
       " 146,\n",
       " 147,\n",
       " 148,\n",
       " 149,\n",
       " 150,\n",
       " 151,\n",
       " 152,\n",
       " 153,\n",
       " 154,\n",
       " 155,\n",
       " 156,\n",
       " 157,\n",
       " 158,\n",
       " 159,\n",
       " 160,\n",
       " 161,\n",
       " 162,\n",
       " 163,\n",
       " 164,\n",
       " 165,\n",
       " 166,\n",
       " 167,\n",
       " 168,\n",
       " 169,\n",
       " 170,\n",
       " 171,\n",
       " 172,\n",
       " 173,\n",
       " 174,\n",
       " 175,\n",
       " 176,\n",
       " 177,\n",
       " 178,\n",
       " 179,\n",
       " 180,\n",
       " 181,\n",
       " 182,\n",
       " 183,\n",
       " 184,\n",
       " 185,\n",
       " 186,\n",
       " 187,\n",
       " 188,\n",
       " 189,\n",
       " 190,\n",
       " 191,\n",
       " 192,\n",
       " 193,\n",
       " 194,\n",
       " 195,\n",
       " 196,\n",
       " 197,\n",
       " 198,\n",
       " 199,\n",
       " 200,\n",
       " 201,\n",
       " 202,\n",
       " 203,\n",
       " 204,\n",
       " 205,\n",
       " 206,\n",
       " 207,\n",
       " 208,\n",
       " 209,\n",
       " 210,\n",
       " 211,\n",
       " 212,\n",
       " 213,\n",
       " 214,\n",
       " 215,\n",
       " 216,\n",
       " 217,\n",
       " 218,\n",
       " 219,\n",
       " 220,\n",
       " 221,\n",
       " 222,\n",
       " 223,\n",
       " 224,\n",
       " 225,\n",
       " 226,\n",
       " 227,\n",
       " 228,\n",
       " 229,\n",
       " 230,\n",
       " 231,\n",
       " 232,\n",
       " 233,\n",
       " 234,\n",
       " 235,\n",
       " 236,\n",
       " 237,\n",
       " 238,\n",
       " 239,\n",
       " 240,\n",
       " 241,\n",
       " 242,\n",
       " 243,\n",
       " 244,\n",
       " 245,\n",
       " 246,\n",
       " 247,\n",
       " 248,\n",
       " 249,\n",
       " 250,\n",
       " 251,\n",
       " 252,\n",
       " 253,\n",
       " 254,\n",
       " 255,\n",
       " 256,\n",
       " 257,\n",
       " 258,\n",
       " 259,\n",
       " 260,\n",
       " 261,\n",
       " 262,\n",
       " 263,\n",
       " 264,\n",
       " 265,\n",
       " 266,\n",
       " 267,\n",
       " 268,\n",
       " 269,\n",
       " 270,\n",
       " 271,\n",
       " 272,\n",
       " 273,\n",
       " 274,\n",
       " 275,\n",
       " 276,\n",
       " 277,\n",
       " 278,\n",
       " 279,\n",
       " 280,\n",
       " 281,\n",
       " 282,\n",
       " 283,\n",
       " 284,\n",
       " 285,\n",
       " 286,\n",
       " 287,\n",
       " 288,\n",
       " 289,\n",
       " 290,\n",
       " 291,\n",
       " 292,\n",
       " 293,\n",
       " 294,\n",
       " 295,\n",
       " 296,\n",
       " 297,\n",
       " 298,\n",
       " 299,\n",
       " 300,\n",
       " 301,\n",
       " 302,\n",
       " 303,\n",
       " 304,\n",
       " 305,\n",
       " 306,\n",
       " 307,\n",
       " 308,\n",
       " 309,\n",
       " 310,\n",
       " 311,\n",
       " 312,\n",
       " 313,\n",
       " 314,\n",
       " 315,\n",
       " 316,\n",
       " 317,\n",
       " 318,\n",
       " 319,\n",
       " 320,\n",
       " 321,\n",
       " 322,\n",
       " 323,\n",
       " 324,\n",
       " 325,\n",
       " 326,\n",
       " 327,\n",
       " 328,\n",
       " 329,\n",
       " 330,\n",
       " 331,\n",
       " 332,\n",
       " 333,\n",
       " 334,\n",
       " 335,\n",
       " 336,\n",
       " 337,\n",
       " 338,\n",
       " 339,\n",
       " 340,\n",
       " 341,\n",
       " 342,\n",
       " 343,\n",
       " 344,\n",
       " 345,\n",
       " 346,\n",
       " 347,\n",
       " 348,\n",
       " 349,\n",
       " 350,\n",
       " 351,\n",
       " 352,\n",
       " 353,\n",
       " 354,\n",
       " 355,\n",
       " 356,\n",
       " 357,\n",
       " 358,\n",
       " 359,\n",
       " 360,\n",
       " 361,\n",
       " 362,\n",
       " 363,\n",
       " 364,\n",
       " 365,\n",
       " 366,\n",
       " 367,\n",
       " 368,\n",
       " 369,\n",
       " 370,\n",
       " 371,\n",
       " 372,\n",
       " 373,\n",
       " 374,\n",
       " 375,\n",
       " 376,\n",
       " 377,\n",
       " 378,\n",
       " 379,\n",
       " 380,\n",
       " 381,\n",
       " 382,\n",
       " 383,\n",
       " 384,\n",
       " 385,\n",
       " 386,\n",
       " 387,\n",
       " 388,\n",
       " 389,\n",
       " 390,\n",
       " 391,\n",
       " 392,\n",
       " 393,\n",
       " 394,\n",
       " 395,\n",
       " 396,\n",
       " 397,\n",
       " 398,\n",
       " 399,\n",
       " 400,\n",
       " 401,\n",
       " 402,\n",
       " 403,\n",
       " 404,\n",
       " 405,\n",
       " 406,\n",
       " 407,\n",
       " 408,\n",
       " 409,\n",
       " 410,\n",
       " 411,\n",
       " 412,\n",
       " 413,\n",
       " 414,\n",
       " 415,\n",
       " 416,\n",
       " 417,\n",
       " 418,\n",
       " 419,\n",
       " 420,\n",
       " 421,\n",
       " 422,\n",
       " 423,\n",
       " 424,\n",
       " 425,\n",
       " 426,\n",
       " 427,\n",
       " 428,\n",
       " 429,\n",
       " 430,\n",
       " 431,\n",
       " 432,\n",
       " 433,\n",
       " 434,\n",
       " 435,\n",
       " 436,\n",
       " 437,\n",
       " 438,\n",
       " 439,\n",
       " 440,\n",
       " 441,\n",
       " 442,\n",
       " 443,\n",
       " 444,\n",
       " 445,\n",
       " 446,\n",
       " 447,\n",
       " 448,\n",
       " 449,\n",
       " 450,\n",
       " 451,\n",
       " 452,\n",
       " 453,\n",
       " 454,\n",
       " 455,\n",
       " 456,\n",
       " 457,\n",
       " 458,\n",
       " 459,\n",
       " 460,\n",
       " 461,\n",
       " 462,\n",
       " 463,\n",
       " 464,\n",
       " 465,\n",
       " 466,\n",
       " 467,\n",
       " 468,\n",
       " 469,\n",
       " 470,\n",
       " 471,\n",
       " 472,\n",
       " 473,\n",
       " 474,\n",
       " 475,\n",
       " 476,\n",
       " 477,\n",
       " 478,\n",
       " 479,\n",
       " 480,\n",
       " 481,\n",
       " 482,\n",
       " 483,\n",
       " 484,\n",
       " 485,\n",
       " 486,\n",
       " 487,\n",
       " 488,\n",
       " 489,\n",
       " 490,\n",
       " 491,\n",
       " 492,\n",
       " 493,\n",
       " 494,\n",
       " 495,\n",
       " 496,\n",
       " 497,\n",
       " 498,\n",
       " 499,\n",
       " 500,\n",
       " 501,\n",
       " 502,\n",
       " 503,\n",
       " 504,\n",
       " 505,\n",
       " 506,\n",
       " 507,\n",
       " 508,\n",
       " 509,\n",
       " 510,\n",
       " 511,\n",
       " 512,\n",
       " 513,\n",
       " 514,\n",
       " 515,\n",
       " 516,\n",
       " 517,\n",
       " 518,\n",
       " 519,\n",
       " 520,\n",
       " 521,\n",
       " 522,\n",
       " 523,\n",
       " 524,\n",
       " 525,\n",
       " 526,\n",
       " 527,\n",
       " 528,\n",
       " 529,\n",
       " 530,\n",
       " 531,\n",
       " 532,\n",
       " 533,\n",
       " 534,\n",
       " 535,\n",
       " 536,\n",
       " 537,\n",
       " 538,\n",
       " 539,\n",
       " 540,\n",
       " 541,\n",
       " 542,\n",
       " 543,\n",
       " 544,\n",
       " 545,\n",
       " 546,\n",
       " 547,\n",
       " 548,\n",
       " 549,\n",
       " 550,\n",
       " 551,\n",
       " 552,\n",
       " 553,\n",
       " 554,\n",
       " 555,\n",
       " 556,\n",
       " 557,\n",
       " 558,\n",
       " 559,\n",
       " 560,\n",
       " 561,\n",
       " 562,\n",
       " 563,\n",
       " 564,\n",
       " 565,\n",
       " 566,\n",
       " 567,\n",
       " 568,\n",
       " 569,\n",
       " 570,\n",
       " 571,\n",
       " 572,\n",
       " 573,\n",
       " 574,\n",
       " 575,\n",
       " 576,\n",
       " 577,\n",
       " 578,\n",
       " 579,\n",
       " 580,\n",
       " 581,\n",
       " 582,\n",
       " 583,\n",
       " 584,\n",
       " 585,\n",
       " 586,\n",
       " 587,\n",
       " 588,\n",
       " 589,\n",
       " 590,\n",
       " 591,\n",
       " 592,\n",
       " 593,\n",
       " 594,\n",
       " 595,\n",
       " 596,\n",
       " 597,\n",
       " 598,\n",
       " 599,\n",
       " 600,\n",
       " 601,\n",
       " 602,\n",
       " 603,\n",
       " 604,\n",
       " 605,\n",
       " 606,\n",
       " 607,\n",
       " 608,\n",
       " 609,\n",
       " 610,\n",
       " 611,\n",
       " 612,\n",
       " 613,\n",
       " 614,\n",
       " 615,\n",
       " 616,\n",
       " 617,\n",
       " 618,\n",
       " 619,\n",
       " 620,\n",
       " 621,\n",
       " 622,\n",
       " 623,\n",
       " 624,\n",
       " 625,\n",
       " 626,\n",
       " 627,\n",
       " 628,\n",
       " 629,\n",
       " 630,\n",
       " 631,\n",
       " 632,\n",
       " 633,\n",
       " 634,\n",
       " 635,\n",
       " 636,\n",
       " 637,\n",
       " 638,\n",
       " 639,\n",
       " 640,\n",
       " 641,\n",
       " 642,\n",
       " 643,\n",
       " 644,\n",
       " 645,\n",
       " 646,\n",
       " 647,\n",
       " 648,\n",
       " 649,\n",
       " 650,\n",
       " 651,\n",
       " 652,\n",
       " 653,\n",
       " 654,\n",
       " 655,\n",
       " 656,\n",
       " 657,\n",
       " 658,\n",
       " 659,\n",
       " 660,\n",
       " 661,\n",
       " 662,\n",
       " 663,\n",
       " 664,\n",
       " 665,\n",
       " 666,\n",
       " 667,\n",
       " 668,\n",
       " 669,\n",
       " 670,\n",
       " 671,\n",
       " 672,\n",
       " 673,\n",
       " 674,\n",
       " 675,\n",
       " 676,\n",
       " 677,\n",
       " 678,\n",
       " 679,\n",
       " 680,\n",
       " 681,\n",
       " 682,\n",
       " 683,\n",
       " 684,\n",
       " 685,\n",
       " 686,\n",
       " 687,\n",
       " 688,\n",
       " 689,\n",
       " 690,\n",
       " 691,\n",
       " 692,\n",
       " 693,\n",
       " 694,\n",
       " 695,\n",
       " 696,\n",
       " 697,\n",
       " 698,\n",
       " 699,\n",
       " 700,\n",
       " 701,\n",
       " 702,\n",
       " 703,\n",
       " 704,\n",
       " 705,\n",
       " 706,\n",
       " 707,\n",
       " 708,\n",
       " 709,\n",
       " 710,\n",
       " 711,\n",
       " 712,\n",
       " 713,\n",
       " 714,\n",
       " 715,\n",
       " 716,\n",
       " 717,\n",
       " 718,\n",
       " 719,\n",
       " 720,\n",
       " 721,\n",
       " 722,\n",
       " 723,\n",
       " 724,\n",
       " 725,\n",
       " 726,\n",
       " 727,\n",
       " 728,\n",
       " 729,\n",
       " 730,\n",
       " 731,\n",
       " 732,\n",
       " 733,\n",
       " 734,\n",
       " 735,\n",
       " 736,\n",
       " 737,\n",
       " 738,\n",
       " 739,\n",
       " 740,\n",
       " 741,\n",
       " 742,\n",
       " 743,\n",
       " 744,\n",
       " 745,\n",
       " 746,\n",
       " 747,\n",
       " 748,\n",
       " 749,\n",
       " 750,\n",
       " 751,\n",
       " 752,\n",
       " 753,\n",
       " 754,\n",
       " 755,\n",
       " 756,\n",
       " 757,\n",
       " 758,\n",
       " 759,\n",
       " 760,\n",
       " 761,\n",
       " 762,\n",
       " 763,\n",
       " 764,\n",
       " 765,\n",
       " 766,\n",
       " 767,\n",
       " 768,\n",
       " 769,\n",
       " 770,\n",
       " 771,\n",
       " 772,\n",
       " 773,\n",
       " 774,\n",
       " 775,\n",
       " 776,\n",
       " 777,\n",
       " 778,\n",
       " 779,\n",
       " 780,\n",
       " 781,\n",
       " 782,\n",
       " 783,\n",
       " 784,\n",
       " 785,\n",
       " 786,\n",
       " 787,\n",
       " 788,\n",
       " 789,\n",
       " 790,\n",
       " 791,\n",
       " 792,\n",
       " 793,\n",
       " 794,\n",
       " 795,\n",
       " 796,\n",
       " 797,\n",
       " 798,\n",
       " 799,\n",
       " 800,\n",
       " 801,\n",
       " 802,\n",
       " 803,\n",
       " 804,\n",
       " 805,\n",
       " 806,\n",
       " 807,\n",
       " 808,\n",
       " 809,\n",
       " 810,\n",
       " 811,\n",
       " 812,\n",
       " 813,\n",
       " 814,\n",
       " 815,\n",
       " 816,\n",
       " 817,\n",
       " 818,\n",
       " 819,\n",
       " 820,\n",
       " 821,\n",
       " 822,\n",
       " 823,\n",
       " 824,\n",
       " 825,\n",
       " 826,\n",
       " 827,\n",
       " 828,\n",
       " 829,\n",
       " 830,\n",
       " 831,\n",
       " 832,\n",
       " 833,\n",
       " 834,\n",
       " 835,\n",
       " 836,\n",
       " 837,\n",
       " 838,\n",
       " 839,\n",
       " 840,\n",
       " 841,\n",
       " 842,\n",
       " 843,\n",
       " 844,\n",
       " 845,\n",
       " 846,\n",
       " 847,\n",
       " 848,\n",
       " 849,\n",
       " 850,\n",
       " 851,\n",
       " 852,\n",
       " 853,\n",
       " 854,\n",
       " 855,\n",
       " 856,\n",
       " 857,\n",
       " 858,\n",
       " 859,\n",
       " 860,\n",
       " 861,\n",
       " 862,\n",
       " 863,\n",
       " 864,\n",
       " 865,\n",
       " 866,\n",
       " 867,\n",
       " 868,\n",
       " 869,\n",
       " 870,\n",
       " 871,\n",
       " 872,\n",
       " 873,\n",
       " 874,\n",
       " 875,\n",
       " 876,\n",
       " 877,\n",
       " 878,\n",
       " 879,\n",
       " 880,\n",
       " 881,\n",
       " 882,\n",
       " 883,\n",
       " 884,\n",
       " 885,\n",
       " 886,\n",
       " 887,\n",
       " 888,\n",
       " 889,\n",
       " 890,\n",
       " 891,\n",
       " 892,\n",
       " 893,\n",
       " 894,\n",
       " 895,\n",
       " 896,\n",
       " 897,\n",
       " 898,\n",
       " 899,\n",
       " 900,\n",
       " 901,\n",
       " 902,\n",
       " 903,\n",
       " 904,\n",
       " 905,\n",
       " 906,\n",
       " 907,\n",
       " 908,\n",
       " 909,\n",
       " 910,\n",
       " 911,\n",
       " 912,\n",
       " 913,\n",
       " 914,\n",
       " 915,\n",
       " 916,\n",
       " 917,\n",
       " 918,\n",
       " 919,\n",
       " 920,\n",
       " 921,\n",
       " 922,\n",
       " 923,\n",
       " 924,\n",
       " 925,\n",
       " 926,\n",
       " 927,\n",
       " 928,\n",
       " 929,\n",
       " 930,\n",
       " 931,\n",
       " 932,\n",
       " 933,\n",
       " 934,\n",
       " 935,\n",
       " 936,\n",
       " 937,\n",
       " 938,\n",
       " 939,\n",
       " 940,\n",
       " 941,\n",
       " 942,\n",
       " 943,\n",
       " 944,\n",
       " 945,\n",
       " 946,\n",
       " 947,\n",
       " 948,\n",
       " 949,\n",
       " 950,\n",
       " 951,\n",
       " 952,\n",
       " 953,\n",
       " 954,\n",
       " 955,\n",
       " 956,\n",
       " 957,\n",
       " 958,\n",
       " 959,\n",
       " 960,\n",
       " 961,\n",
       " 962,\n",
       " 963,\n",
       " 964,\n",
       " 965,\n",
       " 966,\n",
       " 967,\n",
       " 968,\n",
       " 969,\n",
       " 970,\n",
       " 971,\n",
       " 972,\n",
       " 973,\n",
       " 974,\n",
       " 975,\n",
       " 976,\n",
       " 977,\n",
       " 978,\n",
       " 979,\n",
       " 980,\n",
       " 981,\n",
       " 982,\n",
       " 983,\n",
       " 984,\n",
       " 985,\n",
       " 986,\n",
       " 987,\n",
       " 988,\n",
       " 989,\n",
       " 990,\n",
       " 991,\n",
       " 992,\n",
       " 993,\n",
       " 994,\n",
       " 995,\n",
       " 996,\n",
       " 997,\n",
       " 998,\n",
       " 999,\n",
       " ...]"
      ]
     },
     "execution_count": 15,
     "metadata": {},
     "output_type": "execute_result"
    }
   ],
   "source": [
    "# duplicated_features = [dup_col for dup_col in df_T.columns if dup_col not in unique_features.columns]\n",
    "# duplicated_features"
   ]
  },
  {
   "cell_type": "markdown",
   "id": "88e03a28-9f17-4e88-8711-10df27ccfcd2",
   "metadata": {},
   "source": [
    "### Transform data"
   ]
  },
  {
   "cell_type": "code",
   "execution_count": 134,
   "id": "49706896-1e77-4913-bab5-9d1e69a76f2c",
   "metadata": {
    "tags": []
   },
   "outputs": [],
   "source": [
    "# convert dataframe to numpy array\n",
    "values = df.values\n",
    "X, y = values[:, 0:3], values[:,3]\n",
    "# X = X.reshape(len(X), 36, 1)\n",
    "X = np.asarray(X).astype(np.float64)"
   ]
  },
  {
   "cell_type": "code",
   "execution_count": 135,
   "id": "5a8b03ff-9b3a-4599-a662-e0716568b578",
   "metadata": {
    "tags": []
   },
   "outputs": [
    {
     "data": {
      "text/plain": [
       "((2365, 3), (2365,))"
      ]
     },
     "execution_count": 135,
     "metadata": {},
     "output_type": "execute_result"
    }
   ],
   "source": [
    "X.shape,y.shape"
   ]
  },
  {
   "cell_type": "code",
   "execution_count": 120,
   "id": "835f54f0-95af-44c4-ae0a-dcb68f4ae7ba",
   "metadata": {
    "tags": []
   },
   "outputs": [],
   "source": [
    "#reshape input to be [samples, time steps, features]\n",
    "X_reshape = np.reshape(X, (X.shape[0], 1, X.shape[1]))\n",
    "# testX = np.reshape(testX, (testX.shape[0], 1, testX.shape[1]))"
   ]
  },
  {
   "cell_type": "code",
   "execution_count": 136,
   "id": "ac7eb13f-b644-49a6-b114-de4c2ecc35c6",
   "metadata": {
    "tags": []
   },
   "outputs": [],
   "source": [
    "# Transform\n",
    "scalarX, scalarY = StandardScaler(), MinMaxScaler()"
   ]
  },
  {
   "cell_type": "code",
   "execution_count": 137,
   "id": "6ee55bdd-51c3-4296-8e9d-cafd00ace7e8",
   "metadata": {
    "tags": []
   },
   "outputs": [],
   "source": [
    "X_transform = scalarX.fit_transform(X)"
   ]
  },
  {
   "cell_type": "code",
   "execution_count": 139,
   "id": "ff2cc32a-532a-4a6b-ae8b-2146c6d33bcf",
   "metadata": {
    "tags": []
   },
   "outputs": [
    {
     "data": {
      "text/html": [
       "<style>#sk-container-id-4 {color: black;background-color: white;}#sk-container-id-4 pre{padding: 0;}#sk-container-id-4 div.sk-toggleable {background-color: white;}#sk-container-id-4 label.sk-toggleable__label {cursor: pointer;display: block;width: 100%;margin-bottom: 0;padding: 0.3em;box-sizing: border-box;text-align: center;}#sk-container-id-4 label.sk-toggleable__label-arrow:before {content: \"▸\";float: left;margin-right: 0.25em;color: #696969;}#sk-container-id-4 label.sk-toggleable__label-arrow:hover:before {color: black;}#sk-container-id-4 div.sk-estimator:hover label.sk-toggleable__label-arrow:before {color: black;}#sk-container-id-4 div.sk-toggleable__content {max-height: 0;max-width: 0;overflow: hidden;text-align: left;background-color: #f0f8ff;}#sk-container-id-4 div.sk-toggleable__content pre {margin: 0.2em;color: black;border-radius: 0.25em;background-color: #f0f8ff;}#sk-container-id-4 input.sk-toggleable__control:checked~div.sk-toggleable__content {max-height: 200px;max-width: 100%;overflow: auto;}#sk-container-id-4 input.sk-toggleable__control:checked~label.sk-toggleable__label-arrow:before {content: \"▾\";}#sk-container-id-4 div.sk-estimator input.sk-toggleable__control:checked~label.sk-toggleable__label {background-color: #d4ebff;}#sk-container-id-4 div.sk-label input.sk-toggleable__control:checked~label.sk-toggleable__label {background-color: #d4ebff;}#sk-container-id-4 input.sk-hidden--visually {border: 0;clip: rect(1px 1px 1px 1px);clip: rect(1px, 1px, 1px, 1px);height: 1px;margin: -1px;overflow: hidden;padding: 0;position: absolute;width: 1px;}#sk-container-id-4 div.sk-estimator {font-family: monospace;background-color: #f0f8ff;border: 1px dotted black;border-radius: 0.25em;box-sizing: border-box;margin-bottom: 0.5em;}#sk-container-id-4 div.sk-estimator:hover {background-color: #d4ebff;}#sk-container-id-4 div.sk-parallel-item::after {content: \"\";width: 100%;border-bottom: 1px solid gray;flex-grow: 1;}#sk-container-id-4 div.sk-label:hover label.sk-toggleable__label {background-color: #d4ebff;}#sk-container-id-4 div.sk-serial::before {content: \"\";position: absolute;border-left: 1px solid gray;box-sizing: border-box;top: 0;bottom: 0;left: 50%;z-index: 0;}#sk-container-id-4 div.sk-serial {display: flex;flex-direction: column;align-items: center;background-color: white;padding-right: 0.2em;padding-left: 0.2em;position: relative;}#sk-container-id-4 div.sk-item {position: relative;z-index: 1;}#sk-container-id-4 div.sk-parallel {display: flex;align-items: stretch;justify-content: center;background-color: white;position: relative;}#sk-container-id-4 div.sk-item::before, #sk-container-id-4 div.sk-parallel-item::before {content: \"\";position: absolute;border-left: 1px solid gray;box-sizing: border-box;top: 0;bottom: 0;left: 50%;z-index: -1;}#sk-container-id-4 div.sk-parallel-item {display: flex;flex-direction: column;z-index: 1;position: relative;background-color: white;}#sk-container-id-4 div.sk-parallel-item:first-child::after {align-self: flex-end;width: 50%;}#sk-container-id-4 div.sk-parallel-item:last-child::after {align-self: flex-start;width: 50%;}#sk-container-id-4 div.sk-parallel-item:only-child::after {width: 0;}#sk-container-id-4 div.sk-dashed-wrapped {border: 1px dashed gray;margin: 0 0.4em 0.5em 0.4em;box-sizing: border-box;padding-bottom: 0.4em;background-color: white;}#sk-container-id-4 div.sk-label label {font-family: monospace;font-weight: bold;display: inline-block;line-height: 1.2em;}#sk-container-id-4 div.sk-label-container {text-align: center;}#sk-container-id-4 div.sk-container {/* jupyter's `normalize.less` sets `[hidden] { display: none; }` but bootstrap.min.css set `[hidden] { display: none !important; }` so we also need the `!important` here to be able to override the default hidden behavior on the sphinx rendered scikit-learn.org. See: https://github.com/scikit-learn/scikit-learn/issues/21755 */display: inline-block !important;position: relative;}#sk-container-id-4 div.sk-text-repr-fallback {display: none;}</style><div id=\"sk-container-id-4\" class=\"sk-top-container\"><div class=\"sk-text-repr-fallback\"><pre>MinMaxScaler()</pre><b>In a Jupyter environment, please rerun this cell to show the HTML representation or trust the notebook. <br />On GitHub, the HTML representation is unable to render, please try loading this page with nbviewer.org.</b></div><div class=\"sk-container\" hidden><div class=\"sk-item\"><div class=\"sk-estimator sk-toggleable\"><input class=\"sk-toggleable__control sk-hidden--visually\" id=\"sk-estimator-id-4\" type=\"checkbox\" checked><label for=\"sk-estimator-id-4\" class=\"sk-toggleable__label sk-toggleable__label-arrow\">MinMaxScaler</label><div class=\"sk-toggleable__content\"><pre>MinMaxScaler()</pre></div></div></div></div></div>"
      ],
      "text/plain": [
       "MinMaxScaler()"
      ]
     },
     "execution_count": 139,
     "metadata": {},
     "output_type": "execute_result"
    }
   ],
   "source": [
    "scalarY.fit(y.reshape(-1,1))"
   ]
  },
  {
   "cell_type": "code",
   "execution_count": 140,
   "id": "f29a1b05-d5ba-4b08-be57-497cb707f424",
   "metadata": {
    "tags": []
   },
   "outputs": [],
   "source": [
    "y_transform = scalarY.transform(y.reshape(-1,1))"
   ]
  },
  {
   "cell_type": "code",
   "execution_count": 141,
   "id": "2ad35643-fb67-46ba-a20f-0452431d88ef",
   "metadata": {
    "tags": []
   },
   "outputs": [
    {
     "data": {
      "text/plain": [
       "array([[0.27669903],\n",
       "       [0.27669903],\n",
       "       [0.27669903],\n",
       "       ...,\n",
       "       [0.23786408],\n",
       "       [0.23786408],\n",
       "       [0.23786408]])"
      ]
     },
     "execution_count": 141,
     "metadata": {},
     "output_type": "execute_result"
    }
   ],
   "source": [
    "y_transform"
   ]
  },
  {
   "cell_type": "code",
   "execution_count": 95,
   "id": "7f1f2321-86be-4e54-9533-d31b6972a6f0",
   "metadata": {
    "tags": []
   },
   "outputs": [],
   "source": [
    "#reshape input to be [samples, time steps, features]\n",
    "# X_reshape = np.reshape(X_transform, (X_transform.shape[0], 1, X_transform.shape[1]))\n",
    "# testX = np.reshape(testX, (testX.shape[0], 1, testX.shape[1]))"
   ]
  },
  {
   "cell_type": "code",
   "execution_count": 143,
   "id": "4e28f2ae-fe3a-4ce8-ac3d-ab299290bb9a",
   "metadata": {
    "tags": []
   },
   "outputs": [
    {
     "data": {
      "text/plain": [
       "((2365, 3), (2365, 1))"
      ]
     },
     "execution_count": 143,
     "metadata": {},
     "output_type": "execute_result"
    }
   ],
   "source": [
    "X_transform.shape,y_transform.shape"
   ]
  },
  {
   "cell_type": "markdown",
   "id": "d4ca3af3-97a3-411f-ab28-e05fc074336f",
   "metadata": {},
   "source": [
    "### Split data"
   ]
  },
  {
   "cell_type": "code",
   "execution_count": 144,
   "id": "bb86bbd7-7f01-4b0b-9099-f3cce0472fed",
   "metadata": {
    "tags": []
   },
   "outputs": [],
   "source": [
    "X_train, X_test, y_train, y_test = train_test_split(X_transform, y_transform,test_size=0.3,random_state=42)"
   ]
  },
  {
   "cell_type": "code",
   "execution_count": 145,
   "id": "ce876bb6-4b5c-48f6-82cc-8fbbb8cff971",
   "metadata": {
    "tags": []
   },
   "outputs": [],
   "source": [
    "X_val, X_test, y_val, y_test = train_test_split(X_test, y_test,test_size=0.5,random_state=42)"
   ]
  },
  {
   "cell_type": "code",
   "execution_count": 146,
   "id": "fd3faebe-3d75-468a-ab4e-1f0fdbfb9e6b",
   "metadata": {
    "tags": []
   },
   "outputs": [
    {
     "data": {
      "text/plain": [
       "(1655, 3)"
      ]
     },
     "execution_count": 146,
     "metadata": {},
     "output_type": "execute_result"
    }
   ],
   "source": [
    "X_train.shape"
   ]
  },
  {
   "cell_type": "code",
   "execution_count": 147,
   "id": "abc638c4-5b6e-4057-8978-f73b9fa74e5e",
   "metadata": {
    "tags": []
   },
   "outputs": [],
   "source": [
    "input_dim = X_train.shape[1]\n",
    "output_dim = 20\n",
    "maxlen = 6\n",
    "look_back = 1"
   ]
  },
  {
   "cell_type": "code",
   "execution_count": 86,
   "id": "5995ea58-4e20-41cc-a3ed-275fff527d19",
   "metadata": {
    "tags": []
   },
   "outputs": [
    {
     "data": {
      "text/plain": [
       "3"
      ]
     },
     "execution_count": 86,
     "metadata": {},
     "output_type": "execute_result"
    }
   ],
   "source": [
    "input_dim"
   ]
  },
  {
   "cell_type": "markdown",
   "id": "d02c2f81-a2a0-4cef-88d9-a0d287980edf",
   "metadata": {
    "jp-MarkdownHeadingCollapsed": true,
    "tags": []
   },
   "source": [
    "### LSTM"
   ]
  },
  {
   "cell_type": "code",
   "execution_count": 108,
   "id": "a95acc0c-d419-4ab1-b827-ff4624644096",
   "metadata": {
    "collapsed": true,
    "jupyter": {
     "outputs_hidden": true
    },
    "tags": []
   },
   "outputs": [
    {
     "name": "stdout",
     "output_type": "stream",
     "text": [
      "Epoch 1/10\n"
     ]
    },
    {
     "name": "stderr",
     "output_type": "stream",
     "text": [
      "2023-05-17 08:54:41.825276: I tensorflow/core/common_runtime/executor.cc:1197] [/device:CPU:0] (DEBUG INFO) Executor start aborting (this does not indicate an error and you can ignore this message): INVALID_ARGUMENT: You must feed a value for placeholder tensor 'gradients/split_2_grad/concat/split_2/split_dim' with dtype int32\n",
      "\t [[{{node gradients/split_2_grad/concat/split_2/split_dim}}]]\n",
      "2023-05-17 08:54:41.827294: I tensorflow/core/common_runtime/executor.cc:1197] [/device:CPU:0] (DEBUG INFO) Executor start aborting (this does not indicate an error and you can ignore this message): INVALID_ARGUMENT: You must feed a value for placeholder tensor 'gradients/split_grad/concat/split/split_dim' with dtype int32\n",
      "\t [[{{node gradients/split_grad/concat/split/split_dim}}]]\n",
      "2023-05-17 08:54:41.828501: I tensorflow/core/common_runtime/executor.cc:1197] [/device:CPU:0] (DEBUG INFO) Executor start aborting (this does not indicate an error and you can ignore this message): INVALID_ARGUMENT: You must feed a value for placeholder tensor 'gradients/split_1_grad/concat/split_1/split_dim' with dtype int32\n",
      "\t [[{{node gradients/split_1_grad/concat/split_1/split_dim}}]]\n",
      "2023-05-17 08:54:42.114741: I tensorflow/core/common_runtime/executor.cc:1197] [/device:CPU:0] (DEBUG INFO) Executor start aborting (this does not indicate an error and you can ignore this message): INVALID_ARGUMENT: You must feed a value for placeholder tensor 'gradients/split_2_grad/concat/split_2/split_dim' with dtype int32\n",
      "\t [[{{node gradients/split_2_grad/concat/split_2/split_dim}}]]\n",
      "2023-05-17 08:54:42.117061: I tensorflow/core/common_runtime/executor.cc:1197] [/device:CPU:0] (DEBUG INFO) Executor start aborting (this does not indicate an error and you can ignore this message): INVALID_ARGUMENT: You must feed a value for placeholder tensor 'gradients/split_grad/concat/split/split_dim' with dtype int32\n",
      "\t [[{{node gradients/split_grad/concat/split/split_dim}}]]\n",
      "2023-05-17 08:54:42.118653: I tensorflow/core/common_runtime/executor.cc:1197] [/device:CPU:0] (DEBUG INFO) Executor start aborting (this does not indicate an error and you can ignore this message): INVALID_ARGUMENT: You must feed a value for placeholder tensor 'gradients/split_1_grad/concat/split_1/split_dim' with dtype int32\n",
      "\t [[{{node gradients/split_1_grad/concat/split_1/split_dim}}]]\n",
      "2023-05-17 08:54:42.747337: I tensorflow/core/common_runtime/executor.cc:1197] [/device:CPU:0] (DEBUG INFO) Executor start aborting (this does not indicate an error and you can ignore this message): INVALID_ARGUMENT: You must feed a value for placeholder tensor 'gradients/split_2_grad/concat/split_2/split_dim' with dtype int32\n",
      "\t [[{{node gradients/split_2_grad/concat/split_2/split_dim}}]]\n",
      "2023-05-17 08:54:42.749275: I tensorflow/core/common_runtime/executor.cc:1197] [/device:CPU:0] (DEBUG INFO) Executor start aborting (this does not indicate an error and you can ignore this message): INVALID_ARGUMENT: You must feed a value for placeholder tensor 'gradients/split_grad/concat/split/split_dim' with dtype int32\n",
      "\t [[{{node gradients/split_grad/concat/split/split_dim}}]]\n",
      "2023-05-17 08:54:42.750798: I tensorflow/core/common_runtime/executor.cc:1197] [/device:CPU:0] (DEBUG INFO) Executor start aborting (this does not indicate an error and you can ignore this message): INVALID_ARGUMENT: You must feed a value for placeholder tensor 'gradients/split_1_grad/concat/split_1/split_dim' with dtype int32\n",
      "\t [[{{node gradients/split_1_grad/concat/split_1/split_dim}}]]\n"
     ]
    },
    {
     "name": "stdout",
     "output_type": "stream",
     "text": [
      "60/60 [==============================] - 2s 3ms/step - loss: 0.2034\n",
      "Epoch 2/10\n",
      "60/60 [==============================] - 0s 3ms/step - loss: 0.0811\n",
      "Epoch 3/10\n",
      "60/60 [==============================] - 0s 3ms/step - loss: 0.0381\n",
      "Epoch 4/10\n",
      "60/60 [==============================] - 0s 3ms/step - loss: 0.0269\n",
      "Epoch 5/10\n",
      "60/60 [==============================] - 0s 3ms/step - loss: 0.0246\n",
      "Epoch 6/10\n",
      "60/60 [==============================] - 0s 3ms/step - loss: 0.0237\n",
      "Epoch 7/10\n",
      "60/60 [==============================] - 0s 3ms/step - loss: 0.0228\n",
      "Epoch 8/10\n",
      "60/60 [==============================] - 0s 3ms/step - loss: 0.0221\n",
      "Epoch 9/10\n",
      "60/60 [==============================] - 0s 3ms/step - loss: 0.0213\n",
      "Epoch 10/10\n",
      "60/60 [==============================] - 0s 3ms/step - loss: 0.0205\n"
     ]
    },
    {
     "data": {
      "text/plain": [
       "<keras.callbacks.History at 0x7f2c9e769fc0>"
      ]
     },
     "execution_count": 108,
     "metadata": {},
     "output_type": "execute_result"
    }
   ],
   "source": [
    "#create and fit the LSTM network\n",
    "model = Sequential()\n",
    "model.add(LSTM(17, input_shape=(look_back, 3)))\n",
    "model.add(Dense(1))\n",
    "model.compile(loss='mean_squared_error', optimizer='adam')\n",
    "model.fit(X_train, y_train, epochs=10, batch_size=28, verbose=1)\n"
   ]
  },
  {
   "cell_type": "code",
   "execution_count": 109,
   "id": "4f1632da-855f-4323-8387-650fa26ddc8f",
   "metadata": {
    "tags": []
   },
   "outputs": [],
   "source": [
    "import math\n",
    "from sklearn.metrics import mean_squared_error"
   ]
  },
  {
   "cell_type": "code",
   "execution_count": 117,
   "id": "daed3bd2-0c79-4441-a956-75e9ebe626e9",
   "metadata": {
    "tags": []
   },
   "outputs": [],
   "source": [
    "xtrain = X_train.reshape(-1,3)\n",
    "xtest = X_test.reshape(-1,3)"
   ]
  },
  {
   "cell_type": "code",
   "execution_count": 115,
   "id": "9606eab1-2e82-4bf1-b86d-5140a1cf4337",
   "metadata": {
    "tags": []
   },
   "outputs": [
    {
     "data": {
      "text/plain": [
       "(355, 1, 3)"
      ]
     },
     "execution_count": 115,
     "metadata": {},
     "output_type": "execute_result"
    }
   ],
   "source": [
    "X_test.shape"
   ]
  },
  {
   "cell_type": "markdown",
   "id": "2a2af086-864a-4115-81ac-31c9a317c7ce",
   "metadata": {},
   "source": [
    "## Model Definition"
   ]
  },
  {
   "cell_type": "markdown",
   "id": "6c833451-3a1d-4cfa-99a2-2b85b7293720",
   "metadata": {
    "tags": []
   },
   "source": [
    "#### ANN Model with KerasRegressor"
   ]
  },
  {
   "cell_type": "code",
   "execution_count": 264,
   "id": "944ce5d6-c219-43f4-8e61-d139827b0d52",
   "metadata": {
    "tags": []
   },
   "outputs": [],
   "source": [
    "# define baseline model\n",
    "def baseline_model():\n",
    "    # create model\n",
    "    model = Sequential()\n",
    "    model.add(Dense(40, input_dim=3, activation='relu'))\n",
    "    model.add(Dense(30, activation='relu'))\n",
    "    model.add(Dense(20))\n",
    "    model.add(Dense(10))\n",
    "    model.add(Dense(1, activation='sigmoid'))\n",
    "    # model.add(Dense(1, activation='softmax'))\n",
    "    # Compile model\n",
    "    model.compile(loss='mean_squared_error', optimizer='adam')\n",
    "    # model.compile(loss='binary_crossentropy', optimizer='adam', metrics=['accuracy'])\n",
    "    return model\n"
   ]
  },
  {
   "cell_type": "code",
   "execution_count": 265,
   "id": "2473c709-def1-4188-8ed0-9a7abc451565",
   "metadata": {
    "tags": []
   },
   "outputs": [
    {
     "name": "stdout",
     "output_type": "stream",
     "text": [
      "Model: \"sequential_144\"\n",
      "_________________________________________________________________\n",
      " Layer (type)                Output Shape              Param #   \n",
      "=================================================================\n",
      " dense_455 (Dense)           (None, 40)                160       \n",
      "                                                                 \n",
      " dense_456 (Dense)           (None, 30)                1230      \n",
      "                                                                 \n",
      " dense_457 (Dense)           (None, 20)                620       \n",
      "                                                                 \n",
      " dense_458 (Dense)           (None, 10)                210       \n",
      "                                                                 \n",
      " dense_459 (Dense)           (None, 1)                 11        \n",
      "                                                                 \n",
      "=================================================================\n",
      "Total params: 2,231\n",
      "Trainable params: 2,231\n",
      "Non-trainable params: 0\n",
      "_________________________________________________________________\n"
     ]
    }
   ],
   "source": [
    "# save model\n",
    "model = baseline_model()\n",
    "model.summary()"
   ]
  },
  {
   "cell_type": "code",
   "execution_count": 320,
   "id": "5acd5716-450f-4877-86ba-208e14ded30a",
   "metadata": {
    "tags": []
   },
   "outputs": [
    {
     "name": "stdout",
     "output_type": "stream",
     "text": [
      "Baseline: -0.53% (0.34%)\n"
     ]
    }
   ],
   "source": [
    "\n",
    "estimator = KerasRegressor(build_fn=baseline_model, epochs=10, batch_size=10, verbose=0)\n",
    "# cv = KFold(n_splits=10, shuffle=True)\n",
    "cv = RepeatedKFold(n_splits=10, n_repeats=3, random_state=1)\n",
    "results = cross_val_score(estimator, X_train, y_train, cv=cv)\n",
    "print(\"Baseline: %.2f%% (%.2f%%)\" % (results.mean()*100, results.std()*100))\n",
    "# print(\"Model accuracy: %.2f\"% (accuracy*100))"
   ]
  },
  {
   "cell_type": "code",
   "execution_count": 329,
   "id": "10f17d9a-11c3-44ec-9598-30aa6503227b",
   "metadata": {
    "tags": []
   },
   "outputs": [
    {
     "name": "stdout",
     "output_type": "stream",
     "text": [
      "Test Score: 21.90 RMSE\n"
     ]
    }
   ],
   "source": [
    "estimator.fit(X_train, y_train, verbose=0)\n",
    "k_pred = estimator.predict(X_test)\n",
    "\n",
    "yy,pp = scalarY.inverse_transform(y_test),scalarY.inverse_transform(k_pred.reshape(-1,1))\n",
    "testScore = math.sqrt(mean_squared_error(yy, pp))\n",
    "\n",
    "print('Test Score: %.2f RMSE' % (testScore))"
   ]
  },
  {
   "cell_type": "code",
   "execution_count": 330,
   "id": "7a731f74-8ddf-4f91-bf36-f085c5fd8b50",
   "metadata": {
    "tags": []
   },
   "outputs": [
    {
     "name": "stdout",
     "output_type": "stream",
     "text": [
      "Test -- > [186.] ---- predicted -- > [205.07317] ---- diff -- > [19.07316589]\n",
      "Test -- > [70.] ---- predicted -- > [88.89214] ---- diff -- > [18.89214325]\n",
      "Test -- > [160.] ---- predicted -- > [174.35399] ---- diff -- > [14.35398865]\n",
      "Test -- > [482.] ---- predicted -- > [476.15036] ---- diff -- > [5.84963989]\n",
      "Test -- > [383.] ---- predicted -- > [383.85703] ---- diff -- > [0.85702515]\n",
      "Test -- > [70.] ---- predicted -- > [108.82917] ---- diff -- > [38.82917023]\n",
      "Test -- > [70.] ---- predicted -- > [70.234146] ---- diff -- > [0.23414612]\n",
      "Test -- > [70.] ---- predicted -- > [70.991844] ---- diff -- > [0.99184418]\n",
      "Test -- > [168.] ---- predicted -- > [184.90419] ---- diff -- > [16.90419006]\n",
      "Test -- > [482.] ---- predicted -- > [481.90012] ---- diff -- > [0.09988403]\n",
      "Test -- > [160.] ---- predicted -- > [181.90834] ---- diff -- > [21.90834045]\n",
      "Test -- > [383.] ---- predicted -- > [389.36484] ---- diff -- > [6.36483765]\n",
      "Test -- > [160.] ---- predicted -- > [174.08385] ---- diff -- > [14.08384705]\n",
      "Test -- > [160.] ---- predicted -- > [182.09938] ---- diff -- > [22.09938049]\n",
      "Test -- > [160.] ---- predicted -- > [185.52592] ---- diff -- > [25.52592468]\n",
      "Test -- > [186.] ---- predicted -- > [188.4029] ---- diff -- > [2.40289307]\n",
      "Test -- > [389.] ---- predicted -- > [388.6442] ---- diff -- > [0.35580444]\n",
      "Test -- > [389.] ---- predicted -- > [386.3424] ---- diff -- > [2.65759277]\n",
      "Test -- > [160.] ---- predicted -- > [180.75322] ---- diff -- > [20.7532196]\n",
      "Test -- > [160.] ---- predicted -- > [174.36876] ---- diff -- > [14.36875916]\n",
      "Test -- > [186.] ---- predicted -- > [205.82784] ---- diff -- > [19.82783508]\n",
      "Test -- > [160.] ---- predicted -- > [179.81] ---- diff -- > [19.80999756]\n",
      "Test -- > [160.] ---- predicted -- > [173.3304] ---- diff -- > [13.33039856]\n",
      "Test -- > [168.] ---- predicted -- > [184.12546] ---- diff -- > [16.12545776]\n",
      "Test -- > [160.] ---- predicted -- > [183.64243] ---- diff -- > [23.64242554]\n",
      "Test -- > [168.] ---- predicted -- > [176.97803] ---- diff -- > [8.97802734]\n",
      "Test -- > [186.] ---- predicted -- > [173.73172] ---- diff -- > [12.26828003]\n",
      "Test -- > [389.] ---- predicted -- > [378.0421] ---- diff -- > [10.95788574]\n",
      "Test -- > [389.] ---- predicted -- > [387.33505] ---- diff -- > [1.66494751]\n",
      "Test -- > [70.] ---- predicted -- > [115.96444] ---- diff -- > [45.96443939]\n",
      "Test -- > [168.] ---- predicted -- > [191.36267] ---- diff -- > [23.3626709]\n"
     ]
    }
   ],
   "source": [
    "for i in range(len(yy)):\n",
    "    print('Test -- >',yy[i],'---- predicted -- >',pp[i],'---- diff -- >',abs(yy[i]-pp[i]))\n",
    "    if i == 30:\n",
    "        break"
   ]
  },
  {
   "cell_type": "code",
   "execution_count": 331,
   "id": "de228eaa-875c-4ca1-b467-52888d2d8c19",
   "metadata": {
    "tags": []
   },
   "outputs": [
    {
     "name": "stdout",
     "output_type": "stream",
     "text": [
      "(355, 1)\n",
      "(355,)\n"
     ]
    },
    {
     "data": {
      "text/plain": [
       "21.903885190888783"
      ]
     },
     "execution_count": 331,
     "metadata": {},
     "output_type": "execute_result"
    }
   ],
   "source": [
    "print(y_test.shape)\n",
    "print(k_pred.shape)\n",
    "\n",
    "yy = scalarY.inverse_transform(y_test)\n",
    "pp = scalarY.inverse_transform(k_pred.reshape(-1,1))\n",
    "testScore = math.sqrt(mean_squared_error(yy, pp))\n",
    "\n",
    "testScore"
   ]
  },
  {
   "cell_type": "code",
   "execution_count": 332,
   "id": "f94e682f-879a-4026-9df8-d352957d3b42",
   "metadata": {
    "tags": []
   },
   "outputs": [
    {
     "data": {
      "image/png": "[encoded data removed]",
      "text/plain": [
       "<Figure size 640x480 with 1 Axes>"
      ]
     },
     "metadata": {},
     "output_type": "display_data"
    }
   ],
   "source": [
    "# plt.plot(dataset[:,3].reshape(-1,1), label='dataset')\n",
    "plt.plot(yy,label='test')\n",
    "plt.plot(pp,label='predicted')\n",
    "plt.legend()\n",
    "plt.show()"
   ]
  },
  {
   "cell_type": "code",
   "execution_count": null,
   "id": "5dbf6370-1ff8-4ba6-88f1-bde4a19b4a2a",
   "metadata": {},
   "outputs": [],
   "source": []
  },
  {
   "cell_type": "markdown",
   "id": "f1387661-0ac1-4152-a88a-eef86ab4418a",
   "metadata": {},
   "source": [
    "#### ANN model"
   ]
  },
  {
   "cell_type": "code",
   "execution_count": 323,
   "id": "e8137b0d-f114-4384-9af2-13666cb9ea95",
   "metadata": {
    "tags": []
   },
   "outputs": [],
   "source": [
    "model = baseline_model()\n",
    "history = model.fit(X_train, y_train, batch_size=10, epochs=10, verbose=0, validation_split=0.33)\n",
    "# create directory to save model\n",
    "# https://colab.research.google.com/github/tensorflow/docs/blob/master/site/en/tutorials/keras/save_and_load.ipynb#scrollTo=Yh5Mu0yOgE5J\n",
    "# model.save('saved_model/my_model')\n",
    "model.save('keras.h5')"
   ]
  },
  {
   "cell_type": "code",
   "execution_count": 268,
   "id": "229f4327-267f-4fd5-a73e-f2b27af52e60",
   "metadata": {
    "tags": []
   },
   "outputs": [
    {
     "name": "stdout",
     "output_type": "stream",
     "text": [
      "dict_keys(['loss', 'val_loss'])\n"
     ]
    }
   ],
   "source": [
    "print(history.history.keys())"
   ]
  },
  {
   "cell_type": "code",
   "execution_count": 324,
   "id": "4ae91fcd-422c-49d7-a67a-bea701a889c8",
   "metadata": {
    "tags": []
   },
   "outputs": [
    {
     "name": "stdout",
     "output_type": "stream",
     "text": [
      "Model: \"sequential_207\"\n",
      "_________________________________________________________________\n",
      " Layer (type)                Output Shape              Param #   \n",
      "=================================================================\n",
      " dense_741 (Dense)           (None, 40)                160       \n",
      "                                                                 \n",
      " dense_742 (Dense)           (None, 30)                1230      \n",
      "                                                                 \n",
      " dense_743 (Dense)           (None, 20)                620       \n",
      "                                                                 \n",
      " dense_744 (Dense)           (None, 10)                210       \n",
      "                                                                 \n",
      " dense_745 (Dense)           (None, 1)                 11        \n",
      "                                                                 \n",
      "=================================================================\n",
      "Total params: 2,231\n",
      "Trainable params: 2,231\n",
      "Non-trainable params: 0\n",
      "_________________________________________________________________\n",
      "12/12 [==============================] - 0s 2ms/step - loss: 0.0070\n",
      "Restored model,Loss:  0.70%\n",
      "12/12 [==============================] - 0s 2ms/step\n"
     ]
    }
   ],
   "source": [
    "# saved_model = load_model('saved_model/my_model')\n",
    "saved_model = load_model('keras.h5')\n",
    "# Check its architecture\n",
    "saved_model.summary()\n",
    "# 4. evaluate network\n",
    "score  = saved_model.evaluate(X_val, y_val, verbose=1)\n",
    "# print(score)\n",
    "print('Restored model,Loss: {:5.2f}%'.format(100 * score))\n",
    "# 5. make predictions\n",
    "predictions = saved_model.predict(X_test, verbose=1)\n",
    "# print(predictions)"
   ]
  },
  {
   "cell_type": "code",
   "execution_count": 325,
   "id": "cf7467ba-4b63-4cee-926a-40795fda4973",
   "metadata": {
    "tags": []
   },
   "outputs": [],
   "source": [
    "yy,pp = scalarY.inverse_transform(y_test),scalarY.inverse_transform(predictions)\n",
    "xx=scalarX.inverse_transform(X_transform)"
   ]
  },
  {
   "cell_type": "code",
   "execution_count": 326,
   "id": "c4e1fc7a-f8f3-4eaa-93e6-47fdf8c2ece8",
   "metadata": {
    "tags": []
   },
   "outputs": [
    {
     "name": "stdout",
     "output_type": "stream",
     "text": [
      "Test Score: 27.25 RMSE\n"
     ]
    }
   ],
   "source": [
    "#calculate root mean squared error\n",
    "# trainScore = math.sqrt(mean_squared_error(train[:,0], trainPredict[:,0]))\n",
    "# print('Train Score: %.2f RMSE' % (trainScore))\n",
    "testScore = math.sqrt(mean_squared_error(yy, pp))\n",
    "print('Test Score: %.2f RMSE' % (testScore))"
   ]
  },
  {
   "cell_type": "code",
   "execution_count": 327,
   "id": "61f1a455-6ddd-4367-a001-7728e76467a6",
   "metadata": {
    "tags": []
   },
   "outputs": [
    {
     "name": "stdout",
     "output_type": "stream",
     "text": [
      "Test -- > [186.] ---- predicted -- > [161.63515] ---- diff -- > [24.36485291]\n",
      "Test -- > [70.] ---- predicted -- > [138.64168] ---- diff -- > [68.64167786]\n",
      "Test -- > [160.] ---- predicted -- > [131.13081] ---- diff -- > [28.8691864]\n",
      "Test -- > [482.] ---- predicted -- > [448.10815] ---- diff -- > [33.8918457]\n",
      "Test -- > [383.] ---- predicted -- > [370.7957] ---- diff -- > [12.20431519]\n",
      "Test -- > [70.] ---- predicted -- > [146.63858] ---- diff -- > [76.63858032]\n",
      "Test -- > [70.] ---- predicted -- > [75.22662] ---- diff -- > [5.22662354]\n",
      "Test -- > [70.] ---- predicted -- > [92.68642] ---- diff -- > [22.68641663]\n",
      "Test -- > [168.] ---- predicted -- > [139.2292] ---- diff -- > [28.77079773]\n",
      "Test -- > [482.] ---- predicted -- > [481.4446] ---- diff -- > [0.5553894]\n",
      "Test -- > [160.] ---- predicted -- > [161.97824] ---- diff -- > [1.97824097]\n",
      "Test -- > [383.] ---- predicted -- > [392.98123] ---- diff -- > [9.98123169]\n",
      "Test -- > [160.] ---- predicted -- > [160.05946] ---- diff -- > [0.0594635]\n",
      "Test -- > [160.] ---- predicted -- > [160.95306] ---- diff -- > [0.95306396]\n",
      "Test -- > [160.] ---- predicted -- > [166.01555] ---- diff -- > [6.01554871]\n",
      "Test -- > [186.] ---- predicted -- > [172.9531] ---- diff -- > [13.04690552]\n",
      "Test -- > [389.] ---- predicted -- > [368.0187] ---- diff -- > [20.98129272]\n",
      "Test -- > [389.] ---- predicted -- > [368.87408] ---- diff -- > [20.12591553]\n",
      "Test -- > [160.] ---- predicted -- > [161.3832] ---- diff -- > [1.38319397]\n",
      "Test -- > [160.] ---- predicted -- > [160.77846] ---- diff -- > [0.77845764]\n",
      "Test -- > [186.] ---- predicted -- > [162.45866] ---- diff -- > [23.54133606]\n",
      "Test -- > [160.] ---- predicted -- > [161.85338] ---- diff -- > [1.8533783]\n",
      "Test -- > [160.] ---- predicted -- > [159.57837] ---- diff -- > [0.42163086]\n",
      "Test -- > [168.] ---- predicted -- > [179.58922] ---- diff -- > [11.58921814]\n",
      "Test -- > [160.] ---- predicted -- > [160.54033] ---- diff -- > [0.54032898]\n",
      "Test -- > [168.] ---- predicted -- > [179.21046] ---- diff -- > [11.21046448]\n",
      "Test -- > [186.] ---- predicted -- > [191.4336] ---- diff -- > [5.43359375]\n",
      "Test -- > [389.] ---- predicted -- > [397.2108] ---- diff -- > [8.21078491]\n",
      "Test -- > [389.] ---- predicted -- > [369.79306] ---- diff -- > [19.2069397]\n",
      "Test -- > [70.] ---- predicted -- > [136.40741] ---- diff -- > [66.40740967]\n",
      "Test -- > [168.] ---- predicted -- > [171.63077] ---- diff -- > [3.63076782]\n"
     ]
    }
   ],
   "source": [
    "for i in range(len(yy)):\n",
    "    print('Test -- >',yy[i],'---- predicted -- >',pp[i],'---- diff -- >',abs(yy[i]-pp[i]))\n",
    "    if i == 30:\n",
    "        break"
   ]
  },
  {
   "cell_type": "code",
   "execution_count": 328,
   "id": "14cdb3f7-56e2-4f41-891c-c6b9f2de8350",
   "metadata": {
    "tags": []
   },
   "outputs": [
    {
     "data": {
      "image/png": "[encoded data removed]",
      "text/plain": [
       "<Figure size 640x480 with 1 Axes>"
      ]
     },
     "metadata": {},
     "output_type": "display_data"
    }
   ],
   "source": [
    "# plt.plot(dataset[:,3].reshape(-1,1), label='dataset')\n",
    "plt.plot(yy,label='test')\n",
    "plt.plot(pp,label='predicted')\n",
    "plt.legend()\n",
    "plt.show()"
   ]
  },
  {
   "cell_type": "code",
   "execution_count": 181,
   "id": "c26dbeea-4151-47ef-9401-3d358b4b9c53",
   "metadata": {
    "tags": []
   },
   "outputs": [
    {
     "data": {
      "text/plain": [
       "Counter({168.0: 316,\n",
       "         160.0: 315,\n",
       "         389.0: 300,\n",
       "         186.0: 284,\n",
       "         184.0: 132,\n",
       "         70.0: 123,\n",
       "         482.0: 103,\n",
       "         383.0: 82})"
      ]
     },
     "execution_count": 181,
     "metadata": {},
     "output_type": "execute_result"
    }
   ],
   "source": [
    "Counter(itertools.chain.from_iterable(scalarY.inverse_transform(y_train)))"
   ]
  },
  {
   "cell_type": "code",
   "execution_count": null,
   "id": "f0d7c44d-2de3-4062-a095-dfbbc77df822",
   "metadata": {},
   "outputs": [],
   "source": [
    "# example of making predictions for a regression problem\n",
    "from sklearn.datasets import make_regression\n",
    "# generate regression dataset\n",
    "scalarX, scalarY = MinMaxScaler(), MinMaxScaler()\n",
    "scalarX.fit(X)\n",
    "scalarY.fit(y.reshape(100,1))\n",
    "X = scalarX.transform(X)\n",
    "y = scalarY.transform(y.reshape(100,1))\n",
    "# define and fit the final model\n",
    "model = Sequential()\n",
    "model.add(Dense(4, input_dim=2, activation='relu'))\n",
    "model.add(Dense(4, activation='relu'))\n",
    "model.add(Dense(1, activation='linear'))\n",
    "model.compile(loss='mse', optimizer='adam')\n",
    "model.fit(X, y, epochs=1000, verbose=0)\n",
    "# new instances where we do not know the answer\n",
    "Xnew, a = make_regression(n_samples=3, n_features=2, noise=0.1, random_state=1)\n",
    "Xnew = scalarX.transform(Xnew)\n",
    "# make a prediction\n",
    "ynew = model.predict(Xnew)\n",
    "# show the inputs and predicted outputs\n",
    "for i in range(len(Xnew)):\n",
    "\tprint(\"X=%s, Predicted=%s\" % (Xnew[i], ynew[i]))a"
   ]
  },
  {
   "cell_type": "code",
   "execution_count": null,
   "id": "823a8d94-b922-4ea8-891c-d4714c9acc2a",
   "metadata": {},
   "outputs": [],
   "source": []
  }
 ],
 "metadata": {
  "kernelspec": {
   "display_name": "Python 3 (ipykernel)",
   "language": "python",
   "name": "python3"
  },
  "language_info": {
   "codemirror_mode": {
    "name": "ipython",
    "version": 3
   },
   "file_extension": ".py",
   "mimetype": "text/x-python",
   "name": "python",
   "nbconvert_exporter": "python",
   "pygments_lexer": "ipython3",
   "version": "3.10.6"
  }
 },
 "nbformat": 4,
 "nbformat_minor": 5
}
