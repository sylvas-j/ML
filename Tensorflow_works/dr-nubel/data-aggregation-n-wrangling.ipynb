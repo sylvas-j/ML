{
 "cells": [
  {
   "cell_type": "markdown",
   "id": "c370b8f0-ad4f-4d31-b308-27eaf6e52b76",
   "metadata": {},
   "source": [
    "# Data Aggregation and Wrangling"
   ]
  },
  {
   "cell_type": "code",
   "execution_count": 1,
   "id": "c7785a1c-15b4-4f42-8dc2-0fd0fe6db0d3",
   "metadata": {
    "tags": []
   },
   "outputs": [],
   "source": [
    "import shutup; shutup.please()"
   ]
  },
  {
   "cell_type": "code",
   "execution_count": 2,
   "id": "6aabac48-9965-4e51-935e-e608c249574b",
   "metadata": {
    "tags": []
   },
   "outputs": [
    {
     "name": "stderr",
     "output_type": "stream",
     "text": [
      "2023-05-11 12:07:00.858092: I tensorflow/tsl/cuda/cudart_stub.cc:28] Could not find cuda drivers on your machine, GPU will not be used.\n",
      "2023-05-11 12:07:01.410982: I tensorflow/tsl/cuda/cudart_stub.cc:28] Could not find cuda drivers on your machine, GPU will not be used.\n",
      "2023-05-11 12:07:01.412916: I tensorflow/core/platform/cpu_feature_guard.cc:182] This TensorFlow binary is optimized to use available CPU instructions in performance-critical operations.\n",
      "To enable the following instructions: AVX2 FMA, in other operations, rebuild TensorFlow with the appropriate compiler flags.\n",
      "2023-05-11 12:07:02.897665: W tensorflow/compiler/tf2tensorrt/utils/py_utils.cc:38] TF-TRT Warning: Could not find TensorRT\n"
     ]
    }
   ],
   "source": [
    "import numpy as np\n",
    "import pandas as pd"
   ]
  },
  {
   "cell_type": "code",
   "execution_count": null,
   "id": "5b5db8bb-d419-4883-8daf-1236edb0cc1d",
   "metadata": {},
   "outputs": [],
   "source": []
  },
  {
   "cell_type": "markdown",
   "id": "5ca75071-9299-4736-b36f-f0c346ffda2f",
   "metadata": {},
   "source": [
    "## Concat height and tor to df"
   ]
  },
  {
   "cell_type": "code",
   "execution_count": 2,
   "id": "a369bc08-d11d-461f-a0b8-a1ce25d5f8f0",
   "metadata": {
    "tags": []
   },
   "outputs": [
    {
     "data": {
      "text/html": [
       "<div>\n",
       "<style scoped>\n",
       "    .dataframe tbody tr th:only-of-type {\n",
       "        vertical-align: middle;\n",
       "    }\n",
       "\n",
       "    .dataframe tbody tr th {\n",
       "        vertical-align: top;\n",
       "    }\n",
       "\n",
       "    .dataframe thead th {\n",
       "        text-align: right;\n",
       "    }\n",
       "</style>\n",
       "<table border=\"1\" class=\"dataframe\">\n",
       "  <thead>\n",
       "    <tr style=\"text-align: right;\">\n",
       "      <th></th>\n",
       "      <th>strain</th>\n",
       "      <th>stress</th>\n",
       "      <th>height</th>\n",
       "      <th>tor</th>\n",
       "    </tr>\n",
       "  </thead>\n",
       "  <tbody>\n",
       "    <tr>\n",
       "      <th>0</th>\n",
       "      <td>-0.0149</td>\n",
       "      <td>0.428</td>\n",
       "      <td>2.450000</td>\n",
       "      <td>168</td>\n",
       "    </tr>\n",
       "    <tr>\n",
       "      <th>1</th>\n",
       "      <td>0.0003</td>\n",
       "      <td>1.925</td>\n",
       "      <td>2.450577</td>\n",
       "      <td>168</td>\n",
       "    </tr>\n",
       "    <tr>\n",
       "      <th>2</th>\n",
       "      <td>0.0005</td>\n",
       "      <td>3.209</td>\n",
       "      <td>2.451155</td>\n",
       "      <td>168</td>\n",
       "    </tr>\n",
       "    <tr>\n",
       "      <th>3</th>\n",
       "      <td>0.0007</td>\n",
       "      <td>4.279</td>\n",
       "      <td>2.451732</td>\n",
       "      <td>168</td>\n",
       "    </tr>\n",
       "    <tr>\n",
       "      <th>4</th>\n",
       "      <td>0.0010</td>\n",
       "      <td>5.562</td>\n",
       "      <td>2.452309</td>\n",
       "      <td>168</td>\n",
       "    </tr>\n",
       "    <tr>\n",
       "      <th>...</th>\n",
       "      <td>...</td>\n",
       "      <td>...</td>\n",
       "      <td>...</td>\n",
       "      <td>...</td>\n",
       "    </tr>\n",
       "    <tr>\n",
       "      <th>429</th>\n",
       "      <td>19.7470</td>\n",
       "      <td>302.808</td>\n",
       "      <td>2.697691</td>\n",
       "      <td>168</td>\n",
       "    </tr>\n",
       "    <tr>\n",
       "      <th>430</th>\n",
       "      <td>19.8442</td>\n",
       "      <td>302.269</td>\n",
       "      <td>2.698268</td>\n",
       "      <td>168</td>\n",
       "    </tr>\n",
       "    <tr>\n",
       "      <th>431</th>\n",
       "      <td>19.9040</td>\n",
       "      <td>301.839</td>\n",
       "      <td>2.698845</td>\n",
       "      <td>168</td>\n",
       "    </tr>\n",
       "    <tr>\n",
       "      <th>432</th>\n",
       "      <td>19.9564</td>\n",
       "      <td>301.623</td>\n",
       "      <td>2.699423</td>\n",
       "      <td>168</td>\n",
       "    </tr>\n",
       "    <tr>\n",
       "      <th>433</th>\n",
       "      <td>20.0012</td>\n",
       "      <td>301.621</td>\n",
       "      <td>2.700000</td>\n",
       "      <td>168</td>\n",
       "    </tr>\n",
       "  </tbody>\n",
       "</table>\n",
       "<p>434 rows × 4 columns</p>\n",
       "</div>"
      ],
      "text/plain": [
       "      strain   stress    height  tor\n",
       "0    -0.0149    0.428  2.450000  168\n",
       "1     0.0003    1.925  2.450577  168\n",
       "2     0.0005    3.209  2.451155  168\n",
       "3     0.0007    4.279  2.451732  168\n",
       "4     0.0010    5.562  2.452309  168\n",
       "..       ...      ...       ...  ...\n",
       "429  19.7470  302.808  2.697691  168\n",
       "430  19.8442  302.269  2.698268  168\n",
       "431  19.9040  301.839  2.698845  168\n",
       "432  19.9564  301.623  2.699423  168\n",
       "433  20.0012  301.621  2.700000  168\n",
       "\n",
       "[434 rows x 4 columns]"
      ]
     },
     "execution_count": 2,
     "metadata": {},
     "output_type": "execute_result"
    }
   ],
   "source": [
    "data_list = ['AGR-201','AGR-184','AGR-182','AGR-207','AGR-209','AGR-190','AGR-213','AGR-194']\n",
    " \n",
    "height_list = [2.6,6.6,3.95,2.6,4.25,7.25,9.0,2.45]\n",
    "height_list2 = [2.85,6.85,4.2,2.85,4.5,7.5,9.25,2.7]\n",
    "t = [184,383,482,160,186,70,389,168]\n",
    "for i in range(len(data_list)):\n",
    "    # print(i)\n",
    "    df = pd.read_csv('../../../datasets/dr-nubel/strain_stress/{}.csv'.format(data_list[i]))\n",
    "    # create range of height base on given height range\n",
    "    s = np.linspace(height_list[i],height_list2[i],len(df))\n",
    "    s=pd.Series(s,name='height')\n",
    "    # list of tor according to dataset lenght\n",
    "    df_t = [t[i] for e in range(len(df))]\n",
    "    df_t = pd.Series(df_t,name='tor')\n",
    "    # concatenate dataframe and serires\n",
    "    df = pd.concat([df,s,df_t],axis=1)\n",
    "    df.to_csv('../../../datasets/dr-nubel/strain_stress_with_target/{}_.csv'.format(data_list[i]))\n",
    "    # print(df)\n",
    "df"
   ]
  },
  {
   "cell_type": "code",
   "execution_count": 3,
   "id": "363534bb-b492-4d96-9d37-7594de12b9f1",
   "metadata": {
    "tags": []
   },
   "outputs": [
    {
     "data": {
      "text/html": [
       "<div>\n",
       "<style scoped>\n",
       "    .dataframe tbody tr th:only-of-type {\n",
       "        vertical-align: middle;\n",
       "    }\n",
       "\n",
       "    .dataframe tbody tr th {\n",
       "        vertical-align: top;\n",
       "    }\n",
       "\n",
       "    .dataframe thead th {\n",
       "        text-align: right;\n",
       "    }\n",
       "</style>\n",
       "<table border=\"1\" class=\"dataframe\">\n",
       "  <thead>\n",
       "    <tr style=\"text-align: right;\">\n",
       "      <th></th>\n",
       "      <th>strain</th>\n",
       "      <th>stress</th>\n",
       "      <th>height</th>\n",
       "      <th>tor</th>\n",
       "    </tr>\n",
       "  </thead>\n",
       "  <tbody>\n",
       "    <tr>\n",
       "      <th>0</th>\n",
       "      <td>-0.0149</td>\n",
       "      <td>0.428</td>\n",
       "      <td>2.450000</td>\n",
       "      <td>168</td>\n",
       "    </tr>\n",
       "    <tr>\n",
       "      <th>1</th>\n",
       "      <td>0.0003</td>\n",
       "      <td>1.925</td>\n",
       "      <td>2.450577</td>\n",
       "      <td>168</td>\n",
       "    </tr>\n",
       "  </tbody>\n",
       "</table>\n",
       "</div>"
      ],
      "text/plain": [
       "   strain  stress    height  tor\n",
       "0 -0.0149   0.428  2.450000  168\n",
       "1  0.0003   1.925  2.450577  168"
      ]
     },
     "execution_count": 3,
     "metadata": {},
     "output_type": "execute_result"
    }
   ],
   "source": [
    "df.head(2)"
   ]
  },
  {
   "cell_type": "code",
   "execution_count": 4,
   "id": "fbfb5327-69a0-40d1-be87-f93b8a00c2f6",
   "metadata": {},
   "outputs": [],
   "source": [
    "df_lens = [182,140,152,444,407,183,423,434]"
   ]
  },
  {
   "cell_type": "markdown",
   "id": "c01752ea-5e55-4edc-83ca-99021e18c0a4",
   "metadata": {},
   "source": [
    "## Aggregate df"
   ]
  },
  {
   "cell_type": "code",
   "execution_count": 5,
   "id": "c3794233-f09c-4666-8aa7-48a5b8faf437",
   "metadata": {
    "tags": []
   },
   "outputs": [
    {
     "name": "stdout",
     "output_type": "stream",
     "text": [
      "182\n",
      "322\n",
      "474\n",
      "918\n",
      "1325\n",
      "1508\n",
      "1931\n",
      "2365\n"
     ]
    }
   ],
   "source": [
    "data_list = ['AGR-201','AGR-184','AGR-182','AGR-207','AGR-209','AGR-190','AGR-213','AGR-194']\n",
    " \n",
    "for i in range(len(data_list)):\n",
    "    # print(i)\n",
    "    if i == 0:\n",
    "        df = pd.read_csv('../../../datasets/dr-nubel/strain_stress_with_target/{}_.csv'.format(data_list[i]))\n",
    "    else:\n",
    "        df1 = pd.read_csv('../../../datasets/dr-nubel/strain_stress_with_target/{}_.csv'.format(data_list[i]))\n",
    "        df = pd.concat([df,df1],axis=0,ignore_index=True).drop(['Unnamed: 0'],axis=1)\n",
    "    print(len(df))\n",
    "    \n",
    "df.to_csv('../../../datasets/dr-nubel/strain_stress_with_target/full_strain_stress_data.csv',index=False)"
   ]
  },
  {
   "cell_type": "code",
   "execution_count": 6,
   "id": "85a4d54f-20d8-4f25-a59b-2efec19ac122",
   "metadata": {
    "tags": []
   },
   "outputs": [
    {
     "data": {
      "text/html": [
       "<div>\n",
       "<style scoped>\n",
       "    .dataframe tbody tr th:only-of-type {\n",
       "        vertical-align: middle;\n",
       "    }\n",
       "\n",
       "    .dataframe tbody tr th {\n",
       "        vertical-align: top;\n",
       "    }\n",
       "\n",
       "    .dataframe thead th {\n",
       "        text-align: right;\n",
       "    }\n",
       "</style>\n",
       "<table border=\"1\" class=\"dataframe\">\n",
       "  <thead>\n",
       "    <tr style=\"text-align: right;\">\n",
       "      <th></th>\n",
       "      <th>strain</th>\n",
       "      <th>stress</th>\n",
       "      <th>height</th>\n",
       "      <th>tor</th>\n",
       "    </tr>\n",
       "  </thead>\n",
       "  <tbody>\n",
       "    <tr>\n",
       "      <th>0</th>\n",
       "      <td>-0.0135</td>\n",
       "      <td>0.630</td>\n",
       "      <td>2.600000</td>\n",
       "      <td>184</td>\n",
       "    </tr>\n",
       "    <tr>\n",
       "      <th>1</th>\n",
       "      <td>0.0272</td>\n",
       "      <td>2.311</td>\n",
       "      <td>2.601381</td>\n",
       "      <td>184</td>\n",
       "    </tr>\n",
       "    <tr>\n",
       "      <th>2</th>\n",
       "      <td>0.0679</td>\n",
       "      <td>4.201</td>\n",
       "      <td>2.602762</td>\n",
       "      <td>184</td>\n",
       "    </tr>\n",
       "    <tr>\n",
       "      <th>3</th>\n",
       "      <td>0.1356</td>\n",
       "      <td>6.301</td>\n",
       "      <td>2.604144</td>\n",
       "      <td>184</td>\n",
       "    </tr>\n",
       "    <tr>\n",
       "      <th>4</th>\n",
       "      <td>0.1899</td>\n",
       "      <td>8.402</td>\n",
       "      <td>2.605525</td>\n",
       "      <td>184</td>\n",
       "    </tr>\n",
       "    <tr>\n",
       "      <th>...</th>\n",
       "      <td>...</td>\n",
       "      <td>...</td>\n",
       "      <td>...</td>\n",
       "      <td>...</td>\n",
       "    </tr>\n",
       "    <tr>\n",
       "      <th>2360</th>\n",
       "      <td>19.7470</td>\n",
       "      <td>302.808</td>\n",
       "      <td>2.697691</td>\n",
       "      <td>168</td>\n",
       "    </tr>\n",
       "    <tr>\n",
       "      <th>2361</th>\n",
       "      <td>19.8442</td>\n",
       "      <td>302.269</td>\n",
       "      <td>2.698268</td>\n",
       "      <td>168</td>\n",
       "    </tr>\n",
       "    <tr>\n",
       "      <th>2362</th>\n",
       "      <td>19.9040</td>\n",
       "      <td>301.839</td>\n",
       "      <td>2.698845</td>\n",
       "      <td>168</td>\n",
       "    </tr>\n",
       "    <tr>\n",
       "      <th>2363</th>\n",
       "      <td>19.9564</td>\n",
       "      <td>301.623</td>\n",
       "      <td>2.699423</td>\n",
       "      <td>168</td>\n",
       "    </tr>\n",
       "    <tr>\n",
       "      <th>2364</th>\n",
       "      <td>20.0012</td>\n",
       "      <td>301.621</td>\n",
       "      <td>2.700000</td>\n",
       "      <td>168</td>\n",
       "    </tr>\n",
       "  </tbody>\n",
       "</table>\n",
       "<p>2365 rows × 4 columns</p>\n",
       "</div>"
      ],
      "text/plain": [
       "       strain   stress    height  tor\n",
       "0     -0.0135    0.630  2.600000  184\n",
       "1      0.0272    2.311  2.601381  184\n",
       "2      0.0679    4.201  2.602762  184\n",
       "3      0.1356    6.301  2.604144  184\n",
       "4      0.1899    8.402  2.605525  184\n",
       "...       ...      ...       ...  ...\n",
       "2360  19.7470  302.808  2.697691  168\n",
       "2361  19.8442  302.269  2.698268  168\n",
       "2362  19.9040  301.839  2.698845  168\n",
       "2363  19.9564  301.623  2.699423  168\n",
       "2364  20.0012  301.621  2.700000  168\n",
       "\n",
       "[2365 rows x 4 columns]"
      ]
     },
     "execution_count": 6,
     "metadata": {},
     "output_type": "execute_result"
    }
   ],
   "source": [
    "df"
   ]
  }
 ],
 "metadata": {
  "kernelspec": {
   "display_name": "Python 3 (ipykernel)",
   "language": "python",
   "name": "python3"
  },
  "language_info": {
   "codemirror_mode": {
    "name": "ipython",
    "version": 3
   },
   "file_extension": ".py",
   "mimetype": "text/x-python",
   "name": "python",
   "nbconvert_exporter": "python",
   "pygments_lexer": "ipython3",
   "version": "3.10.6"
  }
 },
 "nbformat": 4,
 "nbformat_minor": 5
}
