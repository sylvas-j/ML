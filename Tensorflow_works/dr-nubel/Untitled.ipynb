{
 "cells": [
  {
   "cell_type": "markdown",
   "id": "747e64a6-6632-4959-859a-9026d2772e2d",
   "metadata": {},
   "source": [
    "# Source Valid Data"
   ]
  },
  {
   "cell_type": "code",
   "execution_count": 1,
   "id": "8411bd72-eb91-4e03-8447-b7b194691fa4",
   "metadata": {
    "tags": []
   },
   "outputs": [],
   "source": [
    "import pandas as pd\n",
    "import numpy as np\n",
    "import math\n",
    "from statistics import mean \n"
   ]
  },
  {
   "cell_type": "code",
   "execution_count": 2,
   "id": "2b02b418-e5a1-4e99-ae76-68999eeb8f74",
   "metadata": {
    "tags": []
   },
   "outputs": [
    {
     "data": {
      "text/html": [
       "<div>\n",
       "<style scoped>\n",
       "    .dataframe tbody tr th:only-of-type {\n",
       "        vertical-align: middle;\n",
       "    }\n",
       "\n",
       "    .dataframe tbody tr th {\n",
       "        vertical-align: top;\n",
       "    }\n",
       "\n",
       "    .dataframe thead th {\n",
       "        text-align: right;\n",
       "    }\n",
       "</style>\n",
       "<table border=\"1\" class=\"dataframe\">\n",
       "  <thead>\n",
       "    <tr style=\"text-align: right;\">\n",
       "      <th></th>\n",
       "      <th>strain</th>\n",
       "      <th>stress</th>\n",
       "    </tr>\n",
       "  </thead>\n",
       "  <tbody>\n",
       "    <tr>\n",
       "      <th>0</th>\n",
       "      <td>-0.0149</td>\n",
       "      <td>0.428</td>\n",
       "    </tr>\n",
       "    <tr>\n",
       "      <th>1</th>\n",
       "      <td>0.0003</td>\n",
       "      <td>1.925</td>\n",
       "    </tr>\n",
       "  </tbody>\n",
       "</table>\n",
       "</div>"
      ],
      "text/plain": [
       "   strain  stress\n",
       "0 -0.0149   0.428\n",
       "1  0.0003   1.925"
      ]
     },
     "execution_count": 2,
     "metadata": {},
     "output_type": "execute_result"
    }
   ],
   "source": [
    "df = pd.read_csv('../../../datasets/dr-nubel/strain_stress/AGR-194.csv')\n",
    "# df = pd.read_csv('../../../datasets/dr-nubel/strain_stress/AGR-180.csv')\n",
    "df.head(2)"
   ]
  },
  {
   "cell_type": "markdown",
   "id": "5a24a3e1-f477-41ec-bc91-2cb001c20ab0",
   "metadata": {
    "tags": []
   },
   "source": [
    "To calculate the shear strength of the shale samples using the data you have, you can follow these steps:\n",
    "\n",
    "-    1- Compute the mean and standard deviation of the triaxial test data for each of the 15 shale samples.\n",
    "-    2- Compute the confining pressure for each sample by averaging the values of the three confining pressures used in the triaxial test.\n",
    "-    3- Calculate the deviatoric stress (σ1 - σ3) for each sample, where σ1 is the maximum stress applied during the triaxial test and σ3 is the confining pressure.\n",
    "-    4- Calculate the mean stress (σ1 + 2σ3)/3 for each sample.\n",
    "-    5- Calculate the angle of internal friction (φ) using the formula:\n",
    "\n",
    "***tan(φ) = (σ1 - σ3)/(2P)***\n",
    "<p style=\"color:red\">tan(φ) = (σ1 - σ3)/(2P)</p>\n",
    "where P is the mean stress.\n",
    "Calculate the cohesion (c) using the formula:\n",
    "\n",
    "***c = (τ1 + τ2 + τ3)/3 - σn tan(φ)***\n",
    "<p style=\"color:red\">c = (τ1 + τ2 + τ3)/3 - σn tan(φ)</p>\n",
    "\n",
    "where τ1, τ2, and τ3 are the shear stresses at failure for the three stress paths tested in the triaxial test, and σn is the normal stress.\n",
    "Calculate the shear strength (τ) using the formula:\n",
    "\n",
    "***τ = c + σn tan(φ)***\n",
    "<p style=\"color:red\">τ = c + σn tan(φ)</p>\n",
    "\n",
    "where σn is the mean stress.\n",
    "By following these steps, you can calculate the shear strength of the shale samples from the triaxial test data. Once you have the shear strength values, you can use them as the target variable for training an artificial neural network to predict the shear strength of other shale samples based on their triaxial and cone penetration test data."
   ]
  },
  {
   "cell_type": "markdown",
   "id": "df65379c-abf5-4f2b-831b-c3087b78acf2",
   "metadata": {},
   "source": [
    "### Manual Calculations"
   ]
  },
  {
   "cell_type": "markdown",
   "id": "91d3b7d7-ab56-46a6-b891-f206b30c815d",
   "metadata": {},
   "source": [
    "#### angle - tan(φ) = (σ1 - σ3)/(2P)\n",
    "- σ1 = 368.506\n",
    "- σ3 = 200\n",
    "- P = mean stress"
   ]
  },
  {
   "cell_type": "code",
   "execution_count": 3,
   "id": "a8e28b14-c498-4650-8416-03fef7c1d127",
   "metadata": {
    "tags": []
   },
   "outputs": [
    {
     "data": {
      "text/plain": [
       "(336.688, 200, 210.69874193548384)"
      ]
     },
     "execution_count": 3,
     "metadata": {},
     "output_type": "execute_result"
    }
   ],
   "source": [
    "q1 = df.stress.max()\n",
    "q3 = 200\n",
    "p = df.stress.mean()\n",
    "\n",
    "q1,q3,p"
   ]
  },
  {
   "cell_type": "code",
   "execution_count": 4,
   "id": "7cfe74a0-af08-4f37-bfd1-b7481f2579cb",
   "metadata": {
    "tags": []
   },
   "outputs": [
    {
     "data": {
      "text/plain": [
       "0.32436833448643465"
      ]
     },
     "execution_count": 4,
     "metadata": {},
     "output_type": "execute_result"
    }
   ],
   "source": [
    "tan_tita = (q1 - q3)/(2*p)\n",
    "tan_tita # slope"
   ]
  },
  {
   "cell_type": "code",
   "execution_count": 5,
   "id": "0771da42-d3ce-40c4-953e-d5251b7c4ebc",
   "metadata": {
    "tags": []
   },
   "outputs": [
    {
     "data": {
      "text/plain": [
       "18.584936573760498"
      ]
     },
     "execution_count": 5,
     "metadata": {},
     "output_type": "execute_result"
    }
   ],
   "source": [
    "# tita = 1/math.tan(tan_tita)\n",
    "tita = np.degrees(tan_tita)\n",
    "tita"
   ]
  },
  {
   "cell_type": "code",
   "execution_count": 6,
   "id": "d9dfa147-d99f-4f7a-a9a8-3069becd0b83",
   "metadata": {
    "tags": []
   },
   "outputs": [],
   "source": [
    "# tan_tita = np.radians(tita)\n",
    "# tan_tita"
   ]
  },
  {
   "cell_type": "code",
   "execution_count": 7,
   "id": "4df707e3-16bf-4b63-b1ef-3aa83362fad3",
   "metadata": {
    "tags": []
   },
   "outputs": [
    {
     "name": "stdout",
     "output_type": "stream",
     "text": [
      "268.344 68.344\n",
      "286.21881855966274\n"
     ]
    }
   ],
   "source": [
    "# normal ang\n",
    "qm = (q1 + q3)/2\n",
    "tm = (q1 - q3)/2\n",
    "\n",
    "print(qm,tm)\n",
    "\n",
    "q = qm - (tm * math.sin(tita))\n",
    "print(q)"
   ]
  },
  {
   "cell_type": "code",
   "execution_count": 8,
   "id": "0f5c4188-9a35-4ccc-a217-bfc049b896d5",
   "metadata": {
    "tags": []
   },
   "outputs": [
    {
     "data": {
      "text/plain": [
       "86.21881855966274"
      ]
     },
     "execution_count": 8,
     "metadata": {},
     "output_type": "execute_result"
    }
   ],
   "source": [
    "# effective stress\n",
    "eq = q - q3\n",
    "eq"
   ]
  },
  {
   "cell_type": "markdown",
   "id": "293de535-00da-4c06-b364-8500876659d6",
   "metadata": {},
   "source": [
    "Effective stress = normal stress - pore water pressure  (σ = σ1 - σ3)"
   ]
  },
  {
   "cell_type": "markdown",
   "id": "b6a88cca-7d7c-4653-be79-14a98ae9568d",
   "metadata": {
    "tags": []
   },
   "source": [
    "#### Intercept - c = (τ1 + τ2 + τ3)/3 - σn tan(φ)\n",
    "- τ1 = 368.506\n",
    "- τ2 = 721.295\n",
    "- τ3 = 705.545"
   ]
  },
  {
   "cell_type": "code",
   "execution_count": 9,
   "id": "b1d460be-48bf-434f-b0c5-406fe5cd816c",
   "metadata": {
    "tags": []
   },
   "outputs": [
    {
     "name": "stdout",
     "output_type": "stream",
     "text": [
      "334\n"
     ]
    },
    {
     "data": {
      "text/plain": [
       "(336.486, 336.588, 336.688)"
      ]
     },
     "execution_count": 9,
     "metadata": {},
     "output_type": "execute_result"
    }
   ],
   "source": [
    "max_stress = max(df.stress) # find the maximum stress value\n",
    "print(df[df.stress == max_stress].index[0])\n",
    "t2 = df[df.stress == max_stress].index[0]\n",
    "# max_strain = df[df.stress == max_stress].values[0][0]\n",
    "max_stress1 = df.stress[t2-2] # find the corresponding strain value\n",
    "max_stress2 = df.stress[t2-1]\n",
    "max_stress3 = df.stress[t2]\n",
    "max_stress1,max_stress2,max_stress3"
   ]
  },
  {
   "cell_type": "code",
   "execution_count": 10,
   "id": "5e5b0b55-3d8a-40d6-bab3-14a7381dd11d",
   "metadata": {
    "tags": []
   },
   "outputs": [
    {
     "name": "stdout",
     "output_type": "stream",
     "text": [
      "243.7803451917938\n",
      "146.08789040385088\n"
     ]
    }
   ],
   "source": [
    "c = (max_stress1+max_stress3+max_stress3)/3 - (q*tan_tita)\n",
    "print(c)\n",
    "\n",
    "s,c1=np.polyfit(df.strain,df.stress,1)\n",
    "print(c1)"
   ]
  },
  {
   "cell_type": "code",
   "execution_count": 11,
   "id": "7b1772fc-932c-4dc2-840a-0c66ab408dc8",
   "metadata": {
    "tags": []
   },
   "outputs": [
    {
     "name": "stdout",
     "output_type": "stream",
     "text": [
      "5\n",
      "Cohesion: 5882.4999999999945\n"
     ]
    }
   ],
   "source": [
    "slope = np.diff(df.stress) / np.diff(df.strain)\n",
    "slope\n",
    "peak_index = np.argmax(slope)\n",
    "print(peak_index)\n",
    "# Calculate cohesion\n",
    "cohesion = (slope[peak_index-1] + slope[peak_index+1]) / 2\n",
    "\n",
    "print(\"Cohesion:\", cohesion)"
   ]
  },
  {
   "cell_type": "code",
   "execution_count": 12,
   "id": "005aff33-afcc-4ae9-a73e-8c20ca16e267",
   "metadata": {
    "tags": []
   },
   "outputs": [
    {
     "name": "stdout",
     "output_type": "stream",
     "text": [
      "243.7803451917938\n",
      "146.08789040385088\n",
      "5882.4999999999945\n"
     ]
    }
   ],
   "source": [
    "print(c)\n",
    "print(c1)\n",
    "print(cohesion)"
   ]
  },
  {
   "cell_type": "markdown",
   "id": "58ec59d2-6e62-4a98-a4b2-acbc6e9a3e6e",
   "metadata": {},
   "source": [
    "#### Tau - τ = c + σn tan(φ)"
   ]
  },
  {
   "cell_type": "code",
   "execution_count": 13,
   "id": "084f02a7-33fa-4ec9-bba9-5e9726e0b2c1",
   "metadata": {
    "tags": []
   },
   "outputs": [
    {
     "name": "stdout",
     "output_type": "stream",
     "text": [
      "271.7469997693797\n",
      "174.05454498143678\n",
      "5910.466654577581\n"
     ]
    }
   ],
   "source": [
    "t = c + (eq*tan_tita)\n",
    "print(t)\n",
    "t = c1 + (eq*tan_tita)\n",
    "print(t)\n",
    "t = cohesion + (eq*tan_tita)\n",
    "\n",
    "print(t)"
   ]
  }
 ],
 "metadata": {
  "kernelspec": {
   "display_name": "Python 3 (ipykernel)",
   "language": "python",
   "name": "python3"
  },
  "language_info": {
   "codemirror_mode": {
    "name": "ipython",
    "version": 3
   },
   "file_extension": ".py",
   "mimetype": "text/x-python",
   "name": "python",
   "nbconvert_exporter": "python",
   "pygments_lexer": "ipython3",
   "version": "3.10.6"
  }
 },
 "nbformat": 4,
 "nbformat_minor": 5
}
