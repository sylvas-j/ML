{
 "cells": [
  {
   "cell_type": "markdown",
   "id": "79a0788e-c27e-47ab-b48c-2db84a8ae8df",
   "metadata": {},
   "source": [
    "# Source Valid Data"
   ]
  },
  {
   "cell_type": "code",
   "execution_count": 1,
   "id": "cea5770e-4303-4f2a-9d1b-40ee297bef9a",
   "metadata": {
    "tags": []
   },
   "outputs": [],
   "source": [
    "import pandas as pd\n",
    "import numpy as np\n",
    "import math\n",
    "from statistics import mean \n"
   ]
  },
  {
   "cell_type": "code",
   "execution_count": 26,
   "id": "7d0a6c9a-eede-40d4-8abe-e60e2df78a50",
   "metadata": {
    "tags": []
   },
   "outputs": [
    {
     "data": {
      "text/html": [
       "<div>\n",
       "<style scoped>\n",
       "    .dataframe tbody tr th:only-of-type {\n",
       "        vertical-align: middle;\n",
       "    }\n",
       "\n",
       "    .dataframe tbody tr th {\n",
       "        vertical-align: top;\n",
       "    }\n",
       "\n",
       "    .dataframe thead th {\n",
       "        text-align: right;\n",
       "    }\n",
       "</style>\n",
       "<table border=\"1\" class=\"dataframe\">\n",
       "  <thead>\n",
       "    <tr style=\"text-align: right;\">\n",
       "      <th></th>\n",
       "      <th>strain</th>\n",
       "      <th>stress</th>\n",
       "    </tr>\n",
       "  </thead>\n",
       "  <tbody>\n",
       "    <tr>\n",
       "      <th>0</th>\n",
       "      <td>-0.0135</td>\n",
       "      <td>0.630</td>\n",
       "    </tr>\n",
       "    <tr>\n",
       "      <th>1</th>\n",
       "      <td>0.0272</td>\n",
       "      <td>2.311</td>\n",
       "    </tr>\n",
       "  </tbody>\n",
       "</table>\n",
       "</div>"
      ],
      "text/plain": [
       "   strain  stress\n",
       "0 -0.0135   0.630\n",
       "1  0.0272   2.311"
      ]
     },
     "execution_count": 26,
     "metadata": {},
     "output_type": "execute_result"
    }
   ],
   "source": [
    "df = pd.read_csv('../../../datasets/dr-nubel/strain_stress/AGR-201.csv')\n",
    "# df = pd.read_csv('../../../datasets/dr-nubel/strain_stress/AGR-180.csv')\n",
    "df.head(2)"
   ]
  },
  {
   "cell_type": "markdown",
   "id": "208a265e-ac95-40bd-b52e-6cb1dfeae0b7",
   "metadata": {
    "tags": []
   },
   "source": [
    "To calculate the shear strength of the shale samples using the data you have, you can follow these steps:\n",
    "\n",
    "-    1- Compute the mean and standard deviation of the triaxial test data for each of the 15 shale samples.\n",
    "-    2- Compute the confining pressure for each sample by averaging the values of the three confining pressures used in the triaxial test.\n",
    "-    3- Calculate the deviatoric stress (σ1 - σ3) for each sample, where σ1 is the maximum stress applied during the triaxial test and σ3 is the confining pressure.\n",
    "-    4- Calculate the mean stress (σ1 + 2σ3)/3 for each sample.\n",
    "-    5- Calculate the angle of internal friction (φ) using the formula:\n",
    "\n",
    "***tan(φ) = (σ1 - σ3)/(2P)***\n",
    "<p style=\"color:red\">tan(φ) = (σ1 - σ3)/(2P)</p>\n",
    "where P is the mean stress.\n",
    "Calculate the cohesion (c) using the formula:\n",
    "\n",
    "***c = (τ1 + τ2 + τ3)/3 - σn tan(φ)***\n",
    "<p style=\"color:red\">c = (τ1 + τ2 + τ3)/3 - σn tan(φ)</p>\n",
    "\n",
    "where τ1, τ2, and τ3 are the shear stresses at failure for the three stress paths tested in the triaxial test, and σn is the normal stress.\n",
    "Calculate the shear strength (τ) using the formula:\n",
    "\n",
    "***τ = c + σn tan(φ)***\n",
    "<p style=\"color:red\">τ = c + σn tan(φ)</p>\n",
    "\n",
    "where σn is the mean stress.\n",
    "By following these steps, you can calculate the shear strength of the shale samples from the triaxial test data. Once you have the shear strength values, you can use them as the target variable for training an artificial neural network to predict the shear strength of other shale samples based on their triaxial and cone penetration test data."
   ]
  },
  {
   "cell_type": "markdown",
   "id": "215aa7e9-d2fe-4b34-90ef-3205eb1cc55d",
   "metadata": {},
   "source": [
    "### Manual Calculations"
   ]
  },
  {
   "cell_type": "markdown",
   "id": "f2fc7f90-9df9-459d-8d82-28e3b41723be",
   "metadata": {},
   "source": [
    "#### angle - tan(φ) = (σ1 - σ3)/(2P)\n",
    "- σ1 = 368.506\n",
    "- σ3 = 200\n",
    "- P = mean stress"
   ]
  },
  {
   "cell_type": "code",
   "execution_count": 27,
   "id": "51114ad3-5af6-4229-b5ec-f3a4f1d00d31",
   "metadata": {
    "tags": []
   },
   "outputs": [
    {
     "data": {
      "text/plain": [
       "(368.506, 200, 217.51302197802195)"
      ]
     },
     "execution_count": 27,
     "metadata": {},
     "output_type": "execute_result"
    }
   ],
   "source": [
    "q1 = df.stress.max()\n",
    "q3 = 200\n",
    "p = df.stress.mean()\n",
    "\n",
    "q1,q3,p"
   ]
  },
  {
   "cell_type": "code",
   "execution_count": 28,
   "id": "853eaeb9-2c68-4fb4-baab-9b710af2dc6b",
   "metadata": {
    "tags": []
   },
   "outputs": [
    {
     "data": {
      "text/plain": [
       "0.3873469240315787"
      ]
     },
     "execution_count": 28,
     "metadata": {},
     "output_type": "execute_result"
    }
   ],
   "source": [
    "tan_tita = (q1 - q3)/(2*p)\n",
    "tan_tita # slope"
   ]
  },
  {
   "cell_type": "code",
   "execution_count": 29,
   "id": "a79e3dfc-297a-40fb-8bc3-aa1e81ceaf6b",
   "metadata": {
    "tags": []
   },
   "outputs": [
    {
     "data": {
      "text/plain": [
       "22.193343954383984"
      ]
     },
     "execution_count": 29,
     "metadata": {},
     "output_type": "execute_result"
    }
   ],
   "source": [
    "# tita = 1/math.tan(tan_tita)\n",
    "tita = np.degrees(tan_tita)\n",
    "tita"
   ]
  },
  {
   "cell_type": "code",
   "execution_count": 30,
   "id": "92663180-4e7e-45c3-b75b-c18f0f54bd22",
   "metadata": {
    "tags": []
   },
   "outputs": [],
   "source": [
    "# tan_tita = np.radians(tita)\n",
    "# tan_tita"
   ]
  },
  {
   "cell_type": "code",
   "execution_count": 31,
   "id": "6e15d1ac-9fd0-4a5e-9512-febb42397f33",
   "metadata": {
    "tags": []
   },
   "outputs": [
    {
     "name": "stdout",
     "output_type": "stream",
     "text": [
      "284.253 84.25299999999999\n",
      "301.17272690207574\n"
     ]
    }
   ],
   "source": [
    "# normal ang\n",
    "qm = (q1 + q3)/2\n",
    "tm = (q1 - q3)/2\n",
    "\n",
    "print(qm,tm)\n",
    "\n",
    "q = qm - (tm * math.sin(tita))\n",
    "print(q)"
   ]
  },
  {
   "cell_type": "code",
   "execution_count": 32,
   "id": "034df51e-f268-4d87-8baa-424cfb39db3b",
   "metadata": {
    "tags": []
   },
   "outputs": [
    {
     "data": {
      "text/plain": [
       "101.17272690207574"
      ]
     },
     "execution_count": 32,
     "metadata": {},
     "output_type": "execute_result"
    }
   ],
   "source": [
    "# effective stress\n",
    "eq = q - q3\n",
    "eq"
   ]
  },
  {
   "cell_type": "code",
   "execution_count": 9,
   "id": "7fc265dc-09fd-4783-9d06-31f8c0b64114",
   "metadata": {
    "tags": []
   },
   "outputs": [
    {
     "ename": "NameError",
     "evalue": "name 'qq' is not defined",
     "output_type": "error",
     "traceback": [
      "\u001b[0;31m---------------------------------------------------------------------------\u001b[0m",
      "\u001b[0;31mNameError\u001b[0m                                 Traceback (most recent call last)",
      "Cell \u001b[0;32mIn[9], line 1\u001b[0m\n\u001b[0;32m----> 1\u001b[0m q\u001b[38;5;241m-\u001b[39m\u001b[43mqq\u001b[49m\n",
      "\u001b[0;31mNameError\u001b[0m: name 'qq' is not defined"
     ]
    }
   ],
   "source": [
    "q-qq"
   ]
  },
  {
   "cell_type": "markdown",
   "id": "9f784739-0e7e-4a28-93b3-aa7a7c1944c4",
   "metadata": {},
   "source": [
    "Effective stress = normal stress - pore water pressure  (σ = σ1 - σ3)"
   ]
  },
  {
   "cell_type": "markdown",
   "id": "fa445d41-6d99-490f-9c67-3a83f9da94e2",
   "metadata": {
    "tags": []
   },
   "source": [
    "#### Intercept - c = (τ1 + τ2 + τ3)/3 - σn tan(φ)\n",
    "- τ1 = 368.506\n",
    "- τ2 = 721.295\n",
    "- τ3 = 705.545"
   ]
  },
  {
   "cell_type": "code",
   "execution_count": 33,
   "id": "f68b6d36-ff1d-4fb3-8ca2-877f59c6242f",
   "metadata": {
    "tags": []
   },
   "outputs": [
    {
     "name": "stdout",
     "output_type": "stream",
     "text": [
      "181\n"
     ]
    },
    {
     "data": {
      "text/plain": [
       "(368.089, 368.297, 368.506)"
      ]
     },
     "execution_count": 33,
     "metadata": {},
     "output_type": "execute_result"
    }
   ],
   "source": [
    "max_stress = max(df.stress) # find the maximum stress value\n",
    "print(df[df.stress == max_stress].index[0])\n",
    "t2 = df[df.stress == max_stress].index[0]\n",
    "# max_strain = df[df.stress == max_stress].values[0][0]\n",
    "max_stress1 = df.stress[t2-2] # find the corresponding strain value\n",
    "max_stress2 = df.stress[t2-1]\n",
    "max_stress3 = df.stress[t2]\n",
    "max_stress1,max_stress2,max_stress3"
   ]
  },
  {
   "cell_type": "code",
   "execution_count": 34,
   "id": "6bde1e54-6901-4d5c-976a-8bd424470b26",
   "metadata": {
    "tags": []
   },
   "outputs": [
    {
     "name": "stdout",
     "output_type": "stream",
     "text": [
      "251.70867063227828\n",
      "101.301060890398\n"
     ]
    }
   ],
   "source": [
    "c = (max_stress1+max_stress3+max_stress3)/3 - (q*tan_tita)\n",
    "print(c)\n",
    "\n",
    "s,c1=np.polyfit(df.strain,df.stress,1)\n",
    "print(c1)"
   ]
  },
  {
   "cell_type": "code",
   "execution_count": 35,
   "id": "b2e429f7-f37e-4f2e-b19e-cc09e906c2a6",
   "metadata": {
    "tags": []
   },
   "outputs": [
    {
     "name": "stdout",
     "output_type": "stream",
     "text": [
      "22\n",
      "Cohesion: 127.4448529411768\n"
     ]
    }
   ],
   "source": [
    "slope = np.diff(df.stress) / np.diff(df.strain)\n",
    "slope\n",
    "peak_index = np.argmax(slope)\n",
    "print(peak_index)\n",
    "# Calculate cohesion\n",
    "cohesion = (slope[peak_index-1] + slope[peak_index+1]) / 2\n",
    "\n",
    "print(\"Cohesion:\", cohesion)"
   ]
  },
  {
   "cell_type": "markdown",
   "id": "a2fd2128-89e3-4fca-bf3c-ddaaf49c8bc7",
   "metadata": {},
   "source": [
    "#### Tau - τ = c + σn tan(φ)"
   ]
  },
  {
   "cell_type": "code",
   "execution_count": 36,
   "id": "93d0c6be-267f-4a0a-ab4d-53be1fe3996d",
   "metadata": {
    "tags": []
   },
   "outputs": [
    {
     "data": {
      "text/plain": [
       "166.6337975025828"
      ]
     },
     "execution_count": 36,
     "metadata": {},
     "output_type": "execute_result"
    }
   ],
   "source": [
    "# t = c + (eq*tan_tita)\n",
    "# t = c1 + (eq*tan_tita)\n",
    "t = cohesion + (eq*tan_tita)\n",
    "\n",
    "t"
   ]
  },
  {
   "attachments": {
    "84941d52-e203-405a-a662-11974bebf1f3.png": {
     "image/png": "[encoded data removed]"
    }
   },
   "cell_type": "markdown",
   "id": "23d7d255-664f-484a-b0ef-f44679a2ae33",
   "metadata": {},
   "source": [
    "![Screenshot at 09-11-18.png](attachment:84941d52-e203-405a-a662-11974bebf1f3.png)"
   ]
  },
  {
   "cell_type": "markdown",
   "id": "02324368-cf5c-4e6f-af38-a2c42370454a",
   "metadata": {},
   "source": [
    "### Automatic"
   ]
  },
  {
   "cell_type": "markdown",
   "id": "fe17fe60-c9f9-48d8-98aa-db68ce44a036",
   "metadata": {},
   "source": [
    "#### Angle"
   ]
  },
  {
   "cell_type": "code",
   "execution_count": 42,
   "id": "dcdccfc7-7a18-4827-92ee-0d840293c51e",
   "metadata": {},
   "outputs": [
    {
     "data": {
      "text/plain": [
       "(17.755623567162417, 101.301060890398)"
      ]
     },
     "execution_count": 220,
     "metadata": {},
     "output_type": "execute_result"
    }
   ],
   "source": [
    "slope, intercept = np.polyfit(df.strain,df.stress,1)\n",
    "slope, intercept"
   ]
  },
  {
   "cell_type": "code",
   "execution_count": 62,
   "id": "0ae3cfa6-9c1f-48a2-bd52-af3a8b185208",
   "metadata": {},
   "outputs": [
    {
     "data": {
      "text/plain": [
       "1017.322293021426"
      ]
     },
     "execution_count": 62,
     "metadata": {},
     "output_type": "execute_result"
    }
   ],
   "source": [
    "tita2 = np.degrees(slope)\n",
    "tita2"
   ]
  },
  {
   "cell_type": "code",
   "execution_count": 47,
   "id": "44ad7982-ec6f-461d-bf09-24dacb180ffb",
   "metadata": {},
   "outputs": [
    {
     "data": {
      "text/plain": [
       "-0.5166313254478248"
      ]
     },
     "execution_count": 47,
     "metadata": {},
     "output_type": "execute_result"
    }
   ],
   "source": [
    "# tita2 = 1/math.tan(slope)\n",
    "# tita2"
   ]
  },
  {
   "cell_type": "code",
   "execution_count": 65,
   "id": "b8b92f40-d157-45b4-9d33-c47d4311b415",
   "metadata": {},
   "outputs": [
    {
     "data": {
      "text/plain": [
       "1017.322293021426"
      ]
     },
     "execution_count": 65,
     "metadata": {},
     "output_type": "execute_result"
    }
   ],
   "source": [
    "# tita2a = np.radians(slope)\n",
    "tita2a = np.rad2deg(slope)\n",
    "tita2a"
   ]
  },
  {
   "cell_type": "markdown",
   "id": "7c7e405f-2906-4e04-a115-6fc7cc366792",
   "metadata": {
    "tags": []
   },
   "source": [
    "#### Average slope and Angle"
   ]
  },
  {
   "cell_type": "code",
   "execution_count": 29,
   "id": "3550f010-a09c-46d9-811b-e4e17ef50b54",
   "metadata": {
    "tags": []
   },
   "outputs": [],
   "source": [
    "df2 = df[df.stress <= 364.724].iloc[-12:-1]\n",
    "df2 = df\n",
    "# df2"
   ]
  },
  {
   "cell_type": "code",
   "execution_count": 31,
   "id": "083b4a5c-7978-4bc1-a5bd-a59729960bc7",
   "metadata": {},
   "outputs": [
    {
     "name": "stdout",
     "output_type": "stream",
     "text": [
      "average slope: 1.4046113405281402\n",
      "Angle: 80.47830166847531\n"
     ]
    }
   ],
   "source": [
    "l = []\n",
    "for i in range(1,len(df2)):\n",
    "    # print(i)\n",
    "    l.append(np.arctan2(df2.iloc[-i][1] - df2.iloc[-(i+1)][1], df2.iloc[-i][0] - df2.iloc[-(i+1)][0]))\n",
    "    # print(np.arctan2(df2.iloc[-i][1] - df2.iloc[-(i+1)][1], df2.iloc[-i][0] - df2.iloc[-(i+1)][0]))\n",
    "\n",
    "print('average slope:',mean(l))\n",
    "av_sl = mean(l)\n",
    "ang = np.degrees(av_sl)\n",
    "print('Angle:',ang)\n"
   ]
  },
  {
   "cell_type": "markdown",
   "id": "49ce4d05-83e0-4dbc-b342-9a92fc33a207",
   "metadata": {},
   "source": [
    "#### Normal stress\n",
    "q = qm - tm sin(φ)\n",
    "\n",
    "qm = (q1 + q3)/2\n",
    "\n",
    "tm = (q1 - q3)/2"
   ]
  },
  {
   "cell_type": "code",
   "execution_count": 59,
   "id": "0296b9b1-7c8b-4a54-bdb4-665a9a2e8cfd",
   "metadata": {
    "tags": []
   },
   "outputs": [
    {
     "data": {
      "text/plain": [
       "(284.253, 84.25299999999999)"
      ]
     },
     "execution_count": 59,
     "metadata": {},
     "output_type": "execute_result"
    }
   ],
   "source": [
    "qm = (q1 + q3)/2\n",
    "tm = (q1 - q3)/2\n",
    "\n",
    "qm,tm"
   ]
  },
  {
   "cell_type": "code",
   "execution_count": 69,
   "id": "7929158b-e0f7-4f80-b975-a4e10c46f666",
   "metadata": {},
   "outputs": [
    {
     "data": {
      "text/plain": [
       "328.558344130285"
      ]
     },
     "execution_count": 69,
     "metadata": {},
     "output_type": "execute_result"
    }
   ],
   "source": [
    "q = qm - (tm * math.sin(tita2))\n",
    "q"
   ]
  },
  {
   "cell_type": "markdown",
   "id": "170c1ff9-3522-4edf-b11c-fc7bce1e8e8b",
   "metadata": {},
   "source": [
    "#### Tau - τ = c + σn tan(φ)"
   ]
  },
  {
   "cell_type": "code",
   "execution_count": 70,
   "id": "29c098d6-42af-4752-9b92-8c7f6067d361",
   "metadata": {},
   "outputs": [
    {
     "data": {
      "text/plain": [
       "5935.0593391179455"
      ]
     },
     "execution_count": 70,
     "metadata": {},
     "output_type": "execute_result"
    }
   ],
   "source": [
    "# t\n",
    "# t = c + Qtan0\n",
    "t2 = intercept + (q * slope)\n",
    "t2"
   ]
  },
  {
   "cell_type": "code",
   "execution_count": null,
   "id": "8250ff92-1d98-4733-b1fe-ef03956bd6d7",
   "metadata": {},
   "outputs": [],
   "source": []
  }
 ],
 "metadata": {
  "kernelspec": {
   "display_name": "Python 3 (ipykernel)",
   "language": "python",
   "name": "python3"
  },
  "language_info": {
   "codemirror_mode": {
    "name": "ipython",
    "version": 3
   },
   "file_extension": ".py",
   "mimetype": "text/x-python",
   "name": "python",
   "nbconvert_exporter": "python",
   "pygments_lexer": "ipython3",
   "version": "3.10.6"
  }
 },
 "nbformat": 4,
 "nbformat_minor": 5
}
