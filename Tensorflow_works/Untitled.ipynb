{
 "cells": [
  {
   "cell_type": "code",
   "execution_count": 1,
   "metadata": {},
   "outputs": [],
   "source": [
    "import pandas as pd"
   ]
  },
  {
   "cell_type": "code",
   "execution_count": 15,
   "metadata": {},
   "outputs": [],
   "source": [
    "fts5 = pd.read_csv('D:\\\\desktop files\\\\weka\\\\Datasets\\\\HAPT Data Set\\\\uci_4fts_selectors\\\\fts5.txt')"
   ]
  },
  {
   "cell_type": "code",
   "execution_count": 16,
   "metadata": {},
   "outputs": [],
   "source": [
    "fts4 = pd.read_csv('D:\\\\desktop files\\\\weka\\\\Datasets\\\\HAPT Data Set\\\\uci_4fts_selectors\\\\fts4.txt')"
   ]
  },
  {
   "cell_type": "code",
   "execution_count": 17,
   "metadata": {},
   "outputs": [],
   "source": [
    "fts3 = pd.read_csv('D:\\\\desktop files\\\\weka\\\\Datasets\\\\HAPT Data Set\\\\uci_4fts_selectors\\\\fts3.txt')"
   ]
  },
  {
   "cell_type": "code",
   "execution_count": 18,
   "metadata": {},
   "outputs": [],
   "source": [
    "fts2 = pd.read_csv('D:\\\\desktop files\\\\weka\\\\Datasets\\\\HAPT Data Set\\\\uci_4fts_selectors\\\\fts2.txt')"
   ]
  },
  {
   "cell_type": "code",
   "execution_count": 19,
   "metadata": {},
   "outputs": [],
   "source": [
    "fts1 = pd.read_csv('D:\\\\desktop files\\\\weka\\\\Datasets\\\\HAPT Data Set\\\\uci_4fts_selectors\\\\fts1.txt')"
   ]
  },
  {
   "cell_type": "code",
   "execution_count": 26,
   "metadata": {},
   "outputs": [],
   "source": [
    "# fts5.columns = ['ft5']\n",
    "fts4.columns = ['ft4']\n",
    "fts3.columns = ['ft3']\n",
    "fts2.columns = ['ft2']\n",
    "fts1.columns = ['ft1']"
   ]
  },
  {
   "cell_type": "code",
   "execution_count": 41,
   "metadata": {},
   "outputs": [
    {
     "data": {
      "text/html": [
       "<div>\n",
       "<style scoped>\n",
       "    .dataframe tbody tr th:only-of-type {\n",
       "        vertical-align: middle;\n",
       "    }\n",
       "\n",
       "    .dataframe tbody tr th {\n",
       "        vertical-align: top;\n",
       "    }\n",
       "\n",
       "    .dataframe thead th {\n",
       "        text-align: right;\n",
       "    }\n",
       "</style>\n",
       "<table border=\"1\" class=\"dataframe\">\n",
       "  <thead>\n",
       "    <tr style=\"text-align: right;\">\n",
       "      <th></th>\n",
       "      <th>ft2</th>\n",
       "    </tr>\n",
       "  </thead>\n",
       "  <tbody>\n",
       "    <tr>\n",
       "      <th>0</th>\n",
       "      <td>@attribute fBodyAccJerk-ropy-2 numeric</td>\n",
       "    </tr>\n",
       "  </tbody>\n",
       "</table>\n",
       "</div>"
      ],
      "text/plain": [
       "                                      ft2\n",
       "0  @attribute fBodyAccJerk-ropy-2 numeric"
      ]
     },
     "execution_count": 41,
     "metadata": {},
     "output_type": "execute_result"
    }
   ],
   "source": [
    "fts2.head(1)"
   ]
  },
  {
   "cell_type": "code",
   "execution_count": 44,
   "metadata": {},
   "outputs": [],
   "source": [
    "# fts1 = fts1[['ft1']].rename(columns={'ft1':'ft'})\n",
    "fts2 = fts2[['ft2']].rename(columns={'ft2':'ft'})\n",
    "fts3 = fts3[['ft3']].rename(columns={'ft3':'ft'})\n",
    "fts4 = fts4[['ft4']].rename(columns={'ft4':'ft'})\n",
    "fts5 = fts5[['ft5']].rename(columns={'ft5':'ft'})\n"
   ]
  },
  {
   "cell_type": "code",
   "execution_count": 29,
   "metadata": {},
   "outputs": [
    {
     "data": {
      "text/html": [
       "<div>\n",
       "<style scoped>\n",
       "    .dataframe tbody tr th:only-of-type {\n",
       "        vertical-align: middle;\n",
       "    }\n",
       "\n",
       "    .dataframe tbody tr th {\n",
       "        vertical-align: top;\n",
       "    }\n",
       "\n",
       "    .dataframe thead th {\n",
       "        text-align: right;\n",
       "    }\n",
       "</style>\n",
       "<table border=\"1\" class=\"dataframe\">\n",
       "  <thead>\n",
       "    <tr style=\"text-align: right;\">\n",
       "      <th></th>\n",
       "      <th>ft1</th>\n",
       "      <th>ft2</th>\n",
       "      <th>ft3</th>\n",
       "      <th>ft4</th>\n",
       "      <th>ft5</th>\n",
       "    </tr>\n",
       "  </thead>\n",
       "  <tbody>\n",
       "  </tbody>\n",
       "</table>\n",
       "</div>"
      ],
      "text/plain": [
       "Empty DataFrame\n",
       "Columns: [ft1, ft2, ft3, ft4, ft5]\n",
       "Index: []"
      ]
     },
     "execution_count": 29,
     "metadata": {},
     "output_type": "execute_result"
    }
   ],
   "source": [
    "df = pd.concat([fts1, fts2,fts3,fts4,fts5],axis=1)\n",
    "\n",
    "df = df.reset_index(drop=True)\n",
    "\n",
    "df_gpby = df.groupby(list(df.columns))\n",
    "\n",
    "idx = [x[0] for x in df_gpby.groups.values() if len(x) != 1]\n",
    "df.reindex(idx)"
   ]
  },
  {
   "cell_type": "code",
   "execution_count": 47,
   "metadata": {},
   "outputs": [
    {
     "ename": "TypeError",
     "evalue": "merge() got multiple values for argument 'how'",
     "output_type": "error",
     "traceback": [
      "\u001b[1;31m---------------------------------------------------------------------------\u001b[0m",
      "\u001b[1;31mTypeError\u001b[0m                                 Traceback (most recent call last)",
      "\u001b[1;32m<ipython-input-47-28c514dfe2ca>\u001b[0m in \u001b[0;36m<module>\u001b[1;34m\u001b[0m\n\u001b[1;32m----> 1\u001b[1;33m \u001b[0mdf2\u001b[0m \u001b[1;33m=\u001b[0m \u001b[0mpd\u001b[0m\u001b[1;33m.\u001b[0m\u001b[0mmerge\u001b[0m\u001b[1;33m(\u001b[0m\u001b[0mfts1\u001b[0m\u001b[1;33m,\u001b[0m \u001b[0mfts2\u001b[0m\u001b[1;33m,\u001b[0m\u001b[0mfts3\u001b[0m\u001b[1;33m,\u001b[0m\u001b[0mfts4\u001b[0m\u001b[1;33m,\u001b[0m\u001b[0mfts5\u001b[0m\u001b[1;33m,\u001b[0m \u001b[0mhow\u001b[0m\u001b[1;33m=\u001b[0m\u001b[1;34m'inner'\u001b[0m\u001b[1;33m,\u001b[0m \u001b[0mon\u001b[0m\u001b[1;33m=\u001b[0m\u001b[1;33m[\u001b[0m\u001b[1;34m'ft'\u001b[0m\u001b[1;33m]\u001b[0m\u001b[1;33m)\u001b[0m\u001b[1;33m\u001b[0m\u001b[1;33m\u001b[0m\u001b[0m\n\u001b[0m",
      "\u001b[1;31mTypeError\u001b[0m: merge() got multiple values for argument 'how'"
     ]
    }
   ],
   "source": [
    "df2 = pd.merge(fts1, fts2,fts3,fts4,fts5, how='inner', on=['ft'])\n"
   ]
  },
  {
   "cell_type": "code",
   "execution_count": 48,
   "metadata": {},
   "outputs": [
    {
     "data": {
      "text/plain": [
       "array(['@attribute Activity ', '@attribute fBodyAcc-Mean-1 numeric',\n",
       "       '@attribute fBodyAccJerkMag-Mad-1 numeric',\n",
       "       '@attribute fBodyAccJerkMag-Mean-1 numeric',\n",
       "       '@attribute fBodyAccJerkMag-SMA-1 numeric',\n",
       "       '@attribute fBodyAccJerkMag-ropy-1 numeric',\n",
       "       '@attribute tBodyAcc-Max-1 numeric',\n",
       "       '@attribute tBodyAccJerk-IQR-1 numeric',\n",
       "       '@attribute tBodyAccJerk-Mad-2 numeric',\n",
       "       '@attribute tBodyAccJerk-STD-2 numeric',\n",
       "       '@attribute tBodyAccJerkMag-STD-1 numeric',\n",
       "       '@attribute tBodyAccJerkMag-ropy-1 numeric',\n",
       "       '@attribute tBodyAccMag-Mean-1 numeric',\n",
       "       '@attribute tBodyAccMag-SMA-1 numeric',\n",
       "       '@attribute tGravityAccMag-Mean-1 numeric',\n",
       "       '@attribute tGravityAccMag-SMA-1 numeric'], dtype=object)"
      ]
     },
     "execution_count": 48,
     "metadata": {},
     "output_type": "execute_result"
    }
   ],
   "source": [
    "from functools import reduce # python 3 only\n",
    "import numpy as np\n",
    "\n",
    "reduce(np.intersect1d, [fts1.ft, fts2.ft, fts3.ft,fts4.ft,fts5.ft])"
   ]
  },
  {
   "cell_type": "code",
   "execution_count": 49,
   "metadata": {},
   "outputs": [
    {
     "data": {
      "text/plain": [
       "['@attribute tGravityAccMag-SMA-1 numeric',\n",
       " '@attribute tBodyAccMag-SMA-1 numeric',\n",
       " '@attribute tBodyAccMag-Mean-1 numeric',\n",
       " '@attribute tBodyAccJerkMag-STD-1 numeric',\n",
       " '@attribute Activity ',\n",
       " '@attribute tBodyAcc-Max-1 numeric',\n",
       " '@attribute tBodyAccJerk-Mad-2 numeric',\n",
       " '@attribute fBodyAccJerkMag-Mad-1 numeric',\n",
       " '@attribute tGravityAccMag-Mean-1 numeric',\n",
       " '@attribute fBodyAccJerkMag-SMA-1 numeric',\n",
       " '@attribute fBodyAcc-Mean-1 numeric',\n",
       " '@attribute fBodyAccJerkMag-ropy-1 numeric',\n",
       " '@attribute tBodyAccJerk-STD-2 numeric',\n",
       " '@attribute tBodyAccJerk-IQR-1 numeric',\n",
       " '@attribute fBodyAccJerkMag-Mean-1 numeric',\n",
       " '@attribute tBodyAccJerkMag-ropy-1 numeric']"
      ]
     },
     "execution_count": 49,
     "metadata": {},
     "output_type": "execute_result"
    }
   ],
   "source": [
    "list(reduce(set.intersection, map(set, [fts1.ft, fts2.ft, fts3.ft,fts4.ft,fts5.ft])))\n"
   ]
  }
 ],
 "metadata": {
  "kernelspec": {
   "display_name": "Python 3",
   "language": "python",
   "name": "python3"
  },
  "language_info": {
   "codemirror_mode": {
    "name": "ipython",
    "version": 3
   },
   "file_extension": ".py",
   "mimetype": "text/x-python",
   "name": "python",
   "nbconvert_exporter": "python",
   "pygments_lexer": "ipython3",
   "version": "3.7.7"
  }
 },
 "nbformat": 4,
 "nbformat_minor": 4
}
