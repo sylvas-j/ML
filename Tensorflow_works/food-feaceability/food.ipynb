{
 "cells": [
  {
   "cell_type": "code",
   "execution_count": 2,
   "metadata": {},
   "outputs": [],
   "source": [
    "import pandas as pd"
   ]
  },
  {
   "cell_type": "code",
   "execution_count": 3,
   "metadata": {},
   "outputs": [
    {
     "data": {
      "text/html": [
       "<div>\n",
       "<style scoped>\n",
       "    .dataframe tbody tr th:only-of-type {\n",
       "        vertical-align: middle;\n",
       "    }\n",
       "\n",
       "    .dataframe tbody tr th {\n",
       "        vertical-align: top;\n",
       "    }\n",
       "\n",
       "    .dataframe thead th {\n",
       "        text-align: right;\n",
       "    }\n",
       "</style>\n",
       "<table border=\"1\" class=\"dataframe\">\n",
       "  <thead>\n",
       "    <tr style=\"text-align: right;\">\n",
       "      <th></th>\n",
       "      <th>Area Code</th>\n",
       "      <th>Area Code (M49)</th>\n",
       "      <th>Area</th>\n",
       "      <th>Item Code</th>\n",
       "      <th>Item Code (FBS)</th>\n",
       "      <th>Item</th>\n",
       "      <th>Element Code</th>\n",
       "      <th>Element</th>\n",
       "      <th>Unit</th>\n",
       "      <th>Y2010</th>\n",
       "      <th>...</th>\n",
       "      <th>Y2012</th>\n",
       "      <th>Y2013</th>\n",
       "      <th>Y2014</th>\n",
       "      <th>Y2015</th>\n",
       "      <th>Y2016</th>\n",
       "      <th>Y2017</th>\n",
       "      <th>Y2018</th>\n",
       "      <th>Y2019</th>\n",
       "      <th>Y2020</th>\n",
       "      <th>Y2021</th>\n",
       "    </tr>\n",
       "  </thead>\n",
       "  <tbody>\n",
       "    <tr>\n",
       "      <th>0</th>\n",
       "      <td>2</td>\n",
       "      <td>'004</td>\n",
       "      <td>Afghanistan</td>\n",
       "      <td>2501</td>\n",
       "      <td>'S2501</td>\n",
       "      <td>Population</td>\n",
       "      <td>511</td>\n",
       "      <td>Total Population - Both sexes</td>\n",
       "      <td>1000 No</td>\n",
       "      <td>28189.67</td>\n",
       "      <td>...</td>\n",
       "      <td>30466.48</td>\n",
       "      <td>31541.21</td>\n",
       "      <td>32716.21</td>\n",
       "      <td>33753.50</td>\n",
       "      <td>34636.21</td>\n",
       "      <td>35643.42</td>\n",
       "      <td>36686.78</td>\n",
       "      <td>37769.50</td>\n",
       "      <td>38972.23</td>\n",
       "      <td>40099.46</td>\n",
       "    </tr>\n",
       "    <tr>\n",
       "      <th>1</th>\n",
       "      <td>2</td>\n",
       "      <td>'004</td>\n",
       "      <td>Afghanistan</td>\n",
       "      <td>2501</td>\n",
       "      <td>'S2501</td>\n",
       "      <td>Population</td>\n",
       "      <td>5301</td>\n",
       "      <td>Domestic supply quantity</td>\n",
       "      <td>1000 t</td>\n",
       "      <td>0.00</td>\n",
       "      <td>...</td>\n",
       "      <td>0.00</td>\n",
       "      <td>0.00</td>\n",
       "      <td>0.00</td>\n",
       "      <td>0.00</td>\n",
       "      <td>0.00</td>\n",
       "      <td>0.00</td>\n",
       "      <td>0.00</td>\n",
       "      <td>0.00</td>\n",
       "      <td>0.00</td>\n",
       "      <td>0.00</td>\n",
       "    </tr>\n",
       "    <tr>\n",
       "      <th>2</th>\n",
       "      <td>2</td>\n",
       "      <td>'004</td>\n",
       "      <td>Afghanistan</td>\n",
       "      <td>2901</td>\n",
       "      <td>'S2901</td>\n",
       "      <td>Grand Total</td>\n",
       "      <td>664</td>\n",
       "      <td>Food supply (kcal/capita/day)</td>\n",
       "      <td>kcal/cap/d</td>\n",
       "      <td>2208.00</td>\n",
       "      <td>...</td>\n",
       "      <td>2173.00</td>\n",
       "      <td>2211.00</td>\n",
       "      <td>2276.00</td>\n",
       "      <td>2257.00</td>\n",
       "      <td>2245.00</td>\n",
       "      <td>2311.00</td>\n",
       "      <td>2265.00</td>\n",
       "      <td>2228.00</td>\n",
       "      <td>2266.00</td>\n",
       "      <td>2198.00</td>\n",
       "    </tr>\n",
       "    <tr>\n",
       "      <th>3</th>\n",
       "      <td>2</td>\n",
       "      <td>'004</td>\n",
       "      <td>Afghanistan</td>\n",
       "      <td>2901</td>\n",
       "      <td>'S2901</td>\n",
       "      <td>Grand Total</td>\n",
       "      <td>661</td>\n",
       "      <td>Food supply (kcal)</td>\n",
       "      <td>million Kcal</td>\n",
       "      <td>22714261.33</td>\n",
       "      <td>...</td>\n",
       "      <td>24159167.28</td>\n",
       "      <td>25454589.34</td>\n",
       "      <td>27175651.90</td>\n",
       "      <td>27801087.57</td>\n",
       "      <td>28387789.82</td>\n",
       "      <td>30065075.35</td>\n",
       "      <td>30333341.93</td>\n",
       "      <td>30720033.32</td>\n",
       "      <td>32233236.80</td>\n",
       "      <td>32169079.00</td>\n",
       "    </tr>\n",
       "    <tr>\n",
       "      <th>4</th>\n",
       "      <td>2</td>\n",
       "      <td>'004</td>\n",
       "      <td>Afghanistan</td>\n",
       "      <td>2901</td>\n",
       "      <td>'S2901</td>\n",
       "      <td>Grand Total</td>\n",
       "      <td>674</td>\n",
       "      <td>Protein supply quantity (g/capita/day)</td>\n",
       "      <td>g/cap/d</td>\n",
       "      <td>65.76</td>\n",
       "      <td>...</td>\n",
       "      <td>62.86</td>\n",
       "      <td>63.40</td>\n",
       "      <td>65.71</td>\n",
       "      <td>64.07</td>\n",
       "      <td>64.95</td>\n",
       "      <td>65.42</td>\n",
       "      <td>62.94</td>\n",
       "      <td>60.98</td>\n",
       "      <td>63.35</td>\n",
       "      <td>60.70</td>\n",
       "    </tr>\n",
       "  </tbody>\n",
       "</table>\n",
       "<p>5 rows × 21 columns</p>\n",
       "</div>"
      ],
      "text/plain": [
       "   Area Code Area Code (M49)         Area  Item Code Item Code (FBS)  \\\n",
       "0          2            '004  Afghanistan       2501          'S2501   \n",
       "1          2            '004  Afghanistan       2501          'S2501   \n",
       "2          2            '004  Afghanistan       2901          'S2901   \n",
       "3          2            '004  Afghanistan       2901          'S2901   \n",
       "4          2            '004  Afghanistan       2901          'S2901   \n",
       "\n",
       "          Item  Element Code                                 Element  \\\n",
       "0   Population           511           Total Population - Both sexes   \n",
       "1   Population          5301                Domestic supply quantity   \n",
       "2  Grand Total           664           Food supply (kcal/capita/day)   \n",
       "3  Grand Total           661                      Food supply (kcal)   \n",
       "4  Grand Total           674  Protein supply quantity (g/capita/day)   \n",
       "\n",
       "           Unit        Y2010  ...        Y2012        Y2013        Y2014  \\\n",
       "0       1000 No     28189.67  ...     30466.48     31541.21     32716.21   \n",
       "1        1000 t         0.00  ...         0.00         0.00         0.00   \n",
       "2    kcal/cap/d      2208.00  ...      2173.00      2211.00      2276.00   \n",
       "3  million Kcal  22714261.33  ...  24159167.28  25454589.34  27175651.90   \n",
       "4       g/cap/d        65.76  ...        62.86        63.40        65.71   \n",
       "\n",
       "         Y2015        Y2016        Y2017        Y2018        Y2019  \\\n",
       "0     33753.50     34636.21     35643.42     36686.78     37769.50   \n",
       "1         0.00         0.00         0.00         0.00         0.00   \n",
       "2      2257.00      2245.00      2311.00      2265.00      2228.00   \n",
       "3  27801087.57  28387789.82  30065075.35  30333341.93  30720033.32   \n",
       "4        64.07        64.95        65.42        62.94        60.98   \n",
       "\n",
       "         Y2020        Y2021  \n",
       "0     38972.23     40099.46  \n",
       "1         0.00         0.00  \n",
       "2      2266.00      2198.00  \n",
       "3  32233236.80  32169079.00  \n",
       "4        63.35        60.70  \n",
       "\n",
       "[5 rows x 21 columns]"
      ]
     },
     "execution_count": 3,
     "metadata": {},
     "output_type": "execute_result"
    }
   ],
   "source": [
    "# df = pd.read_csv('../../../datasets/food-traceability/FoodBalanceSheets_E_All_Data_NOFLAG.csv',encoding = \"ISO-8859-1\")\n",
    "df = pd.read_csv('/mnt/c/Users/sylva/Documents/datasets/FoodBalanceSheets_E_All_Data_NOFLAG.csv',encoding = \"ISO-8859-1\")\n",
    "\n",
    "df.head()"
   ]
  },
  {
   "cell_type": "code",
   "execution_count": 4,
   "metadata": {},
   "outputs": [
    {
     "name": "stdout",
     "output_type": "stream",
     "text": [
      "<class 'pandas.core.frame.DataFrame'>\n",
      "RangeIndex: 388181 entries, 0 to 388180\n",
      "Data columns (total 21 columns):\n",
      " #   Column           Non-Null Count   Dtype  \n",
      "---  ------           --------------   -----  \n",
      " 0   Area Code        388181 non-null  int64  \n",
      " 1   Area Code (M49)  388181 non-null  object \n",
      " 2   Area             388181 non-null  object \n",
      " 3   Item Code        388181 non-null  int64  \n",
      " 4   Item Code (FBS)  388181 non-null  object \n",
      " 5   Item             388181 non-null  object \n",
      " 6   Element Code     388181 non-null  int64  \n",
      " 7   Element          388181 non-null  object \n",
      " 8   Unit             388181 non-null  object \n",
      " 9   Y2010            355189 non-null  float64\n",
      " 10  Y2011            354820 non-null  float64\n",
      " 11  Y2012            357061 non-null  float64\n",
      " 12  Y2013            357396 non-null  float64\n",
      " 13  Y2014            357970 non-null  float64\n",
      " 14  Y2015            357899 non-null  float64\n",
      " 15  Y2016            357987 non-null  float64\n",
      " 16  Y2017            359076 non-null  float64\n",
      " 17  Y2018            358735 non-null  float64\n",
      " 18  Y2019            366960 non-null  float64\n",
      " 19  Y2020            368661 non-null  float64\n",
      " 20  Y2021            369154 non-null  float64\n",
      "dtypes: float64(12), int64(3), object(6)\n",
      "memory usage: 62.2+ MB\n"
     ]
    }
   ],
   "source": [
    "df.info()"
   ]
  },
  {
   "cell_type": "markdown",
   "metadata": {},
   "source": [
    "### Exploratory Analysis"
   ]
  },
  {
   "cell_type": "code",
   "execution_count": 5,
   "metadata": {},
   "outputs": [
    {
     "data": {
      "text/plain": [
       "Index(['Area Code', 'Area Code (M49)', 'Area', 'Item Code', 'Item Code (FBS)',\n",
       "       'Item', 'Element Code', 'Element', 'Unit', 'Y2010', 'Y2011', 'Y2012',\n",
       "       'Y2013', 'Y2014', 'Y2015', 'Y2016', 'Y2017', 'Y2018', 'Y2019', 'Y2020',\n",
       "       'Y2021'],\n",
       "      dtype='object')"
      ]
     },
     "execution_count": 5,
     "metadata": {},
     "output_type": "execute_result"
    }
   ],
   "source": [
    "df.columns"
   ]
  },
  {
   "cell_type": "markdown",
   "metadata": {},
   "source": [
    "Investigate each column"
   ]
  },
  {
   "cell_type": "code",
   "execution_count": 6,
   "metadata": {},
   "outputs": [
    {
     "data": {
      "text/plain": [
       "(array(['Total Population - Both sexes', 'Domestic supply quantity',\n",
       "        'Food supply (kcal/capita/day)', 'Food supply (kcal)',\n",
       "        'Protein supply quantity (g/capita/day)',\n",
       "        'Protein supply quantity (t)',\n",
       "        'Fat supply quantity (g/capita/day)', 'Fat supply quantity (t)',\n",
       "        'Production', 'Import Quantity', 'Stock Variation',\n",
       "        'Export Quantity', 'Feed', 'Seed', 'Losses', 'Processing',\n",
       "        'Other uses (non-food)', 'Residuals', 'Food',\n",
       "        'Food supply quantity (kg/capita/yr)', 'Tourist consumption'],\n",
       "       dtype=object),\n",
       " 21)"
      ]
     },
     "execution_count": 6,
     "metadata": {},
     "output_type": "execute_result"
    }
   ],
   "source": [
    "df['Element'].unique(), len(df['Element'].unique())"
   ]
  },
  {
   "cell_type": "code",
   "execution_count": 7,
   "metadata": {},
   "outputs": [
    {
     "data": {
      "text/html": [
       "<div>\n",
       "<style scoped>\n",
       "    .dataframe tbody tr th:only-of-type {\n",
       "        vertical-align: middle;\n",
       "    }\n",
       "\n",
       "    .dataframe tbody tr th {\n",
       "        vertical-align: top;\n",
       "    }\n",
       "\n",
       "    .dataframe thead th {\n",
       "        text-align: right;\n",
       "    }\n",
       "</style>\n",
       "<table border=\"1\" class=\"dataframe\">\n",
       "  <thead>\n",
       "    <tr style=\"text-align: right;\">\n",
       "      <th></th>\n",
       "      <th>Area</th>\n",
       "      <th>Item</th>\n",
       "      <th>Y2010</th>\n",
       "      <th>Y2011</th>\n",
       "      <th>Y2012</th>\n",
       "      <th>Y2013</th>\n",
       "      <th>Y2014</th>\n",
       "      <th>Y2015</th>\n",
       "      <th>Y2016</th>\n",
       "      <th>Y2017</th>\n",
       "      <th>Y2018</th>\n",
       "      <th>Y2019</th>\n",
       "      <th>Y2020</th>\n",
       "      <th>Y2021</th>\n",
       "    </tr>\n",
       "  </thead>\n",
       "  <tbody>\n",
       "    <tr>\n",
       "      <th>0</th>\n",
       "      <td>Afghanistan</td>\n",
       "      <td>Population</td>\n",
       "      <td>28189.67</td>\n",
       "      <td>29249.16</td>\n",
       "      <td>30466.48</td>\n",
       "      <td>31541.21</td>\n",
       "      <td>32716.21</td>\n",
       "      <td>33753.50</td>\n",
       "      <td>34636.21</td>\n",
       "      <td>35643.42</td>\n",
       "      <td>36686.78</td>\n",
       "      <td>37769.50</td>\n",
       "      <td>38972.23</td>\n",
       "      <td>40099.46</td>\n",
       "    </tr>\n",
       "    <tr>\n",
       "      <th>1</th>\n",
       "      <td>Afghanistan</td>\n",
       "      <td>Population</td>\n",
       "      <td>0.00</td>\n",
       "      <td>0.00</td>\n",
       "      <td>0.00</td>\n",
       "      <td>0.00</td>\n",
       "      <td>0.00</td>\n",
       "      <td>0.00</td>\n",
       "      <td>0.00</td>\n",
       "      <td>0.00</td>\n",
       "      <td>0.00</td>\n",
       "      <td>0.00</td>\n",
       "      <td>0.00</td>\n",
       "      <td>0.00</td>\n",
       "    </tr>\n",
       "    <tr>\n",
       "      <th>2</th>\n",
       "      <td>Afghanistan</td>\n",
       "      <td>Grand Total</td>\n",
       "      <td>2208.00</td>\n",
       "      <td>2179.00</td>\n",
       "      <td>2173.00</td>\n",
       "      <td>2211.00</td>\n",
       "      <td>2276.00</td>\n",
       "      <td>2257.00</td>\n",
       "      <td>2245.00</td>\n",
       "      <td>2311.00</td>\n",
       "      <td>2265.00</td>\n",
       "      <td>2228.00</td>\n",
       "      <td>2266.00</td>\n",
       "      <td>2198.00</td>\n",
       "    </tr>\n",
       "    <tr>\n",
       "      <th>3</th>\n",
       "      <td>Afghanistan</td>\n",
       "      <td>Grand Total</td>\n",
       "      <td>22714261.33</td>\n",
       "      <td>23264732.28</td>\n",
       "      <td>24159167.28</td>\n",
       "      <td>25454589.34</td>\n",
       "      <td>27175651.90</td>\n",
       "      <td>27801087.57</td>\n",
       "      <td>28387789.82</td>\n",
       "      <td>30065075.35</td>\n",
       "      <td>30333341.93</td>\n",
       "      <td>30720033.32</td>\n",
       "      <td>32233236.80</td>\n",
       "      <td>32169079.00</td>\n",
       "    </tr>\n",
       "    <tr>\n",
       "      <th>4</th>\n",
       "      <td>Afghanistan</td>\n",
       "      <td>Grand Total</td>\n",
       "      <td>65.76</td>\n",
       "      <td>63.96</td>\n",
       "      <td>62.86</td>\n",
       "      <td>63.40</td>\n",
       "      <td>65.71</td>\n",
       "      <td>64.07</td>\n",
       "      <td>64.95</td>\n",
       "      <td>65.42</td>\n",
       "      <td>62.94</td>\n",
       "      <td>60.98</td>\n",
       "      <td>63.35</td>\n",
       "      <td>60.70</td>\n",
       "    </tr>\n",
       "  </tbody>\n",
       "</table>\n",
       "</div>"
      ],
      "text/plain": [
       "          Area         Item        Y2010        Y2011        Y2012  \\\n",
       "0  Afghanistan   Population     28189.67     29249.16     30466.48   \n",
       "1  Afghanistan   Population         0.00         0.00         0.00   \n",
       "2  Afghanistan  Grand Total      2208.00      2179.00      2173.00   \n",
       "3  Afghanistan  Grand Total  22714261.33  23264732.28  24159167.28   \n",
       "4  Afghanistan  Grand Total        65.76        63.96        62.86   \n",
       "\n",
       "         Y2013        Y2014        Y2015        Y2016        Y2017  \\\n",
       "0     31541.21     32716.21     33753.50     34636.21     35643.42   \n",
       "1         0.00         0.00         0.00         0.00         0.00   \n",
       "2      2211.00      2276.00      2257.00      2245.00      2311.00   \n",
       "3  25454589.34  27175651.90  27801087.57  28387789.82  30065075.35   \n",
       "4        63.40        65.71        64.07        64.95        65.42   \n",
       "\n",
       "         Y2018        Y2019        Y2020        Y2021  \n",
       "0     36686.78     37769.50     38972.23     40099.46  \n",
       "1         0.00         0.00         0.00         0.00  \n",
       "2      2265.00      2228.00      2266.00      2198.00  \n",
       "3  30333341.93  30720033.32  32233236.80  32169079.00  \n",
       "4        62.94        60.98        63.35        60.70  "
      ]
     },
     "execution_count": 7,
     "metadata": {},
     "output_type": "execute_result"
    }
   ],
   "source": [
    "dff= df.drop(['Area Code', 'Area Code (M49)', 'Item Code', 'Item Code (FBS)','Element Code','Element','Unit'],axis=1)\n",
    "dff.head()"
   ]
  },
  {
   "cell_type": "code",
   "execution_count": 8,
   "metadata": {},
   "outputs": [
    {
     "data": {
      "text/plain": [
       "(array(['Population', 'Grand Total', 'Vegetal Products', 'Animal Products',\n",
       "        'Cereals - Excluding Beer', 'Wheat and products',\n",
       "        'Rice and products', 'Barley and products', 'Maize and products',\n",
       "        'Rye and products', 'Oats', 'Millet and products',\n",
       "        'Sorghum and products', 'Cereals, Other', 'Starchy Roots',\n",
       "        'Cassava and products', 'Potatoes and products', 'Sweet potatoes',\n",
       "        'Yams', 'Roots, Other', 'Sugar Crops', 'Sugar cane', 'Sugar beet',\n",
       "        'Sugar & Sweeteners', 'Sugar non-centrifugal',\n",
       "        'Sugar (Raw Equivalent)', 'Sweeteners, Other', 'Honey', 'Pulses',\n",
       "        'Beans', 'Peas', 'Pulses, Other and products', 'Treenuts',\n",
       "        'Nuts and products', 'Oilcrops', 'Soyabeans', 'Groundnuts',\n",
       "        'Sunflower seed', 'Rape and Mustardseed', 'Cottonseed',\n",
       "        'Coconuts - Incl Copra', 'Sesame seed', 'Palm kernels',\n",
       "        'Olives (including preserved)', 'Oilcrops, Other',\n",
       "        'Vegetable Oils', 'Soyabean Oil', 'Groundnut Oil',\n",
       "        'Sunflowerseed Oil', 'Rape and Mustard Oil', 'Cottonseed Oil',\n",
       "        'Palmkernel Oil', 'Palm Oil', 'Coconut Oil', 'Sesameseed Oil',\n",
       "        'Olive Oil', 'Ricebran Oil', 'Maize Germ Oil',\n",
       "        'Oilcrops Oil, Other', 'Vegetables', 'Tomatoes and products',\n",
       "        'Onions', 'Vegetables, other', 'Fruits - Excluding Wine',\n",
       "        'Oranges, Mandarines', 'Lemons, Limes and products',\n",
       "        'Grapefruit and products', 'Citrus, Other', 'Bananas', 'Plantains',\n",
       "        'Apples and products', 'Pineapples and products', 'Dates',\n",
       "        'Grapes and products (excl wine)', 'Fruits, other', 'Stimulants',\n",
       "        'Coffee and products', 'Cocoa Beans and products',\n",
       "        'Tea (including mate)', 'Spices', 'Pepper', 'Pimento', 'Cloves',\n",
       "        'Spices, Other', 'Alcoholic Beverages', 'Wine', 'Beer',\n",
       "        'Beverages, Fermented', 'Beverages, Alcoholic',\n",
       "        'Alcohol, Non-Food', 'Meat', 'Bovine Meat', 'Mutton & Goat Meat',\n",
       "        'Pigmeat', 'Poultry Meat', 'Meat, Other', 'Offals',\n",
       "        'Offals, Edible', 'Animal fats', 'Butter, Ghee', 'Cream',\n",
       "        'Fats, Animals, Raw', 'Eggs', 'Milk - Excluding Butter',\n",
       "        'Fish, Seafood', 'Freshwater Fish', 'Demersal Fish',\n",
       "        'Pelagic Fish', 'Marine Fish, Other', 'Aquatic Products, Other',\n",
       "        'Aquatic Plants', 'Miscellaneous', 'Infant food', 'Fish, Body Oil',\n",
       "        'Fish, Liver Oil', 'Crustaceans', 'Cephalopods', 'Molluscs, Other',\n",
       "        'Aquatic Animals, Others', 'Meat, Aquatic Mammals'], dtype=object),\n",
       " 120)"
      ]
     },
     "execution_count": 8,
     "metadata": {},
     "output_type": "execute_result"
    }
   ],
   "source": [
    "dff['Item'].unique(), len(dff['Item'].unique())"
   ]
  },
  {
   "cell_type": "code",
   "execution_count": 9,
   "metadata": {},
   "outputs": [
    {
     "data": {
      "text/plain": [
       "Item\n",
       "Milk - Excluding Butter     7832\n",
       "Eggs                        7378\n",
       "Miscellaneous               5822\n",
       "Cereals - Excluding Beer    4220\n",
       "Oilcrops                    4193\n",
       "                            ... \n",
       "Aquatic Plants              1034\n",
       "Ricebran Oil                 931\n",
       "Sugar non-centrifugal        898\n",
       "Population                   406\n",
       "Meat, Aquatic Mammals         68\n",
       "Name: count, Length: 120, dtype: int64"
      ]
     },
     "execution_count": 9,
     "metadata": {},
     "output_type": "execute_result"
    }
   ],
   "source": [
    "dff['Item'].value_counts()"
   ]
  },
  {
   "cell_type": "code",
   "execution_count": 10,
   "metadata": {},
   "outputs": [
    {
     "data": {
      "text/plain": [
       "(array(['Afghanistan', 'Albania', 'Algeria', 'Angola',\n",
       "        'Antigua and Barbuda', 'Argentina', 'Armenia', 'Australia',\n",
       "        'Austria', 'Azerbaijan', 'Bahamas', 'Bahrain', 'Bangladesh',\n",
       "        'Barbados', 'Belarus', 'Belgium', 'Belize', 'Benin', 'Bhutan',\n",
       "        'Bolivia (Plurinational State of)', 'Bosnia and Herzegovina',\n",
       "        'Botswana', 'Brazil', 'Bulgaria', 'Burkina Faso', 'Burundi',\n",
       "        'Cabo Verde', 'Cambodia', 'Cameroon', 'Canada',\n",
       "        'Central African Republic', 'Chad', 'Chile', 'China',\n",
       "        'China, Hong Kong SAR', 'China, Macao SAR', 'China, mainland',\n",
       "        'China, Taiwan Province of', 'Colombia', 'Comoros', 'Congo',\n",
       "        'Costa Rica', \"Côte d'Ivoire\", 'Croatia', 'Cuba', 'Cyprus',\n",
       "        'Czechia', \"Democratic People's Republic of Korea\",\n",
       "        'Democratic Republic of the Congo', 'Denmark', 'Djibouti',\n",
       "        'Dominica', 'Dominican Republic', 'Ecuador', 'Egypt',\n",
       "        'El Salvador', 'Estonia', 'Eswatini', 'Ethiopia', 'Fiji',\n",
       "        'Finland', 'France', 'French Polynesia', 'Gabon', 'Gambia',\n",
       "        'Georgia', 'Germany', 'Ghana', 'Greece', 'Grenada', 'Guatemala',\n",
       "        'Guinea', 'Guinea-Bissau', 'Guyana', 'Haiti', 'Honduras',\n",
       "        'Hungary', 'Iceland', 'India', 'Indonesia',\n",
       "        'Iran (Islamic Republic of)', 'Iraq', 'Ireland', 'Israel', 'Italy',\n",
       "        'Jamaica', 'Japan', 'Jordan', 'Kazakhstan', 'Kenya', 'Kiribati',\n",
       "        'Kuwait', 'Kyrgyzstan', \"Lao People's Democratic Republic\",\n",
       "        'Latvia', 'Lebanon', 'Lesotho', 'Liberia', 'Libya', 'Lithuania',\n",
       "        'Luxembourg', 'Madagascar', 'Malawi', 'Malaysia', 'Maldives',\n",
       "        'Mali', 'Malta', 'Mauritania', 'Mauritius', 'Mexico',\n",
       "        'Micronesia (Federated States of)', 'Mongolia', 'Montenegro',\n",
       "        'Morocco', 'Mozambique', 'Myanmar', 'Namibia', 'Nauru', 'Nepal',\n",
       "        'Netherlands (Kingdom of the)', 'Netherlands Antilles (former)',\n",
       "        'New Caledonia', 'New Zealand', 'Nicaragua', 'Niger', 'Nigeria',\n",
       "        'North Macedonia', 'Norway', 'Oman', 'Pakistan', 'Panama',\n",
       "        'Papua New Guinea', 'Paraguay', 'Peru', 'Philippines', 'Poland',\n",
       "        'Portugal', 'Qatar', 'Republic of Korea', 'Republic of Moldova',\n",
       "        'Romania', 'Russian Federation', 'Rwanda', 'Saint Kitts and Nevis',\n",
       "        'Saint Lucia', 'Saint Vincent and the Grenadines', 'Samoa',\n",
       "        'Sao Tome and Principe', 'Saudi Arabia', 'Senegal', 'Serbia',\n",
       "        'Seychelles', 'Sierra Leone', 'Slovakia', 'Slovenia',\n",
       "        'Solomon Islands', 'South Africa', 'South Sudan', 'Spain',\n",
       "        'Sri Lanka', 'Sudan', 'Suriname', 'Sweden', 'Switzerland',\n",
       "        'Syrian Arab Republic', 'Tajikistan', 'Thailand', 'Timor-Leste',\n",
       "        'Togo', 'Trinidad and Tobago', 'Tunisia', 'Türkiye',\n",
       "        'Turkmenistan', 'Uganda', 'Ukraine', 'United Arab Emirates',\n",
       "        'United Kingdom of Great Britain and Northern Ireland',\n",
       "        'United Republic of Tanzania', 'United States of America',\n",
       "        'Uruguay', 'Uzbekistan', 'Vanuatu',\n",
       "        'Venezuela (Bolivarian Republic of)', 'Viet Nam', 'Yemen',\n",
       "        'Zambia', 'Zimbabwe', 'World', 'Africa', 'Eastern Africa',\n",
       "        'Middle Africa', 'Northern Africa', 'Southern Africa',\n",
       "        'Western Africa', 'Americas', 'Northern America',\n",
       "        'Central America', 'Caribbean', 'South America', 'Asia',\n",
       "        'Central Asia', 'Eastern Asia', 'Southern Asia',\n",
       "        'South-eastern Asia', 'Western Asia', 'Europe', 'Eastern Europe',\n",
       "        'Northern Europe', 'Southern Europe', 'Western Europe', 'Oceania',\n",
       "        'Australia and New Zealand', 'Melanesia', 'Micronesia',\n",
       "        'Polynesia', 'European Union (27)', 'Least Developed Countries',\n",
       "        'Land Locked Developing Countries',\n",
       "        'Small Island Developing States',\n",
       "        'Low Income Food Deficit Countries',\n",
       "        'Net Food Importing Developing Countries'], dtype=object),\n",
       " 221)"
      ]
     },
     "execution_count": 10,
     "metadata": {},
     "output_type": "execute_result"
    }
   ],
   "source": [
    "dff['Area'].unique(), len(dff['Area'].unique())"
   ]
  },
  {
   "cell_type": "markdown",
   "metadata": {},
   "source": [
    "Drop some unnecessary rows"
   ]
  },
  {
   "cell_type": "code",
   "execution_count": 11,
   "metadata": {},
   "outputs": [
    {
     "name": "stdout",
     "output_type": "stream",
     "text": [
      "<class 'pandas.core.frame.DataFrame'>\n",
      "Index: 377630 entries, 0 to 377629\n",
      "Data columns (total 14 columns):\n",
      " #   Column  Non-Null Count   Dtype  \n",
      "---  ------  --------------   -----  \n",
      " 0   Area    377630 non-null  object \n",
      " 1   Item    377630 non-null  object \n",
      " 2   Y2010   344895 non-null  float64\n",
      " 3   Y2011   344535 non-null  float64\n",
      " 4   Y2012   346776 non-null  float64\n",
      " 5   Y2013   347095 non-null  float64\n",
      " 6   Y2014   347617 non-null  float64\n",
      " 7   Y2015   347592 non-null  float64\n",
      " 8   Y2016   347681 non-null  float64\n",
      " 9   Y2017   348764 non-null  float64\n",
      " 10  Y2018   348437 non-null  float64\n",
      " 11  Y2019   356655 non-null  float64\n",
      " 12  Y2020   358329 non-null  float64\n",
      " 13  Y2021   358826 non-null  float64\n",
      "dtypes: float64(12), object(2)\n",
      "memory usage: 43.2+ MB\n"
     ]
    }
   ],
   "source": [
    "# data = dff.drop(dff[dff['Area'] == 'Mali'].index,axis=0)\n",
    "# data.info()\n",
    "data = dff.copy()\n",
    "n = ['Least Developed Countries','Land Locked Developing Countries','Small Island Developing States','Low Income Food Deficit Countries','Net Food Importing Developing Countries']\n",
    "for i in n:\n",
    "    data.drop(data[data['Area'] == i].index,axis=0, inplace=True)\n",
    "data.info()\n"
   ]
  },
  {
   "cell_type": "code",
   "execution_count": 12,
   "metadata": {},
   "outputs": [
    {
     "data": {
      "text/plain": [
       "(array(['Afghanistan', 'Albania', 'Algeria', 'Angola',\n",
       "        'Antigua and Barbuda', 'Argentina', 'Armenia', 'Australia',\n",
       "        'Austria', 'Azerbaijan', 'Bahamas', 'Bahrain', 'Bangladesh',\n",
       "        'Barbados', 'Belarus', 'Belgium', 'Belize', 'Benin', 'Bhutan',\n",
       "        'Bolivia (Plurinational State of)', 'Bosnia and Herzegovina',\n",
       "        'Botswana', 'Brazil', 'Bulgaria', 'Burkina Faso', 'Burundi',\n",
       "        'Cabo Verde', 'Cambodia', 'Cameroon', 'Canada',\n",
       "        'Central African Republic', 'Chad', 'Chile', 'China',\n",
       "        'China, Hong Kong SAR', 'China, Macao SAR', 'China, mainland',\n",
       "        'China, Taiwan Province of', 'Colombia', 'Comoros', 'Congo',\n",
       "        'Costa Rica', \"Côte d'Ivoire\", 'Croatia', 'Cuba', 'Cyprus',\n",
       "        'Czechia', \"Democratic People's Republic of Korea\",\n",
       "        'Democratic Republic of the Congo', 'Denmark', 'Djibouti',\n",
       "        'Dominica', 'Dominican Republic', 'Ecuador', 'Egypt',\n",
       "        'El Salvador', 'Estonia', 'Eswatini', 'Ethiopia', 'Fiji',\n",
       "        'Finland', 'France', 'French Polynesia', 'Gabon', 'Gambia',\n",
       "        'Georgia', 'Germany', 'Ghana', 'Greece', 'Grenada', 'Guatemala',\n",
       "        'Guinea', 'Guinea-Bissau', 'Guyana', 'Haiti', 'Honduras',\n",
       "        'Hungary', 'Iceland', 'India', 'Indonesia',\n",
       "        'Iran (Islamic Republic of)', 'Iraq', 'Ireland', 'Israel', 'Italy',\n",
       "        'Jamaica', 'Japan', 'Jordan', 'Kazakhstan', 'Kenya', 'Kiribati',\n",
       "        'Kuwait', 'Kyrgyzstan', \"Lao People's Democratic Republic\",\n",
       "        'Latvia', 'Lebanon', 'Lesotho', 'Liberia', 'Libya', 'Lithuania',\n",
       "        'Luxembourg', 'Madagascar', 'Malawi', 'Malaysia', 'Maldives',\n",
       "        'Mali', 'Malta', 'Mauritania', 'Mauritius', 'Mexico',\n",
       "        'Micronesia (Federated States of)', 'Mongolia', 'Montenegro',\n",
       "        'Morocco', 'Mozambique', 'Myanmar', 'Namibia', 'Nauru', 'Nepal',\n",
       "        'Netherlands (Kingdom of the)', 'Netherlands Antilles (former)',\n",
       "        'New Caledonia', 'New Zealand', 'Nicaragua', 'Niger', 'Nigeria',\n",
       "        'North Macedonia', 'Norway', 'Oman', 'Pakistan', 'Panama',\n",
       "        'Papua New Guinea', 'Paraguay', 'Peru', 'Philippines', 'Poland',\n",
       "        'Portugal', 'Qatar', 'Republic of Korea', 'Republic of Moldova',\n",
       "        'Romania', 'Russian Federation', 'Rwanda', 'Saint Kitts and Nevis',\n",
       "        'Saint Lucia', 'Saint Vincent and the Grenadines', 'Samoa',\n",
       "        'Sao Tome and Principe', 'Saudi Arabia', 'Senegal', 'Serbia',\n",
       "        'Seychelles', 'Sierra Leone', 'Slovakia', 'Slovenia',\n",
       "        'Solomon Islands', 'South Africa', 'South Sudan', 'Spain',\n",
       "        'Sri Lanka', 'Sudan', 'Suriname', 'Sweden', 'Switzerland',\n",
       "        'Syrian Arab Republic', 'Tajikistan', 'Thailand', 'Timor-Leste',\n",
       "        'Togo', 'Trinidad and Tobago', 'Tunisia', 'Türkiye',\n",
       "        'Turkmenistan', 'Uganda', 'Ukraine', 'United Arab Emirates',\n",
       "        'United Kingdom of Great Britain and Northern Ireland',\n",
       "        'United Republic of Tanzania', 'United States of America',\n",
       "        'Uruguay', 'Uzbekistan', 'Vanuatu',\n",
       "        'Venezuela (Bolivarian Republic of)', 'Viet Nam', 'Yemen',\n",
       "        'Zambia', 'Zimbabwe', 'World', 'Africa', 'Eastern Africa',\n",
       "        'Middle Africa', 'Northern Africa', 'Southern Africa',\n",
       "        'Western Africa', 'Americas', 'Northern America',\n",
       "        'Central America', 'Caribbean', 'South America', 'Asia',\n",
       "        'Central Asia', 'Eastern Asia', 'Southern Asia',\n",
       "        'South-eastern Asia', 'Western Asia', 'Europe', 'Eastern Europe',\n",
       "        'Northern Europe', 'Southern Europe', 'Western Europe', 'Oceania',\n",
       "        'Australia and New Zealand', 'Melanesia', 'Micronesia',\n",
       "        'Polynesia', 'European Union (27)'], dtype=object),\n",
       " 216)"
      ]
     },
     "execution_count": 12,
     "metadata": {},
     "output_type": "execute_result"
    }
   ],
   "source": [
    "data['Area'].unique(), len(data['Area'].unique())"
   ]
  },
  {
   "cell_type": "markdown",
   "metadata": {},
   "source": [
    "Drop rows with nan values"
   ]
  },
  {
   "cell_type": "code",
   "execution_count": 13,
   "metadata": {},
   "outputs": [
    {
     "data": {
      "text/plain": [
       "377630"
      ]
     },
     "execution_count": 13,
     "metadata": {},
     "output_type": "execute_result"
    }
   ],
   "source": [
    "len(data)"
   ]
  },
  {
   "cell_type": "code",
   "execution_count": 14,
   "metadata": {},
   "outputs": [
    {
     "data": {
      "text/plain": [
       "325325"
      ]
     },
     "execution_count": 14,
     "metadata": {},
     "output_type": "execute_result"
    }
   ],
   "source": [
    "data.dropna(axis=0, how='any', inplace=True)\n",
    "len(data)"
   ]
  },
  {
   "cell_type": "code",
   "execution_count": 15,
   "metadata": {},
   "outputs": [
    {
     "data": {
      "text/html": [
       "<div>\n",
       "<style scoped>\n",
       "    .dataframe tbody tr th:only-of-type {\n",
       "        vertical-align: middle;\n",
       "    }\n",
       "\n",
       "    .dataframe tbody tr th {\n",
       "        vertical-align: top;\n",
       "    }\n",
       "\n",
       "    .dataframe thead th {\n",
       "        text-align: right;\n",
       "    }\n",
       "</style>\n",
       "<table border=\"1\" class=\"dataframe\">\n",
       "  <thead>\n",
       "    <tr style=\"text-align: right;\">\n",
       "      <th></th>\n",
       "      <th>Area</th>\n",
       "      <th>Item</th>\n",
       "      <th>Y2010</th>\n",
       "      <th>Y2011</th>\n",
       "      <th>Y2012</th>\n",
       "      <th>Y2013</th>\n",
       "      <th>Y2014</th>\n",
       "      <th>Y2015</th>\n",
       "      <th>Y2016</th>\n",
       "      <th>Y2017</th>\n",
       "      <th>Y2018</th>\n",
       "      <th>Y2019</th>\n",
       "      <th>Y2020</th>\n",
       "      <th>Y2021</th>\n",
       "    </tr>\n",
       "  </thead>\n",
       "  <tbody>\n",
       "    <tr>\n",
       "      <th>0</th>\n",
       "      <td>Afghanistan</td>\n",
       "      <td>Population</td>\n",
       "      <td>28189.67</td>\n",
       "      <td>29249.16</td>\n",
       "      <td>30466.48</td>\n",
       "      <td>31541.21</td>\n",
       "      <td>32716.21</td>\n",
       "      <td>33753.50</td>\n",
       "      <td>34636.21</td>\n",
       "      <td>35643.42</td>\n",
       "      <td>36686.78</td>\n",
       "      <td>37769.50</td>\n",
       "      <td>38972.23</td>\n",
       "      <td>40099.46</td>\n",
       "    </tr>\n",
       "    <tr>\n",
       "      <th>1</th>\n",
       "      <td>Afghanistan</td>\n",
       "      <td>Population</td>\n",
       "      <td>0.00</td>\n",
       "      <td>0.00</td>\n",
       "      <td>0.00</td>\n",
       "      <td>0.00</td>\n",
       "      <td>0.00</td>\n",
       "      <td>0.00</td>\n",
       "      <td>0.00</td>\n",
       "      <td>0.00</td>\n",
       "      <td>0.00</td>\n",
       "      <td>0.00</td>\n",
       "      <td>0.00</td>\n",
       "      <td>0.00</td>\n",
       "    </tr>\n",
       "    <tr>\n",
       "      <th>2</th>\n",
       "      <td>Afghanistan</td>\n",
       "      <td>Grand Total</td>\n",
       "      <td>2208.00</td>\n",
       "      <td>2179.00</td>\n",
       "      <td>2173.00</td>\n",
       "      <td>2211.00</td>\n",
       "      <td>2276.00</td>\n",
       "      <td>2257.00</td>\n",
       "      <td>2245.00</td>\n",
       "      <td>2311.00</td>\n",
       "      <td>2265.00</td>\n",
       "      <td>2228.00</td>\n",
       "      <td>2266.00</td>\n",
       "      <td>2198.00</td>\n",
       "    </tr>\n",
       "    <tr>\n",
       "      <th>3</th>\n",
       "      <td>Afghanistan</td>\n",
       "      <td>Grand Total</td>\n",
       "      <td>22714261.33</td>\n",
       "      <td>23264732.28</td>\n",
       "      <td>24159167.28</td>\n",
       "      <td>25454589.34</td>\n",
       "      <td>27175651.90</td>\n",
       "      <td>27801087.57</td>\n",
       "      <td>28387789.82</td>\n",
       "      <td>30065075.35</td>\n",
       "      <td>30333341.93</td>\n",
       "      <td>30720033.32</td>\n",
       "      <td>32233236.80</td>\n",
       "      <td>32169079.00</td>\n",
       "    </tr>\n",
       "    <tr>\n",
       "      <th>4</th>\n",
       "      <td>Afghanistan</td>\n",
       "      <td>Grand Total</td>\n",
       "      <td>65.76</td>\n",
       "      <td>63.96</td>\n",
       "      <td>62.86</td>\n",
       "      <td>63.40</td>\n",
       "      <td>65.71</td>\n",
       "      <td>64.07</td>\n",
       "      <td>64.95</td>\n",
       "      <td>65.42</td>\n",
       "      <td>62.94</td>\n",
       "      <td>60.98</td>\n",
       "      <td>63.35</td>\n",
       "      <td>60.70</td>\n",
       "    </tr>\n",
       "  </tbody>\n",
       "</table>\n",
       "</div>"
      ],
      "text/plain": [
       "          Area         Item        Y2010        Y2011        Y2012  \\\n",
       "0  Afghanistan   Population     28189.67     29249.16     30466.48   \n",
       "1  Afghanistan   Population         0.00         0.00         0.00   \n",
       "2  Afghanistan  Grand Total      2208.00      2179.00      2173.00   \n",
       "3  Afghanistan  Grand Total  22714261.33  23264732.28  24159167.28   \n",
       "4  Afghanistan  Grand Total        65.76        63.96        62.86   \n",
       "\n",
       "         Y2013        Y2014        Y2015        Y2016        Y2017  \\\n",
       "0     31541.21     32716.21     33753.50     34636.21     35643.42   \n",
       "1         0.00         0.00         0.00         0.00         0.00   \n",
       "2      2211.00      2276.00      2257.00      2245.00      2311.00   \n",
       "3  25454589.34  27175651.90  27801087.57  28387789.82  30065075.35   \n",
       "4        63.40        65.71        64.07        64.95        65.42   \n",
       "\n",
       "         Y2018        Y2019        Y2020        Y2021  \n",
       "0     36686.78     37769.50     38972.23     40099.46  \n",
       "1         0.00         0.00         0.00         0.00  \n",
       "2      2265.00      2228.00      2266.00      2198.00  \n",
       "3  30333341.93  30720033.32  32233236.80  32169079.00  \n",
       "4        62.94        60.98        63.35        60.70  "
      ]
     },
     "execution_count": 15,
     "metadata": {},
     "output_type": "execute_result"
    }
   ],
   "source": [
    "data.head()"
   ]
  },
  {
   "cell_type": "code",
   "execution_count": 16,
   "metadata": {},
   "outputs": [
    {
     "data": {
      "text/plain": [
       "(array(['Population', 'Grand Total', 'Vegetal Products', 'Animal Products',\n",
       "        'Cereals - Excluding Beer', 'Wheat and products',\n",
       "        'Rice and products', 'Barley and products', 'Maize and products',\n",
       "        'Millet and products', 'Cereals, Other', 'Starchy Roots',\n",
       "        'Potatoes and products', 'Sugar Crops', 'Sugar cane', 'Sugar beet',\n",
       "        'Sugar & Sweeteners', 'Sugar (Raw Equivalent)',\n",
       "        'Sweeteners, Other', 'Honey', 'Pulses',\n",
       "        'Pulses, Other and products', 'Treenuts', 'Nuts and products',\n",
       "        'Oilcrops', 'Sunflower seed', 'Cottonseed',\n",
       "        'Coconuts - Incl Copra', 'Sesame seed',\n",
       "        'Olives (including preserved)', 'Oilcrops, Other',\n",
       "        'Vegetable Oils', 'Soyabean Oil', 'Groundnut Oil',\n",
       "        'Sunflowerseed Oil', 'Rape and Mustard Oil', 'Cottonseed Oil',\n",
       "        'Palm Oil', 'Coconut Oil', 'Sesameseed Oil', 'Olive Oil',\n",
       "        'Maize Germ Oil', 'Oilcrops Oil, Other', 'Vegetables',\n",
       "        'Tomatoes and products', 'Onions', 'Vegetables, other',\n",
       "        'Fruits - Excluding Wine', 'Oranges, Mandarines', 'Citrus, Other',\n",
       "        'Bananas', 'Apples and products', 'Pineapples and products',\n",
       "        'Dates', 'Grapes and products (excl wine)', 'Fruits, other',\n",
       "        'Stimulants', 'Coffee and products', 'Cocoa Beans and products',\n",
       "        'Tea (including mate)', 'Spices', 'Pepper', 'Spices, Other',\n",
       "        'Alcoholic Beverages', 'Wine', 'Beer', 'Beverages, Fermented',\n",
       "        'Beverages, Alcoholic', 'Alcohol, Non-Food', 'Meat', 'Bovine Meat',\n",
       "        'Mutton & Goat Meat', 'Poultry Meat', 'Meat, Other', 'Offals',\n",
       "        'Offals, Edible', 'Animal fats', 'Butter, Ghee', 'Cream',\n",
       "        'Fats, Animals, Raw', 'Eggs', 'Milk - Excluding Butter',\n",
       "        'Fish, Seafood', 'Freshwater Fish', 'Miscellaneous', 'Infant food',\n",
       "        'Rye and products', 'Oats', 'Sorghum and products',\n",
       "        'Sweet potatoes', 'Roots, Other', 'Beans', 'Peas', 'Soyabeans',\n",
       "        'Groundnuts', 'Rape and Mustardseed', 'Palmkernel Oil',\n",
       "        'Lemons, Limes and products', 'Grapefruit and products', 'Pimento',\n",
       "        'Cloves', 'Pigmeat', 'Fish, Body Oil', 'Fish, Liver Oil',\n",
       "        'Demersal Fish', 'Pelagic Fish', 'Marine Fish, Other',\n",
       "        'Crustaceans', 'Cephalopods', 'Molluscs, Other',\n",
       "        'Aquatic Animals, Others', 'Aquatic Products, Other',\n",
       "        'Aquatic Plants', 'Cassava and products', 'Plantains',\n",
       "        'Palm kernels', 'Yams', 'Ricebran Oil', 'Sugar non-centrifugal'],\n",
       "       dtype=object),\n",
       " 119)"
      ]
     },
     "execution_count": 16,
     "metadata": {},
     "output_type": "execute_result"
    }
   ],
   "source": [
    "data['Item'].unique(), len(data['Item'].unique())"
   ]
  },
  {
   "cell_type": "markdown",
   "metadata": {},
   "source": [
    "Drop rows with irrelevant items"
   ]
  },
  {
   "cell_type": "code",
   "execution_count": 17,
   "metadata": {},
   "outputs": [
    {
     "data": {
      "text/plain": [
       "323690"
      ]
     },
     "execution_count": 17,
     "metadata": {},
     "output_type": "execute_result"
    }
   ],
   "source": [
    "n = ['Population', 'Grand Total']\n",
    "for i in n:\n",
    "    data.drop(data[data['Item'] == i].index,axis=0, inplace=True)\n",
    "len(data)"
   ]
  },
  {
   "cell_type": "markdown",
   "metadata": {},
   "source": [
    "Transform the item column   "
   ]
  },
  {
   "cell_type": "code",
   "execution_count": 18,
   "metadata": {},
   "outputs": [],
   "source": [
    "from sklearn.preprocessing import (\n",
    "    StandardScaler, LabelBinarizer, FunctionTransformer,PolynomialFeatures, OrdinalEncoder,LabelEncoder,MinMaxScaler\n",
    ")"
   ]
  },
  {
   "cell_type": "code",
   "execution_count": 19,
   "metadata": {},
   "outputs": [
    {
     "data": {
      "text/html": [
       "<div>\n",
       "<style scoped>\n",
       "    .dataframe tbody tr th:only-of-type {\n",
       "        vertical-align: middle;\n",
       "    }\n",
       "\n",
       "    .dataframe tbody tr th {\n",
       "        vertical-align: top;\n",
       "    }\n",
       "\n",
       "    .dataframe thead th {\n",
       "        text-align: right;\n",
       "    }\n",
       "</style>\n",
       "<table border=\"1\" class=\"dataframe\">\n",
       "  <thead>\n",
       "    <tr style=\"text-align: right;\">\n",
       "      <th></th>\n",
       "      <th>Area</th>\n",
       "      <th>Item</th>\n",
       "      <th>Y2010</th>\n",
       "      <th>Y2011</th>\n",
       "      <th>Y2012</th>\n",
       "      <th>Y2013</th>\n",
       "      <th>Y2014</th>\n",
       "      <th>Y2015</th>\n",
       "      <th>Y2016</th>\n",
       "      <th>Y2017</th>\n",
       "      <th>Y2018</th>\n",
       "      <th>Y2019</th>\n",
       "      <th>Y2020</th>\n",
       "      <th>Y2021</th>\n",
       "    </tr>\n",
       "  </thead>\n",
       "  <tbody>\n",
       "    <tr>\n",
       "      <th>8</th>\n",
       "      <td>Afghanistan</td>\n",
       "      <td>Vegetal Products</td>\n",
       "      <td>2008.0</td>\n",
       "      <td>1986.00</td>\n",
       "      <td>1976.00</td>\n",
       "      <td>2014.00</td>\n",
       "      <td>2036.00</td>\n",
       "      <td>2052.00</td>\n",
       "      <td>2047.00</td>\n",
       "      <td>2122.00</td>\n",
       "      <td>2083.00</td>\n",
       "      <td>2060.00</td>\n",
       "      <td>2087.00</td>\n",
       "      <td>2027.00</td>\n",
       "    </tr>\n",
       "    <tr>\n",
       "      <th>9</th>\n",
       "      <td>Afghanistan</td>\n",
       "      <td>Vegetal Products</td>\n",
       "      <td>20655822.8</td>\n",
       "      <td>21198717.88</td>\n",
       "      <td>21975782.15</td>\n",
       "      <td>23191163.69</td>\n",
       "      <td>24313185.88</td>\n",
       "      <td>25276788.39</td>\n",
       "      <td>25876476.39</td>\n",
       "      <td>27601177.01</td>\n",
       "      <td>27889144.65</td>\n",
       "      <td>28399788.56</td>\n",
       "      <td>29683089.36</td>\n",
       "      <td>29660608.24</td>\n",
       "    </tr>\n",
       "  </tbody>\n",
       "</table>\n",
       "</div>"
      ],
      "text/plain": [
       "          Area              Item       Y2010        Y2011        Y2012  \\\n",
       "8  Afghanistan  Vegetal Products      2008.0      1986.00      1976.00   \n",
       "9  Afghanistan  Vegetal Products  20655822.8  21198717.88  21975782.15   \n",
       "\n",
       "         Y2013        Y2014        Y2015        Y2016        Y2017  \\\n",
       "8      2014.00      2036.00      2052.00      2047.00      2122.00   \n",
       "9  23191163.69  24313185.88  25276788.39  25876476.39  27601177.01   \n",
       "\n",
       "         Y2018        Y2019        Y2020        Y2021  \n",
       "8      2083.00      2060.00      2087.00      2027.00  \n",
       "9  27889144.65  28399788.56  29683089.36  29660608.24  "
      ]
     },
     "execution_count": 19,
     "metadata": {},
     "output_type": "execute_result"
    }
   ],
   "source": [
    "data.head(2)"
   ]
  },
  {
   "cell_type": "markdown",
   "metadata": {},
   "source": [
    "Label encorder for categorical column"
   ]
  },
  {
   "cell_type": "code",
   "execution_count": 20,
   "metadata": {},
   "outputs": [
    {
     "data": {
      "text/html": [
       "<div>\n",
       "<style scoped>\n",
       "    .dataframe tbody tr th:only-of-type {\n",
       "        vertical-align: middle;\n",
       "    }\n",
       "\n",
       "    .dataframe tbody tr th {\n",
       "        vertical-align: top;\n",
       "    }\n",
       "\n",
       "    .dataframe thead th {\n",
       "        text-align: right;\n",
       "    }\n",
       "</style>\n",
       "<table border=\"1\" class=\"dataframe\">\n",
       "  <thead>\n",
       "    <tr style=\"text-align: right;\">\n",
       "      <th></th>\n",
       "      <th>Area</th>\n",
       "      <th>Y2010</th>\n",
       "      <th>Y2011</th>\n",
       "      <th>Y2012</th>\n",
       "      <th>Y2013</th>\n",
       "      <th>Y2014</th>\n",
       "      <th>Y2015</th>\n",
       "      <th>Y2016</th>\n",
       "      <th>Y2017</th>\n",
       "      <th>Y2018</th>\n",
       "      <th>Y2019</th>\n",
       "      <th>Y2020</th>\n",
       "      <th>Y2021</th>\n",
       "      <th>Item</th>\n",
       "    </tr>\n",
       "  </thead>\n",
       "  <tbody>\n",
       "    <tr>\n",
       "      <th>8</th>\n",
       "      <td>Afghanistan</td>\n",
       "      <td>2008.00</td>\n",
       "      <td>1986.00</td>\n",
       "      <td>1976.00</td>\n",
       "      <td>2014.00</td>\n",
       "      <td>2036.00</td>\n",
       "      <td>2052.00</td>\n",
       "      <td>2047.00</td>\n",
       "      <td>2122.00</td>\n",
       "      <td>2083.00</td>\n",
       "      <td>2060.00</td>\n",
       "      <td>2087.00</td>\n",
       "      <td>2027.00</td>\n",
       "      <td>113</td>\n",
       "    </tr>\n",
       "    <tr>\n",
       "      <th>9</th>\n",
       "      <td>Afghanistan</td>\n",
       "      <td>20655822.80</td>\n",
       "      <td>21198717.88</td>\n",
       "      <td>21975782.15</td>\n",
       "      <td>23191163.69</td>\n",
       "      <td>24313185.88</td>\n",
       "      <td>25276788.39</td>\n",
       "      <td>25876476.39</td>\n",
       "      <td>27601177.01</td>\n",
       "      <td>27889144.65</td>\n",
       "      <td>28399788.56</td>\n",
       "      <td>29683089.36</td>\n",
       "      <td>29660608.24</td>\n",
       "      <td>113</td>\n",
       "    </tr>\n",
       "    <tr>\n",
       "      <th>10</th>\n",
       "      <td>Afghanistan</td>\n",
       "      <td>53.30</td>\n",
       "      <td>51.87</td>\n",
       "      <td>50.47</td>\n",
       "      <td>51.19</td>\n",
       "      <td>51.01</td>\n",
       "      <td>51.39</td>\n",
       "      <td>52.76</td>\n",
       "      <td>53.65</td>\n",
       "      <td>51.76</td>\n",
       "      <td>50.76</td>\n",
       "      <td>52.29</td>\n",
       "      <td>50.22</td>\n",
       "      <td>113</td>\n",
       "    </tr>\n",
       "    <tr>\n",
       "      <th>11</th>\n",
       "      <td>Afghanistan</td>\n",
       "      <td>548425.29</td>\n",
       "      <td>553715.44</td>\n",
       "      <td>561275.26</td>\n",
       "      <td>589376.48</td>\n",
       "      <td>609144.53</td>\n",
       "      <td>633088.96</td>\n",
       "      <td>667059.53</td>\n",
       "      <td>697999.97</td>\n",
       "      <td>693109.10</td>\n",
       "      <td>699758.13</td>\n",
       "      <td>743840.14</td>\n",
       "      <td>735010.24</td>\n",
       "      <td>113</td>\n",
       "    </tr>\n",
       "    <tr>\n",
       "      <th>12</th>\n",
       "      <td>Afghanistan</td>\n",
       "      <td>24.92</td>\n",
       "      <td>23.31</td>\n",
       "      <td>24.83</td>\n",
       "      <td>25.25</td>\n",
       "      <td>26.84</td>\n",
       "      <td>25.96</td>\n",
       "      <td>28.92</td>\n",
       "      <td>29.03</td>\n",
       "      <td>30.59</td>\n",
       "      <td>31.26</td>\n",
       "      <td>30.42</td>\n",
       "      <td>31.36</td>\n",
       "      <td>113</td>\n",
       "    </tr>\n",
       "  </tbody>\n",
       "</table>\n",
       "</div>"
      ],
      "text/plain": [
       "           Area        Y2010        Y2011        Y2012        Y2013  \\\n",
       "8   Afghanistan      2008.00      1986.00      1976.00      2014.00   \n",
       "9   Afghanistan  20655822.80  21198717.88  21975782.15  23191163.69   \n",
       "10  Afghanistan        53.30        51.87        50.47        51.19   \n",
       "11  Afghanistan    548425.29    553715.44    561275.26    589376.48   \n",
       "12  Afghanistan        24.92        23.31        24.83        25.25   \n",
       "\n",
       "          Y2014        Y2015        Y2016        Y2017        Y2018  \\\n",
       "8       2036.00      2052.00      2047.00      2122.00      2083.00   \n",
       "9   24313185.88  25276788.39  25876476.39  27601177.01  27889144.65   \n",
       "10        51.01        51.39        52.76        53.65        51.76   \n",
       "11    609144.53    633088.96    667059.53    697999.97    693109.10   \n",
       "12        26.84        25.96        28.92        29.03        30.59   \n",
       "\n",
       "          Y2019        Y2020        Y2021  Item  \n",
       "8       2060.00      2087.00      2027.00   113  \n",
       "9   28399788.56  29683089.36  29660608.24   113  \n",
       "10        50.76        52.29        50.22   113  \n",
       "11    699758.13    743840.14    735010.24   113  \n",
       "12        31.26        30.42        31.36   113  "
      ]
     },
     "execution_count": 20,
     "metadata": {},
     "output_type": "execute_result"
    }
   ],
   "source": [
    "encoder = LabelEncoder()\n",
    "encoder.fit(data['Item'])\n",
    "encoded = encoder.transform(data['Item'])\n",
    "data.drop(['Item'],axis=1, inplace=True)\n",
    "data['Item'] = encoded\n",
    "data.head()"
   ]
  },
  {
   "cell_type": "code",
   "execution_count": 21,
   "metadata": {},
   "outputs": [],
   "source": [
    "y = data.Area\n",
    "x = data.iloc[:,1:]"
   ]
  },
  {
   "cell_type": "code",
   "execution_count": 22,
   "metadata": {},
   "outputs": [
    {
     "data": {
      "text/html": [
       "<div>\n",
       "<style scoped>\n",
       "    .dataframe tbody tr th:only-of-type {\n",
       "        vertical-align: middle;\n",
       "    }\n",
       "\n",
       "    .dataframe tbody tr th {\n",
       "        vertical-align: top;\n",
       "    }\n",
       "\n",
       "    .dataframe thead th {\n",
       "        text-align: right;\n",
       "    }\n",
       "</style>\n",
       "<table border=\"1\" class=\"dataframe\">\n",
       "  <thead>\n",
       "    <tr style=\"text-align: right;\">\n",
       "      <th></th>\n",
       "      <th>Y2010</th>\n",
       "      <th>Y2011</th>\n",
       "      <th>Y2012</th>\n",
       "      <th>Y2013</th>\n",
       "      <th>Y2014</th>\n",
       "      <th>Y2015</th>\n",
       "      <th>Y2016</th>\n",
       "      <th>Y2017</th>\n",
       "      <th>Y2018</th>\n",
       "      <th>Y2019</th>\n",
       "      <th>Y2020</th>\n",
       "      <th>Y2021</th>\n",
       "      <th>Item</th>\n",
       "    </tr>\n",
       "  </thead>\n",
       "  <tbody>\n",
       "    <tr>\n",
       "      <th>8</th>\n",
       "      <td>2008.00</td>\n",
       "      <td>1986.00</td>\n",
       "      <td>1976.00</td>\n",
       "      <td>2014.00</td>\n",
       "      <td>2036.00</td>\n",
       "      <td>2052.00</td>\n",
       "      <td>2047.00</td>\n",
       "      <td>2122.00</td>\n",
       "      <td>2083.00</td>\n",
       "      <td>2060.00</td>\n",
       "      <td>2087.00</td>\n",
       "      <td>2027.00</td>\n",
       "      <td>113</td>\n",
       "    </tr>\n",
       "    <tr>\n",
       "      <th>9</th>\n",
       "      <td>20655822.80</td>\n",
       "      <td>21198717.88</td>\n",
       "      <td>21975782.15</td>\n",
       "      <td>23191163.69</td>\n",
       "      <td>24313185.88</td>\n",
       "      <td>25276788.39</td>\n",
       "      <td>25876476.39</td>\n",
       "      <td>27601177.01</td>\n",
       "      <td>27889144.65</td>\n",
       "      <td>28399788.56</td>\n",
       "      <td>29683089.36</td>\n",
       "      <td>29660608.24</td>\n",
       "      <td>113</td>\n",
       "    </tr>\n",
       "    <tr>\n",
       "      <th>10</th>\n",
       "      <td>53.30</td>\n",
       "      <td>51.87</td>\n",
       "      <td>50.47</td>\n",
       "      <td>51.19</td>\n",
       "      <td>51.01</td>\n",
       "      <td>51.39</td>\n",
       "      <td>52.76</td>\n",
       "      <td>53.65</td>\n",
       "      <td>51.76</td>\n",
       "      <td>50.76</td>\n",
       "      <td>52.29</td>\n",
       "      <td>50.22</td>\n",
       "      <td>113</td>\n",
       "    </tr>\n",
       "    <tr>\n",
       "      <th>11</th>\n",
       "      <td>548425.29</td>\n",
       "      <td>553715.44</td>\n",
       "      <td>561275.26</td>\n",
       "      <td>589376.48</td>\n",
       "      <td>609144.53</td>\n",
       "      <td>633088.96</td>\n",
       "      <td>667059.53</td>\n",
       "      <td>697999.97</td>\n",
       "      <td>693109.10</td>\n",
       "      <td>699758.13</td>\n",
       "      <td>743840.14</td>\n",
       "      <td>735010.24</td>\n",
       "      <td>113</td>\n",
       "    </tr>\n",
       "    <tr>\n",
       "      <th>12</th>\n",
       "      <td>24.92</td>\n",
       "      <td>23.31</td>\n",
       "      <td>24.83</td>\n",
       "      <td>25.25</td>\n",
       "      <td>26.84</td>\n",
       "      <td>25.96</td>\n",
       "      <td>28.92</td>\n",
       "      <td>29.03</td>\n",
       "      <td>30.59</td>\n",
       "      <td>31.26</td>\n",
       "      <td>30.42</td>\n",
       "      <td>31.36</td>\n",
       "      <td>113</td>\n",
       "    </tr>\n",
       "    <tr>\n",
       "      <th>...</th>\n",
       "      <td>...</td>\n",
       "      <td>...</td>\n",
       "      <td>...</td>\n",
       "      <td>...</td>\n",
       "      <td>...</td>\n",
       "      <td>...</td>\n",
       "      <td>...</td>\n",
       "      <td>...</td>\n",
       "      <td>...</td>\n",
       "      <td>...</td>\n",
       "      <td>...</td>\n",
       "      <td>...</td>\n",
       "      <td>...</td>\n",
       "    </tr>\n",
       "    <tr>\n",
       "      <th>377625</th>\n",
       "      <td>684454.55</td>\n",
       "      <td>634840.90</td>\n",
       "      <td>610832.61</td>\n",
       "      <td>621615.09</td>\n",
       "      <td>632677.11</td>\n",
       "      <td>680112.83</td>\n",
       "      <td>712298.32</td>\n",
       "      <td>666906.23</td>\n",
       "      <td>750569.79</td>\n",
       "      <td>856223.33</td>\n",
       "      <td>777137.28</td>\n",
       "      <td>968169.22</td>\n",
       "      <td>54</td>\n",
       "    </tr>\n",
       "    <tr>\n",
       "      <th>377626</th>\n",
       "      <td>0.26</td>\n",
       "      <td>0.24</td>\n",
       "      <td>0.23</td>\n",
       "      <td>0.23</td>\n",
       "      <td>0.24</td>\n",
       "      <td>0.26</td>\n",
       "      <td>0.27</td>\n",
       "      <td>0.25</td>\n",
       "      <td>0.28</td>\n",
       "      <td>0.32</td>\n",
       "      <td>0.29</td>\n",
       "      <td>0.36</td>\n",
       "      <td>54</td>\n",
       "    </tr>\n",
       "    <tr>\n",
       "      <th>377627</th>\n",
       "      <td>41689.50</td>\n",
       "      <td>38667.58</td>\n",
       "      <td>37205.26</td>\n",
       "      <td>37862.01</td>\n",
       "      <td>38535.79</td>\n",
       "      <td>41425.05</td>\n",
       "      <td>43385.44</td>\n",
       "      <td>40620.65</td>\n",
       "      <td>45716.52</td>\n",
       "      <td>52151.78</td>\n",
       "      <td>47334.73</td>\n",
       "      <td>58970.31</td>\n",
       "      <td>54</td>\n",
       "    </tr>\n",
       "    <tr>\n",
       "      <th>377628</th>\n",
       "      <td>0.04</td>\n",
       "      <td>0.04</td>\n",
       "      <td>0.04</td>\n",
       "      <td>0.04</td>\n",
       "      <td>0.04</td>\n",
       "      <td>0.04</td>\n",
       "      <td>0.04</td>\n",
       "      <td>0.04</td>\n",
       "      <td>0.05</td>\n",
       "      <td>0.05</td>\n",
       "      <td>0.05</td>\n",
       "      <td>0.06</td>\n",
       "      <td>54</td>\n",
       "    </tr>\n",
       "    <tr>\n",
       "      <th>377629</th>\n",
       "      <td>6844.55</td>\n",
       "      <td>6348.41</td>\n",
       "      <td>6108.33</td>\n",
       "      <td>6216.15</td>\n",
       "      <td>6326.77</td>\n",
       "      <td>6801.13</td>\n",
       "      <td>7122.98</td>\n",
       "      <td>6669.06</td>\n",
       "      <td>7505.70</td>\n",
       "      <td>8562.23</td>\n",
       "      <td>7771.37</td>\n",
       "      <td>9681.69</td>\n",
       "      <td>54</td>\n",
       "    </tr>\n",
       "  </tbody>\n",
       "</table>\n",
       "<p>323690 rows × 13 columns</p>\n",
       "</div>"
      ],
      "text/plain": [
       "              Y2010        Y2011        Y2012        Y2013        Y2014  \\\n",
       "8           2008.00      1986.00      1976.00      2014.00      2036.00   \n",
       "9       20655822.80  21198717.88  21975782.15  23191163.69  24313185.88   \n",
       "10            53.30        51.87        50.47        51.19        51.01   \n",
       "11        548425.29    553715.44    561275.26    589376.48    609144.53   \n",
       "12            24.92        23.31        24.83        25.25        26.84   \n",
       "...             ...          ...          ...          ...          ...   \n",
       "377625    684454.55    634840.90    610832.61    621615.09    632677.11   \n",
       "377626         0.26         0.24         0.23         0.23         0.24   \n",
       "377627     41689.50     38667.58     37205.26     37862.01     38535.79   \n",
       "377628         0.04         0.04         0.04         0.04         0.04   \n",
       "377629      6844.55      6348.41      6108.33      6216.15      6326.77   \n",
       "\n",
       "              Y2015        Y2016        Y2017        Y2018        Y2019  \\\n",
       "8           2052.00      2047.00      2122.00      2083.00      2060.00   \n",
       "9       25276788.39  25876476.39  27601177.01  27889144.65  28399788.56   \n",
       "10            51.39        52.76        53.65        51.76        50.76   \n",
       "11        633088.96    667059.53    697999.97    693109.10    699758.13   \n",
       "12            25.96        28.92        29.03        30.59        31.26   \n",
       "...             ...          ...          ...          ...          ...   \n",
       "377625    680112.83    712298.32    666906.23    750569.79    856223.33   \n",
       "377626         0.26         0.27         0.25         0.28         0.32   \n",
       "377627     41425.05     43385.44     40620.65     45716.52     52151.78   \n",
       "377628         0.04         0.04         0.04         0.05         0.05   \n",
       "377629      6801.13      7122.98      6669.06      7505.70      8562.23   \n",
       "\n",
       "              Y2020        Y2021  Item  \n",
       "8           2087.00      2027.00   113  \n",
       "9       29683089.36  29660608.24   113  \n",
       "10            52.29        50.22   113  \n",
       "11        743840.14    735010.24   113  \n",
       "12            30.42        31.36   113  \n",
       "...             ...          ...   ...  \n",
       "377625    777137.28    968169.22    54  \n",
       "377626         0.29         0.36    54  \n",
       "377627     47334.73     58970.31    54  \n",
       "377628         0.05         0.06    54  \n",
       "377629      7771.37      9681.69    54  \n",
       "\n",
       "[323690 rows x 13 columns]"
      ]
     },
     "execution_count": 22,
     "metadata": {},
     "output_type": "execute_result"
    }
   ],
   "source": [
    "x"
   ]
  },
  {
   "cell_type": "code",
   "execution_count": 23,
   "metadata": {},
   "outputs": [],
   "source": [
    "import seaborn as sns\n",
    "import matplotlib.pyplot as plt"
   ]
  },
  {
   "cell_type": "code",
   "execution_count": 24,
   "metadata": {},
   "outputs": [
    {
     "data": {
      "text/plain": [
       "<Axes: >"
      ]
     },
     "execution_count": 24,
     "metadata": {},
     "output_type": "execute_result"
    },
    {
     "data": {
      "image/png": "[encoded data removed]",
      "text/plain": [
       "<Figure size 700x500 with 2 Axes>"
      ]
     },
     "metadata": {},
     "output_type": "display_data"
    }
   ],
   "source": [
    "# making a heatmap\n",
    "plt.figure(figsize=(7, 5))\n",
    "sns.heatmap(x.corr())"
   ]
  },
  {
   "cell_type": "markdown",
   "metadata": {},
   "source": [
    "Feature engineering"
   ]
  },
  {
   "cell_type": "code",
   "execution_count": 37,
   "metadata": {},
   "outputs": [],
   "source": [
    "xx = x.iloc[:1000,:]"
   ]
  },
  {
   "cell_type": "code",
   "execution_count": 48,
   "metadata": {},
   "outputs": [],
   "source": [
    "import numpy as np"
   ]
  },
  {
   "cell_type": "code",
   "execution_count": 62,
   "metadata": {},
   "outputs": [
    {
     "data": {
      "text/plain": [
       "-0.008851309290403876"
      ]
     },
     "execution_count": 62,
     "metadata": {},
     "output_type": "execute_result"
    }
   ],
   "source": [
    "np.sin(22)"
   ]
  },
  {
   "cell_type": "code",
   "execution_count": 70,
   "metadata": {},
   "outputs": [
    {
     "name": "stderr",
     "output_type": "stream",
     "text": [
      "/tmp/ipykernel_14346/1949538713.py:1: SettingWithCopyWarning: \n",
      "A value is trying to be set on a copy of a slice from a DataFrame.\n",
      "Try using .loc[row_indexer,col_indexer] = value instead\n",
      "\n",
      "See the caveats in the documentation: https://pandas.pydata.org/pandas-docs/stable/user_guide/indexing.html#returning-a-view-versus-a-copy\n",
      "  xx['Y2010Y2011'] = xx.Y2010*xx.Y2011/1000\n",
      "/home/sylva/anaconda3/envs/ml/lib/python3.12/site-packages/pandas/core/arraylike.py:396: RuntimeWarning: invalid value encountered in sqrt\n",
      "  result = getattr(ufunc, method)(*inputs, **kwargs)\n",
      "/tmp/ipykernel_14346/1949538713.py:2: SettingWithCopyWarning: \n",
      "A value is trying to be set on a copy of a slice from a DataFrame.\n",
      "Try using .loc[row_indexer,col_indexer] = value instead\n",
      "\n",
      "See the caveats in the documentation: https://pandas.pydata.org/pandas-docs/stable/user_guide/indexing.html#returning-a-view-versus-a-copy\n",
      "  xx['Y2011Y2012'] = np.sqrt(xx.Y2011)*xx.Item/4\n",
      "/tmp/ipykernel_14346/1949538713.py:3: SettingWithCopyWarning: \n",
      "A value is trying to be set on a copy of a slice from a DataFrame.\n",
      "Try using .loc[row_indexer,col_indexer] = value instead\n",
      "\n",
      "See the caveats in the documentation: https://pandas.pydata.org/pandas-docs/stable/user_guide/indexing.html#returning-a-view-versus-a-copy\n",
      "  xx['Y2012Y2013'] = xx.Y2012*xx.Y2013/xx.Item\n",
      "/tmp/ipykernel_14346/1949538713.py:4: SettingWithCopyWarning: \n",
      "A value is trying to be set on a copy of a slice from a DataFrame.\n",
      "Try using .loc[row_indexer,col_indexer] = value instead\n",
      "\n",
      "See the caveats in the documentation: https://pandas.pydata.org/pandas-docs/stable/user_guide/indexing.html#returning-a-view-versus-a-copy\n",
      "  xx['Y2013Y2014'] = xx.Y2013*np.sqrt(xx.Y2014)\n",
      "/tmp/ipykernel_14346/1949538713.py:5: SettingWithCopyWarning: \n",
      "A value is trying to be set on a copy of a slice from a DataFrame.\n",
      "Try using .loc[row_indexer,col_indexer] = value instead\n",
      "\n",
      "See the caveats in the documentation: https://pandas.pydata.org/pandas-docs/stable/user_guide/indexing.html#returning-a-view-versus-a-copy\n",
      "  xx['Y2014Y2015'] = xx.Y2014*xx.Y2015/np.sin(42)\n",
      "/tmp/ipykernel_14346/1949538713.py:6: SettingWithCopyWarning: \n",
      "A value is trying to be set on a copy of a slice from a DataFrame.\n",
      "Try using .loc[row_indexer,col_indexer] = value instead\n",
      "\n",
      "See the caveats in the documentation: https://pandas.pydata.org/pandas-docs/stable/user_guide/indexing.html#returning-a-view-versus-a-copy\n",
      "  xx['Y2015Y2016'] = xx.Y2015*np.sqrt(xx.Item)\n",
      "/tmp/ipykernel_14346/1949538713.py:7: SettingWithCopyWarning: \n",
      "A value is trying to be set on a copy of a slice from a DataFrame.\n",
      "Try using .loc[row_indexer,col_indexer] = value instead\n",
      "\n",
      "See the caveats in the documentation: https://pandas.pydata.org/pandas-docs/stable/user_guide/indexing.html#returning-a-view-versus-a-copy\n",
      "  xx['Y2016Y2017'] = np.sqrt(xx.Y2016)*np.sin(xx.Y2017)\n",
      "/tmp/ipykernel_14346/1949538713.py:8: SettingWithCopyWarning: \n",
      "A value is trying to be set on a copy of a slice from a DataFrame.\n",
      "Try using .loc[row_indexer,col_indexer] = value instead\n",
      "\n",
      "See the caveats in the documentation: https://pandas.pydata.org/pandas-docs/stable/user_guide/indexing.html#returning-a-view-versus-a-copy\n",
      "  xx['Y2017Y2018'] = np.sin(xx.Y2017)*xx.Y2018/422\n",
      "/tmp/ipykernel_14346/1949538713.py:9: SettingWithCopyWarning: \n",
      "A value is trying to be set on a copy of a slice from a DataFrame.\n",
      "Try using .loc[row_indexer,col_indexer] = value instead\n",
      "\n",
      "See the caveats in the documentation: https://pandas.pydata.org/pandas-docs/stable/user_guide/indexing.html#returning-a-view-versus-a-copy\n",
      "  xx['Y2018Y2019'] = np.sqrt(xx.Y2018*xx.Y2019)/999\n",
      "/tmp/ipykernel_14346/1949538713.py:10: SettingWithCopyWarning: \n",
      "A value is trying to be set on a copy of a slice from a DataFrame.\n",
      "Try using .loc[row_indexer,col_indexer] = value instead\n",
      "\n",
      "See the caveats in the documentation: https://pandas.pydata.org/pandas-docs/stable/user_guide/indexing.html#returning-a-view-versus-a-copy\n",
      "  xx['Y2019Y2020'] = np.sin(xx.Item)*xx.Y2020\n",
      "/tmp/ipykernel_14346/1949538713.py:11: SettingWithCopyWarning: \n",
      "A value is trying to be set on a copy of a slice from a DataFrame.\n",
      "Try using .loc[row_indexer,col_indexer] = value instead\n",
      "\n",
      "See the caveats in the documentation: https://pandas.pydata.org/pandas-docs/stable/user_guide/indexing.html#returning-a-view-versus-a-copy\n",
      "  xx['Y2020Y2021'] = xx.Y2020*xx.Y2021\n"
     ]
    }
   ],
   "source": [
    "xx['Y2010Y2011'] = xx.Y2010*xx.Y2011/1000\n",
    "xx['Y2011Y2012'] = np.sqrt(xx.Y2011)*xx.Item/4\n",
    "xx['Y2012Y2013'] = xx.Y2012*xx.Y2013/xx.Item\n",
    "xx['Y2013Y2014'] = xx.Y2013*np.sqrt(xx.Y2014)\n",
    "xx['Y2014Y2015'] = xx.Y2014*xx.Y2015/np.sin(42)\n",
    "xx['Y2015Y2016'] = xx.Y2015*np.sqrt(xx.Item)\n",
    "xx['Y2016Y2017'] = np.sqrt(xx.Y2016)*np.sin(xx.Y2017)\n",
    "xx['Y2017Y2018'] = np.sin(xx.Y2017)*xx.Y2018/422\n",
    "xx['Y2018Y2019'] = np.sqrt(xx.Y2018*xx.Y2019)/999\n",
    "xx['Y2019Y2020'] = np.sin(xx.Item)*xx.Y2020\n",
    "xx['Y2020Y2021'] = xx.Y2020*xx.Y2021"
   ]
  },
  {
   "cell_type": "code",
   "execution_count": 71,
   "metadata": {},
   "outputs": [
    {
     "name": "stdout",
     "output_type": "stream",
     "text": [
      "<class 'pandas.core.frame.DataFrame'>\n",
      "Index: 1000 entries, 8 to 1438\n",
      "Data columns (total 24 columns):\n",
      " #   Column      Non-Null Count  Dtype  \n",
      "---  ------      --------------  -----  \n",
      " 0   Y2010       1000 non-null   float64\n",
      " 1   Y2011       1000 non-null   float64\n",
      " 2   Y2012       1000 non-null   float64\n",
      " 3   Y2013       1000 non-null   float64\n",
      " 4   Y2014       1000 non-null   float64\n",
      " 5   Y2015       1000 non-null   float64\n",
      " 6   Y2016       1000 non-null   float64\n",
      " 7   Y2017       1000 non-null   float64\n",
      " 8   Y2018       1000 non-null   float64\n",
      " 9   Y2019       1000 non-null   float64\n",
      " 10  Y2020       1000 non-null   float64\n",
      " 11  Y2021       1000 non-null   float64\n",
      " 12  Item        1000 non-null   int64  \n",
      " 13  Y2010Y2011  1000 non-null   float64\n",
      " 14  Y2011Y2012  986 non-null    float64\n",
      " 15  Y2012Y2013  998 non-null    float64\n",
      " 16  Y2013Y2014  968 non-null    float64\n",
      " 17  Y2014Y2015  1000 non-null   float64\n",
      " 18  Y2015Y2016  1000 non-null   float64\n",
      " 19  Y2016Y2017  980 non-null    float64\n",
      " 20  Y2017Y2018  1000 non-null   float64\n",
      " 21  Y2018Y2019  991 non-null    float64\n",
      " 22  Y2019Y2020  1000 non-null   float64\n",
      " 23  Y2020Y2021  1000 non-null   float64\n",
      "dtypes: float64(23), int64(1)\n",
      "memory usage: 195.3 KB\n"
     ]
    }
   ],
   "source": [
    "xx.info()"
   ]
  },
  {
   "cell_type": "code",
   "execution_count": 72,
   "metadata": {},
   "outputs": [
    {
     "data": {
      "text/plain": [
       "<Axes: >"
      ]
     },
     "execution_count": 72,
     "metadata": {},
     "output_type": "execute_result"
    },
    {
     "data": {
      "image/png": "[encoded data removed]",
      "text/plain": [
       "<Figure size 700x500 with 2 Axes>"
      ]
     },
     "metadata": {},
     "output_type": "display_data"
    }
   ],
   "source": [
    "# making a heatmap\n",
    "plt.figure(figsize=(7, 5))\n",
    "sns.heatmap(xx.corr())"
   ]
  },
  {
   "cell_type": "code",
   "execution_count": 73,
   "metadata": {},
   "outputs": [
    {
     "data": {
      "text/html": [
       "<div>\n",
       "<style scoped>\n",
       "    .dataframe tbody tr th:only-of-type {\n",
       "        vertical-align: middle;\n",
       "    }\n",
       "\n",
       "    .dataframe tbody tr th {\n",
       "        vertical-align: top;\n",
       "    }\n",
       "\n",
       "    .dataframe thead th {\n",
       "        text-align: right;\n",
       "    }\n",
       "</style>\n",
       "<table border=\"1\" class=\"dataframe\">\n",
       "  <thead>\n",
       "    <tr style=\"text-align: right;\">\n",
       "      <th></th>\n",
       "      <th>Item</th>\n",
       "      <th>Y2010Y2011</th>\n",
       "      <th>Y2011Y2012</th>\n",
       "      <th>Y2012Y2013</th>\n",
       "      <th>Y2013Y2014</th>\n",
       "      <th>Y2014Y2015</th>\n",
       "      <th>Y2015Y2016</th>\n",
       "      <th>Y2016Y2017</th>\n",
       "      <th>Y2017Y2018</th>\n",
       "      <th>Y2018Y2019</th>\n",
       "      <th>Y2019Y2020</th>\n",
       "      <th>Y2020Y2021</th>\n",
       "    </tr>\n",
       "  </thead>\n",
       "  <tbody>\n",
       "    <tr>\n",
       "      <th>8</th>\n",
       "      <td>113</td>\n",
       "      <td>3.987888e+03</td>\n",
       "      <td>1258.948817</td>\n",
       "      <td>3.521827e+04</td>\n",
       "      <td>9.087582e+04</td>\n",
       "      <td>-4.558400e+06</td>\n",
       "      <td>2.181306e+04</td>\n",
       "      <td>-44.763501</td>\n",
       "      <td>-4.883621</td>\n",
       "      <td>2.073542</td>\n",
       "      <td>-2.028186e+02</td>\n",
       "      <td>4.230349e+06</td>\n",
       "    </tr>\n",
       "    <tr>\n",
       "      <th>9</th>\n",
       "      <td>113</td>\n",
       "      <td>4.378770e+11</td>\n",
       "      <td>130068.834807</td>\n",
       "      <td>4.510124e+12</td>\n",
       "      <td>1.143519e+11</td>\n",
       "      <td>-6.705344e+14</td>\n",
       "      <td>2.686959e+08</td>\n",
       "      <td>-5082.913014</td>\n",
       "      <td>-66036.318330</td>\n",
       "      <td>28171.479942</td>\n",
       "      <td>-2.884659e+06</td>\n",
       "      <td>8.804185e+14</td>\n",
       "    </tr>\n",
       "    <tr>\n",
       "      <th>10</th>\n",
       "      <td>113</td>\n",
       "      <td>2.764671e+00</td>\n",
       "      <td>203.458846</td>\n",
       "      <td>2.286336e+01</td>\n",
       "      <td>3.656056e+02</td>\n",
       "      <td>-2.860166e+03</td>\n",
       "      <td>5.462832e+02</td>\n",
       "      <td>-1.747208</td>\n",
       "      <td>-0.029504</td>\n",
       "      <td>0.051309</td>\n",
       "      <td>-5.081642e+00</td>\n",
       "      <td>2.626004e+03</td>\n",
       "    </tr>\n",
       "    <tr>\n",
       "      <th>11</th>\n",
       "      <td>113</td>\n",
       "      <td>3.036716e+08</td>\n",
       "      <td>21021.406431</td>\n",
       "      <td>2.927455e+09</td>\n",
       "      <td>4.599949e+08</td>\n",
       "      <td>-4.207677e+11</td>\n",
       "      <td>6.729828e+06</td>\n",
       "      <td>646.929323</td>\n",
       "      <td>1300.959240</td>\n",
       "      <td>697.122803</td>\n",
       "      <td>-7.228780e+04</td>\n",
       "      <td>5.467301e+11</td>\n",
       "    </tr>\n",
       "    <tr>\n",
       "      <th>12</th>\n",
       "      <td>113</td>\n",
       "      <td>5.808852e-01</td>\n",
       "      <td>136.392217</td>\n",
       "      <td>5.548296e+00</td>\n",
       "      <td>1.308135e+02</td>\n",
       "      <td>-7.602292e+02</td>\n",
       "      <td>2.759586e+02</td>\n",
       "      <td>-3.687907</td>\n",
       "      <td>-0.049710</td>\n",
       "      <td>0.030954</td>\n",
       "      <td>-2.956274e+00</td>\n",
       "      <td>9.539712e+02</td>\n",
       "    </tr>\n",
       "  </tbody>\n",
       "</table>\n",
       "</div>"
      ],
      "text/plain": [
       "    Item    Y2010Y2011     Y2011Y2012    Y2012Y2013    Y2013Y2014  \\\n",
       "8    113  3.987888e+03    1258.948817  3.521827e+04  9.087582e+04   \n",
       "9    113  4.378770e+11  130068.834807  4.510124e+12  1.143519e+11   \n",
       "10   113  2.764671e+00     203.458846  2.286336e+01  3.656056e+02   \n",
       "11   113  3.036716e+08   21021.406431  2.927455e+09  4.599949e+08   \n",
       "12   113  5.808852e-01     136.392217  5.548296e+00  1.308135e+02   \n",
       "\n",
       "      Y2014Y2015    Y2015Y2016   Y2016Y2017    Y2017Y2018    Y2018Y2019  \\\n",
       "8  -4.558400e+06  2.181306e+04   -44.763501     -4.883621      2.073542   \n",
       "9  -6.705344e+14  2.686959e+08 -5082.913014 -66036.318330  28171.479942   \n",
       "10 -2.860166e+03  5.462832e+02    -1.747208     -0.029504      0.051309   \n",
       "11 -4.207677e+11  6.729828e+06   646.929323   1300.959240    697.122803   \n",
       "12 -7.602292e+02  2.759586e+02    -3.687907     -0.049710      0.030954   \n",
       "\n",
       "      Y2019Y2020    Y2020Y2021  \n",
       "8  -2.028186e+02  4.230349e+06  \n",
       "9  -2.884659e+06  8.804185e+14  \n",
       "10 -5.081642e+00  2.626004e+03  \n",
       "11 -7.228780e+04  5.467301e+11  \n",
       "12 -2.956274e+00  9.539712e+02  "
      ]
     },
     "execution_count": 73,
     "metadata": {},
     "output_type": "execute_result"
    }
   ],
   "source": [
    "x= xx.drop(['Y2010','Y2011','Y2012','Y2013','Y2014','Y2015','Y2016','Y2017','Y2018','Y2019','Y2020','Y2021',],axis=1)\n",
    "x.head()"
   ]
  },
  {
   "cell_type": "code",
   "execution_count": 74,
   "metadata": {},
   "outputs": [
    {
     "data": {
      "text/plain": [
       "<Axes: >"
      ]
     },
     "execution_count": 74,
     "metadata": {},
     "output_type": "execute_result"
    },
    {
     "data": {
      "image/png": "[encoded data removed]",
      "text/plain": [
       "<Figure size 700x500 with 2 Axes>"
      ]
     },
     "metadata": {},
     "output_type": "display_data"
    }
   ],
   "source": [
    "# making a heatmap\n",
    "plt.figure(figsize=(7, 5))\n",
    "sns.heatmap(x.corr())"
   ]
  },
  {
   "cell_type": "code",
   "execution_count": 75,
   "metadata": {},
   "outputs": [],
   "source": [
    "encoderY = LabelEncoder()\n",
    "encoderY.fit(y)\n",
    "encodedY = encoderY.transform(y)"
   ]
  },
  {
   "cell_type": "code",
   "execution_count": 76,
   "metadata": {},
   "outputs": [],
   "source": [
    "from sklearn.preprocessing import StandardScaler\n",
    "from sklearn.model_selection import train_test_split\n",
    "from sklearn.linear_model import LogisticRegression\n",
    "from sklearn.metrics import accuracy_score\n"
   ]
  },
  {
   "cell_type": "code",
   "execution_count": 77,
   "metadata": {},
   "outputs": [
    {
     "ename": "ValueError",
     "evalue": "Found input variables with inconsistent numbers of samples: [1000, 323690]",
     "output_type": "error",
     "traceback": [
      "\u001b[0;31m---------------------------------------------------------------------------\u001b[0m",
      "\u001b[0;31mValueError\u001b[0m                                Traceback (most recent call last)",
      "\u001b[1;32m/home/sylva/things-n-thingses/ml-stack/ML/Tensorflow_works/food-feaceability/food.ipynb Cell 42\u001b[0m line \u001b[0;36m2\n\u001b[1;32m      <a href='vscode-notebook-cell://wsl%2Bubuntu/home/sylva/things-n-thingses/ml-stack/ML/Tensorflow_works/food-feaceability/food.ipynb#X44sdnNjb2RlLXJlbW90ZQ%3D%3D?line=0'>1</a>\u001b[0m \u001b[39m# divide the dataset into train and test set\u001b[39;00m\n\u001b[0;32m----> <a href='vscode-notebook-cell://wsl%2Bubuntu/home/sylva/things-n-thingses/ml-stack/ML/Tensorflow_works/food-feaceability/food.ipynb#X44sdnNjb2RlLXJlbW90ZQ%3D%3D?line=1'>2</a>\u001b[0m X_train, X_test, y_train, y_test \u001b[39m=\u001b[39m train_test_split(x, y, test_size\u001b[39m=\u001b[39;49m\u001b[39m0.3\u001b[39;49m)\n",
      "File \u001b[0;32m~/anaconda3/envs/ml/lib/python3.12/site-packages/sklearn/utils/_param_validation.py:214\u001b[0m, in \u001b[0;36mvalidate_params.<locals>.decorator.<locals>.wrapper\u001b[0;34m(*args, **kwargs)\u001b[0m\n\u001b[1;32m    208\u001b[0m \u001b[39mtry\u001b[39;00m:\n\u001b[1;32m    209\u001b[0m     \u001b[39mwith\u001b[39;00m config_context(\n\u001b[1;32m    210\u001b[0m         skip_parameter_validation\u001b[39m=\u001b[39m(\n\u001b[1;32m    211\u001b[0m             prefer_skip_nested_validation \u001b[39mor\u001b[39;00m global_skip_validation\n\u001b[1;32m    212\u001b[0m         )\n\u001b[1;32m    213\u001b[0m     ):\n\u001b[0;32m--> 214\u001b[0m         \u001b[39mreturn\u001b[39;00m func(\u001b[39m*\u001b[39;49margs, \u001b[39m*\u001b[39;49m\u001b[39m*\u001b[39;49mkwargs)\n\u001b[1;32m    215\u001b[0m \u001b[39mexcept\u001b[39;00m InvalidParameterError \u001b[39mas\u001b[39;00m e:\n\u001b[1;32m    216\u001b[0m     \u001b[39m# When the function is just a wrapper around an estimator, we allow\u001b[39;00m\n\u001b[1;32m    217\u001b[0m     \u001b[39m# the function to delegate validation to the estimator, but we replace\u001b[39;00m\n\u001b[1;32m    218\u001b[0m     \u001b[39m# the name of the estimator by the name of the function in the error\u001b[39;00m\n\u001b[1;32m    219\u001b[0m     \u001b[39m# message to avoid confusion.\u001b[39;00m\n\u001b[1;32m    220\u001b[0m     msg \u001b[39m=\u001b[39m re\u001b[39m.\u001b[39msub(\n\u001b[1;32m    221\u001b[0m         \u001b[39mr\u001b[39m\u001b[39m\"\u001b[39m\u001b[39mparameter of \u001b[39m\u001b[39m\\\u001b[39m\u001b[39mw+ must be\u001b[39m\u001b[39m\"\u001b[39m,\n\u001b[1;32m    222\u001b[0m         \u001b[39mf\u001b[39m\u001b[39m\"\u001b[39m\u001b[39mparameter of \u001b[39m\u001b[39m{\u001b[39;00mfunc\u001b[39m.\u001b[39m\u001b[39m__qualname__\u001b[39m\u001b[39m}\u001b[39;00m\u001b[39m must be\u001b[39m\u001b[39m\"\u001b[39m,\n\u001b[1;32m    223\u001b[0m         \u001b[39mstr\u001b[39m(e),\n\u001b[1;32m    224\u001b[0m     )\n",
      "File \u001b[0;32m~/anaconda3/envs/ml/lib/python3.12/site-packages/sklearn/model_selection/_split.py:2646\u001b[0m, in \u001b[0;36mtrain_test_split\u001b[0;34m(test_size, train_size, random_state, shuffle, stratify, *arrays)\u001b[0m\n\u001b[1;32m   2643\u001b[0m \u001b[39mif\u001b[39;00m n_arrays \u001b[39m==\u001b[39m \u001b[39m0\u001b[39m:\n\u001b[1;32m   2644\u001b[0m     \u001b[39mraise\u001b[39;00m \u001b[39mValueError\u001b[39;00m(\u001b[39m\"\u001b[39m\u001b[39mAt least one array required as input\u001b[39m\u001b[39m\"\u001b[39m)\n\u001b[0;32m-> 2646\u001b[0m arrays \u001b[39m=\u001b[39m indexable(\u001b[39m*\u001b[39;49marrays)\n\u001b[1;32m   2648\u001b[0m n_samples \u001b[39m=\u001b[39m _num_samples(arrays[\u001b[39m0\u001b[39m])\n\u001b[1;32m   2649\u001b[0m n_train, n_test \u001b[39m=\u001b[39m _validate_shuffle_split(\n\u001b[1;32m   2650\u001b[0m     n_samples, test_size, train_size, default_test_size\u001b[39m=\u001b[39m\u001b[39m0.25\u001b[39m\n\u001b[1;32m   2651\u001b[0m )\n",
      "File \u001b[0;32m~/anaconda3/envs/ml/lib/python3.12/site-packages/sklearn/utils/validation.py:453\u001b[0m, in \u001b[0;36mindexable\u001b[0;34m(*iterables)\u001b[0m\n\u001b[1;32m    434\u001b[0m \u001b[39m\u001b[39m\u001b[39m\"\"\"Make arrays indexable for cross-validation.\u001b[39;00m\n\u001b[1;32m    435\u001b[0m \n\u001b[1;32m    436\u001b[0m \u001b[39mChecks consistent length, passes through None, and ensures that everything\u001b[39;00m\n\u001b[0;32m   (...)\u001b[0m\n\u001b[1;32m    449\u001b[0m \u001b[39m    sparse matrix, or dataframe) or `None`.\u001b[39;00m\n\u001b[1;32m    450\u001b[0m \u001b[39m\"\"\"\u001b[39;00m\n\u001b[1;32m    452\u001b[0m result \u001b[39m=\u001b[39m [_make_indexable(X) \u001b[39mfor\u001b[39;00m X \u001b[39min\u001b[39;00m iterables]\n\u001b[0;32m--> 453\u001b[0m check_consistent_length(\u001b[39m*\u001b[39;49mresult)\n\u001b[1;32m    454\u001b[0m \u001b[39mreturn\u001b[39;00m result\n",
      "File \u001b[0;32m~/anaconda3/envs/ml/lib/python3.12/site-packages/sklearn/utils/validation.py:407\u001b[0m, in \u001b[0;36mcheck_consistent_length\u001b[0;34m(*arrays)\u001b[0m\n\u001b[1;32m    405\u001b[0m uniques \u001b[39m=\u001b[39m np\u001b[39m.\u001b[39munique(lengths)\n\u001b[1;32m    406\u001b[0m \u001b[39mif\u001b[39;00m \u001b[39mlen\u001b[39m(uniques) \u001b[39m>\u001b[39m \u001b[39m1\u001b[39m:\n\u001b[0;32m--> 407\u001b[0m     \u001b[39mraise\u001b[39;00m \u001b[39mValueError\u001b[39;00m(\n\u001b[1;32m    408\u001b[0m         \u001b[39m\"\u001b[39m\u001b[39mFound input variables with inconsistent numbers of samples: \u001b[39m\u001b[39m%r\u001b[39;00m\u001b[39m\"\u001b[39m\n\u001b[1;32m    409\u001b[0m         \u001b[39m%\u001b[39m [\u001b[39mint\u001b[39m(l) \u001b[39mfor\u001b[39;00m l \u001b[39min\u001b[39;00m lengths]\n\u001b[1;32m    410\u001b[0m     )\n",
      "\u001b[0;31mValueError\u001b[0m: Found input variables with inconsistent numbers of samples: [1000, 323690]"
     ]
    }
   ],
   "source": [
    "# divide the dataset into train and test set\n",
    "X_train, X_test, y_train, y_test = train_test_split(x, y, test_size=0.3)"
   ]
  },
  {
   "cell_type": "code",
   "execution_count": 78,
   "metadata": {},
   "outputs": [
    {
     "data": {
      "text/plain": [
       "((388181, 21), (226583, 13), (97107, 13), (226583,), (97107,))"
      ]
     },
     "execution_count": 78,
     "metadata": {},
     "output_type": "execute_result"
    }
   ],
   "source": [
    "df.shape,X_train.shape,X_test.shape,y_train.shape,y_test.shape"
   ]
  },
  {
   "cell_type": "code",
   "execution_count": 79,
   "metadata": {},
   "outputs": [
    {
     "data": {
      "text/plain": [
       "array([[-0.01661862, -0.01658045, -0.0166419 , ..., -0.01682985,\n",
       "        -0.01686268,  1.16874472],\n",
       "       [-0.01661061, -0.016571  , -0.01663387, ..., -0.01682104,\n",
       "        -0.01684844, -0.17553137],\n",
       "       [-0.01662109, -0.01658321, -0.0166445 , ..., -0.01683246,\n",
       "        -0.01686579, -0.45049694],\n",
       "       ...,\n",
       "       [-0.01662098, -0.01658309, -0.01664124, ..., -0.01682419,\n",
       "        -0.01685803,  0.77157224],\n",
       "       [-0.01661902, -0.01658129, -0.01664245, ..., -0.01683073,\n",
       "        -0.01686399, -0.51160039],\n",
       "       [-0.01585214, -0.01568575, -0.01591822, ..., -0.0159048 ,\n",
       "        -0.01597599,  1.5659172 ]])"
      ]
     },
     "execution_count": 79,
     "metadata": {},
     "output_type": "execute_result"
    }
   ],
   "source": [
    "ss = StandardScaler()\n",
    "X_train = ss.fit_transform(X_train)\n",
    "X_test = ss.transform(X_test)\n",
    "X_train"
   ]
  },
  {
   "cell_type": "markdown",
   "metadata": {},
   "source": [
    "#### Training"
   ]
  },
  {
   "cell_type": "code",
   "execution_count": 80,
   "metadata": {},
   "outputs": [
    {
     "name": "stderr",
     "output_type": "stream",
     "text": [
      "/home/sylva/anaconda3/envs/ml/lib/python3.12/site-packages/sklearn/linear_model/_logistic.py:460: ConvergenceWarning: lbfgs failed to converge (status=1):\n",
      "STOP: TOTAL NO. of ITERATIONS REACHED LIMIT.\n",
      "\n",
      "Increase the number of iterations (max_iter) or scale the data as shown in:\n",
      "    https://scikit-learn.org/stable/modules/preprocessing.html\n",
      "Please also refer to the documentation for alternative solver options:\n",
      "    https://scikit-learn.org/stable/modules/linear_model.html#logistic-regression\n",
      "  n_iter_i = _check_optimize_result(\n"
     ]
    },
    {
     "data": {
      "text/html": [
       "<style>#sk-container-id-2 {color: black;}#sk-container-id-2 pre{padding: 0;}#sk-container-id-2 div.sk-toggleable {background-color: white;}#sk-container-id-2 label.sk-toggleable__label {cursor: pointer;display: block;width: 100%;margin-bottom: 0;padding: 0.3em;box-sizing: border-box;text-align: center;}#sk-container-id-2 label.sk-toggleable__label-arrow:before {content: \"▸\";float: left;margin-right: 0.25em;color: #696969;}#sk-container-id-2 label.sk-toggleable__label-arrow:hover:before {color: black;}#sk-container-id-2 div.sk-estimator:hover label.sk-toggleable__label-arrow:before {color: black;}#sk-container-id-2 div.sk-toggleable__content {max-height: 0;max-width: 0;overflow: hidden;text-align: left;background-color: #f0f8ff;}#sk-container-id-2 div.sk-toggleable__content pre {margin: 0.2em;color: black;border-radius: 0.25em;background-color: #f0f8ff;}#sk-container-id-2 input.sk-toggleable__control:checked~div.sk-toggleable__content {max-height: 200px;max-width: 100%;overflow: auto;}#sk-container-id-2 input.sk-toggleable__control:checked~label.sk-toggleable__label-arrow:before {content: \"▾\";}#sk-container-id-2 div.sk-estimator input.sk-toggleable__control:checked~label.sk-toggleable__label {background-color: #d4ebff;}#sk-container-id-2 div.sk-label input.sk-toggleable__control:checked~label.sk-toggleable__label {background-color: #d4ebff;}#sk-container-id-2 input.sk-hidden--visually {border: 0;clip: rect(1px 1px 1px 1px);clip: rect(1px, 1px, 1px, 1px);height: 1px;margin: -1px;overflow: hidden;padding: 0;position: absolute;width: 1px;}#sk-container-id-2 div.sk-estimator {font-family: monospace;background-color: #f0f8ff;border: 1px dotted black;border-radius: 0.25em;box-sizing: border-box;margin-bottom: 0.5em;}#sk-container-id-2 div.sk-estimator:hover {background-color: #d4ebff;}#sk-container-id-2 div.sk-parallel-item::after {content: \"\";width: 100%;border-bottom: 1px solid gray;flex-grow: 1;}#sk-container-id-2 div.sk-label:hover label.sk-toggleable__label {background-color: #d4ebff;}#sk-container-id-2 div.sk-serial::before {content: \"\";position: absolute;border-left: 1px solid gray;box-sizing: border-box;top: 0;bottom: 0;left: 50%;z-index: 0;}#sk-container-id-2 div.sk-serial {display: flex;flex-direction: column;align-items: center;background-color: white;padding-right: 0.2em;padding-left: 0.2em;position: relative;}#sk-container-id-2 div.sk-item {position: relative;z-index: 1;}#sk-container-id-2 div.sk-parallel {display: flex;align-items: stretch;justify-content: center;background-color: white;position: relative;}#sk-container-id-2 div.sk-item::before, #sk-container-id-2 div.sk-parallel-item::before {content: \"\";position: absolute;border-left: 1px solid gray;box-sizing: border-box;top: 0;bottom: 0;left: 50%;z-index: -1;}#sk-container-id-2 div.sk-parallel-item {display: flex;flex-direction: column;z-index: 1;position: relative;background-color: white;}#sk-container-id-2 div.sk-parallel-item:first-child::after {align-self: flex-end;width: 50%;}#sk-container-id-2 div.sk-parallel-item:last-child::after {align-self: flex-start;width: 50%;}#sk-container-id-2 div.sk-parallel-item:only-child::after {width: 0;}#sk-container-id-2 div.sk-dashed-wrapped {border: 1px dashed gray;margin: 0 0.4em 0.5em 0.4em;box-sizing: border-box;padding-bottom: 0.4em;background-color: white;}#sk-container-id-2 div.sk-label label {font-family: monospace;font-weight: bold;display: inline-block;line-height: 1.2em;}#sk-container-id-2 div.sk-label-container {text-align: center;}#sk-container-id-2 div.sk-container {/* jupyter's `normalize.less` sets `[hidden] { display: none; }` but bootstrap.min.css set `[hidden] { display: none !important; }` so we also need the `!important` here to be able to override the default hidden behavior on the sphinx rendered scikit-learn.org. See: https://github.com/scikit-learn/scikit-learn/issues/21755 */display: inline-block !important;position: relative;}#sk-container-id-2 div.sk-text-repr-fallback {display: none;}</style><div id=\"sk-container-id-2\" class=\"sk-top-container\"><div class=\"sk-text-repr-fallback\"><pre>LogisticRegression()</pre><b>In a Jupyter environment, please rerun this cell to show the HTML representation or trust the notebook. <br />On GitHub, the HTML representation is unable to render, please try loading this page with nbviewer.org.</b></div><div class=\"sk-container\" hidden><div class=\"sk-item\"><div class=\"sk-estimator sk-toggleable\"><input class=\"sk-toggleable__control sk-hidden--visually\" id=\"sk-estimator-id-2\" type=\"checkbox\" checked><label for=\"sk-estimator-id-2\" class=\"sk-toggleable__label sk-toggleable__label-arrow\">LogisticRegression</label><div class=\"sk-toggleable__content\"><pre>LogisticRegression()</pre></div></div></div></div></div>"
      ],
      "text/plain": [
       "LogisticRegression()"
      ]
     },
     "execution_count": 80,
     "metadata": {},
     "output_type": "execute_result"
    }
   ],
   "source": [
    "# apply Logistic Regression\n",
    "lr = LogisticRegression()\n",
    "lr.fit(X_train, y_train)"
   ]
  },
  {
   "cell_type": "code",
   "execution_count": 81,
   "metadata": {},
   "outputs": [
    {
     "data": {
      "text/plain": [
       "array(['World', 'World', 'Asia', ..., 'World', 'World', 'World'],\n",
       "      dtype=object)"
      ]
     },
     "execution_count": 81,
     "metadata": {},
     "output_type": "execute_result"
    }
   ],
   "source": [
    "# implemented our model through logistic regression\n",
    "y_pred = lr.predict(X_test)\n",
    "y_pred\n"
   ]
  },
  {
   "cell_type": "code",
   "execution_count": 82,
   "metadata": {},
   "outputs": [
    {
     "name": "stdout",
     "output_type": "stream",
     "text": [
      "0.0063538158938078616\n"
     ]
    }
   ],
   "source": [
    "lr_acc = accuracy_score(y_test, y_pred)\n",
    "print(lr_acc)"
   ]
  },
  {
   "cell_type": "code",
   "execution_count": 83,
   "metadata": {},
   "outputs": [],
   "source": [
    "import sklearn.metrics as metrics"
   ]
  },
  {
   "cell_type": "code",
   "execution_count": 84,
   "metadata": {},
   "outputs": [
    {
     "data": {
      "image/png": "[encoded data removed]",
      "text/plain": [
       "<Figure size 640x480 with 2 Axes>"
      ]
     },
     "metadata": {},
     "output_type": "display_data"
    }
   ],
   "source": [
    "\n",
    "confusion_matrix = metrics.confusion_matrix(y_test,y_pred)\n",
    "# print(confusion_matrix)\n",
    "cm_display = metrics.ConfusionMatrixDisplay(confusion_matrix = confusion_matrix)\n",
    "\n",
    "cm_display.plot()\n",
    "plt.show() "
   ]
  },
  {
   "cell_type": "code",
   "execution_count": null,
   "metadata": {},
   "outputs": [],
   "source": []
  },
  {
   "cell_type": "code",
   "execution_count": null,
   "metadata": {},
   "outputs": [],
   "source": []
  }
 ],
 "metadata": {
  "kernelspec": {
   "display_name": "ml",
   "language": "python",
   "name": "python3"
  },
  "language_info": {
   "codemirror_mode": {
    "name": "ipython",
    "version": 3
   },
   "file_extension": ".py",
   "mimetype": "text/x-python",
   "name": "python",
   "nbconvert_exporter": "python",
   "pygments_lexer": "ipython3",
   "version": "3.12.0"
  }
 },
 "nbformat": 4,
 "nbformat_minor": 2
}
