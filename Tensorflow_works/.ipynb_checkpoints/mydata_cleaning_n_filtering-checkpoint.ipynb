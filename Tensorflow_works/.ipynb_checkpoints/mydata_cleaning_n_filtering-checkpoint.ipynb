{
 "cells": [
  {
   "cell_type": "code",
   "execution_count": 1,
   "metadata": {},
   "outputs": [],
   "source": [
    "import os\n",
    "import openpyxl as op\n",
    "import xlrd\n",
    "import pyexcel\n",
    "import xlutils\n",
    "\n",
    "from pandas import ExcelWriter\n",
    "import tensorflow as tf\n",
    "from tensorflow import feature_column\n",
    "from tensorflow.keras import layers\n",
    "from sklearn.model_selection import train_test_split\n",
    "\n",
    "# from tensorflow_core.python.feature_column.feature_column_v2 import BucketizedColumn\n",
    "# from tensorflow.python.keras.layers import Dense, Dropout\n",
    "# from tensorflow.python.keras.optimizers import Adam\n",
    "# from tensorflow.python.keras.models import load_model\n",
    "import secrets\n",
    "import pandas as pd \n",
    "import numpy as np\n",
    "import tsfel\n",
    "import zipfile\n",
    "from matplotlib import pyplot as plt \n",
    "import seaborn as sns\n",
    "# from sklearn.metrics import classification_report\n",
    "# from sklearn.tree import DecisionTreeClassifier\n",
    "# from sklearn.metrics import confusion_matrix, accuracy_score\n",
    "sns.set()\n"
   ]
  },
  {
   "cell_type": "code",
   "execution_count": 2,
   "metadata": {},
   "outputs": [],
   "source": [
    "import seaborn as sns\n",
    "import scipy as sc\n",
    "import secrets\n"
   ]
  },
  {
   "cell_type": "code",
   "execution_count": 3,
   "metadata": {},
   "outputs": [
    {
     "data": {
      "text/plain": [
       "'C:\\\\Users\\\\FACULTY OF SCIENCE\\\\Documents\\\\Tensorflow_works'"
      ]
     },
     "execution_count": 3,
     "metadata": {},
     "output_type": "execute_result"
    }
   ],
   "source": [
    "\n",
    "#os.getcwd()\n",
    "os.chdir('C:\\\\Users\\\\FACULTY OF SCIENCE\\\\Documents\\\\Tensorflow_works')\n",
    "os.getcwd()"
   ]
  },
  {
   "cell_type": "markdown",
   "metadata": {},
   "source": [
    "### Importing my handcrafted file"
   ]
  },
  {
   "cell_type": "code",
   "execution_count": 23,
   "metadata": {},
   "outputs": [
    {
     "data": {
      "text/html": [
       "<div>\n",
       "<style scoped>\n",
       "    .dataframe tbody tr th:only-of-type {\n",
       "        vertical-align: middle;\n",
       "    }\n",
       "\n",
       "    .dataframe tbody tr th {\n",
       "        vertical-align: top;\n",
       "    }\n",
       "\n",
       "    .dataframe thead th {\n",
       "        text-align: right;\n",
       "    }\n",
       "</style>\n",
       "<table border=\"1\" class=\"dataframe\">\n",
       "  <thead>\n",
       "    <tr style=\"text-align: right;\">\n",
       "      <th></th>\n",
       "      <th>X</th>\n",
       "      <th>Y</th>\n",
       "      <th>Z</th>\n",
       "      <th>TP</th>\n",
       "    </tr>\n",
       "  </thead>\n",
       "  <tbody>\n",
       "    <tr>\n",
       "      <th>0</th>\n",
       "      <td>0.472</td>\n",
       "      <td>0.170</td>\n",
       "      <td>5.000</td>\n",
       "      <td>0</td>\n",
       "    </tr>\n",
       "    <tr>\n",
       "      <th>1</th>\n",
       "      <td>-0.205</td>\n",
       "      <td>-0.425</td>\n",
       "      <td>0.271</td>\n",
       "      <td>5</td>\n",
       "    </tr>\n",
       "    <tr>\n",
       "      <th>2</th>\n",
       "      <td>-0.184</td>\n",
       "      <td>-0.866</td>\n",
       "      <td>0.265</td>\n",
       "      <td>5</td>\n",
       "    </tr>\n",
       "    <tr>\n",
       "      <th>3</th>\n",
       "      <td>-0.166</td>\n",
       "      <td>-0.779</td>\n",
       "      <td>-0.130</td>\n",
       "      <td>5</td>\n",
       "    </tr>\n",
       "    <tr>\n",
       "      <th>4</th>\n",
       "      <td>-0.184</td>\n",
       "      <td>-1.046</td>\n",
       "      <td>0.580</td>\n",
       "      <td>5</td>\n",
       "    </tr>\n",
       "  </tbody>\n",
       "</table>\n",
       "</div>"
      ],
      "text/plain": [
       "       X      Y      Z  TP\n",
       "0  0.472  0.170  5.000   0\n",
       "1 -0.205 -0.425  0.271   5\n",
       "2 -0.184 -0.866  0.265   5\n",
       "3 -0.166 -0.779 -0.130   5\n",
       "4 -0.184 -1.046  0.580   5"
      ]
     },
     "execution_count": 23,
     "metadata": {},
     "output_type": "execute_result"
    }
   ],
   "source": [
    "data = pd.read_csv('D:\\\\desktop files\\\\weka\\\\Files\\\\trainfile.txt')\n",
    "data.head()"
   ]
  },
  {
   "cell_type": "markdown",
   "metadata": {},
   "source": [
    "### Importing david data"
   ]
  },
  {
   "cell_type": "code",
   "execution_count": 8,
   "metadata": {},
   "outputs": [
    {
     "data": {
      "text/html": [
       "<div>\n",
       "<style scoped>\n",
       "    .dataframe tbody tr th:only-of-type {\n",
       "        vertical-align: middle;\n",
       "    }\n",
       "\n",
       "    .dataframe tbody tr th {\n",
       "        vertical-align: top;\n",
       "    }\n",
       "\n",
       "    .dataframe thead th {\n",
       "        text-align: right;\n",
       "    }\n",
       "</style>\n",
       "<table border=\"1\" class=\"dataframe\">\n",
       "  <thead>\n",
       "    <tr style=\"text-align: right;\">\n",
       "      <th></th>\n",
       "      <th>subject</th>\n",
       "      <th>activity</th>\n",
       "      <th>TP</th>\n",
       "      <th>X</th>\n",
       "      <th>Y</th>\n",
       "      <th>Z</th>\n",
       "    </tr>\n",
       "  </thead>\n",
       "  <tbody>\n",
       "    <tr>\n",
       "      <th>0</th>\n",
       "      <td>2</td>\n",
       "      <td>running</td>\n",
       "      <td>141524028187782</td>\n",
       "      <td>-1.501282</td>\n",
       "      <td>7.208939</td>\n",
       "      <td>4.8879547;</td>\n",
       "    </tr>\n",
       "    <tr>\n",
       "      <th>1</th>\n",
       "      <td>2</td>\n",
       "      <td>running</td>\n",
       "      <td>141524087758094</td>\n",
       "      <td>-0.678879</td>\n",
       "      <td>6.057129</td>\n",
       "      <td>8.487045;</td>\n",
       "    </tr>\n",
       "    <tr>\n",
       "      <th>2</th>\n",
       "      <td>2</td>\n",
       "      <td>running</td>\n",
       "      <td>141524028187782</td>\n",
       "      <td>-1.501282</td>\n",
       "      <td>7.208939</td>\n",
       "      <td>4.8879547;</td>\n",
       "    </tr>\n",
       "    <tr>\n",
       "      <th>3</th>\n",
       "      <td>2</td>\n",
       "      <td>running</td>\n",
       "      <td>141524087758094</td>\n",
       "      <td>-0.678879</td>\n",
       "      <td>6.057129</td>\n",
       "      <td>8.487045;</td>\n",
       "    </tr>\n",
       "    <tr>\n",
       "      <th>4</th>\n",
       "      <td>2</td>\n",
       "      <td>running</td>\n",
       "      <td>141524147358924</td>\n",
       "      <td>-0.738342</td>\n",
       "      <td>6.666657</td>\n",
       "      <td>7.123535;</td>\n",
       "    </tr>\n",
       "  </tbody>\n",
       "</table>\n",
       "</div>"
      ],
      "text/plain": [
       "   subject activity               TP         X         Y           Z\n",
       "0        2  running  141524028187782 -1.501282  7.208939  4.8879547;\n",
       "1        2  running  141524087758094 -0.678879  6.057129   8.487045;\n",
       "2        2  running  141524028187782 -1.501282  7.208939  4.8879547;\n",
       "3        2  running  141524087758094 -0.678879  6.057129   8.487045;\n",
       "4        2  running  141524147358924 -0.738342  6.666657   7.123535;"
      ]
     },
     "execution_count": 8,
     "metadata": {},
     "output_type": "execute_result"
    }
   ],
   "source": [
    "ddata = pd.read_csv('D:\\\\desktop files\\\\weka\\\\Files\\\\david_data_running.txt')\n",
    "ddata.columns = ['subject','activity', 'TP','X','Y','Z']\n",
    "ddata.head()"
   ]
  },
  {
   "cell_type": "code",
   "execution_count": 31,
   "metadata": {},
   "outputs": [
    {
     "data": {
      "text/html": [
       "<div>\n",
       "<style scoped>\n",
       "    .dataframe tbody tr th:only-of-type {\n",
       "        vertical-align: middle;\n",
       "    }\n",
       "\n",
       "    .dataframe tbody tr th {\n",
       "        vertical-align: top;\n",
       "    }\n",
       "\n",
       "    .dataframe thead th {\n",
       "        text-align: right;\n",
       "    }\n",
       "</style>\n",
       "<table border=\"1\" class=\"dataframe\">\n",
       "  <thead>\n",
       "    <tr style=\"text-align: right;\">\n",
       "      <th></th>\n",
       "      <th>subject</th>\n",
       "      <th>activity</th>\n",
       "      <th>TP</th>\n",
       "      <th>X</th>\n",
       "      <th>Y</th>\n",
       "      <th>Z</th>\n",
       "    </tr>\n",
       "  </thead>\n",
       "  <tbody>\n",
       "    <tr>\n",
       "      <th>0</th>\n",
       "      <td>2</td>\n",
       "      <td>running</td>\n",
       "      <td>141524028187782</td>\n",
       "      <td>-1.501282</td>\n",
       "      <td>7.208939</td>\n",
       "      <td>4.8879547;</td>\n",
       "    </tr>\n",
       "    <tr>\n",
       "      <th>1</th>\n",
       "      <td>2</td>\n",
       "      <td>running</td>\n",
       "      <td>141524087758094</td>\n",
       "      <td>-0.678879</td>\n",
       "      <td>6.057129</td>\n",
       "      <td>8.487045;</td>\n",
       "    </tr>\n",
       "    <tr>\n",
       "      <th>2</th>\n",
       "      <td>2</td>\n",
       "      <td>running</td>\n",
       "      <td>141524028187782</td>\n",
       "      <td>-1.501282</td>\n",
       "      <td>7.208939</td>\n",
       "      <td>4.8879547;</td>\n",
       "    </tr>\n",
       "    <tr>\n",
       "      <th>3</th>\n",
       "      <td>2</td>\n",
       "      <td>running</td>\n",
       "      <td>141524087758094</td>\n",
       "      <td>-0.678879</td>\n",
       "      <td>6.057129</td>\n",
       "      <td>8.487045;</td>\n",
       "    </tr>\n",
       "    <tr>\n",
       "      <th>4</th>\n",
       "      <td>2</td>\n",
       "      <td>running</td>\n",
       "      <td>141524147358924</td>\n",
       "      <td>-0.738342</td>\n",
       "      <td>6.666657</td>\n",
       "      <td>7.123535;</td>\n",
       "    </tr>\n",
       "    <tr>\n",
       "      <th>...</th>\n",
       "      <td>...</td>\n",
       "      <td>...</td>\n",
       "      <td>...</td>\n",
       "      <td>...</td>\n",
       "      <td>...</td>\n",
       "      <td>...</td>\n",
       "    </tr>\n",
       "    <tr>\n",
       "      <th>602247</th>\n",
       "      <td>2</td>\n",
       "      <td>running</td>\n",
       "      <td>141589075189911</td>\n",
       "      <td>-1.852432</td>\n",
       "      <td>7.764404</td>\n",
       "      <td>4.852844;</td>\n",
       "    </tr>\n",
       "    <tr>\n",
       "      <th>602248</th>\n",
       "      <td>2</td>\n",
       "      <td>running</td>\n",
       "      <td>141589134729706</td>\n",
       "      <td>-1.351456</td>\n",
       "      <td>8.950317</td>\n",
       "      <td>1.7734985;</td>\n",
       "    </tr>\n",
       "    <tr>\n",
       "      <th>602249</th>\n",
       "      <td>2</td>\n",
       "      <td>running</td>\n",
       "      <td>141589194269501</td>\n",
       "      <td>-0.775253</td>\n",
       "      <td>7.809494</td>\n",
       "      <td>2.6344147;</td>\n",
       "    </tr>\n",
       "    <tr>\n",
       "      <th>602250</th>\n",
       "      <td>2</td>\n",
       "      <td>running</td>\n",
       "      <td>141589253839813</td>\n",
       "      <td>-1.555954</td>\n",
       "      <td>6.348434</td>\n",
       "      <td>6.718918;</td>\n",
       "    </tr>\n",
       "    <tr>\n",
       "      <th>602251</th>\n",
       "      <td>2</td>\n",
       "      <td>running</td>\n",
       "      <td>141589313410126</td>\n",
       "      <td>-2.519424</td>\n",
       "      <td>4.667893</td>\n",
       "      <td>12.412537;</td>\n",
       "    </tr>\n",
       "  </tbody>\n",
       "</table>\n",
       "<p>602252 rows × 6 columns</p>\n",
       "</div>"
      ],
      "text/plain": [
       "        subject activity               TP         X         Y           Z\n",
       "0             2  running  141524028187782 -1.501282  7.208939  4.8879547;\n",
       "1             2  running  141524087758094 -0.678879  6.057129   8.487045;\n",
       "2             2  running  141524028187782 -1.501282  7.208939  4.8879547;\n",
       "3             2  running  141524087758094 -0.678879  6.057129   8.487045;\n",
       "4             2  running  141524147358924 -0.738342  6.666657   7.123535;\n",
       "...         ...      ...              ...       ...       ...         ...\n",
       "602247        2  running  141589075189911 -1.852432  7.764404   4.852844;\n",
       "602248        2  running  141589134729706 -1.351456  8.950317  1.7734985;\n",
       "602249        2  running  141589194269501 -0.775253  7.809494  2.6344147;\n",
       "602250        2  running  141589253839813 -1.555954  6.348434   6.718918;\n",
       "602251        2  running  141589313410126 -2.519424  4.667893  12.412537;\n",
       "\n",
       "[602252 rows x 6 columns]"
      ]
     },
     "execution_count": 31,
     "metadata": {},
     "output_type": "execute_result"
    }
   ],
   "source": [
    "df = ddata.loc[:,:'Z']\n",
    "df"
   ]
  },
  {
   "cell_type": "code",
   "execution_count": 51,
   "metadata": {},
   "outputs": [],
   "source": [
    "x_ddata = df.loc[:,'X']\n",
    "y_data = df.loc[:,'Y']\n",
    "z_data = df.loc[:,'Z']\n",
    "tp_ddata = df.loc[:,'TP']\n",
    "\n"
   ]
  },
  {
   "cell_type": "code",
   "execution_count": 45,
   "metadata": {},
   "outputs": [
    {
     "data": {
      "text/plain": [
       "0      -1.501282\n",
       "1      -0.678879\n",
       "2      -1.501282\n",
       "3      -0.678879\n",
       "4      -0.738342\n",
       "          ...   \n",
       "1995    2.602570\n",
       "1996    1.819076\n",
       "1997   -1.148743\n",
       "1998   -2.833664\n",
       "1999   -4.637100\n",
       "Name: X, Length: 2000, dtype: float64"
      ]
     },
     "execution_count": 45,
     "metadata": {},
     "output_type": "execute_result"
    }
   ],
   "source": [
    "x_data = x_ddata.iloc[0:2000,]\n",
    "x_data"
   ]
  },
  {
   "cell_type": "markdown",
   "metadata": {},
   "source": [
    "### Filtering of noise from data"
   ]
  },
  {
   "cell_type": "code",
   "execution_count": 43,
   "metadata": {},
   "outputs": [
    {
     "data": {
      "text/plain": [
       "array([0.00000000e+00, 5.00250125e-07, 1.00050025e-06, ...,\n",
       "       9.98999500e-04, 9.99499750e-04, 1.00000000e-03])"
      ]
     },
     "execution_count": 43,
     "metadata": {},
     "output_type": "execute_result"
    }
   ],
   "source": [
    "time = np.linspace(0,0.001, 2000)\n",
    "time\n",
    "# tp_ddata = tp_ddata.iloc[0:7000,]\n",
    "# tp_ddata\n",
    "# time = tp_ddata\n",
    "# time"
   ]
  },
  {
   "cell_type": "code",
   "execution_count": 52,
   "metadata": {
    "scrolled": true
   },
   "outputs": [
    {
     "data": {
      "image/png": "[encoded data removed]",
      "text/plain": [
       "<Figure size 432x288 with 1 Axes>"
      ]
     },
     "metadata": {},
     "output_type": "display_data"
    },
    {
     "data": {
      "image/png": "[encoded data removed]",
      "text/plain": [
       "<Figure size 432x288 with 1 Axes>"
      ]
     },
     "metadata": {},
     "output_type": "display_data"
    },
    {
     "data": {
      "text/plain": [
       "array([-1.31915254, -1.28205144, -1.24370503, ..., -1.99395606,\n",
       "       -2.07348917, -2.14607748])"
      ]
     },
     "execution_count": 52,
     "metadata": {},
     "output_type": "execute_result"
    }
   ],
   "source": [
    "plt.figure(1)\n",
    "#plt.subplot(2,1,1)\n",
    "#plt.plot(traindata2['X'], traindata2['Z'])\n",
    "\n",
    "def myplot():\n",
    "#     x_data = traindata2.loc[0:3999,'X']\n",
    "#     time = np.linspace(0,0.1, 4000)\n",
    "    plt.plot(time, x_data)\n",
    "    plt.show()\n",
    "    \n",
    "    x_signal = lowpassFilter(x_data)\n",
    "    plt.plot(time, x_signal)\n",
    "    plt.show()\n",
    "    \n",
    "    return x_signal\n",
    "    \n",
    "def lowpassFilter(signal):\n",
    "    fs = 50\n",
    "    lowcut = 2.0\n",
    "    highcut = 50.0\n",
    "    \n",
    "    nyq = .5 * fs\n",
    "    low = lowcut / nyq\n",
    "    high = highcut / nyq\n",
    "    \n",
    "    b,a = sc.signal.butter(2, 0.03, 'lowpass', analog=False)\n",
    "    y = sc.signal.filtfilt(b,a, signal, axis = 0)\n",
    "    \n",
    "    return(y)\n",
    "\n",
    "\n",
    "#plt.subplot(2,1,2)\n",
    "myplot()\n",
    "\n",
    "# x_signal = myplot()\n"
   ]
  },
  {
   "cell_type": "code",
   "execution_count": 29,
   "metadata": {},
   "outputs": [
    {
     "ename": "AttributeError",
     "evalue": "'numpy.ndarray' object has no attribute 'head'",
     "output_type": "error",
     "traceback": [
      "\u001b[1;31m---------------------------------------------------------------------------\u001b[0m",
      "\u001b[1;31mAttributeError\u001b[0m                            Traceback (most recent call last)",
      "\u001b[1;32m<ipython-input-29-fa0895229fe2>\u001b[0m in \u001b[0;36m<module>\u001b[1;34m\u001b[0m\n\u001b[1;32m----> 1\u001b[1;33m \u001b[0mx_signal\u001b[0m\u001b[1;33m.\u001b[0m\u001b[0mhead\u001b[0m\u001b[1;33m(\u001b[0m\u001b[1;33m)\u001b[0m\u001b[1;33m\u001b[0m\u001b[1;33m\u001b[0m\u001b[0m\n\u001b[0m",
      "\u001b[1;31mAttributeError\u001b[0m: 'numpy.ndarray' object has no attribute 'head'"
     ]
    }
   ],
   "source": [
    "for"
   ]
  },
  {
   "cell_type": "code",
   "execution_count": null,
   "metadata": {},
   "outputs": [],
   "source": []
  }
 ],
 "metadata": {
  "kernelspec": {
   "display_name": "Python 3",
   "language": "python",
   "name": "python3"
  },
  "language_info": {
   "codemirror_mode": {
    "name": "ipython",
    "version": 3
   },
   "file_extension": ".py",
   "mimetype": "text/x-python",
   "name": "python",
   "nbconvert_exporter": "python",
   "pygments_lexer": "ipython3",
   "version": "3.8.11"
  }
 },
 "nbformat": 4,
 "nbformat_minor": 4
}
