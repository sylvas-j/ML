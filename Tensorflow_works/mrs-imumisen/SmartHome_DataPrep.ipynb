{
 "cells": [
  {
   "cell_type": "markdown",
   "id": "9128805d",
   "metadata": {},
   "source": [
    "### Data Preparation\n",
    "\n",
    "https://machinelearningmastery.com/data-preparation-techniques-for-machine-learning/"
   ]
  },
  {
   "cell_type": "markdown",
   "id": "86a5ee3f",
   "metadata": {},
   "source": [
    "##### Data Cleaning: Identifying and correcting mistakes or errors in the data.\n",
    "##### Feature Selection: Identifying those input variables that are most relevant to the task.\n",
    "##### Data Transforms: Changing the scale or distribution of variables.\n",
    "##### Feature Engineering: Deriving new variables from available data.\n",
    "##### Dimensionality Reduction: Creating compact projections of the data."
   ]
  },
  {
   "cell_type": "code",
   "execution_count": null,
   "id": "b3b6f53a",
   "metadata": {},
   "outputs": [],
   "source": []
  },
  {
   "cell_type": "code",
   "execution_count": null,
   "id": "13bdfdcc",
   "metadata": {},
   "outputs": [],
   "source": []
  },
  {
   "cell_type": "code",
   "execution_count": null,
   "id": "ffe77699",
   "metadata": {},
   "outputs": [],
   "source": []
  },
  {
   "cell_type": "code",
   "execution_count": null,
   "id": "d4a5de4e",
   "metadata": {},
   "outputs": [],
   "source": []
  },
  {
   "cell_type": "code",
   "execution_count": null,
   "id": "c8a1491c",
   "metadata": {},
   "outputs": [],
   "source": []
  },
  {
   "cell_type": "code",
   "execution_count": null,
   "id": "e6092df5",
   "metadata": {},
   "outputs": [],
   "source": [
    "import jupyterthemes as jt\n",
    "!jt -t monokai\n",
    "# !jt -r\n",
    "# Available themes:\n",
    "# onedork grade3 oceans16 chesterish monokai solarizedl solarizedd"
   ]
  }
 ],
 "metadata": {
  "kernelspec": {
   "display_name": "Python 3",
   "language": "python",
   "name": "python3"
  },
  "language_info": {
   "codemirror_mode": {
    "name": "ipython",
    "version": 3
   },
   "file_extension": ".py",
   "mimetype": "text/x-python",
   "name": "python",
   "nbconvert_exporter": "python",
   "pygments_lexer": "ipython3",
   "version": "3.8.11"
  }
 },
 "nbformat": 4,
 "nbformat_minor": 5
}
