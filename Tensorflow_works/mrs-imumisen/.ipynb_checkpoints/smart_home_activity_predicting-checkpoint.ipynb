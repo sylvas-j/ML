{
  "nbformat": 4,
  "nbformat_minor": 0,
  "metadata": {
    "colab": {
      "name": "smart_home_activity_predicting.ipynb",
      "provenance": [],
      "include_colab_link": true
    },
    "kernelspec": {
      "name": "python3",
      "display_name": "Python 3"
    },
    "language_info": {
      "name": "python"
    }
  },
  "cells": [
    {
      "cell_type": "markdown",
      "metadata": {
        "id": "view-in-github",
        "colab_type": "text"
      },
      "source": [
        "<a href=\"https://colab.research.google.com/github/sylvas-j/ML/blob/master/Tensorflow_works/smart_home_activity_predicting.ipynb\" target=\"_parent\"><img src=\"https://colab.research.google.com/assets/colab-badge.svg\" alt=\"Open In Colab\"/></a>"
      ]
    },
    {
      "cell_type": "markdown",
      "metadata": {
        "id": "eSdq49Phtmbd"
      },
      "source": [
        "###Click this link to open test dataset\n",
        "\n",
        "# smart_home_test_data_link = https://drive.google.com/file/d/1-OmlmoCjvQdInhmfqlxjiJ4efhRMyRCf/view?usp=sharing"
      ]
    },
    {
      "cell_type": "markdown",
      "metadata": {
        "id": "z4jgCpVJhLbl"
      },
      "source": [
        "####Basic before prediction"
      ]
    },
    {
      "cell_type": "code",
      "metadata": {
        "id": "X6g94gEdgwCW"
      },
      "source": [
        "import pandas as pd\n",
        "import numpy as np\n",
        "import seaborn as sns\n",
        "from keras.models import load_model\n",
        "import matplotlib.pyplot as plt\n",
        "get_ipython().magic(u'matplotlib inline')\n",
        "from sklearn.metrics import(\n",
        "    classification_report, confusion_matrix, accuracy_score, mean_squared_error, mean_absolute_error\n",
        ")\n",
        "from sklearn.preprocessing import (\n",
        "    StandardScaler, LabelBinarizer, FunctionTransformer,PolynomialFeatures, OrdinalEncoder,LabelEncoder,MinMaxScaler\n",
        ")\n",
        "from keras.utils import np_utils\n",
        "from sklearn.utils.validation import column_or_1d"
      ],
      "execution_count": null,
      "outputs": []
    },
    {
      "cell_type": "code",
      "metadata": {
        "id": "grlElyBegzTa"
      },
      "source": [
        "class ResultSummary:\n",
        "  # matrix = classification_report(actual,predicted,labels=[1,0])\n",
        "  def classification_reportx(y_test,y_predicted):\n",
        "    matrix = classification_report(y_test,y_predicted, labels=pd.unique(y_predicted))\n",
        "    # matrix = classification_report(reverse_encoded_y_test,reverse_encoded_y_predicted, labels=pd.unique(reverse_encoded_y_predicted))\n",
        "    print(matrix)\n",
        "  # classification_reportx(reverse_encoded_y_test,reverse_encoded_y_predicted)\n",
        "\n",
        "\n",
        "  # confusion_matrix(reverse_encoded_y_test, reverse_encoded_y_predicted)\n",
        "  # pd.crosstab(reverse_encoded_y_test, reverse_encoded_y_predicted, rownames=['True'], colnames=['Predicted'], margins=True)\n",
        "  def confusion_matrixx(y_test, y_pred,figsize1,figsize2):\n",
        "    %matplotlib inline\n",
        "    # fig, ax = plt.subplots(figsize=(12,10))\n",
        "    fig, ax = plt.subplots(figsize=(figsize1,figsize2))\n",
        "    # cm = confusion_matrix(reverse_encoded_y_test, reverse_encoded_y_predicted)\n",
        "    cm = confusion_matrix(y_test, y_pred)\n",
        "    # df_cm = pd.DataFrame(cm, index=pd.unique(reverse_encoded_y_test), columns=pd.unique(reverse_encoded_y_test))\n",
        "    df_cm = pd.DataFrame(cm, index=pd.unique(y_test), columns=pd.unique(y_test))\n",
        "    ax = sns.heatmap(df_cm,  cbar = False, cmap=\"BuGn\", annot=True, fmt=\"d\", linewidths=.5, ax=ax)\n",
        "    # plt.setp(ax.get_xticklabels(), rotation=45)\n",
        "    plt.ylabel('True label', fontweight='bold', fontsize = 18)\n",
        "    plt.xlabel('Predicted label', fontweight='bold', fontsize = 18) \n",
        "    plt.show()\n",
        "  # confusion_matrixx(reverse_encoded_y_test, reverse_encoded_y_predicted,12,10)\n",
        "  \n",
        "\n",
        "\n",
        "  def actual_n_predictions(reverse_encoded_y_test,reverse_encoded_y_predicted):\n",
        "    for i in range(len(reverse_encoded_y_test)):\n",
        "      print(\"Test: %s -------- Predicted: (%s)\" % (reverse_encoded_y_test[i], reverse_encoded_y_predicted[i]))\n",
        "\n",
        "\n",
        "\n",
        "def ordered_encode_python(values, uniques=None, encode=False):\n",
        "    # only used in _encode below, see docstring there for details\n",
        "    if uniques is None:\n",
        "        uniques = list(dict.fromkeys(values))\n",
        "        uniques = np.array(uniques, dtype=values.dtype)\n",
        "    if encode:\n",
        "        table = {val: i for i, val in enumerate(uniques)}\n",
        "        try:\n",
        "            encoded = np.array([table[v] for v in values])\n",
        "        except KeyError as e:\n",
        "            raise ValueError(\"y contains previously unseen labels: %s\"\n",
        "                             % str(e))\n",
        "        return uniques, encoded\n",
        "    else:\n",
        "        return uniques\n",
        "\n",
        "class OrderedLabelEncoder(LabelEncoder):\n",
        "    def fit(self, y):\n",
        "        y = column_or_1d(y, warn=True)\n",
        "        self.classes_ = ordered_encode_python(y)\n",
        "    def fit_transform(self, y):\n",
        "        y = column_or_1d(y, warn=True)\n",
        "        self.classes_, y = ordered_encode_python(y, encode=True)\n",
        "        return y\n",
        "\n",
        "# class for Y convertions\n",
        "class TextLabelEncoderDummy:\n",
        "\n",
        "  def labelencoder(y_df):\n",
        "    # encoder = LabelEncoder()\n",
        "    encoder = OrderedLabelEncoder()\n",
        "    encoder.fit(y_df)\n",
        "    encoded_Y = encoder.transform(y_df)\n",
        "    return encoded_Y, encoder\n",
        "\n",
        "\n",
        "  def encoded_to_dummy(encoded_Y):\n",
        "    # convert encoder variable to dummy variable\n",
        "    uniques, ids = np.unique(encoded_Y, return_inverse=True)\n",
        "    dummy_y = np_utils.to_categorical(ids, len(uniques))\n",
        "    # dummy_y = np_utils.to_categorical(encoded_Y)\n",
        "    return dummy_y, uniques\n",
        "\n",
        "\n",
        "  def reverse_dummy_to_encoded(y_test):\n",
        "    reverse_dummy = uniques[y_test.argmax(1)]\n",
        "    return reverse_dummy\n",
        "\n",
        "\n",
        "  def reverse_encoded_to_text(reverse_dummy):\n",
        "    reverse_encoded = encoder.inverse_transform(reverse_dummy)\n",
        "    return reverse_encoded"
      ],
      "execution_count": null,
      "outputs": []
    },
    {
      "cell_type": "markdown",
      "metadata": {
        "id": "xnz3w0Y-hRlp"
      },
      "source": [
        "#### Load valid data"
      ]
    },
    {
      "cell_type": "code",
      "metadata": {
        "id": "LI9S7ptXgzgd",
        "colab": {
          "base_uri": "https://localhost:8080/"
        },
        "outputId": "ab701c11-78ab-4630-a58a-21808679bb80"
      },
      "source": [
        "# smart_home_model_link = https://drive.google.com/file/d/1-Basb-wsvjRk0xzFGzi3KCk3Bb133eYu/view?usp=sharing\n",
        "# smart_home_s_val_link = https://drive.google.com/file/d/1-OkhVbPbEsf82JjHw8Nylf9l5SE3Kxz4/view?usp=sharing\n",
        "# smart_home_s_val_link = https://drive.google.com/file/d/1-JghvYFOyFIkD4XhDEbSHTQBDkwUlnL-/view?usp=sharing\n",
        "# smart_home_X_train_link = https://drive.google.com/file/d/1-WtO0JDFsXBKhZzkxe-ejGvfZpyhBhBx/view?usp=sharing\n",
        "# smart_home_y_train_link = https://drive.google.com/file/d/1WEwvwgQfyhp17Ug-6GG2Ff2E-fv6SE3K/view?usp=sharing\n",
        "# general\n",
        "!gdown --id 1-Basb-wsvjRk0xzFGzi3KCk3Bb133eYu # download smart_home_model\n",
        "!gdown --id 1-OkhVbPbEsf82JjHw8Nylf9l5SE3Kxz4 # download smart_home_s_val\n",
        "!gdown --id 1-JghvYFOyFIkD4XhDEbSHTQBDkwUlnL-  # download smart_home_y_val\n",
        "!gdown --id 1-WtO0JDFsXBKhZzkxe-ejGvfZpyhBhBx  # download smart_home_X_train\n",
        "!gdown --id 1WEwvwgQfyhp17Ug-6GG2Ff2E-fv6SE3K  # download smart_home_y_train\n",
        "\n",
        "# specific\n",
        "# Install the PyDrive wrapper & import libraries.\n",
        "# !pip install -U -q PyDrive\n",
        "# from pydrive.auth import GoogleAuth\n",
        "# from pydrive.drive import GoogleDrive\n",
        "# from google.colab import auth\n",
        "# from oauth2client.client import GoogleCredentials\n",
        "\n",
        "# # Authenticate and create the PyDrive client.\n",
        "# auth.authenticate_user()\n",
        "# gauth = GoogleAuth()\n",
        "# gauth.credentials = GoogleCredentials.get_application_default()\n",
        "# drive = GoogleDrive(gauth)\n",
        "\n",
        "# # smart_home_y_val\n",
        "# file_id = '1-JghvYFOyFIkD4XhDEbSHTQBDkwUlnL-'\n",
        "# downloaded = drive.CreateFile({'id':file_id})\n",
        "# downloaded.FetchMetadata(fetch_all=True)\n",
        "# downloaded.GetContentFile(downloaded.metadata['title'])\n",
        "\n",
        "# # smart_home_X_train_link\n",
        "# file_id = '1-WtO0JDFsXBKhZzkxe-ejGvfZpyhBhBx'\n",
        "# downloaded = drive.CreateFile({'id':file_id})\n",
        "# downloaded.FetchMetadata(fetch_all=True)\n",
        "# downloaded.GetContentFile(downloaded.metadata['title'])\n",
        "\n",
        "# # smart_home_y_train_link\n",
        "# file_id = '1WEwvwgQfyhp17Ug-6GG2Ff2E-fv6SE3K'\n",
        "# downloaded = drive.CreateFile({'id':file_id})\n",
        "# downloaded.FetchMetadata(fetch_all=True)\n",
        "# downloaded.GetContentFile(downloaded.metadata['title'])\n",
        "\n",
        "# # smart_home_s_val\n",
        "# file_id = '1-OkhVbPbEsf82JjHw8Nylf9l5SE3Kxz4'\n",
        "# downloaded = drive.CreateFile({'id':file_id})\n",
        "# downloaded.FetchMetadata(fetch_all=True)\n",
        "# downloaded.GetContentFile(downloaded.metadata['title'])\n",
        "\n",
        "# # smart_home_model\n",
        "# file_id = '1-Basb-wsvjRk0xzFGzi3KCk3Bb133eYu'\n",
        "# downloaded = drive.CreateFile({'id':file_id})\n",
        "# downloaded.FetchMetadata(fetch_all=True)\n",
        "# downloaded.GetContentFile(downloaded.metadata['title'])\n"
      ],
      "execution_count": null,
      "outputs": [
        {
          "output_type": "stream",
          "name": "stdout",
          "text": [
            "Downloading...\n",
            "From: https://drive.google.com/uc?id=1-Basb-wsvjRk0xzFGzi3KCk3Bb133eYu\n",
            "To: /content/smart_home_model.h5\n",
            "100% 91.1k/91.1k [00:00<00:00, 6.10MB/s]\n",
            "Downloading...\n",
            "From: https://drive.google.com/uc?id=1-OkhVbPbEsf82JjHw8Nylf9l5SE3Kxz4\n",
            "To: /content/smart_home_s_val.csv\n",
            "100% 4.13M/4.13M [00:00<00:00, 36.4MB/s]\n",
            "Downloading...\n",
            "From: https://drive.google.com/uc?id=1-JghvYFOyFIkD4XhDEbSHTQBDkwUlnL-\n",
            "To: /content/smart_home_y_val.csv\n",
            "100% 2.64M/2.64M [00:00<00:00, 41.7MB/s]\n",
            "Downloading...\n",
            "From: https://drive.google.com/uc?id=1-WtO0JDFsXBKhZzkxe-ejGvfZpyhBhBx\n",
            "To: /content/smart_home_X_train.csv\n",
            "100% 19.3M/19.3M [00:00<00:00, 90.2MB/s]\n",
            "Downloading...\n",
            "From: https://drive.google.com/uc?id=1WEwvwgQfyhp17Ug-6GG2Ff2E-fv6SE3K\n",
            "To: /content/smart_home_y_train.csv\n",
            "100% 2.12M/2.12M [00:00<00:00, 33.0MB/s]\n"
          ]
        }
      ]
    },
    {
      "cell_type": "markdown",
      "metadata": {
        "id": "lcNgCz5oh5YN"
      },
      "source": [
        "#### Tranform data"
      ]
    },
    {
      "cell_type": "code",
      "metadata": {
        "id": "bzKQGGV9gzm5"
      },
      "source": [
        "# load model with evaluation dataset\n",
        "saved_model = load_model(\"smart_home_model.h5\")\n",
        "ss_val_df = pd.read_csv('smart_home_s_val.csv', index_col=False) \n",
        "yy_val_df = pd.read_csv('smart_home_y_val.csv', index_col=False)\n",
        "xx_train_df = pd.read_csv('smart_home_X_train.csv', index_col=False)\n",
        "yy_train_df = pd.read_csv('smart_home_y_train.csv', index_col=False)\n",
        "yy_train_df = yy_train_df['activity']\n",
        "\n",
        "# ss_val_df = ss_val_df.drop(labels=['Unnamed: 0'], axis=1)\n",
        "# yy_val_df = yy_val_df.drop(labels=['Unnamed: 0'], axis=1)\n",
        "\n",
        "ss_val = ss_val_df.to_numpy() \n",
        "yy_val = yy_val_df.to_numpy()\n",
        "xx_train = xx_train_df.to_numpy()\n",
        "\n",
        "col = ['lastSensorEventHours', 'lastSensorEventSeconds', 'lastSensorDayOfWeek',\n",
        "       'windowDuration', 'timeSinceLastSensorEvent', 'prevDominantSensor1',\n",
        "       'prevDominantSensor2', 'lastSensorID', 'lastSensorLocation',\n",
        "       'lastMotionLocation', 'complexity', 'activityChange', 'areaTransitions',\n",
        "       'numDistinctSensors', 'sensorCount-Bathroom', 'sensorCount-Bedroom',\n",
        "       'sensorCount-Chair', 'sensorCount-DiningRoom', 'sensorCount-Hall',\n",
        "       'sensorCount-Ignore', 'sensorCount-Kitchen', 'sensorCount-LivingRoom',\n",
        "       'sensorCount-Office', 'sensorCount-OutsideDoor', 'sensorCount-WorkArea',\n",
        "       'sensorElTime-Bathroom', 'sensorElTime-Bedroom', 'sensorElTime-Chair',\n",
        "       'sensorElTime-DiningRoom', 'sensorElTime-Hall', 'sensorElTime-Ignore',\n",
        "       'sensorElTime-Kitchen', 'sensorElTime-LivingRoom',\n",
        "       'sensorElTime-Office', 'sensorElTime-OutsideDoor',\n",
        "       'sensorElTime-WorkArea']\n",
        "       "
      ],
      "execution_count": null,
      "outputs": []
    },
    {
      "cell_type": "code",
      "metadata": {
        "id": "FMkJZQGBgzsw"
      },
      "source": [
        "# smart_home_test_data_link = https://drive.google.com/file/d/1-OmlmoCjvQdInhmfqlxjiJ4efhRMyRCf/view?usp=sharing\n",
        "X_test_loaded = [8.0,30948.0,5.0,50.0,0.0,0.0,9.0,5.0,5.0,0.0,1.1567796494470397,0.74,2.0,0.0,24.81,3.24,0.0,0.0,0.0,6.300000000000002,0.0,0.0,0.0,0.0,0.0,0.004961,0.21990500000000002,86400.0,86400.0,86400.0,0.0,6227.291636,916.049116,86400.0,121.848643,86400.0] # copy and paste your data here\n",
        "X_test_df = pd.DataFrame([X_test_loaded], columns=col, dtype='float64')\n"
      ],
      "execution_count": null,
      "outputs": []
    },
    {
      "cell_type": "code",
      "metadata": {
        "id": "FORYdbEYgzzP"
      },
      "source": [
        "# Let's create prediction and result display function\n",
        "X_test_df = X_test_df.drop(labels=['numDistinctSensors','sensorCount-Chair','sensorCount-DiningRoom',\n",
        " 'sensorCount-Hall','sensorCount-Office','sensorCount-WorkArea','sensorElTime-Chair','sensorElTime-DiningRoom',\n",
        " 'sensorElTime-Hall','sensorElTime-Office',\n",
        " 'sensorElTime-WorkArea','lastSensorLocation','lastMotionLocation', 'sensorElTime-OutsideDoor', 'lastSensorEventSeconds'], axis=1)\n",
        "\n",
        "X_test_df = X_test_df.to_numpy() # test\n",
        "# Scaling data\n",
        "sc = StandardScaler()\n",
        "ss_train = sc.fit_transform(xx_train_df) # train\n",
        "S_test_pred = sc.transform(X_test_df)\n",
        "s_val_pred = sc.transform(ss_val_df)\n"
      ],
      "execution_count": null,
      "outputs": []
    },
    {
      "cell_type": "code",
      "metadata": {
        "id": "9Tr_8KEBiOTY"
      },
      "source": [
        "# ss_val_df.shape, yy_val_df.shape, S_val.shape, y_val.shape\n",
        "# pd.unique(y_df),pd.unique(yy_train_df),pd.unique(encoded_Y), pd.unique(encoded_Y_pred)"
      ],
      "execution_count": null,
      "outputs": []
    },
    {
      "cell_type": "code",
      "metadata": {
        "id": "-kwx4QlwiOkR"
      },
      "source": [
        "# encoded_Y_pred, encoder = TextLabelEncoderDummy.labelencoder(y_pred_df)\n",
        "encoded_Y_pred, encoder = TextLabelEncoderDummy.labelencoder(yy_train_df)\n",
        "dummy_y_pred, uniques = TextLabelEncoderDummy.encoded_to_dummy(encoded_Y_pred)\n"
      ],
      "execution_count": null,
      "outputs": []
    },
    {
      "cell_type": "markdown",
      "metadata": {
        "id": "cMUPyP3KinjI"
      },
      "source": [
        "#### Load, evaluate and predict on model"
      ]
    },
    {
      "cell_type": "code",
      "metadata": {
        "id": "UcKpuVmtiOwF",
        "colab": {
          "base_uri": "https://localhost:8080/"
        },
        "outputId": "5f585756-713a-4140-ff19-c4db2a53bc72"
      },
      "source": [
        "\n",
        "saved_model.summary()\n",
        "score  = saved_model.evaluate(s_val_pred, yy_val, verbose=0)\n",
        "print('Restored model,Loss: {:5.2f}%,  accuracy: {:5.2f}%'.format(100 * score[0], 100 * score[1]))\n",
        "\n",
        "# 5. make predictions\n",
        "pred = saved_model.predict(X_test_df, verbose=0)\n",
        "print(pred)"
      ],
      "execution_count": null,
      "outputs": [
        {
          "output_type": "stream",
          "name": "stdout",
          "text": [
            "Model: \"sequential_32\"\n",
            "_________________________________________________________________\n",
            "Layer (type)                 Output Shape              Param #   \n",
            "=================================================================\n",
            "dense_96 (Dense)             (None, 60)                1320      \n",
            "_________________________________________________________________\n",
            "dense_97 (Dense)             (None, 40)                2440      \n",
            "_________________________________________________________________\n",
            "dense_98 (Dense)             (None, 28)                1148      \n",
            "=================================================================\n",
            "Total params: 4,908\n",
            "Trainable params: 4,908\n",
            "Non-trainable params: 0\n",
            "_________________________________________________________________\n",
            "Restored model,Loss: 78.58%,  accuracy: 71.31%\n",
            "[[1. 0. 0. 0. 0. 0. 0. 0. 0. 0. 0. 0. 0. 0. 0. 0. 0. 0. 0. 0. 0. 0. 0. 0.\n",
            "  0. 0. 0. 0.]]\n"
          ]
        }
      ]
    },
    {
      "cell_type": "markdown",
      "metadata": {
        "id": "Fo3XyQATiyo9"
      },
      "source": [
        "####View Result"
      ]
    },
    {
      "cell_type": "code",
      "metadata": {
        "id": "FUfi_uCTiO1b",
        "colab": {
          "base_uri": "https://localhost:8080/"
        },
        "outputId": "3f9b29aa-0cca-4784-b9df-bdfd7d4d3dde"
      },
      "source": [
        "# Reverse predictios\n",
        "reverse_dummy_pred =TextLabelEncoderDummy.reverse_dummy_to_encoded(pred)\n",
        "print(pd.unique(reverse_dummy_pred).shape)\n",
        "\n",
        "reverse_encoded_y_pred = TextLabelEncoderDummy.reverse_encoded_to_text(reverse_dummy_pred)\n",
        "reverse_encoded_y_pred"
      ],
      "execution_count": null,
      "outputs": [
        {
          "output_type": "stream",
          "name": "stdout",
          "text": [
            "(1,)\n"
          ]
        },
        {
          "output_type": "execute_result",
          "data": {
            "text/plain": [
              "array(['Entertain_Guests'], dtype=object)"
            ]
          },
          "metadata": {},
          "execution_count": 10
        }
      ]
    },
    {
      "cell_type": "code",
      "metadata": {
        "id": "mbDzXp7mgz5d"
      },
      "source": [
        ""
      ],
      "execution_count": null,
      "outputs": []
    },
    {
      "cell_type": "code",
      "metadata": {
        "id": "OYP8r920gz_Q"
      },
      "source": [
        ""
      ],
      "execution_count": null,
      "outputs": []
    }
  ]
}