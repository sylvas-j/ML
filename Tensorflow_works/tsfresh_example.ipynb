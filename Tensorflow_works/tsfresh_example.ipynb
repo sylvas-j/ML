{
 "cells": [
  {
   "cell_type": "code",
   "execution_count": 1,
   "metadata": {},
   "outputs": [],
   "source": [
    "import pandas as pd\n",
    "import numpy as np"
   ]
  },
  {
   "cell_type": "code",
   "execution_count": 3,
   "metadata": {},
   "outputs": [],
   "source": [
    "from tsfresh.examples.robot_execution_failures import download_robot_execution_failures, \\\n",
    "    load_robot_execution_failures\n",
    "download_robot_execution_failures()\n",
    "timeseries, y = load_robot_execution_failures()"
   ]
  },
  {
   "cell_type": "code",
   "execution_count": 53,
   "metadata": {},
   "outputs": [],
   "source": [
    "robot = load_robot_execution_failures()"
   ]
  },
  {
   "cell_type": "code",
   "execution_count": 55,
   "metadata": {},
   "outputs": [
    {
     "data": {
      "text/plain": [
       "(      id  time  F_x  F_y  F_z  T_x  T_y  T_z\n",
       " 0      1     0   -1   -1   63   -3   -1    0\n",
       " 1      1     1    0    0   62   -3   -1    0\n",
       " 2      1     2   -1   -1   61   -3    0    0\n",
       " 3      1     3   -1   -1   63   -2   -1    0\n",
       " 4      1     4   -1   -1   63   -3   -1    0\n",
       " ...   ..   ...  ...  ...  ...  ...  ...  ...\n",
       " 1315  88    10  -10    2   39  -21  -24    5\n",
       " 1316  88    11  -11    2   38  -24  -22    6\n",
       " 1317  88    12  -12    3   23  -24  -24    5\n",
       " 1318  88    13  -13    4   26  -29  -27    5\n",
       " 1319  88    14  -13    2   15  -25  -25    6\n",
       " \n",
       " [1320 rows x 8 columns],\n",
       " 1      True\n",
       " 2      True\n",
       " 3      True\n",
       " 4      True\n",
       " 5      True\n",
       "       ...  \n",
       " 84    False\n",
       " 85    False\n",
       " 86    False\n",
       " 87    False\n",
       " 88    False\n",
       " Length: 88, dtype: bool)"
      ]
     },
     "execution_count": 55,
     "metadata": {},
     "output_type": "execute_result"
    }
   ],
   "source": [
    "robot"
   ]
  },
  {
   "cell_type": "code",
   "execution_count": 59,
   "metadata": {},
   "outputs": [
    {
     "data": {
      "text/plain": [
       "69    False\n",
       "70    False\n",
       "71    False\n",
       "72    False\n",
       "73    False\n",
       "74    False\n",
       "75    False\n",
       "76    False\n",
       "77    False\n",
       "78    False\n",
       "79    False\n",
       "80    False\n",
       "81    False\n",
       "82    False\n",
       "83    False\n",
       "84    False\n",
       "85    False\n",
       "86    False\n",
       "87    False\n",
       "88    False\n",
       "dtype: bool"
      ]
     },
     "execution_count": 59,
     "metadata": {},
     "output_type": "execute_result"
    }
   ],
   "source": [
    "y.tail(20)"
   ]
  },
  {
   "cell_type": "code",
   "execution_count": 58,
   "metadata": {},
   "outputs": [
    {
     "name": "stdout",
     "output_type": "stream",
     "text": [
      "      id  time  F_x  F_y   F_z  T_x  T_y  T_z\n",
      "1300  87    10  336  154 -1051 -127  454   37\n",
      "1301  87    11  340  151 -1041 -140  458   39\n",
      "1302  87    12  339  154 -1036 -134  471   42\n",
      "1303  87    13  342  154 -1036 -118  466   44\n",
      "1304  87    14  342  154 -1036 -118  466   44\n",
      "1305  88     0   -6    3    52  -15  -17    3\n",
      "1306  88     1   -7    2    52  -17  -20    3\n",
      "1307  88     2   -9    5    46  -21  -22    4\n",
      "1308  88     3   -8    1    53  -15  -20    5\n",
      "1309  88     4   -8    2    43  -16  -20    5\n",
      "1310  88     5   -8    2    46  -17  -22    5\n",
      "1311  88     6   -8    0    46  -16  -21    5\n",
      "1312  88     7   -9    2    39  -20  -22    5\n",
      "1313  88     8  -11    3    42  -22  -27    6\n",
      "1314  88     9  -10    4    40  -22  -23    5\n",
      "1315  88    10  -10    2    39  -21  -24    5\n",
      "1316  88    11  -11    2    38  -24  -22    6\n",
      "1317  88    12  -12    3    23  -24  -24    5\n",
      "1318  88    13  -13    4    26  -29  -27    5\n",
      "1319  88    14  -13    2    15  -25  -25    6\n"
     ]
    }
   ],
   "source": [
    "print(timeseries.tail(20))"
   ]
  },
  {
   "cell_type": "code",
   "execution_count": 50,
   "metadata": {},
   "outputs": [
    {
     "name": "stdout",
     "output_type": "stream",
     "text": [
      "<class 'pandas.core.frame.DataFrame'>\n",
      "RangeIndex: 1320 entries, 0 to 1319\n",
      "Data columns (total 8 columns):\n",
      " #   Column  Non-Null Count  Dtype\n",
      "---  ------  --------------  -----\n",
      " 0   id      1320 non-null   int64\n",
      " 1   time    1320 non-null   int64\n",
      " 2   F_x     1320 non-null   int64\n",
      " 3   F_y     1320 non-null   int64\n",
      " 4   F_z     1320 non-null   int64\n",
      " 5   T_x     1320 non-null   int64\n",
      " 6   T_y     1320 non-null   int64\n",
      " 7   T_z     1320 non-null   int64\n",
      "dtypes: int64(8)\n",
      "memory usage: 82.6 KB\n",
      "None\n"
     ]
    }
   ],
   "source": [
    "print(timeseries.info())"
   ]
  },
  {
   "cell_type": "code",
   "execution_count": 6,
   "metadata": {},
   "outputs": [],
   "source": [
    "timese = timeseries.loc[0:500,:]"
   ]
  },
  {
   "cell_type": "code",
   "execution_count": 7,
   "metadata": {},
   "outputs": [
    {
     "data": {
      "text/plain": [
       "<bound method DataFrame.info of      id  time  F_x  F_y  F_z  T_x  T_y  T_z\n",
       "0     1     0   -1   -1   63   -3   -1    0\n",
       "1     1     1    0    0   62   -3   -1    0\n",
       "2     1     2   -1   -1   61   -3    0    0\n",
       "3     1     3   -1   -1   63   -2   -1    0\n",
       "4     1     4   -1   -1   63   -3   -1    0\n",
       "..   ..   ...  ...  ...  ...  ...  ...  ...\n",
       "496  34     1   21   37  115  -85   55   -4\n",
       "497  34     2   63   -9    6  -34  159  -10\n",
       "498  34     3   13  -17   73   23   14   -2\n",
       "499  34     4    0  -11   52   12  -13    0\n",
       "500  34     5    8  -10   64   10    9    1\n",
       "\n",
       "[501 rows x 8 columns]>"
      ]
     },
     "execution_count": 7,
     "metadata": {},
     "output_type": "execute_result"
    }
   ],
   "source": [
    "timese.info"
   ]
  },
  {
   "cell_type": "code",
   "execution_count": 8,
   "metadata": {},
   "outputs": [
    {
     "data": {
      "image/png": "[encoded data removed]",
      "text/plain": [
       "<Figure size 720x720 with 8 Axes>"
      ]
     },
     "metadata": {
      "needs_background": "light"
     },
     "output_type": "display_data"
    }
   ],
   "source": [
    "import matplotlib.pyplot as plt\n",
    "timeseries[timeseries['id'] == 3].plot(subplots=True, sharex=True, figsize=(10,10))\n",
    "plt.show()"
   ]
  },
  {
   "cell_type": "code",
   "execution_count": 9,
   "metadata": {},
   "outputs": [
    {
     "data": {
      "image/png": "[encoded data removed]",
      "text/plain": [
       "<Figure size 720x720 with 8 Axes>"
      ]
     },
     "metadata": {
      "needs_background": "light"
     },
     "output_type": "display_data"
    }
   ],
   "source": [
    "timeseries[timeseries['id'] == 21].plot(subplots=True, sharex=True, figsize=(10,10))\n",
    "plt.show()"
   ]
  },
  {
   "cell_type": "code",
   "execution_count": 2,
   "metadata": {},
   "outputs": [],
   "source": [
    "from tsfresh.feature_extraction import ComprehensiveFCParameters\n",
    "settings = ComprehensiveFCParameters()\n",
    "# Set here the options of the settings object as shown in the paragraphs below\n",
    "# ...\n",
    "# from tsfresh.feature_extraction import extract_features\n",
    "# extract_features(x_train_sig, default_fc_parameters=settings)"
   ]
  },
  {
   "cell_type": "code",
   "execution_count": 3,
   "metadata": {},
   "outputs": [],
   "source": [
    "# x_train_sig = pd.read_csv('D:\\\\desktop files\\\\weka\\\\Datasets\\\\HAPT Data Set\\\\Train\\\\X_train.txt')\n",
    "# x_train_sig = np.loadtxt('D:\\\\desktop files\\\\weka\\\\Datasets\\\\HAPT Data Set\\\\Train\\\\X_train.txt', dtype='float32')\n",
    "\n",
    "\n",
    "# import the dataset set with the proper id\n",
    "#@title Data Preparation\n",
    "# \n",
    "# Load data\n",
    "x_train_sig = np.loadtxt('D:\\\\desktop files\\\\weka\\\\Datasets\\\\HAPT Data Set\\\\Train\\\\X_train.txt', dtype='float32')\n",
    "x_test_sig = np.loadtxt('D:\\\\desktop files\\\\weka\\\\Datasets\\\\HAPT Data Set\\\\Test\\\\X_test.txt', dtype='float32')\n",
    "y_test = np.loadtxt('D:\\\\desktop files\\\\weka\\\\Datasets\\\\HAPT Data Set\\\\Test\\\\y_test.txt')\n",
    "y_train = np.loadtxt('D:\\\\desktop files\\\\weka\\\\Datasets\\\\HAPT Data Set\\\\Train\\\\y_train.txt')\n"
   ]
  },
  {
   "cell_type": "code",
   "execution_count": 4,
   "metadata": {},
   "outputs": [
    {
     "data": {
      "text/plain": [
       "array([[ 0.04357968, -0.00597022, -0.03505434, ..., -0.8415585 ,\n",
       "         0.1799128 , -0.05171842],\n",
       "       [ 0.03948004, -0.00213128, -0.02906736, ..., -0.8450924 ,\n",
       "         0.1802611 , -0.04743634],\n",
       "       [ 0.03997778, -0.00515272, -0.02265071, ..., -0.8492301 ,\n",
       "         0.18060955, -0.04227136],\n",
       "       ...,\n",
       "       [ 0.03745094, -0.00272442,  0.02100941, ..., -0.77956635,\n",
       "         0.24912146,  0.04707077],\n",
       "       [ 0.04401105, -0.00453578, -0.0512422 , ..., -0.7856033 ,\n",
       "         0.24640867,  0.03170003],\n",
       "       [ 0.06895377,  0.00181032, -0.08032343, ..., -0.78369254,\n",
       "         0.24678499,  0.04298129]], dtype=float32)"
      ]
     },
     "execution_count": 4,
     "metadata": {},
     "output_type": "execute_result"
    }
   ],
   "source": [
    "x_train_sig"
   ]
  },
  {
   "cell_type": "code",
   "execution_count": 33,
   "metadata": {},
   "outputs": [],
   "source": [
    "# train = np.array(x_train_sig)"
   ]
  },
  {
   "cell_type": "markdown",
   "metadata": {},
   "source": [
    " df = pd. DataFrame(np_array, columns=['Column1', 'Column2'])"
   ]
  },
  {
   "cell_type": "code",
   "execution_count": 5,
   "metadata": {},
   "outputs": [],
   "source": [
    "x_train = pd.DataFrame(x_train_sig)\n",
    "x_test = pd.DataFrame(x_test_sig)\n",
    "y_train = pd.DataFrame(y_train)\n",
    "y_test = pd.DataFrame(y_test)\n",
    "\n",
    "#  df = pd.DataFrame(np_array, columns=['Column1', 'Column2'])"
   ]
  },
  {
   "cell_type": "code",
   "execution_count": 6,
   "metadata": {
    "scrolled": true
   },
   "outputs": [
    {
     "data": {
      "text/html": [
       "<div>\n",
       "<style scoped>\n",
       "    .dataframe tbody tr th:only-of-type {\n",
       "        vertical-align: middle;\n",
       "    }\n",
       "\n",
       "    .dataframe tbody tr th {\n",
       "        vertical-align: top;\n",
       "    }\n",
       "\n",
       "    .dataframe thead th {\n",
       "        text-align: right;\n",
       "    }\n",
       "</style>\n",
       "<table border=\"1\" class=\"dataframe\">\n",
       "  <thead>\n",
       "    <tr style=\"text-align: right;\">\n",
       "      <th></th>\n",
       "      <th>0</th>\n",
       "      <th>1</th>\n",
       "      <th>2</th>\n",
       "      <th>3</th>\n",
       "      <th>4</th>\n",
       "      <th>5</th>\n",
       "      <th>6</th>\n",
       "      <th>7</th>\n",
       "      <th>8</th>\n",
       "      <th>9</th>\n",
       "      <th>...</th>\n",
       "      <th>551</th>\n",
       "      <th>552</th>\n",
       "      <th>553</th>\n",
       "      <th>554</th>\n",
       "      <th>555</th>\n",
       "      <th>556</th>\n",
       "      <th>557</th>\n",
       "      <th>558</th>\n",
       "      <th>559</th>\n",
       "      <th>560</th>\n",
       "    </tr>\n",
       "  </thead>\n",
       "  <tbody>\n",
       "    <tr>\n",
       "      <th>0</th>\n",
       "      <td>0.030914</td>\n",
       "      <td>-0.008927</td>\n",
       "      <td>0.040382</td>\n",
       "      <td>-0.938504</td>\n",
       "      <td>-0.944626</td>\n",
       "      <td>-0.759334</td>\n",
       "      <td>-0.952398</td>\n",
       "      <td>-0.950281</td>\n",
       "      <td>-0.802483</td>\n",
       "      <td>-0.757099</td>\n",
       "      <td>...</td>\n",
       "      <td>0.122830</td>\n",
       "      <td>-0.345684</td>\n",
       "      <td>-0.709087</td>\n",
       "      <td>0.006462</td>\n",
       "      <td>0.162920</td>\n",
       "      <td>-0.825886</td>\n",
       "      <td>0.271151</td>\n",
       "      <td>-0.720559</td>\n",
       "      <td>0.276779</td>\n",
       "      <td>-0.051074</td>\n",
       "    </tr>\n",
       "    <tr>\n",
       "      <th>1</th>\n",
       "      <td>0.042548</td>\n",
       "      <td>0.001079</td>\n",
       "      <td>-0.026236</td>\n",
       "      <td>-0.975516</td>\n",
       "      <td>-0.977502</td>\n",
       "      <td>-0.960146</td>\n",
       "      <td>-0.986694</td>\n",
       "      <td>-0.978983</td>\n",
       "      <td>-0.966820</td>\n",
       "      <td>-0.757099</td>\n",
       "      <td>...</td>\n",
       "      <td>-0.314688</td>\n",
       "      <td>-0.142804</td>\n",
       "      <td>-0.600867</td>\n",
       "      <td>-0.083495</td>\n",
       "      <td>0.017500</td>\n",
       "      <td>-0.434375</td>\n",
       "      <td>0.920593</td>\n",
       "      <td>-0.698684</td>\n",
       "      <td>0.281322</td>\n",
       "      <td>-0.076825</td>\n",
       "    </tr>\n",
       "    <tr>\n",
       "      <th>2</th>\n",
       "      <td>0.038297</td>\n",
       "      <td>-0.011660</td>\n",
       "      <td>-0.025643</td>\n",
       "      <td>-0.993922</td>\n",
       "      <td>-0.979215</td>\n",
       "      <td>-0.973030</td>\n",
       "      <td>-0.994298</td>\n",
       "      <td>-0.980535</td>\n",
       "      <td>-0.977508</td>\n",
       "      <td>-0.799005</td>\n",
       "      <td>...</td>\n",
       "      <td>0.114730</td>\n",
       "      <td>-0.209525</td>\n",
       "      <td>-0.645500</td>\n",
       "      <td>-0.034956</td>\n",
       "      <td>0.202302</td>\n",
       "      <td>0.064103</td>\n",
       "      <td>0.145068</td>\n",
       "      <td>-0.703355</td>\n",
       "      <td>0.280062</td>\n",
       "      <td>-0.072302</td>\n",
       "    </tr>\n",
       "    <tr>\n",
       "      <th>3</th>\n",
       "      <td>0.036205</td>\n",
       "      <td>-0.018148</td>\n",
       "      <td>-0.025240</td>\n",
       "      <td>-0.994845</td>\n",
       "      <td>-0.981534</td>\n",
       "      <td>-0.976175</td>\n",
       "      <td>-0.995169</td>\n",
       "      <td>-0.983020</td>\n",
       "      <td>-0.980785</td>\n",
       "      <td>-0.798401</td>\n",
       "      <td>...</td>\n",
       "      <td>0.164515</td>\n",
       "      <td>-0.359352</td>\n",
       "      <td>-0.738474</td>\n",
       "      <td>-0.017067</td>\n",
       "      <td>0.154438</td>\n",
       "      <td>0.340134</td>\n",
       "      <td>0.296407</td>\n",
       "      <td>-0.699545</td>\n",
       "      <td>0.284093</td>\n",
       "      <td>-0.070079</td>\n",
       "    </tr>\n",
       "    <tr>\n",
       "      <th>4</th>\n",
       "      <td>0.038034</td>\n",
       "      <td>-0.013437</td>\n",
       "      <td>-0.032899</td>\n",
       "      <td>-0.993955</td>\n",
       "      <td>-0.977493</td>\n",
       "      <td>-0.984290</td>\n",
       "      <td>-0.994006</td>\n",
       "      <td>-0.977354</td>\n",
       "      <td>-0.985899</td>\n",
       "      <td>-0.798401</td>\n",
       "      <td>...</td>\n",
       "      <td>-0.056085</td>\n",
       "      <td>-0.544467</td>\n",
       "      <td>-0.846150</td>\n",
       "      <td>-0.002223</td>\n",
       "      <td>-0.040046</td>\n",
       "      <td>0.736715</td>\n",
       "      <td>-0.118545</td>\n",
       "      <td>-0.692849</td>\n",
       "      <td>0.290701</td>\n",
       "      <td>-0.066849</td>\n",
       "    </tr>\n",
       "    <tr>\n",
       "      <th>...</th>\n",
       "      <td>...</td>\n",
       "      <td>...</td>\n",
       "      <td>...</td>\n",
       "      <td>...</td>\n",
       "      <td>...</td>\n",
       "      <td>...</td>\n",
       "      <td>...</td>\n",
       "      <td>...</td>\n",
       "      <td>...</td>\n",
       "      <td>...</td>\n",
       "      <td>...</td>\n",
       "      <td>...</td>\n",
       "      <td>...</td>\n",
       "      <td>...</td>\n",
       "      <td>...</td>\n",
       "      <td>...</td>\n",
       "      <td>...</td>\n",
       "      <td>...</td>\n",
       "      <td>...</td>\n",
       "      <td>...</td>\n",
       "      <td>...</td>\n",
       "    </tr>\n",
       "    <tr>\n",
       "      <th>3157</th>\n",
       "      <td>0.052279</td>\n",
       "      <td>-0.038687</td>\n",
       "      <td>-0.013494</td>\n",
       "      <td>-0.287933</td>\n",
       "      <td>-0.403601</td>\n",
       "      <td>-0.431550</td>\n",
       "      <td>-0.356012</td>\n",
       "      <td>-0.433826</td>\n",
       "      <td>-0.534817</td>\n",
       "      <td>0.244280</td>\n",
       "      <td>...</td>\n",
       "      <td>0.125445</td>\n",
       "      <td>-0.390349</td>\n",
       "      <td>-0.752788</td>\n",
       "      <td>-0.337422</td>\n",
       "      <td>0.346295</td>\n",
       "      <td>0.884904</td>\n",
       "      <td>-0.698885</td>\n",
       "      <td>-0.652416</td>\n",
       "      <td>0.274605</td>\n",
       "      <td>0.190104</td>\n",
       "    </tr>\n",
       "    <tr>\n",
       "      <th>3158</th>\n",
       "      <td>0.073745</td>\n",
       "      <td>-0.024673</td>\n",
       "      <td>-0.017836</td>\n",
       "      <td>-0.305455</td>\n",
       "      <td>-0.286487</td>\n",
       "      <td>-0.417996</td>\n",
       "      <td>-0.373468</td>\n",
       "      <td>-0.354849</td>\n",
       "      <td>-0.557925</td>\n",
       "      <td>0.244280</td>\n",
       "      <td>...</td>\n",
       "      <td>0.150787</td>\n",
       "      <td>-0.336001</td>\n",
       "      <td>-0.703532</td>\n",
       "      <td>-0.736701</td>\n",
       "      <td>-0.372889</td>\n",
       "      <td>-0.657421</td>\n",
       "      <td>0.322549</td>\n",
       "      <td>-0.655858</td>\n",
       "      <td>0.273556</td>\n",
       "      <td>0.187748</td>\n",
       "    </tr>\n",
       "    <tr>\n",
       "      <th>3159</th>\n",
       "      <td>0.068334</td>\n",
       "      <td>0.043822</td>\n",
       "      <td>-0.024135</td>\n",
       "      <td>-0.329706</td>\n",
       "      <td>-0.335273</td>\n",
       "      <td>-0.456965</td>\n",
       "      <td>-0.387944</td>\n",
       "      <td>-0.423505</td>\n",
       "      <td>-0.604403</td>\n",
       "      <td>0.079255</td>\n",
       "      <td>...</td>\n",
       "      <td>-0.004765</td>\n",
       "      <td>-0.139894</td>\n",
       "      <td>-0.476335</td>\n",
       "      <td>-0.181560</td>\n",
       "      <td>0.088574</td>\n",
       "      <td>0.696663</td>\n",
       "      <td>0.363139</td>\n",
       "      <td>-0.656034</td>\n",
       "      <td>0.274457</td>\n",
       "      <td>0.186527</td>\n",
       "    </tr>\n",
       "    <tr>\n",
       "      <th>3160</th>\n",
       "      <td>0.023016</td>\n",
       "      <td>0.032345</td>\n",
       "      <td>-0.011830</td>\n",
       "      <td>-0.323182</td>\n",
       "      <td>-0.465502</td>\n",
       "      <td>-0.426108</td>\n",
       "      <td>-0.392307</td>\n",
       "      <td>-0.520848</td>\n",
       "      <td>-0.569571</td>\n",
       "      <td>0.079255</td>\n",
       "      <td>...</td>\n",
       "      <td>0.013540</td>\n",
       "      <td>-0.224141</td>\n",
       "      <td>-0.623083</td>\n",
       "      <td>0.444558</td>\n",
       "      <td>-0.819188</td>\n",
       "      <td>0.929294</td>\n",
       "      <td>-0.008398</td>\n",
       "      <td>-0.660387</td>\n",
       "      <td>0.264759</td>\n",
       "      <td>0.192865</td>\n",
       "    </tr>\n",
       "    <tr>\n",
       "      <th>3161</th>\n",
       "      <td>-0.010846</td>\n",
       "      <td>-0.004134</td>\n",
       "      <td>-0.037678</td>\n",
       "      <td>-0.330114</td>\n",
       "      <td>-0.441541</td>\n",
       "      <td>-0.394796</td>\n",
       "      <td>-0.430898</td>\n",
       "      <td>-0.480065</td>\n",
       "      <td>-0.533532</td>\n",
       "      <td>-0.031137</td>\n",
       "      <td>...</td>\n",
       "      <td>0.046926</td>\n",
       "      <td>-0.094539</td>\n",
       "      <td>-0.446862</td>\n",
       "      <td>0.598808</td>\n",
       "      <td>-0.287951</td>\n",
       "      <td>0.876030</td>\n",
       "      <td>-0.024965</td>\n",
       "      <td>-0.660748</td>\n",
       "      <td>0.263914</td>\n",
       "      <td>0.193402</td>\n",
       "    </tr>\n",
       "  </tbody>\n",
       "</table>\n",
       "<p>3162 rows × 561 columns</p>\n",
       "</div>"
      ],
      "text/plain": [
       "           0         1         2         3         4         5         6    \\\n",
       "0     0.030914 -0.008927  0.040382 -0.938504 -0.944626 -0.759334 -0.952398   \n",
       "1     0.042548  0.001079 -0.026236 -0.975516 -0.977502 -0.960146 -0.986694   \n",
       "2     0.038297 -0.011660 -0.025643 -0.993922 -0.979215 -0.973030 -0.994298   \n",
       "3     0.036205 -0.018148 -0.025240 -0.994845 -0.981534 -0.976175 -0.995169   \n",
       "4     0.038034 -0.013437 -0.032899 -0.993955 -0.977493 -0.984290 -0.994006   \n",
       "...        ...       ...       ...       ...       ...       ...       ...   \n",
       "3157  0.052279 -0.038687 -0.013494 -0.287933 -0.403601 -0.431550 -0.356012   \n",
       "3158  0.073745 -0.024673 -0.017836 -0.305455 -0.286487 -0.417996 -0.373468   \n",
       "3159  0.068334  0.043822 -0.024135 -0.329706 -0.335273 -0.456965 -0.387944   \n",
       "3160  0.023016  0.032345 -0.011830 -0.323182 -0.465502 -0.426108 -0.392307   \n",
       "3161 -0.010846 -0.004134 -0.037678 -0.330114 -0.441541 -0.394796 -0.430898   \n",
       "\n",
       "           7         8         9    ...       551       552       553  \\\n",
       "0    -0.950281 -0.802483 -0.757099  ...  0.122830 -0.345684 -0.709087   \n",
       "1    -0.978983 -0.966820 -0.757099  ... -0.314688 -0.142804 -0.600867   \n",
       "2    -0.980535 -0.977508 -0.799005  ...  0.114730 -0.209525 -0.645500   \n",
       "3    -0.983020 -0.980785 -0.798401  ...  0.164515 -0.359352 -0.738474   \n",
       "4    -0.977354 -0.985899 -0.798401  ... -0.056085 -0.544467 -0.846150   \n",
       "...        ...       ...       ...  ...       ...       ...       ...   \n",
       "3157 -0.433826 -0.534817  0.244280  ...  0.125445 -0.390349 -0.752788   \n",
       "3158 -0.354849 -0.557925  0.244280  ...  0.150787 -0.336001 -0.703532   \n",
       "3159 -0.423505 -0.604403  0.079255  ... -0.004765 -0.139894 -0.476335   \n",
       "3160 -0.520848 -0.569571  0.079255  ...  0.013540 -0.224141 -0.623083   \n",
       "3161 -0.480065 -0.533532 -0.031137  ...  0.046926 -0.094539 -0.446862   \n",
       "\n",
       "           554       555       556       557       558       559       560  \n",
       "0     0.006462  0.162920 -0.825886  0.271151 -0.720559  0.276779 -0.051074  \n",
       "1    -0.083495  0.017500 -0.434375  0.920593 -0.698684  0.281322 -0.076825  \n",
       "2    -0.034956  0.202302  0.064103  0.145068 -0.703355  0.280062 -0.072302  \n",
       "3    -0.017067  0.154438  0.340134  0.296407 -0.699545  0.284093 -0.070079  \n",
       "4    -0.002223 -0.040046  0.736715 -0.118545 -0.692849  0.290701 -0.066849  \n",
       "...        ...       ...       ...       ...       ...       ...       ...  \n",
       "3157 -0.337422  0.346295  0.884904 -0.698885 -0.652416  0.274605  0.190104  \n",
       "3158 -0.736701 -0.372889 -0.657421  0.322549 -0.655858  0.273556  0.187748  \n",
       "3159 -0.181560  0.088574  0.696663  0.363139 -0.656034  0.274457  0.186527  \n",
       "3160  0.444558 -0.819188  0.929294 -0.008398 -0.660387  0.264759  0.192865  \n",
       "3161  0.598808 -0.287951  0.876030 -0.024965 -0.660748  0.263914  0.193402  \n",
       "\n",
       "[3162 rows x 561 columns]"
      ]
     },
     "execution_count": 6,
     "metadata": {},
     "output_type": "execute_result"
    }
   ],
   "source": [
    "x_test"
   ]
  },
  {
   "cell_type": "code",
   "execution_count": 92,
   "metadata": {},
   "outputs": [
    {
     "name": "stdout",
     "output_type": "stream",
     "text": [
      "7767\n"
     ]
    }
   ],
   "source": [
    "print(len(y_train))"
   ]
  },
  {
   "cell_type": "code",
   "execution_count": 7,
   "metadata": {},
   "outputs": [],
   "source": [
    "# train_id = pd.read_csv('D:\\\\desktop files\\\\weka\\\\Datasets\\\\HAPT Data Set\\\\Train\\\\subject_id_train.txt')\n",
    "yt = np.array(y_train)\n",
    "yt.astype('float')\n",
    "\n",
    "# col_mapping = [f\"{c[0]}:{c[1]}\" for c in enumerate(y_train.columns)]\n",
    "# col_mapping\n",
    "x_train_id = []\n",
    "\n",
    "for index in range(y_train.shape[0]):\n",
    "    x_train_id.append(index)\n",
    "#     print(index)\n",
    "\n"
   ]
  },
  {
   "cell_type": "code",
   "execution_count": 8,
   "metadata": {},
   "outputs": [
    {
     "data": {
      "text/html": [
       "<div>\n",
       "<style scoped>\n",
       "    .dataframe tbody tr th:only-of-type {\n",
       "        vertical-align: middle;\n",
       "    }\n",
       "\n",
       "    .dataframe tbody tr th {\n",
       "        vertical-align: top;\n",
       "    }\n",
       "\n",
       "    .dataframe thead th {\n",
       "        text-align: right;\n",
       "    }\n",
       "</style>\n",
       "<table border=\"1\" class=\"dataframe\">\n",
       "  <thead>\n",
       "    <tr style=\"text-align: right;\">\n",
       "      <th></th>\n",
       "      <th>0</th>\n",
       "    </tr>\n",
       "  </thead>\n",
       "  <tbody>\n",
       "    <tr>\n",
       "      <th>0</th>\n",
       "      <td>0</td>\n",
       "    </tr>\n",
       "    <tr>\n",
       "      <th>1</th>\n",
       "      <td>1</td>\n",
       "    </tr>\n",
       "    <tr>\n",
       "      <th>2</th>\n",
       "      <td>2</td>\n",
       "    </tr>\n",
       "    <tr>\n",
       "      <th>3</th>\n",
       "      <td>3</td>\n",
       "    </tr>\n",
       "    <tr>\n",
       "      <th>4</th>\n",
       "      <td>4</td>\n",
       "    </tr>\n",
       "    <tr>\n",
       "      <th>...</th>\n",
       "      <td>...</td>\n",
       "    </tr>\n",
       "    <tr>\n",
       "      <th>7762</th>\n",
       "      <td>7762</td>\n",
       "    </tr>\n",
       "    <tr>\n",
       "      <th>7763</th>\n",
       "      <td>7763</td>\n",
       "    </tr>\n",
       "    <tr>\n",
       "      <th>7764</th>\n",
       "      <td>7764</td>\n",
       "    </tr>\n",
       "    <tr>\n",
       "      <th>7765</th>\n",
       "      <td>7765</td>\n",
       "    </tr>\n",
       "    <tr>\n",
       "      <th>7766</th>\n",
       "      <td>7766</td>\n",
       "    </tr>\n",
       "  </tbody>\n",
       "</table>\n",
       "<p>7767 rows × 1 columns</p>\n",
       "</div>"
      ],
      "text/plain": [
       "         0\n",
       "0        0\n",
       "1        1\n",
       "2        2\n",
       "3        3\n",
       "4        4\n",
       "...    ...\n",
       "7762  7762\n",
       "7763  7763\n",
       "7764  7764\n",
       "7765  7765\n",
       "7766  7766\n",
       "\n",
       "[7767 rows x 1 columns]"
      ]
     },
     "execution_count": 8,
     "metadata": {},
     "output_type": "execute_result"
    }
   ],
   "source": [
    "#  This is to transpose the dataframe\n",
    "x_train_id = pd.DataFrame([x_train_id])\n",
    "x_train_id = x_train_id.T\n",
    "\n",
    "x_train_id"
   ]
  },
  {
   "cell_type": "code",
   "execution_count": 9,
   "metadata": {},
   "outputs": [],
   "source": [
    "# train_id.columns=['id']\n",
    "\n",
    "# y_train.columns=['id']\n",
    "# y_test.columns=['id']\n",
    "\n",
    "x_train_id.columns = ['id']"
   ]
  },
  {
   "cell_type": "code",
   "execution_count": 10,
   "metadata": {
    "scrolled": true
   },
   "outputs": [
    {
     "name": "stdout",
     "output_type": "stream",
     "text": [
      "<class 'pandas.core.frame.DataFrame'>\n",
      "RangeIndex: 7767 entries, 0 to 7766\n",
      "Data columns (total 1 columns):\n",
      " #   Column  Non-Null Count  Dtype\n",
      "---  ------  --------------  -----\n",
      " 0   id      7767 non-null   int64\n",
      "dtypes: int64(1)\n",
      "memory usage: 60.8 KB\n"
     ]
    }
   ],
   "source": [
    "# train_id.head()\n",
    "\n",
    "# y_test\n",
    "\n",
    "x_train_id.info()"
   ]
  },
  {
   "cell_type": "markdown",
   "metadata": {},
   "source": [
    "## My train_id suppose to be y_train and y_test concatenated"
   ]
  },
  {
   "cell_type": "code",
   "execution_count": 11,
   "metadata": {},
   "outputs": [],
   "source": [
    "# x_train_concat = pd.concat([x_train,y_train], axis=1)\n",
    "\n",
    "x_train_concat = pd.concat([x_train,x_train_id], axis=1)"
   ]
  },
  {
   "cell_type": "code",
   "execution_count": 81,
   "metadata": {},
   "outputs": [],
   "source": [
    "# x_test_concat = pd.concat([x_test,y_test], axis=1)"
   ]
  },
  {
   "cell_type": "code",
   "execution_count": 12,
   "metadata": {},
   "outputs": [
    {
     "data": {
      "text/html": [
       "<div>\n",
       "<style scoped>\n",
       "    .dataframe tbody tr th:only-of-type {\n",
       "        vertical-align: middle;\n",
       "    }\n",
       "\n",
       "    .dataframe tbody tr th {\n",
       "        vertical-align: top;\n",
       "    }\n",
       "\n",
       "    .dataframe thead th {\n",
       "        text-align: right;\n",
       "    }\n",
       "</style>\n",
       "<table border=\"1\" class=\"dataframe\">\n",
       "  <thead>\n",
       "    <tr style=\"text-align: right;\">\n",
       "      <th></th>\n",
       "      <th>0</th>\n",
       "      <th>1</th>\n",
       "      <th>2</th>\n",
       "      <th>3</th>\n",
       "      <th>4</th>\n",
       "      <th>5</th>\n",
       "      <th>6</th>\n",
       "      <th>7</th>\n",
       "      <th>8</th>\n",
       "      <th>9</th>\n",
       "      <th>...</th>\n",
       "      <th>552</th>\n",
       "      <th>553</th>\n",
       "      <th>554</th>\n",
       "      <th>555</th>\n",
       "      <th>556</th>\n",
       "      <th>557</th>\n",
       "      <th>558</th>\n",
       "      <th>559</th>\n",
       "      <th>560</th>\n",
       "      <th>id</th>\n",
       "    </tr>\n",
       "  </thead>\n",
       "  <tbody>\n",
       "    <tr>\n",
       "      <th>0</th>\n",
       "      <td>0.043580</td>\n",
       "      <td>-0.005970</td>\n",
       "      <td>-0.035054</td>\n",
       "      <td>-0.995381</td>\n",
       "      <td>-0.988366</td>\n",
       "      <td>-0.937382</td>\n",
       "      <td>-0.995007</td>\n",
       "      <td>-0.988816</td>\n",
       "      <td>-0.953325</td>\n",
       "      <td>-0.794796</td>\n",
       "      <td>...</td>\n",
       "      <td>-0.314848</td>\n",
       "      <td>-0.713308</td>\n",
       "      <td>-0.112754</td>\n",
       "      <td>0.030400</td>\n",
       "      <td>-0.464761</td>\n",
       "      <td>-0.018446</td>\n",
       "      <td>-0.841559</td>\n",
       "      <td>0.179913</td>\n",
       "      <td>-0.051718</td>\n",
       "      <td>0</td>\n",
       "    </tr>\n",
       "    <tr>\n",
       "      <th>1</th>\n",
       "      <td>0.039480</td>\n",
       "      <td>-0.002131</td>\n",
       "      <td>-0.029067</td>\n",
       "      <td>-0.998348</td>\n",
       "      <td>-0.982945</td>\n",
       "      <td>-0.971273</td>\n",
       "      <td>-0.998702</td>\n",
       "      <td>-0.983315</td>\n",
       "      <td>-0.974000</td>\n",
       "      <td>-0.802537</td>\n",
       "      <td>...</td>\n",
       "      <td>-0.603199</td>\n",
       "      <td>-0.860677</td>\n",
       "      <td>0.053477</td>\n",
       "      <td>-0.007435</td>\n",
       "      <td>-0.732626</td>\n",
       "      <td>0.703511</td>\n",
       "      <td>-0.845092</td>\n",
       "      <td>0.180261</td>\n",
       "      <td>-0.047436</td>\n",
       "      <td>1</td>\n",
       "    </tr>\n",
       "    <tr>\n",
       "      <th>2</th>\n",
       "      <td>0.039978</td>\n",
       "      <td>-0.005153</td>\n",
       "      <td>-0.022651</td>\n",
       "      <td>-0.995482</td>\n",
       "      <td>-0.977314</td>\n",
       "      <td>-0.984760</td>\n",
       "      <td>-0.996415</td>\n",
       "      <td>-0.975835</td>\n",
       "      <td>-0.985973</td>\n",
       "      <td>-0.798477</td>\n",
       "      <td>...</td>\n",
       "      <td>-0.404427</td>\n",
       "      <td>-0.761847</td>\n",
       "      <td>-0.118559</td>\n",
       "      <td>0.177899</td>\n",
       "      <td>0.100699</td>\n",
       "      <td>0.808529</td>\n",
       "      <td>-0.849230</td>\n",
       "      <td>0.180610</td>\n",
       "      <td>-0.042271</td>\n",
       "      <td>2</td>\n",
       "    </tr>\n",
       "    <tr>\n",
       "      <th>3</th>\n",
       "      <td>0.039785</td>\n",
       "      <td>-0.011809</td>\n",
       "      <td>-0.028916</td>\n",
       "      <td>-0.996194</td>\n",
       "      <td>-0.988569</td>\n",
       "      <td>-0.993256</td>\n",
       "      <td>-0.996994</td>\n",
       "      <td>-0.988526</td>\n",
       "      <td>-0.993135</td>\n",
       "      <td>-0.798477</td>\n",
       "      <td>...</td>\n",
       "      <td>-0.138373</td>\n",
       "      <td>-0.491604</td>\n",
       "      <td>-0.036788</td>\n",
       "      <td>-0.012892</td>\n",
       "      <td>0.640011</td>\n",
       "      <td>-0.485366</td>\n",
       "      <td>-0.848947</td>\n",
       "      <td>0.181907</td>\n",
       "      <td>-0.040826</td>\n",
       "      <td>3</td>\n",
       "    </tr>\n",
       "    <tr>\n",
       "      <th>4</th>\n",
       "      <td>0.038758</td>\n",
       "      <td>-0.002289</td>\n",
       "      <td>-0.023863</td>\n",
       "      <td>-0.998241</td>\n",
       "      <td>-0.986774</td>\n",
       "      <td>-0.993115</td>\n",
       "      <td>-0.998216</td>\n",
       "      <td>-0.986479</td>\n",
       "      <td>-0.993825</td>\n",
       "      <td>-0.801982</td>\n",
       "      <td>...</td>\n",
       "      <td>-0.366214</td>\n",
       "      <td>-0.702490</td>\n",
       "      <td>0.123320</td>\n",
       "      <td>0.122542</td>\n",
       "      <td>0.693578</td>\n",
       "      <td>-0.615971</td>\n",
       "      <td>-0.848164</td>\n",
       "      <td>0.185124</td>\n",
       "      <td>-0.037080</td>\n",
       "      <td>4</td>\n",
       "    </tr>\n",
       "    <tr>\n",
       "      <th>...</th>\n",
       "      <td>...</td>\n",
       "      <td>...</td>\n",
       "      <td>...</td>\n",
       "      <td>...</td>\n",
       "      <td>...</td>\n",
       "      <td>...</td>\n",
       "      <td>...</td>\n",
       "      <td>...</td>\n",
       "      <td>...</td>\n",
       "      <td>...</td>\n",
       "      <td>...</td>\n",
       "      <td>...</td>\n",
       "      <td>...</td>\n",
       "      <td>...</td>\n",
       "      <td>...</td>\n",
       "      <td>...</td>\n",
       "      <td>...</td>\n",
       "      <td>...</td>\n",
       "      <td>...</td>\n",
       "      <td>...</td>\n",
       "      <td>...</td>\n",
       "    </tr>\n",
       "    <tr>\n",
       "      <th>7762</th>\n",
       "      <td>0.048048</td>\n",
       "      <td>-0.042445</td>\n",
       "      <td>-0.065884</td>\n",
       "      <td>-0.195448</td>\n",
       "      <td>-0.278326</td>\n",
       "      <td>-0.219954</td>\n",
       "      <td>-0.282233</td>\n",
       "      <td>-0.305861</td>\n",
       "      <td>-0.357803</td>\n",
       "      <td>0.267874</td>\n",
       "      <td>...</td>\n",
       "      <td>-0.596760</td>\n",
       "      <td>-0.879026</td>\n",
       "      <td>-0.190437</td>\n",
       "      <td>0.829718</td>\n",
       "      <td>0.206972</td>\n",
       "      <td>-0.425619</td>\n",
       "      <td>-0.792292</td>\n",
       "      <td>0.238580</td>\n",
       "      <td>0.056020</td>\n",
       "      <td>7762</td>\n",
       "    </tr>\n",
       "    <tr>\n",
       "      <th>7763</th>\n",
       "      <td>0.037639</td>\n",
       "      <td>0.006430</td>\n",
       "      <td>-0.044345</td>\n",
       "      <td>-0.235372</td>\n",
       "      <td>-0.302680</td>\n",
       "      <td>-0.232843</td>\n",
       "      <td>-0.322483</td>\n",
       "      <td>-0.354464</td>\n",
       "      <td>-0.345592</td>\n",
       "      <td>0.181271</td>\n",
       "      <td>...</td>\n",
       "      <td>-0.404418</td>\n",
       "      <td>-0.684496</td>\n",
       "      <td>0.064907</td>\n",
       "      <td>0.875679</td>\n",
       "      <td>-0.879033</td>\n",
       "      <td>0.400219</td>\n",
       "      <td>-0.772288</td>\n",
       "      <td>0.252653</td>\n",
       "      <td>0.056252</td>\n",
       "      <td>7763</td>\n",
       "    </tr>\n",
       "    <tr>\n",
       "      <th>7764</th>\n",
       "      <td>0.037451</td>\n",
       "      <td>-0.002724</td>\n",
       "      <td>0.021009</td>\n",
       "      <td>-0.218281</td>\n",
       "      <td>-0.378082</td>\n",
       "      <td>-0.076950</td>\n",
       "      <td>-0.304446</td>\n",
       "      <td>-0.400661</td>\n",
       "      <td>-0.193071</td>\n",
       "      <td>0.113141</td>\n",
       "      <td>...</td>\n",
       "      <td>0.000207</td>\n",
       "      <td>-0.317314</td>\n",
       "      <td>0.052806</td>\n",
       "      <td>-0.266724</td>\n",
       "      <td>0.864404</td>\n",
       "      <td>0.701169</td>\n",
       "      <td>-0.779566</td>\n",
       "      <td>0.249121</td>\n",
       "      <td>0.047071</td>\n",
       "      <td>7764</td>\n",
       "    </tr>\n",
       "    <tr>\n",
       "      <th>7765</th>\n",
       "      <td>0.044011</td>\n",
       "      <td>-0.004536</td>\n",
       "      <td>-0.051242</td>\n",
       "      <td>-0.219202</td>\n",
       "      <td>-0.383350</td>\n",
       "      <td>-0.081035</td>\n",
       "      <td>-0.310419</td>\n",
       "      <td>-0.380233</td>\n",
       "      <td>-0.201007</td>\n",
       "      <td>0.166671</td>\n",
       "      <td>...</td>\n",
       "      <td>0.037919</td>\n",
       "      <td>-0.356579</td>\n",
       "      <td>-0.101360</td>\n",
       "      <td>0.700740</td>\n",
       "      <td>0.936674</td>\n",
       "      <td>-0.589479</td>\n",
       "      <td>-0.785603</td>\n",
       "      <td>0.246409</td>\n",
       "      <td>0.031700</td>\n",
       "      <td>7765</td>\n",
       "    </tr>\n",
       "    <tr>\n",
       "      <th>7766</th>\n",
       "      <td>0.068954</td>\n",
       "      <td>0.001810</td>\n",
       "      <td>-0.080323</td>\n",
       "      <td>-0.269336</td>\n",
       "      <td>-0.366553</td>\n",
       "      <td>-0.147294</td>\n",
       "      <td>-0.377332</td>\n",
       "      <td>-0.360597</td>\n",
       "      <td>-0.255505</td>\n",
       "      <td>0.321881</td>\n",
       "      <td>...</td>\n",
       "      <td>-0.400831</td>\n",
       "      <td>-0.742972</td>\n",
       "      <td>-0.280088</td>\n",
       "      <td>-0.007739</td>\n",
       "      <td>-0.056088</td>\n",
       "      <td>-0.616956</td>\n",
       "      <td>-0.783693</td>\n",
       "      <td>0.246785</td>\n",
       "      <td>0.042981</td>\n",
       "      <td>7766</td>\n",
       "    </tr>\n",
       "  </tbody>\n",
       "</table>\n",
       "<p>7767 rows × 562 columns</p>\n",
       "</div>"
      ],
      "text/plain": [
       "             0         1         2         3         4         5         6  \\\n",
       "0     0.043580 -0.005970 -0.035054 -0.995381 -0.988366 -0.937382 -0.995007   \n",
       "1     0.039480 -0.002131 -0.029067 -0.998348 -0.982945 -0.971273 -0.998702   \n",
       "2     0.039978 -0.005153 -0.022651 -0.995482 -0.977314 -0.984760 -0.996415   \n",
       "3     0.039785 -0.011809 -0.028916 -0.996194 -0.988569 -0.993256 -0.996994   \n",
       "4     0.038758 -0.002289 -0.023863 -0.998241 -0.986774 -0.993115 -0.998216   \n",
       "...        ...       ...       ...       ...       ...       ...       ...   \n",
       "7762  0.048048 -0.042445 -0.065884 -0.195448 -0.278326 -0.219954 -0.282233   \n",
       "7763  0.037639  0.006430 -0.044345 -0.235372 -0.302680 -0.232843 -0.322483   \n",
       "7764  0.037451 -0.002724  0.021009 -0.218281 -0.378082 -0.076950 -0.304446   \n",
       "7765  0.044011 -0.004536 -0.051242 -0.219202 -0.383350 -0.081035 -0.310419   \n",
       "7766  0.068954  0.001810 -0.080323 -0.269336 -0.366553 -0.147294 -0.377332   \n",
       "\n",
       "             7         8         9  ...       552       553       554  \\\n",
       "0    -0.988816 -0.953325 -0.794796  ... -0.314848 -0.713308 -0.112754   \n",
       "1    -0.983315 -0.974000 -0.802537  ... -0.603199 -0.860677  0.053477   \n",
       "2    -0.975835 -0.985973 -0.798477  ... -0.404427 -0.761847 -0.118559   \n",
       "3    -0.988526 -0.993135 -0.798477  ... -0.138373 -0.491604 -0.036788   \n",
       "4    -0.986479 -0.993825 -0.801982  ... -0.366214 -0.702490  0.123320   \n",
       "...        ...       ...       ...  ...       ...       ...       ...   \n",
       "7762 -0.305861 -0.357803  0.267874  ... -0.596760 -0.879026 -0.190437   \n",
       "7763 -0.354464 -0.345592  0.181271  ... -0.404418 -0.684496  0.064907   \n",
       "7764 -0.400661 -0.193071  0.113141  ...  0.000207 -0.317314  0.052806   \n",
       "7765 -0.380233 -0.201007  0.166671  ...  0.037919 -0.356579 -0.101360   \n",
       "7766 -0.360597 -0.255505  0.321881  ... -0.400831 -0.742972 -0.280088   \n",
       "\n",
       "           555       556       557       558       559       560    id  \n",
       "0     0.030400 -0.464761 -0.018446 -0.841559  0.179913 -0.051718     0  \n",
       "1    -0.007435 -0.732626  0.703511 -0.845092  0.180261 -0.047436     1  \n",
       "2     0.177899  0.100699  0.808529 -0.849230  0.180610 -0.042271     2  \n",
       "3    -0.012892  0.640011 -0.485366 -0.848947  0.181907 -0.040826     3  \n",
       "4     0.122542  0.693578 -0.615971 -0.848164  0.185124 -0.037080     4  \n",
       "...        ...       ...       ...       ...       ...       ...   ...  \n",
       "7762  0.829718  0.206972 -0.425619 -0.792292  0.238580  0.056020  7762  \n",
       "7763  0.875679 -0.879033  0.400219 -0.772288  0.252653  0.056252  7763  \n",
       "7764 -0.266724  0.864404  0.701169 -0.779566  0.249121  0.047071  7764  \n",
       "7765  0.700740  0.936674 -0.589479 -0.785603  0.246409  0.031700  7765  \n",
       "7766 -0.007739 -0.056088 -0.616956 -0.783693  0.246785  0.042981  7766  \n",
       "\n",
       "[7767 rows x 562 columns]"
      ]
     },
     "execution_count": 12,
     "metadata": {},
     "output_type": "execute_result"
    }
   ],
   "source": [
    "x_train_concat"
   ]
  },
  {
   "cell_type": "code",
   "execution_count": 13,
   "metadata": {},
   "outputs": [
    {
     "ename": "NameError",
     "evalue": "name 'x_test_concat' is not defined",
     "output_type": "error",
     "traceback": [
      "\u001b[1;31m---------------------------------------------------------------------------\u001b[0m",
      "\u001b[1;31mNameError\u001b[0m                                 Traceback (most recent call last)",
      "\u001b[1;32m<ipython-input-13-49fe726ae8f1>\u001b[0m in \u001b[0;36m<module>\u001b[1;34m\u001b[0m\n\u001b[1;32m----> 1\u001b[1;33m \u001b[0mx_test_concat\u001b[0m\u001b[1;33m.\u001b[0m\u001b[0minfo\u001b[0m\u001b[1;33m(\u001b[0m\u001b[1;33m)\u001b[0m\u001b[1;33m\u001b[0m\u001b[1;33m\u001b[0m\u001b[0m\n\u001b[0m",
      "\u001b[1;31mNameError\u001b[0m: name 'x_test_concat' is not defined"
     ]
    }
   ],
   "source": [
    "x_test_concat.info()"
   ]
  },
  {
   "cell_type": "code",
   "execution_count": 42,
   "metadata": {},
   "outputs": [],
   "source": [
    "xytrain = xtrain.dropna()"
   ]
  },
  {
   "cell_type": "code",
   "execution_count": 44,
   "metadata": {},
   "outputs": [
    {
     "data": {
      "text/plain": [
       "0      0\n",
       "1      0\n",
       "2      0\n",
       "3      0\n",
       "4      0\n",
       "      ..\n",
       "557    0\n",
       "558    0\n",
       "559    0\n",
       "560    0\n",
       "id     0\n",
       "Length: 562, dtype: int64"
      ]
     },
     "execution_count": 44,
     "metadata": {},
     "output_type": "execute_result"
    }
   ],
   "source": [
    "xytrain.isnull().sum()"
   ]
  },
  {
   "cell_type": "code",
   "execution_count": null,
   "metadata": {},
   "outputs": [],
   "source": [
    "# RainToday = RainToday.rename(columns={'Yes': 'RToday'})"
   ]
  },
  {
   "cell_type": "code",
   "execution_count": null,
   "metadata": {},
   "outputs": [],
   "source": [
    "# tsfresh.convenience.bindings.dask_feature_extraction_on_chunk(df, column_id, column_kind, column_value, column_sort=None, default_fc_parameters=None, kind_to_fc_parameters=None)"
   ]
  },
  {
   "cell_type": "code",
   "execution_count": 14,
   "metadata": {},
   "outputs": [],
   "source": [
    "from dask import dataframe as dd\n",
    "from tsfresh.convenience.bindings import dask_feature_extraction_on_chunk\n",
    "from tsfresh.feature_extraction.settings import MinimalFCParameters"
   ]
  },
  {
   "cell_type": "code",
   "execution_count": 45,
   "metadata": {},
   "outputs": [],
   "source": [
    "# df = timese.melt(id_vars=[\"id\", \"time\"],\n",
    "#               value_vars=[\"F_x\", \"F_y\", \"F_z\", \"T_x\", \"T_y\", \"T_z\"],\n",
    "#                var_name=\"kind\", value_name=\"value\")\n",
    "# df_grouped = df.groupby([\"id\", \"kind\"])"
   ]
  },
  {
   "cell_type": "code",
   "execution_count": 52,
   "metadata": {},
   "outputs": [],
   "source": [
    "# features = dask_feature_extraction_on_chunk(df_grouped, column_id=\"id\", column_kind=\"kind\",\n",
    "#                                             column_sort=\"time\", column_value=\"value\")"
   ]
  },
  {
   "cell_type": "code",
   "execution_count": null,
   "metadata": {
    "scrolled": true
   },
   "outputs": [],
   "source": [
    "from tsfresh import extract_features\n",
    "extracted_ft_train = extract_features(x_train_concat, column_id=\"id\",default_fc_parameters=settings)\n",
    "# extracted_ft_test = extract_features(x_test_concat, column_id=\"id\",default_fc_parameters=settings)"
   ]
  },
  {
   "cell_type": "code",
   "execution_count": 89,
   "metadata": {
    "scrolled": true
   },
   "outputs": [
    {
     "name": "stdout",
     "output_type": "stream",
     "text": [
      "<class 'pandas.core.frame.DataFrame'>\n",
      "Float64Index: 12 entries, 1.0 to 12.0\n",
      "Columns: 428043 entries, 0__abs_energy to 9__variation_coefficient\n",
      "dtypes: float64(428043)\n",
      "memory usage: 39.2 MB\n"
     ]
    }
   ],
   "source": [
    "extracted_ft_train.info()"
   ]
  },
  {
   "cell_type": "code",
   "execution_count": 46,
   "metadata": {},
   "outputs": [],
   "source": [
    "# extracted_features.to_csv('D:\\\\desktop files\\\\weka\\\\Datasets\\\\HAPT Data Set\\\\hapt_tsfresh_ex_features.csv')"
   ]
  },
  {
   "cell_type": "code",
   "execution_count": 51,
   "metadata": {},
   "outputs": [
    {
     "name": "stdout",
     "output_type": "stream",
     "text": [
      "<class 'pandas.core.frame.DataFrame'>\n",
      "Float64Index: 21 entries, 1.0 to 30.0\n",
      "Columns: 428043 entries, 0__abs_energy to 9__variation_coefficient\n",
      "dtypes: float64(428043)\n",
      "memory usage: 68.6 MB\n"
     ]
    }
   ],
   "source": [
    "extracted_features.info()"
   ]
  },
  {
   "cell_type": "code",
   "execution_count": 52,
   "metadata": {},
   "outputs": [
    {
     "ename": "TypeError",
     "evalue": "select_features() missing 1 required positional argument: 'y'",
     "output_type": "error",
     "traceback": [
      "\u001b[1;31m---------------------------------------------------------------------------\u001b[0m",
      "\u001b[1;31mTypeError\u001b[0m                                 Traceback (most recent call last)",
      "\u001b[1;32m<ipython-input-52-a8d5c06527bb>\u001b[0m in \u001b[0;36m<module>\u001b[1;34m\u001b[0m\n\u001b[0;32m      4\u001b[0m \u001b[0mimpute\u001b[0m\u001b[1;33m(\u001b[0m\u001b[0mextracted_features\u001b[0m\u001b[1;33m)\u001b[0m\u001b[1;33m\u001b[0m\u001b[1;33m\u001b[0m\u001b[0m\n\u001b[0;32m      5\u001b[0m \u001b[1;31m# features_filtered = select_features(extracted_features, y)\u001b[0m\u001b[1;33m\u001b[0m\u001b[1;33m\u001b[0m\u001b[1;33m\u001b[0m\u001b[0m\n\u001b[1;32m----> 6\u001b[1;33m \u001b[0mfeatures_filtered\u001b[0m \u001b[1;33m=\u001b[0m \u001b[0mselect_features\u001b[0m\u001b[1;33m(\u001b[0m\u001b[0mextracted_features\u001b[0m\u001b[1;33m)\u001b[0m\u001b[1;33m\u001b[0m\u001b[1;33m\u001b[0m\u001b[0m\n\u001b[0m",
      "\u001b[1;31mTypeError\u001b[0m: select_features() missing 1 required positional argument: 'y'"
     ]
    }
   ],
   "source": [
    "from tsfresh import select_features\n",
    "from tsfresh.utilities.dataframe_functions import impute\n",
    "\n",
    "impute(extracted_features)\n",
    "# features_filtered = select_features(extracted_features, y)\n",
    "features_filtered = select_features(extracted_features)"
   ]
  },
  {
   "cell_type": "code",
   "execution_count": 61,
   "metadata": {
    "collapsed": true
   },
   "outputs": [
    {
     "ename": "TypeError",
     "evalue": "extract_relevant_features() missing 1 required positional argument: 'y'",
     "output_type": "error",
     "traceback": [
      "\u001b[1;31m---------------------------------------------------------------------------\u001b[0m",
      "\u001b[1;31mTypeError\u001b[0m                                 Traceback (most recent call last)",
      "\u001b[1;32m<ipython-input-61-2755f4b23b06>\u001b[0m in \u001b[0;36m<module>\u001b[1;34m\u001b[0m\n\u001b[0;32m      2\u001b[0m \u001b[1;33m\u001b[0m\u001b[0m\n\u001b[0;32m      3\u001b[0m features_filtered_direct = extract_relevant_features(timeseries,\n\u001b[1;32m----> 4\u001b[1;33m                                                      column_id='id', column_sort='time')\n\u001b[0m",
      "\u001b[1;31mTypeError\u001b[0m: extract_relevant_features() missing 1 required positional argument: 'y'"
     ]
    }
   ],
   "source": [
    "from tsfresh import extract_relevant_features\n",
    "\n",
    "features_filtered_direct = extract_relevant_features(timeseries, y,\n",
    "                                                     column_id='id', column_sort='time')"
   ]
  },
  {
   "cell_type": "code",
   "execution_count": null,
   "metadata": {},
   "outputs": [],
   "source": []
  },
  {
   "cell_type": "code",
   "execution_count": null,
   "metadata": {},
   "outputs": [],
   "source": []
  },
  {
   "cell_type": "code",
   "execution_count": null,
   "metadata": {},
   "outputs": [],
   "source": []
  },
  {
   "cell_type": "code",
   "execution_count": null,
   "metadata": {},
   "outputs": [],
   "source": []
  },
  {
   "cell_type": "code",
   "execution_count": null,
   "metadata": {},
   "outputs": [],
   "source": []
  }
 ],
 "metadata": {
  "kernelspec": {
   "display_name": "Python 3",
   "language": "python",
   "name": "python3"
  },
  "language_info": {
   "codemirror_mode": {
    "name": "ipython",
    "version": 3
   },
   "file_extension": ".py",
   "mimetype": "text/x-python",
   "name": "python",
   "nbconvert_exporter": "python",
   "pygments_lexer": "ipython3",
   "version": "3.7.7"
  }
 },
 "nbformat": 4,
 "nbformat_minor": 4
}
