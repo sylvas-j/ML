{
 "cells": [
  {
   "cell_type": "code",
   "execution_count": 4,
   "id": "340a7abd-664b-42d2-b980-670c2c7fd641",
   "metadata": {},
   "outputs": [],
   "source": [
    "import numpy as np\n",
    "import pandas as pd\n",
    "# import boto3\n",
    "import tensorflow as tf\n",
    "from keras.datasets import imdb\n",
    "from keras.models import Sequential\n",
    "from keras.layers import Dense, SimpleRNN\n",
    "from keras.layers import LSTM\n",
    "from keras.preprocessing.text import Tokenizer\n",
    "from tensorflow.python.client import device_lib\n",
    "from keras.constraints import maxnorm\n",
    "from keras.layers import Dropout\n",
    "import time\n",
    "import warnings\n",
    "warnings.filterwarnings(\"ignore\")\n"
   ]
  },
  {
   "cell_type": "code",
   "execution_count": 76,
   "id": "d7ea671e-a195-469f-a98e-98bfdabe530e",
   "metadata": {},
   "outputs": [],
   "source": [
    "from keras.utils import pad_sequences\n",
    "from tensorflow.keras.layers import Embedding"
   ]
  },
  {
   "cell_type": "code",
   "execution_count": 95,
   "id": "4f6d6c2e-e96a-409b-a340-6a126c49854d",
   "metadata": {},
   "outputs": [],
   "source": [
    "from collections import Counter\n",
    "import itertools"
   ]
  },
  {
   "cell_type": "code",
   "execution_count": 67,
   "id": "cbb6a02c-6e1d-4110-9647-263959874b2c",
   "metadata": {},
   "outputs": [],
   "source": [
    "from sklearn.model_selection import train_test_split"
   ]
  },
  {
   "cell_type": "code",
   "execution_count": 75,
   "id": "6b29499d-1b27-4e51-869b-7a77d8e56d07",
   "metadata": {},
   "outputs": [],
   "source": [
    "# from keras.preprocessing.sequence import pad_sequences\n",
    "# from keras.layers.embeddings import Embedding\n",
    "# from tensorflow.keras.layers import Embedding\n",
    "#from keras.preprocessing import sequence"
   ]
  },
  {
   "cell_type": "code",
   "execution_count": 10,
   "id": "1764fda1-c65d-48c3-a91d-f3bde83debca",
   "metadata": {},
   "outputs": [
    {
     "data": {
      "text/html": [
       "<div>\n",
       "<style scoped>\n",
       "    .dataframe tbody tr th:only-of-type {\n",
       "        vertical-align: middle;\n",
       "    }\n",
       "\n",
       "    .dataframe tbody tr th {\n",
       "        vertical-align: top;\n",
       "    }\n",
       "\n",
       "    .dataframe thead th {\n",
       "        text-align: right;\n",
       "    }\n",
       "</style>\n",
       "<table border=\"1\" class=\"dataframe\">\n",
       "  <thead>\n",
       "    <tr style=\"text-align: right;\">\n",
       "      <th></th>\n",
       "      <th>raw_text</th>\n",
       "      <th>crime_types</th>\n",
       "      <th>sentence</th>\n",
       "      <th>tokenized_cleaned_text</th>\n",
       "      <th>lemmatized</th>\n",
       "      <th>tokens_back_to_text</th>\n",
       "    </tr>\n",
       "  </thead>\n",
       "  <tbody>\n",
       "    <tr>\n",
       "      <th>0</th>\n",
       "      <td>Mr. Solomon Sauls ran an illegal enterprise wi...</td>\n",
       "      <td>money laundry</td>\n",
       "      <td>1</td>\n",
       "      <td>['solomon', 'sauls', 'ran', 'illegal', 'enterp...</td>\n",
       "      <td>['solomon', 'saul', 'ran', 'illegal', 'enterpr...</td>\n",
       "      <td>solomon saul ran illegal enterprise purpose po...</td>\n",
       "    </tr>\n",
       "    <tr>\n",
       "      <th>1</th>\n",
       "      <td>SummaryHarmony Gold Mine (Pty) Limited is a mi...</td>\n",
       "      <td>money laundry</td>\n",
       "      <td>1</td>\n",
       "      <td>['summaryharmony', 'gold', 'mine', 'pty', 'lim...</td>\n",
       "      <td>['summaryharmony', 'gold', 'mine', 'pty', 'lim...</td>\n",
       "      <td>summaryharmony gold mine pty limited mining co...</td>\n",
       "    </tr>\n",
       "  </tbody>\n",
       "</table>\n",
       "</div>"
      ],
      "text/plain": [
       "                                            raw_text    crime_types  sentence   \n",
       "0  Mr. Solomon Sauls ran an illegal enterprise wi...  money laundry         1  \\\n",
       "1  SummaryHarmony Gold Mine (Pty) Limited is a mi...  money laundry         1   \n",
       "\n",
       "                              tokenized_cleaned_text   \n",
       "0  ['solomon', 'sauls', 'ran', 'illegal', 'enterp...  \\\n",
       "1  ['summaryharmony', 'gold', 'mine', 'pty', 'lim...   \n",
       "\n",
       "                                          lemmatized   \n",
       "0  ['solomon', 'saul', 'ran', 'illegal', 'enterpr...  \\\n",
       "1  ['summaryharmony', 'gold', 'mine', 'pty', 'lim...   \n",
       "\n",
       "                                 tokens_back_to_text  \n",
       "0  solomon saul ran illegal enterprise purpose po...  \n",
       "1  summaryharmony gold mine pty limited mining co...  "
      ]
     },
     "execution_count": 10,
     "metadata": {},
     "output_type": "execute_result"
    }
   ],
   "source": [
    "dff = pd.read_csv('../../../../datasets/sherloc/sherloc-court-case-token-back-to-text.csv')\n",
    "dff.head(2)"
   ]
  },
  {
   "cell_type": "code",
   "execution_count": 11,
   "id": "268444db-d1ae-45e0-9d8e-b97f2c8ffbf9",
   "metadata": {},
   "outputs": [
    {
     "data": {
      "text/plain": [
       "1250"
      ]
     },
     "execution_count": 11,
     "metadata": {},
     "output_type": "execute_result"
    }
   ],
   "source": [
    "len(dff)"
   ]
  },
  {
   "cell_type": "code",
   "execution_count": 46,
   "id": "a764f191-0b67-42e8-acb5-a1bc27d8e5e1",
   "metadata": {},
   "outputs": [],
   "source": [
    "X = dff.tokens_back_to_text.values"
   ]
  },
  {
   "cell_type": "code",
   "execution_count": 60,
   "id": "83fdfab6-f519-48cb-8938-47b94e928977",
   "metadata": {},
   "outputs": [],
   "source": [
    "y = dff.sentence.values"
   ]
  },
  {
   "cell_type": "code",
   "execution_count": 20,
   "id": "68cbfd8a-e0aa-457b-bf87-c449da79d5e3",
   "metadata": {},
   "outputs": [],
   "source": [
    "XX = list(dff.tokens_back_to_text)"
   ]
  },
  {
   "cell_type": "code",
   "execution_count": 15,
   "id": "1966d1d7-50ed-4593-a77a-f2eb35e1ef20",
   "metadata": {},
   "outputs": [
    {
     "data": {
      "text/plain": [
       "((1250,), (1250,))"
      ]
     },
     "execution_count": 15,
     "metadata": {},
     "output_type": "execute_result"
    }
   ],
   "source": [
    "X.shape, y.shape"
   ]
  },
  {
   "cell_type": "markdown",
   "id": "e2c29de7-b241-4e4c-ab38-336cd579443d",
   "metadata": {},
   "source": [
    "## Feature Engineering"
   ]
  },
  {
   "cell_type": "code",
   "execution_count": 47,
   "id": "39aeb024-a78c-4de9-a64f-b6627b3460a6",
   "metadata": {},
   "outputs": [],
   "source": [
    "# prepare tokenizer\n",
    "tokenizer = Tokenizer()\n",
    "tokenizer.fit_on_texts(X)"
   ]
  },
  {
   "cell_type": "code",
   "execution_count": 17,
   "id": "b25cbc97-ca05-42eb-9b52-b98662e17be6",
   "metadata": {
    "collapsed": true,
    "jupyter": {
     "outputs_hidden": true
    },
    "tags": []
   },
   "outputs": [
    {
     "data": {
      "text/plain": [
       "array(['solomon saul ran illegal enterprise purpose poach sell abalone haliotis midae south africa group abalone diver work supply illegally harvest abalone accuse bribed official department agriculture forestry fishery prevent confiscate abalone buy back abalone already seize authority corrupt official face charge separate march police search accuse house encounter cash accuse confess proceeds illegal activity february defendant plead guilty count involve run illegal enterprise corruption money laundering possess transport illegally harvest aggravate sentence seriousness corrupt government official engagement illegal abalone trade commercial scale financial accuse involve similar crime past previously receive prison sentence involvement another illegal enterprise focus abalone found responsible run illegal abalone business different area hand current trial solomon saul sentence year imprisonment run concurrently result effective sentence year determine run concurrently previous sentence year',\n",
       "       'summaryharmony gold mine pty limited mining company operating masimong gold mine district henneman south africa miner legally enter shaft able produce mining identity card use enter exit mine notwithstanding common knowledge clock system could breach allow illegal miner enter mine illegal mining operation inside mine know phenomenon illegal processing refinery plant found subsequently destroyed april underground operation expose illegal miner carry security agency operation makeshift gold processing plant bed letter book name list document discover together large quantity extract ore document include gold transaction note photograph point towards identity illegal investigation brought light ore worth zar million extract use processing plant yet site investigator discover material worth zar million ton ore move make ready transport use canvas one arrest operation people found arrest april july mostly mine premise one person arrest outside premise incriminate document evidence encounter group arrest consist national mozambique zimbabwe year old found vary degree involvement illegal enterprise lovemore chaba mlambo identify orchestrate illegal found guilty racketeering money laundering well contravention precious metal act criminal procedure act march virginia circuit court sentence prison sentence range appeal judgment front high court south africa free state division bloemfontein saw appeal reject march appealthe appellant argue caught conduct illegal mining operation respondent counter essential ingredient criminal racketeering activity conspiracy commit organize criminal offence participate unlawful enterprise hence appellant could prosecute racketeering charge even though caught court found implicit agreement among appellant manifest construction illegal refinery plant fact ore extract already laborious effort require collaboration furthermore name illegal miner found documentation seize site follow similar line argumentation court reject challenge establish common purpose organization appellant argue ore value zar million extract zar million ton worth ore found site imply lion share gold could still somewhere mine therefore mine operator would lose ore court deny argument appeal base fact ore encounter already extract prepared future transport turn show group capable remove extract ore mining premise furthermore court argue extract encounter ore would amount quantity ton make significant enough overlook hence unlikely still reside within premise mine paperwork seize illegal mining site document extract ore previously sell outside appellant argue identity perpetrator reasonably establish beyond doubt none appellant found either near shaft mining possession gold ore respondent argue appellant arrest staff mine security surface step elevator lead mine none able identify valid mine identity card yet many possession mining equipment safety head protector cap lamp hence court found unlikely arrest come shaft business mind participate ongoing illegal mining appeal reject',\n",
       "       'summarythe three defendant found guilty multiple count relate run illegal enterprise illegally harvest export abalone march sentence year harvest trading abalone reason concern south africa eastern cape since seaside city port elizabeth consider hub illegal trade abalone declare hotspot criminal enterprise kingpin number abalone mostly sell delicacy asia decline spark government respond issue establish dedicate team seed abalone patrol march member south african police service observe suspicious activity patrol along coast head towards noordhoek observe individual come water load back onto vehicle chase vehicle able arrest one suspect hot pursuit encounter abalone suspect car another suspect work defendant found possession abalone without permit month later south african police service launch investigation operation lead investigator described illegal operation defendant enterprise rely support several people defendant conduct operation basis different participant supply chain would limited knowledge overall operation abalone harvest diver use dive equipment provide accuse harvest abalone would packed marked identification mark respective harvester abalone would load onto motor vehicle driver would take weight house station abalone would sort size shell remove weight base weight diver would paid another driver would take abalone another location would store freezer yet another person would later pick transport processing plant abalone get clean cooked via city gauteng cape town abalone would ultimately ship china sell delicacy',\n",
       "       ...,\n",
       "       'defendant accuse kidnapping child father harbor isolated house detain purpose sell exchange sum money',\n",
       "       'defendant agree third person decease recruit child offer thereto sex exchange sum money show decease homosexual know recruiting young boy sex three carry criminal plan child consent offer',\n",
       "       'case initiate follow police enquiry general police department protection moral provide female entice commit prostitution guise false defendant accuse traffic woman purpose prostitution exchange financial reward operate criminal organize group specific task attract men gulf state entice young girl engage sexual relation guise fake marriage first defendant regard leader criminal organize group responsible arrange false marriage men gulf state third defendant pretend lawyer enable issue false marriage certificate claim orfy contract unofficial marriage contract fourth defendant responsible construct artificial hymen victim would appear virgin order charge high fee client enable two victim age age network exploit family victim financial need promising money financial privilege return marriage claimed girl would marry man mean financially support family'],\n",
       "      dtype=object)"
      ]
     },
     "execution_count": 17,
     "metadata": {},
     "output_type": "execute_result"
    }
   ],
   "source": [
    "X"
   ]
  },
  {
   "cell_type": "code",
   "execution_count": 48,
   "id": "871423e0-703e-4dd5-8e05-2175c1b71c30",
   "metadata": {},
   "outputs": [
    {
     "name": "stdout",
     "output_type": "stream",
     "text": [
      "Found 11260 unique tokens.\n"
     ]
    }
   ],
   "source": [
    "word_index = tokenizer.word_index\n",
    "print('Found %s unique tokens.' % len(word_index))"
   ]
  },
  {
   "cell_type": "code",
   "execution_count": 49,
   "id": "d72245ba-5d34-46e9-8860-738b57c50bba",
   "metadata": {},
   "outputs": [],
   "source": [
    "# integer encode the documents\n",
    "sequences = tokenizer.texts_to_sequences(X)"
   ]
  },
  {
   "cell_type": "code",
   "execution_count": 56,
   "id": "1d40a19e-5ddd-45d1-9ff6-3515881d47ba",
   "metadata": {},
   "outputs": [],
   "source": [
    "# pad documents to a max length of 14 words\n",
    "maxlen = 300\n",
    "X = pad_sequences(sequences, maxlen=maxlen)"
   ]
  },
  {
   "cell_type": "code",
   "execution_count": 57,
   "id": "5dd92fd4-f469-4c08-b6e2-1f90f277c844",
   "metadata": {},
   "outputs": [
    {
     "data": {
      "text/plain": [
       "(1250, 300)"
      ]
     },
     "execution_count": 57,
     "metadata": {},
     "output_type": "execute_result"
    }
   ],
   "source": [
    "X.shape"
   ]
  },
  {
   "cell_type": "code",
   "execution_count": 58,
   "id": "baf4d1ab-8728-4982-8aee-70b001daf48f",
   "metadata": {},
   "outputs": [
    {
     "data": {
      "text/plain": [
       "array([[   0,    0,    0, ...,  959,   35,   24],\n",
       "       [3686,  310, 3141, ..., 1724,   50,  905],\n",
       "       [   0,    0,    0, ...,  770,   95, 4559],\n",
       "       ...,\n",
       "       [   0,    0,    0, ...,  251,  643,   14],\n",
       "       [   0,    0,    0, ...,   52, 1167,  115],\n",
       "       [   0,    0,    0, ..., 1690,  232,  124]], dtype=int32)"
      ]
     },
     "execution_count": 58,
     "metadata": {},
     "output_type": "execute_result"
    }
   ],
   "source": [
    "X"
   ]
  },
  {
   "cell_type": "code",
   "execution_count": 61,
   "id": "0ded04fc-f90f-4be2-ac9e-43867c4b38a4",
   "metadata": {
    "tags": []
   },
   "outputs": [
    {
     "name": "stdout",
     "output_type": "stream",
     "text": [
      "Counter({1: 882, 0: 368})\n"
     ]
    }
   ],
   "source": [
    "counter = Counter(y)\n",
    "print(counter)"
   ]
  },
  {
   "cell_type": "markdown",
   "id": "32d85c24-3c25-4b4c-96c9-71278af73438",
   "metadata": {},
   "source": [
    "## SMOTE - balance the imbalanced dataset"
   ]
  },
  {
   "cell_type": "code",
   "execution_count": 62,
   "id": "a84f8d8f-bfbd-40c8-b95f-9c5eb9b72f08",
   "metadata": {},
   "outputs": [],
   "source": [
    "from imblearn.over_sampling import SMOTE\n",
    "from imblearn.under_sampling import RandomUnderSampler\n",
    "from imblearn.pipeline import Pipeline\n",
    "# define pipeline\n",
    "over = SMOTE(sampling_strategy=0.5)\n",
    "under = RandomUnderSampler(sampling_strategy=0.8)\n",
    "steps = [('o', over), ('u', under)]\n",
    "pipeline = Pipeline(steps=steps)\n",
    "# transform the dataset\n",
    "X, y = pipeline.fit_resample(X, y)"
   ]
  },
  {
   "cell_type": "code",
   "execution_count": 63,
   "id": "9d810a72-7399-40ac-b0c3-75ca225eae1d",
   "metadata": {},
   "outputs": [
    {
     "data": {
      "text/plain": [
       "((992,), (992, 300))"
      ]
     },
     "execution_count": 63,
     "metadata": {},
     "output_type": "execute_result"
    }
   ],
   "source": [
    "y.shape, X.shape"
   ]
  },
  {
   "cell_type": "code",
   "execution_count": 64,
   "id": "ccd6da14-880c-4586-8633-f7c15e0479d5",
   "metadata": {},
   "outputs": [
    {
     "name": "stdout",
     "output_type": "stream",
     "text": [
      "Counter({1: 551, 0: 441})\n"
     ]
    }
   ],
   "source": [
    "counter = Counter(y)\n",
    "print(counter)"
   ]
  },
  {
   "cell_type": "code",
   "execution_count": 65,
   "id": "6d9cca5e-1d01-4c9e-ac14-cc46315d1b92",
   "metadata": {},
   "outputs": [],
   "source": [
    "# One-hot encoding of labels\n",
    "from keras.utils.np_utils import to_categorical\n",
    "y = to_categorical(y)"
   ]
  },
  {
   "cell_type": "code",
   "execution_count": 66,
   "id": "9dbdc351-9cf4-4661-98da-07f993cd43f9",
   "metadata": {},
   "outputs": [
    {
     "data": {
      "text/plain": [
       "(992, 2)"
      ]
     },
     "execution_count": 66,
     "metadata": {},
     "output_type": "execute_result"
    }
   ],
   "source": [
    "y.shape"
   ]
  },
  {
   "cell_type": "markdown",
   "id": "da30925a-e6eb-499a-9a5a-63efa2688609",
   "metadata": {},
   "source": [
    "### Split the dataset into training and test sets"
   ]
  },
  {
   "cell_type": "code",
   "execution_count": 69,
   "id": "60d6e7aa-8226-4834-84f7-681046ba2659",
   "metadata": {},
   "outputs": [],
   "source": [
    "X_train, X_test, y_train, y_test = train_test_split(X, y, test_size=0.2, random_state=43)"
   ]
  },
  {
   "cell_type": "code",
   "execution_count": 70,
   "id": "0ae2f15c-cfd4-4e09-9314-dcb531523a5f",
   "metadata": {},
   "outputs": [],
   "source": [
    "X_train, X_eval, y_train, y_eval = train_test_split(X_train, y_train, test_size=0.2, random_state=43)"
   ]
  },
  {
   "cell_type": "code",
   "execution_count": 72,
   "id": "bfb3463b-433b-4b6c-84e9-662b00902407",
   "metadata": {},
   "outputs": [
    {
     "data": {
      "text/plain": [
       "((634, 300), (199, 300), (159, 300))"
      ]
     },
     "execution_count": 72,
     "metadata": {},
     "output_type": "execute_result"
    }
   ],
   "source": [
    "X_train.shape, X_test.shape, X_eval.shape"
   ]
  },
  {
   "cell_type": "markdown",
   "id": "ae2a6d88-76fe-4b0c-b1f0-21c9355377f9",
   "metadata": {},
   "source": [
    "## Modeling - Simple RNN and LSTM"
   ]
  },
  {
   "cell_type": "code",
   "execution_count": 73,
   "id": "8e21c853-420d-4250-8932-ec8b6b70ae3f",
   "metadata": {},
   "outputs": [],
   "source": [
    "# Prepare hyperparameters of RNN\n",
    "vocab_size = len(word_index)+1\n",
    "output_dim = 32"
   ]
  },
  {
   "cell_type": "code",
   "execution_count": 78,
   "id": "88e297c8-b6c0-4a8e-8747-77386f6f802a",
   "metadata": {},
   "outputs": [],
   "source": [
    "# SimpleRNN\n",
    "warnings.filterwarnings(\"ignore\")\n",
    "model = Sequential()\n",
    "model.add(Embedding(input_dim = vocab_size, output_dim = output_dim, input_length = maxlen, embeddings_constraint=maxnorm(3)))\n",
    "model.add(SimpleRNN(output_dim, return_sequences=True, kernel_constraint=maxnorm(3)))\n",
    "model.add(Dropout(0.2))\n",
    "model.add(SimpleRNN(output_dim, return_sequences=True, kernel_constraint=maxnorm(3)))\n",
    "model.add(Dropout(0.2))\n",
    "model.add(SimpleRNN(output_dim))\n",
    "model.add(Dense(2,activation='softmax'))\n",
    "model.compile(loss = 'binary_crossentropy', optimizer='adam', metrics = ['accuracy'])\n",
    "warnings.filterwarnings(\"ignore\")"
   ]
  },
  {
   "cell_type": "code",
   "execution_count": 79,
   "id": "4d73487a-25e9-4559-b81e-dc369571aaf2",
   "metadata": {},
   "outputs": [
    {
     "name": "stdout",
     "output_type": "stream",
     "text": [
      "Model: \"sequential_2\"\n",
      "_________________________________________________________________\n",
      " Layer (type)                Output Shape              Param #   \n",
      "=================================================================\n",
      " embedding_1 (Embedding)     (None, 300, 32)           360352    \n",
      "                                                                 \n",
      " simple_rnn (SimpleRNN)      (None, 300, 32)           2080      \n",
      "                                                                 \n",
      " dropout (Dropout)           (None, 300, 32)           0         \n",
      "                                                                 \n",
      " simple_rnn_1 (SimpleRNN)    (None, 300, 32)           2080      \n",
      "                                                                 \n",
      " dropout_1 (Dropout)         (None, 300, 32)           0         \n",
      "                                                                 \n",
      " simple_rnn_2 (SimpleRNN)    (None, 32)                2080      \n",
      "                                                                 \n",
      " dense (Dense)               (None, 2)                 66        \n",
      "                                                                 \n",
      "=================================================================\n",
      "Total params: 366,658\n",
      "Trainable params: 366,658\n",
      "Non-trainable params: 0\n",
      "_________________________________________________________________\n"
     ]
    }
   ],
   "source": [
    "model.summary()"
   ]
  },
  {
   "cell_type": "code",
   "execution_count": 80,
   "id": "8857889a-a7e0-4193-b888-59bc1e1976ab",
   "metadata": {},
   "outputs": [
    {
     "name": "stdout",
     "output_type": "stream",
     "text": [
      "Epoch 1/10\n",
      "14/14 [==============================] - 7s 240ms/step - loss: 0.7317 - accuracy: 0.5305 - val_loss: 0.6997 - val_accuracy: 0.5654\n",
      "Epoch 2/10\n",
      "14/14 [==============================] - 2s 174ms/step - loss: 0.6569 - accuracy: 0.6433 - val_loss: 0.7143 - val_accuracy: 0.5236\n",
      "Epoch 3/10\n",
      "14/14 [==============================] - 3s 195ms/step - loss: 0.5723 - accuracy: 0.7314 - val_loss: 0.6598 - val_accuracy: 0.6230\n",
      "Epoch 4/10\n",
      "14/14 [==============================] - 3s 182ms/step - loss: 0.3120 - accuracy: 0.9391 - val_loss: 0.6760 - val_accuracy: 0.5969\n",
      "Epoch 5/10\n",
      "14/14 [==============================] - 3s 186ms/step - loss: 0.1215 - accuracy: 0.9842 - val_loss: 0.7053 - val_accuracy: 0.6178\n",
      "Epoch 6/10\n",
      "14/14 [==============================] - 3s 180ms/step - loss: 0.0453 - accuracy: 0.9955 - val_loss: 0.9017 - val_accuracy: 0.5654\n",
      "Epoch 7/10\n",
      "14/14 [==============================] - 2s 180ms/step - loss: 0.0235 - accuracy: 1.0000 - val_loss: 0.8409 - val_accuracy: 0.6178\n",
      "Epoch 8/10\n",
      "14/14 [==============================] - 3s 193ms/step - loss: 0.0162 - accuracy: 1.0000 - val_loss: 0.8918 - val_accuracy: 0.5969\n",
      "Epoch 9/10\n",
      "14/14 [==============================] - 2s 173ms/step - loss: 0.0128 - accuracy: 1.0000 - val_loss: 0.9225 - val_accuracy: 0.5916\n",
      "Epoch 10/10\n",
      "14/14 [==============================] - 3s 199ms/step - loss: 0.0106 - accuracy: 1.0000 - val_loss: 0.9593 - val_accuracy: 0.5812\n",
      "Accuracy: 66.04%\n",
      "Training duration(minutes): 0.5021198272705079\n"
     ]
    }
   ],
   "source": [
    "start = time.time()\n",
    "\n",
    "# Fit the model to the training set\n",
    "rnn_hist = model.fit(X_train, y_train, epochs=10, validation_split=0.3)\n",
    "# Final evaluation of the model\n",
    "scores = model.evaluate(X_eval, y_eval, verbose=0)\n",
    "print(\"Accuracy: %.2f%%\" % (scores[1]*100))\n",
    "warnings.filterwarnings(\"ignore\")\n",
    "\n",
    "end = time.time()\n",
    "total = (end-start)/60\n",
    "print('Training duration(minutes): {}'.format(total))"
   ]
  },
  {
   "cell_type": "code",
   "execution_count": 81,
   "id": "d8a586d7-08e2-4c63-ba2e-c50c62f555c6",
   "metadata": {},
   "outputs": [],
   "source": [
    "# Save the LSTM model\n",
    "model.save('srnn.h5')"
   ]
  },
  {
   "cell_type": "code",
   "execution_count": 83,
   "id": "df3915bc-cd52-4664-9a8b-3ca3cfbe6261",
   "metadata": {},
   "outputs": [
    {
     "name": "stderr",
     "output_type": "stream",
     "text": [
      "2023-04-19 17:27:35.079426: I tensorflow/core/common_runtime/executor.cc:1197] [/device:CPU:0] (DEBUG INFO) Executor start aborting (this does not indicate an error and you can ignore this message): INVALID_ARGUMENT: You must feed a value for placeholder tensor 'gradients/split_2_grad/concat/split_2/split_dim' with dtype int32\n",
      "\t [[{{node gradients/split_2_grad/concat/split_2/split_dim}}]]\n",
      "2023-04-19 17:27:35.081309: I tensorflow/core/common_runtime/executor.cc:1197] [/device:CPU:0] (DEBUG INFO) Executor start aborting (this does not indicate an error and you can ignore this message): INVALID_ARGUMENT: You must feed a value for placeholder tensor 'gradients/split_grad/concat/split/split_dim' with dtype int32\n",
      "\t [[{{node gradients/split_grad/concat/split/split_dim}}]]\n",
      "2023-04-19 17:27:35.082588: I tensorflow/core/common_runtime/executor.cc:1197] [/device:CPU:0] (DEBUG INFO) Executor start aborting (this does not indicate an error and you can ignore this message): INVALID_ARGUMENT: You must feed a value for placeholder tensor 'gradients/split_1_grad/concat/split_1/split_dim' with dtype int32\n",
      "\t [[{{node gradients/split_1_grad/concat/split_1/split_dim}}]]\n",
      "2023-04-19 17:27:35.324774: I tensorflow/core/common_runtime/executor.cc:1197] [/device:CPU:0] (DEBUG INFO) Executor start aborting (this does not indicate an error and you can ignore this message): INVALID_ARGUMENT: You must feed a value for placeholder tensor 'gradients/split_2_grad/concat/split_2/split_dim' with dtype int32\n",
      "\t [[{{node gradients/split_2_grad/concat/split_2/split_dim}}]]\n",
      "2023-04-19 17:27:35.327727: I tensorflow/core/common_runtime/executor.cc:1197] [/device:CPU:0] (DEBUG INFO) Executor start aborting (this does not indicate an error and you can ignore this message): INVALID_ARGUMENT: You must feed a value for placeholder tensor 'gradients/split_grad/concat/split/split_dim' with dtype int32\n",
      "\t [[{{node gradients/split_grad/concat/split/split_dim}}]]\n",
      "2023-04-19 17:27:35.329160: I tensorflow/core/common_runtime/executor.cc:1197] [/device:CPU:0] (DEBUG INFO) Executor start aborting (this does not indicate an error and you can ignore this message): INVALID_ARGUMENT: You must feed a value for placeholder tensor 'gradients/split_1_grad/concat/split_1/split_dim' with dtype int32\n",
      "\t [[{{node gradients/split_1_grad/concat/split_1/split_dim}}]]\n",
      "2023-04-19 17:27:35.541426: I tensorflow/core/common_runtime/executor.cc:1197] [/device:CPU:0] (DEBUG INFO) Executor start aborting (this does not indicate an error and you can ignore this message): INVALID_ARGUMENT: You must feed a value for placeholder tensor 'gradients/split_2_grad/concat/split_2/split_dim' with dtype int32\n",
      "\t [[{{node gradients/split_2_grad/concat/split_2/split_dim}}]]\n",
      "2023-04-19 17:27:35.543780: I tensorflow/core/common_runtime/executor.cc:1197] [/device:CPU:0] (DEBUG INFO) Executor start aborting (this does not indicate an error and you can ignore this message): INVALID_ARGUMENT: You must feed a value for placeholder tensor 'gradients/split_grad/concat/split/split_dim' with dtype int32\n",
      "\t [[{{node gradients/split_grad/concat/split/split_dim}}]]\n",
      "2023-04-19 17:27:35.545633: I tensorflow/core/common_runtime/executor.cc:1197] [/device:CPU:0] (DEBUG INFO) Executor start aborting (this does not indicate an error and you can ignore this message): INVALID_ARGUMENT: You must feed a value for placeholder tensor 'gradients/split_1_grad/concat/split_1/split_dim' with dtype int32\n",
      "\t [[{{node gradients/split_1_grad/concat/split_1/split_dim}}]]\n"
     ]
    }
   ],
   "source": [
    "# LSTM\n",
    "model = Sequential()\n",
    "model.add(Embedding(input_dim = vocab_size, output_dim = output_dim, input_length = maxlen, embeddings_constraint=maxnorm(3)))\n",
    "model.add(LSTM(output_dim, return_sequences=True, kernel_constraint=maxnorm(3)))\n",
    "model.add(Dropout(0.2))\n",
    "model.add(LSTM(output_dim, return_sequences=True, kernel_constraint=maxnorm(3)))\n",
    "model.add(Dropout(0.2))\n",
    "model.add(LSTM(output_dim, kernel_constraint=maxnorm(3)))\n",
    "model.add(Dense(2,activation='softmax'))\n",
    "model.compile(loss = 'categorical_crossentropy', optimizer='adam', metrics = ['accuracy'])\n",
    "warnings.filterwarnings(\"ignore\")"
   ]
  },
  {
   "cell_type": "code",
   "execution_count": 84,
   "id": "f2337d73-db08-493c-b29a-1b43da7a1685",
   "metadata": {},
   "outputs": [
    {
     "name": "stdout",
     "output_type": "stream",
     "text": [
      "Model: \"sequential_4\"\n",
      "_________________________________________________________________\n",
      " Layer (type)                Output Shape              Param #   \n",
      "=================================================================\n",
      " embedding_3 (Embedding)     (None, 300, 32)           360352    \n",
      "                                                                 \n",
      " lstm (LSTM)                 (None, 300, 32)           8320      \n",
      "                                                                 \n",
      " dropout_2 (Dropout)         (None, 300, 32)           0         \n",
      "                                                                 \n",
      " lstm_1 (LSTM)               (None, 300, 32)           8320      \n",
      "                                                                 \n",
      " dropout_3 (Dropout)         (None, 300, 32)           0         \n",
      "                                                                 \n",
      " lstm_2 (LSTM)               (None, 32)                8320      \n",
      "                                                                 \n",
      " dense_1 (Dense)             (None, 2)                 66        \n",
      "                                                                 \n",
      "=================================================================\n",
      "Total params: 385,378\n",
      "Trainable params: 385,378\n",
      "Non-trainable params: 0\n",
      "_________________________________________________________________\n"
     ]
    }
   ],
   "source": [
    "model.summary()"
   ]
  },
  {
   "cell_type": "code",
   "execution_count": 85,
   "id": "0cd225bc-73a3-4a70-949c-4595973d1b33",
   "metadata": {},
   "outputs": [],
   "source": [
    "# Save the LSTM model\n",
    "model.save('lstm.h5')"
   ]
  },
  {
   "cell_type": "code",
   "execution_count": 86,
   "id": "6d3f1368-0476-4107-a99a-2e54350622d8",
   "metadata": {},
   "outputs": [
    {
     "name": "stdout",
     "output_type": "stream",
     "text": [
      "Epoch 1/10\n"
     ]
    },
    {
     "name": "stderr",
     "output_type": "stream",
     "text": [
      "2023-04-19 17:28:02.226149: I tensorflow/core/common_runtime/executor.cc:1197] [/device:CPU:0] (DEBUG INFO) Executor start aborting (this does not indicate an error and you can ignore this message): INVALID_ARGUMENT: You must feed a value for placeholder tensor 'gradients/split_2_grad/concat/split_2/split_dim' with dtype int32\n",
      "\t [[{{node gradients/split_2_grad/concat/split_2/split_dim}}]]\n",
      "2023-04-19 17:28:02.228330: I tensorflow/core/common_runtime/executor.cc:1197] [/device:CPU:0] (DEBUG INFO) Executor start aborting (this does not indicate an error and you can ignore this message): INVALID_ARGUMENT: You must feed a value for placeholder tensor 'gradients/split_grad/concat/split/split_dim' with dtype int32\n",
      "\t [[{{node gradients/split_grad/concat/split/split_dim}}]]\n",
      "2023-04-19 17:28:02.229797: I tensorflow/core/common_runtime/executor.cc:1197] [/device:CPU:0] (DEBUG INFO) Executor start aborting (this does not indicate an error and you can ignore this message): INVALID_ARGUMENT: You must feed a value for placeholder tensor 'gradients/split_1_grad/concat/split_1/split_dim' with dtype int32\n",
      "\t [[{{node gradients/split_1_grad/concat/split_1/split_dim}}]]\n",
      "2023-04-19 17:28:02.484778: I tensorflow/core/common_runtime/executor.cc:1197] [/device:CPU:0] (DEBUG INFO) Executor start aborting (this does not indicate an error and you can ignore this message): INVALID_ARGUMENT: You must feed a value for placeholder tensor 'gradients/split_2_grad/concat/split_2/split_dim' with dtype int32\n",
      "\t [[{{node gradients/split_2_grad/concat/split_2/split_dim}}]]\n",
      "2023-04-19 17:28:02.486873: I tensorflow/core/common_runtime/executor.cc:1197] [/device:CPU:0] (DEBUG INFO) Executor start aborting (this does not indicate an error and you can ignore this message): INVALID_ARGUMENT: You must feed a value for placeholder tensor 'gradients/split_grad/concat/split/split_dim' with dtype int32\n",
      "\t [[{{node gradients/split_grad/concat/split/split_dim}}]]\n",
      "2023-04-19 17:28:02.488498: I tensorflow/core/common_runtime/executor.cc:1197] [/device:CPU:0] (DEBUG INFO) Executor start aborting (this does not indicate an error and you can ignore this message): INVALID_ARGUMENT: You must feed a value for placeholder tensor 'gradients/split_1_grad/concat/split_1/split_dim' with dtype int32\n",
      "\t [[{{node gradients/split_1_grad/concat/split_1/split_dim}}]]\n",
      "2023-04-19 17:28:02.726629: I tensorflow/core/common_runtime/executor.cc:1197] [/device:CPU:0] (DEBUG INFO) Executor start aborting (this does not indicate an error and you can ignore this message): INVALID_ARGUMENT: You must feed a value for placeholder tensor 'gradients/split_2_grad/concat/split_2/split_dim' with dtype int32\n",
      "\t [[{{node gradients/split_2_grad/concat/split_2/split_dim}}]]\n",
      "2023-04-19 17:28:02.729214: I tensorflow/core/common_runtime/executor.cc:1197] [/device:CPU:0] (DEBUG INFO) Executor start aborting (this does not indicate an error and you can ignore this message): INVALID_ARGUMENT: You must feed a value for placeholder tensor 'gradients/split_grad/concat/split/split_dim' with dtype int32\n",
      "\t [[{{node gradients/split_grad/concat/split/split_dim}}]]\n",
      "2023-04-19 17:28:02.730832: I tensorflow/core/common_runtime/executor.cc:1197] [/device:CPU:0] (DEBUG INFO) Executor start aborting (this does not indicate an error and you can ignore this message): INVALID_ARGUMENT: You must feed a value for placeholder tensor 'gradients/split_1_grad/concat/split_1/split_dim' with dtype int32\n",
      "\t [[{{node gradients/split_1_grad/concat/split_1/split_dim}}]]\n",
      "2023-04-19 17:28:04.287180: I tensorflow/core/common_runtime/executor.cc:1197] [/device:CPU:0] (DEBUG INFO) Executor start aborting (this does not indicate an error and you can ignore this message): INVALID_ARGUMENT: You must feed a value for placeholder tensor 'gradients/split_2_grad/concat/split_2/split_dim' with dtype int32\n",
      "\t [[{{node gradients/split_2_grad/concat/split_2/split_dim}}]]\n",
      "2023-04-19 17:28:04.290091: I tensorflow/core/common_runtime/executor.cc:1197] [/device:CPU:0] (DEBUG INFO) Executor start aborting (this does not indicate an error and you can ignore this message): INVALID_ARGUMENT: You must feed a value for placeholder tensor 'gradients/split_grad/concat/split/split_dim' with dtype int32\n",
      "\t [[{{node gradients/split_grad/concat/split/split_dim}}]]\n",
      "2023-04-19 17:28:04.292495: I tensorflow/core/common_runtime/executor.cc:1197] [/device:CPU:0] (DEBUG INFO) Executor start aborting (this does not indicate an error and you can ignore this message): INVALID_ARGUMENT: You must feed a value for placeholder tensor 'gradients/split_1_grad/concat/split_1/split_dim' with dtype int32\n",
      "\t [[{{node gradients/split_1_grad/concat/split_1/split_dim}}]]\n",
      "2023-04-19 17:28:04.569750: I tensorflow/core/common_runtime/executor.cc:1197] [/device:CPU:0] (DEBUG INFO) Executor start aborting (this does not indicate an error and you can ignore this message): INVALID_ARGUMENT: You must feed a value for placeholder tensor 'gradients/split_2_grad/concat/split_2/split_dim' with dtype int32\n",
      "\t [[{{node gradients/split_2_grad/concat/split_2/split_dim}}]]\n",
      "2023-04-19 17:28:04.572831: I tensorflow/core/common_runtime/executor.cc:1197] [/device:CPU:0] (DEBUG INFO) Executor start aborting (this does not indicate an error and you can ignore this message): INVALID_ARGUMENT: You must feed a value for placeholder tensor 'gradients/split_grad/concat/split/split_dim' with dtype int32\n",
      "\t [[{{node gradients/split_grad/concat/split/split_dim}}]]\n",
      "2023-04-19 17:28:04.575078: I tensorflow/core/common_runtime/executor.cc:1197] [/device:CPU:0] (DEBUG INFO) Executor start aborting (this does not indicate an error and you can ignore this message): INVALID_ARGUMENT: You must feed a value for placeholder tensor 'gradients/split_1_grad/concat/split_1/split_dim' with dtype int32\n",
      "\t [[{{node gradients/split_1_grad/concat/split_1/split_dim}}]]\n",
      "2023-04-19 17:28:04.836011: I tensorflow/core/common_runtime/executor.cc:1197] [/device:CPU:0] (DEBUG INFO) Executor start aborting (this does not indicate an error and you can ignore this message): INVALID_ARGUMENT: You must feed a value for placeholder tensor 'gradients/split_2_grad/concat/split_2/split_dim' with dtype int32\n",
      "\t [[{{node gradients/split_2_grad/concat/split_2/split_dim}}]]\n",
      "2023-04-19 17:28:04.838726: I tensorflow/core/common_runtime/executor.cc:1197] [/device:CPU:0] (DEBUG INFO) Executor start aborting (this does not indicate an error and you can ignore this message): INVALID_ARGUMENT: You must feed a value for placeholder tensor 'gradients/split_grad/concat/split/split_dim' with dtype int32\n",
      "\t [[{{node gradients/split_grad/concat/split/split_dim}}]]\n",
      "2023-04-19 17:28:04.840715: I tensorflow/core/common_runtime/executor.cc:1197] [/device:CPU:0] (DEBUG INFO) Executor start aborting (this does not indicate an error and you can ignore this message): INVALID_ARGUMENT: You must feed a value for placeholder tensor 'gradients/split_1_grad/concat/split_1/split_dim' with dtype int32\n",
      "\t [[{{node gradients/split_1_grad/concat/split_1/split_dim}}]]\n"
     ]
    },
    {
     "name": "stdout",
     "output_type": "stream",
     "text": [
      "14/14 [==============================] - ETA: 0s - loss: 0.6848 - accuracy: 0.5598"
     ]
    },
    {
     "name": "stderr",
     "output_type": "stream",
     "text": [
      "2023-04-19 17:28:13.070523: I tensorflow/core/common_runtime/executor.cc:1197] [/device:CPU:0] (DEBUG INFO) Executor start aborting (this does not indicate an error and you can ignore this message): INVALID_ARGUMENT: You must feed a value for placeholder tensor 'gradients/split_2_grad/concat/split_2/split_dim' with dtype int32\n",
      "\t [[{{node gradients/split_2_grad/concat/split_2/split_dim}}]]\n",
      "2023-04-19 17:28:13.072651: I tensorflow/core/common_runtime/executor.cc:1197] [/device:CPU:0] (DEBUG INFO) Executor start aborting (this does not indicate an error and you can ignore this message): INVALID_ARGUMENT: You must feed a value for placeholder tensor 'gradients/split_grad/concat/split/split_dim' with dtype int32\n",
      "\t [[{{node gradients/split_grad/concat/split/split_dim}}]]\n",
      "2023-04-19 17:28:13.074814: I tensorflow/core/common_runtime/executor.cc:1197] [/device:CPU:0] (DEBUG INFO) Executor start aborting (this does not indicate an error and you can ignore this message): INVALID_ARGUMENT: You must feed a value for placeholder tensor 'gradients/split_1_grad/concat/split_1/split_dim' with dtype int32\n",
      "\t [[{{node gradients/split_1_grad/concat/split_1/split_dim}}]]\n",
      "2023-04-19 17:28:13.397221: I tensorflow/core/common_runtime/executor.cc:1197] [/device:CPU:0] (DEBUG INFO) Executor start aborting (this does not indicate an error and you can ignore this message): INVALID_ARGUMENT: You must feed a value for placeholder tensor 'gradients/split_2_grad/concat/split_2/split_dim' with dtype int32\n",
      "\t [[{{node gradients/split_2_grad/concat/split_2/split_dim}}]]\n",
      "2023-04-19 17:28:13.399146: I tensorflow/core/common_runtime/executor.cc:1197] [/device:CPU:0] (DEBUG INFO) Executor start aborting (this does not indicate an error and you can ignore this message): INVALID_ARGUMENT: You must feed a value for placeholder tensor 'gradients/split_grad/concat/split/split_dim' with dtype int32\n",
      "\t [[{{node gradients/split_grad/concat/split/split_dim}}]]\n",
      "2023-04-19 17:28:13.400566: I tensorflow/core/common_runtime/executor.cc:1197] [/device:CPU:0] (DEBUG INFO) Executor start aborting (this does not indicate an error and you can ignore this message): INVALID_ARGUMENT: You must feed a value for placeholder tensor 'gradients/split_1_grad/concat/split_1/split_dim' with dtype int32\n",
      "\t [[{{node gradients/split_1_grad/concat/split_1/split_dim}}]]\n",
      "2023-04-19 17:28:13.605414: I tensorflow/core/common_runtime/executor.cc:1197] [/device:CPU:0] (DEBUG INFO) Executor start aborting (this does not indicate an error and you can ignore this message): INVALID_ARGUMENT: You must feed a value for placeholder tensor 'gradients/split_2_grad/concat/split_2/split_dim' with dtype int32\n",
      "\t [[{{node gradients/split_2_grad/concat/split_2/split_dim}}]]\n",
      "2023-04-19 17:28:13.608056: I tensorflow/core/common_runtime/executor.cc:1197] [/device:CPU:0] (DEBUG INFO) Executor start aborting (this does not indicate an error and you can ignore this message): INVALID_ARGUMENT: You must feed a value for placeholder tensor 'gradients/split_grad/concat/split/split_dim' with dtype int32\n",
      "\t [[{{node gradients/split_grad/concat/split/split_dim}}]]\n",
      "2023-04-19 17:28:13.610004: I tensorflow/core/common_runtime/executor.cc:1197] [/device:CPU:0] (DEBUG INFO) Executor start aborting (this does not indicate an error and you can ignore this message): INVALID_ARGUMENT: You must feed a value for placeholder tensor 'gradients/split_1_grad/concat/split_1/split_dim' with dtype int32\n",
      "\t [[{{node gradients/split_1_grad/concat/split_1/split_dim}}]]\n"
     ]
    },
    {
     "name": "stdout",
     "output_type": "stream",
     "text": [
      "14/14 [==============================] - 12s 437ms/step - loss: 0.6848 - accuracy: 0.5598 - val_loss: 0.6859 - val_accuracy: 0.5497\n",
      "Epoch 2/10\n",
      "14/14 [==============================] - 5s 328ms/step - loss: 0.6478 - accuracy: 0.5756 - val_loss: 0.6504 - val_accuracy: 0.5812\n",
      "Epoch 3/10\n",
      "14/14 [==============================] - 4s 290ms/step - loss: 0.3635 - accuracy: 0.8804 - val_loss: 0.6900 - val_accuracy: 0.6545\n",
      "Epoch 4/10\n",
      "14/14 [==============================] - 4s 315ms/step - loss: 0.1426 - accuracy: 0.9549 - val_loss: 0.8099 - val_accuracy: 0.6806\n",
      "Epoch 5/10\n",
      "14/14 [==============================] - 4s 317ms/step - loss: 0.0669 - accuracy: 0.9865 - val_loss: 1.0613 - val_accuracy: 0.6963\n",
      "Epoch 6/10\n",
      "14/14 [==============================] - 4s 295ms/step - loss: 0.0347 - accuracy: 0.9955 - val_loss: 1.0602 - val_accuracy: 0.6649\n",
      "Epoch 7/10\n",
      "14/14 [==============================] - 5s 317ms/step - loss: 0.0322 - accuracy: 0.9955 - val_loss: 1.0706 - val_accuracy: 0.6911\n",
      "Epoch 8/10\n",
      "14/14 [==============================] - 5s 344ms/step - loss: 0.0250 - accuracy: 0.9955 - val_loss: 1.1330 - val_accuracy: 0.6597\n",
      "Epoch 9/10\n",
      "14/14 [==============================] - 4s 303ms/step - loss: 0.0491 - accuracy: 0.9887 - val_loss: 1.0430 - val_accuracy: 0.6440\n",
      "Epoch 10/10\n",
      "14/14 [==============================] - 4s 283ms/step - loss: 0.0190 - accuracy: 0.9955 - val_loss: 1.0941 - val_accuracy: 0.6911\n",
      "Accuracy: 65.41%\n",
      "Training duration(minutes): 0.8646970351537069\n"
     ]
    }
   ],
   "source": [
    "start = time.time()\n",
    "\n",
    "# Fit the model to the training set\n",
    "lstm_hist = model.fit(X_train, y_train, epochs=10, validation_split=0.3)\n",
    "# Final evaluation of the model\n",
    "warnings.filterwarnings(\"ignore\")\n",
    "scores = model.evaluate(X_eval, y_eval, verbose=0)\n",
    "print(\"Accuracy: %.2f%%\" % (scores[1]*100))\n",
    "warnings.filterwarnings(\"ignore\")\n",
    "end = time.time()\n",
    "total = (end-start)/60\n",
    "print('Training duration(minutes): {}'.format(total))"
   ]
  },
  {
   "cell_type": "code",
   "execution_count": null,
   "id": "716f3ef8-1cfc-4094-8c49-461d1cc52055",
   "metadata": {},
   "outputs": [],
   "source": []
  },
  {
   "cell_type": "markdown",
   "id": "5c597aa2-9c0e-46e6-b1fd-20425896b348",
   "metadata": {},
   "source": [
    "### Model Evaluation"
   ]
  },
  {
   "cell_type": "markdown",
   "id": "e598f665-3ae6-4659-80a0-3180bb0fbaf0",
   "metadata": {},
   "source": [
    "#### SimpleRNN Result"
   ]
  },
  {
   "cell_type": "code",
   "execution_count": 122,
   "id": "0be2cc8f-b334-48e7-89fc-cfc39e4655a3",
   "metadata": {
    "collapsed": true,
    "jupyter": {
     "outputs_hidden": true
    },
    "tags": []
   },
   "outputs": [
    {
     "data": {
      "text/plain": [
       "{'loss': [0.7317009568214417,\n",
       "  0.6569368243217468,\n",
       "  0.5722753405570984,\n",
       "  0.31197038292884827,\n",
       "  0.12154825031757355,\n",
       "  0.045258037745952606,\n",
       "  0.02348894067108631,\n",
       "  0.016247237101197243,\n",
       "  0.01283466536551714,\n",
       "  0.010612910613417625],\n",
       " 'accuracy': [0.530474066734314,\n",
       "  0.6433408856391907,\n",
       "  0.7313769459724426,\n",
       "  0.9390519261360168,\n",
       "  0.9841986298561096,\n",
       "  0.9954853057861328,\n",
       "  1.0,\n",
       "  1.0,\n",
       "  1.0,\n",
       "  1.0],\n",
       " 'val_loss': [0.699738085269928,\n",
       "  0.7143322825431824,\n",
       "  0.6598337888717651,\n",
       "  0.6760237216949463,\n",
       "  0.705283522605896,\n",
       "  0.9016714692115784,\n",
       "  0.8408524990081787,\n",
       "  0.8917891383171082,\n",
       "  0.9224727153778076,\n",
       "  0.9593346118927002],\n",
       " 'val_accuracy': [0.5654450058937073,\n",
       "  0.5235602259635925,\n",
       "  0.6230366230010986,\n",
       "  0.5968586206436157,\n",
       "  0.6178010702133179,\n",
       "  0.5654450058937073,\n",
       "  0.6178010702133179,\n",
       "  0.5968586206436157,\n",
       "  0.5916230082511902,\n",
       "  0.5811518430709839]}"
      ]
     },
     "execution_count": 122,
     "metadata": {},
     "output_type": "execute_result"
    }
   ],
   "source": [
    "rnn_hist.history"
   ]
  },
  {
   "cell_type": "code",
   "execution_count": 123,
   "id": "07c52469-2d1d-4c9c-8a2d-093c62aa96c6",
   "metadata": {},
   "outputs": [
    {
     "data": {
      "image/png": "[encoded data removed]",
      "text/plain": [
       "<Figure size 640x480 with 1 Axes>"
      ]
     },
     "metadata": {},
     "output_type": "display_data"
    }
   ],
   "source": [
    "import matplotlib.pyplot as plt\n",
    "acc = rnn_hist.history['accuracy']\n",
    "val_acc = rnn_hist.history['val_accuracy']\n",
    "loss = rnn_hist.history['loss']\n",
    "val_loss = rnn_hist.history['val_loss']\n",
    "epochs = range(1, len(acc)+1)\n",
    "_ = plt.plot(epochs, acc, 'r', label='Training acc')\n",
    "_ = plt.plot(epochs, val_acc, 'b', label='Validation acc')\n",
    "_ = plt.title('SimpleRNN: Training and validation accuracy')\n",
    "_ = plt.xlabel('Epoch')\n",
    "_ = plt.ylabel('Accuracy')\n",
    "_ = plt.legend(loc='best')\n",
    "plt.show()"
   ]
  },
  {
   "cell_type": "code",
   "execution_count": 124,
   "id": "4dc17c44-87e7-41f6-a5ff-8439e91805dc",
   "metadata": {},
   "outputs": [
    {
     "data": {
      "image/png": "[encoded data removed]",
      "text/plain": [
       "<Figure size 640x480 with 1 Axes>"
      ]
     },
     "metadata": {},
     "output_type": "display_data"
    }
   ],
   "source": [
    "_ = plt.plot(epochs, loss, 'r', label='Training loss')\n",
    "_ = plt.plot(epochs, val_loss, 'b', label='Validation loss')\n",
    "_ = plt.title('SimpleRNN: Training and validation loss')\n",
    "_ = plt.xlabel('Epoch')\n",
    "_ = plt.ylabel('Loss')\n",
    "_ = plt.legend(loc='best')\n",
    "plt.show()"
   ]
  },
  {
   "cell_type": "markdown",
   "id": "fabeea11-41c7-4e62-836b-c5144cbca8fa",
   "metadata": {},
   "source": [
    "#### LSTM Result"
   ]
  },
  {
   "cell_type": "code",
   "execution_count": 125,
   "id": "33f52465-f902-4fb7-855b-d93d7661d317",
   "metadata": {},
   "outputs": [
    {
     "data": {
      "image/png": "[encoded data removed]",
      "text/plain": [
       "<Figure size 640x480 with 1 Axes>"
      ]
     },
     "metadata": {},
     "output_type": "display_data"
    }
   ],
   "source": [
    "import matplotlib.pyplot as plt\n",
    "acc = lstm_hist.history['accuracy']\n",
    "val_acc = lstm_hist.history['val_accuracy']\n",
    "loss = lstm_hist.history['loss']\n",
    "val_loss = lstm_hist.history['val_loss']\n",
    "epochs = range(1, len(acc)+1)\n",
    "_ = plt.plot(epochs, acc, 'r', label='Training acc')\n",
    "_ = plt.plot(epochs, val_acc, 'b', label='Validation acc')\n",
    "_ = plt.title('LSTM: Training and validation accuracy')\n",
    "_ = plt.xlabel('Epoch')\n",
    "_ = plt.ylabel('Accuracy')\n",
    "_ = plt.legend(loc='best')\n",
    "plt.show()"
   ]
  },
  {
   "cell_type": "code",
   "execution_count": 126,
   "id": "b782286c-223e-43c4-a537-1a7da6f3c366",
   "metadata": {},
   "outputs": [
    {
     "data": {
      "image/png": "[encoded data removed]",
      "text/plain": [
       "<Figure size 640x480 with 1 Axes>"
      ]
     },
     "metadata": {},
     "output_type": "display_data"
    }
   ],
   "source": [
    "_ = plt.plot(epochs, loss, 'r', label='Training loss')\n",
    "_ = plt.plot(epochs, val_loss, 'b', label='Validation loss')\n",
    "_ = plt.title('LSTM: Training and validation loss')\n",
    "_ = plt.xlabel('Epoch')\n",
    "_ = plt.ylabel('Loss')\n",
    "_ = plt.legend(loc='best')\n",
    "plt.show()"
   ]
  },
  {
   "cell_type": "code",
   "execution_count": null,
   "id": "bb954c1b-6152-4237-bbc3-a0a3e7a43b2b",
   "metadata": {},
   "outputs": [],
   "source": []
  },
  {
   "cell_type": "markdown",
   "id": "2ab01cf3-655a-4b1f-82eb-5fac02fdb18e",
   "metadata": {},
   "source": [
    "### Predict with the LSTM model"
   ]
  },
  {
   "cell_type": "code",
   "execution_count": 119,
   "id": "a80fd1b8-cceb-4411-a1b9-ca98b7651c90",
   "metadata": {},
   "outputs": [
    {
     "name": "stderr",
     "output_type": "stream",
     "text": [
      "2023-04-19 20:18:33.191799: I tensorflow/core/common_runtime/executor.cc:1197] [/device:CPU:0] (DEBUG INFO) Executor start aborting (this does not indicate an error and you can ignore this message): INVALID_ARGUMENT: You must feed a value for placeholder tensor 'gradients/split_2_grad/concat/split_2/split_dim' with dtype int32\n",
      "\t [[{{node gradients/split_2_grad/concat/split_2/split_dim}}]]\n",
      "2023-04-19 20:18:33.196806: I tensorflow/core/common_runtime/executor.cc:1197] [/device:CPU:0] (DEBUG INFO) Executor start aborting (this does not indicate an error and you can ignore this message): INVALID_ARGUMENT: You must feed a value for placeholder tensor 'gradients/split_grad/concat/split/split_dim' with dtype int32\n",
      "\t [[{{node gradients/split_grad/concat/split/split_dim}}]]\n",
      "2023-04-19 20:18:33.198432: I tensorflow/core/common_runtime/executor.cc:1197] [/device:CPU:0] (DEBUG INFO) Executor start aborting (this does not indicate an error and you can ignore this message): INVALID_ARGUMENT: You must feed a value for placeholder tensor 'gradients/split_1_grad/concat/split_1/split_dim' with dtype int32\n",
      "\t [[{{node gradients/split_1_grad/concat/split_1/split_dim}}]]\n",
      "2023-04-19 20:18:33.425527: I tensorflow/core/common_runtime/executor.cc:1197] [/device:CPU:0] (DEBUG INFO) Executor start aborting (this does not indicate an error and you can ignore this message): INVALID_ARGUMENT: You must feed a value for placeholder tensor 'gradients/split_2_grad/concat/split_2/split_dim' with dtype int32\n",
      "\t [[{{node gradients/split_2_grad/concat/split_2/split_dim}}]]\n",
      "2023-04-19 20:18:33.427914: I tensorflow/core/common_runtime/executor.cc:1197] [/device:CPU:0] (DEBUG INFO) Executor start aborting (this does not indicate an error and you can ignore this message): INVALID_ARGUMENT: You must feed a value for placeholder tensor 'gradients/split_grad/concat/split/split_dim' with dtype int32\n",
      "\t [[{{node gradients/split_grad/concat/split/split_dim}}]]\n",
      "2023-04-19 20:18:33.429566: I tensorflow/core/common_runtime/executor.cc:1197] [/device:CPU:0] (DEBUG INFO) Executor start aborting (this does not indicate an error and you can ignore this message): INVALID_ARGUMENT: You must feed a value for placeholder tensor 'gradients/split_1_grad/concat/split_1/split_dim' with dtype int32\n",
      "\t [[{{node gradients/split_1_grad/concat/split_1/split_dim}}]]\n",
      "2023-04-19 20:18:33.654610: I tensorflow/core/common_runtime/executor.cc:1197] [/device:CPU:0] (DEBUG INFO) Executor start aborting (this does not indicate an error and you can ignore this message): INVALID_ARGUMENT: You must feed a value for placeholder tensor 'gradients/split_2_grad/concat/split_2/split_dim' with dtype int32\n",
      "\t [[{{node gradients/split_2_grad/concat/split_2/split_dim}}]]\n",
      "2023-04-19 20:18:33.656708: I tensorflow/core/common_runtime/executor.cc:1197] [/device:CPU:0] (DEBUG INFO) Executor start aborting (this does not indicate an error and you can ignore this message): INVALID_ARGUMENT: You must feed a value for placeholder tensor 'gradients/split_grad/concat/split/split_dim' with dtype int32\n",
      "\t [[{{node gradients/split_grad/concat/split/split_dim}}]]\n",
      "2023-04-19 20:18:33.658903: I tensorflow/core/common_runtime/executor.cc:1197] [/device:CPU:0] (DEBUG INFO) Executor start aborting (this does not indicate an error and you can ignore this message): INVALID_ARGUMENT: You must feed a value for placeholder tensor 'gradients/split_1_grad/concat/split_1/split_dim' with dtype int32\n",
      "\t [[{{node gradients/split_1_grad/concat/split_1/split_dim}}]]\n"
     ]
    }
   ],
   "source": [
    "from keras.models import load_model\n",
    "lstm = load_model('lstm.h5')\n",
    "warnings.filterwarnings(\"ignore\")"
   ]
  },
  {
   "cell_type": "code",
   "execution_count": 111,
   "id": "1ecb1767-821a-44da-9703-59ab6e1d63c8",
   "metadata": {},
   "outputs": [
    {
     "name": "stdout",
     "output_type": "stream",
     "text": [
      "Model: \"sequential_2\"\n",
      "_________________________________________________________________\n",
      " Layer (type)                Output Shape              Param #   \n",
      "=================================================================\n",
      " embedding_1 (Embedding)     (None, 300, 32)           360352    \n",
      "                                                                 \n",
      " simple_rnn (SimpleRNN)      (None, 300, 32)           2080      \n",
      "                                                                 \n",
      " dropout (Dropout)           (None, 300, 32)           0         \n",
      "                                                                 \n",
      " simple_rnn_1 (SimpleRNN)    (None, 300, 32)           2080      \n",
      "                                                                 \n",
      " dropout_1 (Dropout)         (None, 300, 32)           0         \n",
      "                                                                 \n",
      " simple_rnn_2 (SimpleRNN)    (None, 32)                2080      \n",
      "                                                                 \n",
      " dense (Dense)               (None, 2)                 66        \n",
      "                                                                 \n",
      "=================================================================\n",
      "Total params: 366,658\n",
      "Trainable params: 366,658\n",
      "Non-trainable params: 0\n",
      "_________________________________________________________________\n"
     ]
    }
   ],
   "source": [
    "lstm.summary()"
   ]
  },
  {
   "cell_type": "code",
   "execution_count": null,
   "id": "d403b15e-856f-4493-8471-47238b55d254",
   "metadata": {},
   "outputs": [
    {
     "data": {
      "text/plain": [
       "Counter({0.0: 199, 1.0: 199})"
      ]
     },
     "execution_count": 112,
     "metadata": {},
     "output_type": "execute_result"
    }
   ],
   "source": [
    "# list(itertools.chain.from_iterable(X_test))\n",
    "Counter(list(itertools.chain.from_iterable(y_test)))"
   ]
  },
  {
   "cell_type": "code",
   "execution_count": 102,
   "id": "df064da1-ca63-4790-bee9-166b5ad54776",
   "metadata": {
    "collapsed": true,
    "jupyter": {
     "outputs_hidden": true
    },
    "tags": []
   },
   "outputs": [
    {
     "name": "stdout",
     "output_type": "stream",
     "text": [
      "7/7 [==============================] - 1s 39ms/step\n"
     ]
    }
   ],
   "source": [
    "predictions = lstm.predict(X_test)"
   ]
  },
  {
   "cell_type": "code",
   "execution_count": 109,
   "id": "1548823d-0be5-4562-a88b-dd57ef7d614b",
   "metadata": {
    "collapsed": true,
    "jupyter": {
     "outputs_hidden": true
    },
    "tags": []
   },
   "outputs": [
    {
     "data": {
      "text/plain": [
       "array([8.0220900e-02, 9.6032029e-01, 5.5047154e-02, 7.4367702e-02,\n",
       "       1.0761735e-01, 4.5756875e-05, 9.9993700e-01, 8.5638672e-01,\n",
       "       3.5498539e-01, 9.8683053e-01, 6.7437612e-02, 1.2038486e-04,\n",
       "       2.5342479e-03, 5.5820125e-01, 6.7778542e-03, 2.9218605e-01,\n",
       "       9.6086538e-01, 4.9691582e-01, 9.5441508e-01, 9.4738448e-01,\n",
       "       5.7959063e-03, 9.0643883e-01, 1.9957495e-01, 8.9448243e-01,\n",
       "       9.7002530e-01, 1.2427010e-01, 1.0017838e-04, 7.7354570e-04,\n",
       "       4.7117170e-02, 2.1157437e-03, 9.9994117e-01, 1.8650781e-02,\n",
       "       9.9900848e-01, 2.5666493e-01, 4.8904598e-02, 9.9557066e-01,\n",
       "       5.5820125e-01, 4.5517810e-02, 9.9985456e-01, 1.8471410e-04,\n",
       "       9.9994117e-01, 9.9984884e-01, 2.5740960e-01, 7.5976163e-02,\n",
       "       1.5850382e-02, 8.9742923e-01, 9.9357331e-01, 7.0942646e-05,\n",
       "       4.7693723e-01, 8.9448243e-01, 9.9986982e-01, 3.8258228e-02,\n",
       "       2.6406245e-02, 8.6168510e-01, 9.9993628e-01, 5.4618537e-02,\n",
       "       9.9198335e-01, 1.8797501e-03, 9.9985671e-01, 5.2072889e-01,\n",
       "       9.9994987e-01, 5.1920628e-04, 5.4682328e-05, 6.8191665e-01,\n",
       "       1.6221362e-01, 9.3319941e-01, 5.3970861e-01, 4.0152526e-01,\n",
       "       2.8577747e-03, 9.7002089e-02, 3.1287645e-04, 9.9618608e-01,\n",
       "       4.7569594e-01, 9.2646718e-01, 6.8751270e-01, 6.3427120e-01,\n",
       "       3.4192525e-04, 6.7653787e-01, 9.9993616e-01, 1.8529940e-02,\n",
       "       4.9408907e-03, 3.8407338e-01, 6.1955905e-01, 5.8309946e-05,\n",
       "       4.0727729e-05, 9.9945343e-01, 9.1903666e-03, 9.3725365e-01,\n",
       "       8.9721340e-01, 5.7172703e-05, 9.2558634e-01, 4.2412883e-01,\n",
       "       8.0448925e-02, 9.7980553e-01, 9.9778205e-01, 1.4956018e-02,\n",
       "       7.3590404e-01, 2.4779059e-02, 9.9995083e-01, 9.9303240e-01,\n",
       "       4.7073660e-05, 4.2073512e-03, 5.1882507e-05, 7.2522406e-03,\n",
       "       3.3954558e-01, 3.7599052e-03, 1.1590431e-01, 1.2054620e-02,\n",
       "       7.4863261e-01, 1.3607516e-02, 9.9993521e-01, 4.0288693e-01,\n",
       "       4.4227406e-01, 7.5976163e-02, 8.5413194e-01, 9.9240780e-02,\n",
       "       6.5432793e-01, 9.7023398e-01, 5.0427559e-05, 9.7367275e-01,\n",
       "       2.5666493e-01, 6.9817681e-05, 6.6941546e-05, 1.9022636e-02,\n",
       "       2.6091564e-02, 9.7400331e-01, 9.7245747e-01, 2.3304923e-01,\n",
       "       8.4138922e-03, 9.8709542e-01, 9.9802208e-01, 3.6443005e-04,\n",
       "       7.0353651e-01, 3.3949336e-01, 4.4722331e-01, 7.2565532e-01,\n",
       "       5.8200614e-05, 3.7199801e-03, 3.7480321e-02, 4.6941351e-02,\n",
       "       5.5743438e-01, 2.4458061e-01, 9.8891240e-01, 2.6009334e-02,\n",
       "       5.8855185e-05, 9.2156057e-05, 1.9168253e-01, 9.7815686e-01,\n",
       "       5.6447414e-05, 6.9938332e-02, 8.8960893e-05, 9.5288610e-01,\n",
       "       2.5045720e-01, 5.8666468e-02, 4.0513044e-03, 3.9987826e-01,\n",
       "       5.0055525e-05, 4.0436941e-03, 9.9860525e-01, 2.8020892e-02,\n",
       "       9.9748245e-04, 4.0216839e-01, 5.2584219e-03, 8.7750989e-01,\n",
       "       9.2128998e-01, 9.7553176e-01, 9.9969089e-01, 8.8382110e-02,\n",
       "       5.0109167e-05, 8.8278258e-01, 2.8345311e-01, 5.1192925e-05,\n",
       "       3.6474249e-01, 4.1484825e-05, 8.7750989e-01, 2.2732673e-04,\n",
       "       8.9381844e-01, 8.0220900e-02, 9.9932736e-01, 9.9994940e-01,\n",
       "       2.0576045e-02, 7.3993422e-02, 1.2616101e-02, 4.7768757e-05,\n",
       "       9.3735894e-03, 9.9865866e-01, 2.8345311e-01, 9.1666329e-01,\n",
       "       3.3388034e-02, 1.3283367e-01, 9.6700895e-01, 8.8246800e-02,\n",
       "       8.1240082e-01, 9.9988961e-01, 9.9995053e-01, 3.8882350e-03,\n",
       "       9.9992275e-01, 6.6627334e-03, 8.9381760e-01], dtype=float32)"
      ]
     },
     "execution_count": 114,
     "metadata": {},
     "output_type": "execute_result"
    }
   ],
   "source": [
    "predictions[:,0]"
   ]
  },
  {
   "cell_type": "code",
   "execution_count": 103,
   "id": "c6299e1a-d33b-490b-9b0b-2ac35fcbddbd",
   "metadata": {},
   "outputs": [],
   "source": [
    "probability_positive = predictions[:,1]"
   ]
  },
  {
   "cell_type": "code",
   "execution_count": 104,
   "id": "ae16b992-4ca0-42f7-b64c-7d5d7f54fc6f",
   "metadata": {},
   "outputs": [
    {
     "data": {
      "text/plain": [
       "199"
      ]
     },
     "execution_count": 116,
     "metadata": {},
     "output_type": "execute_result"
    }
   ],
   "source": [
    "len(probability_positive)"
   ]
  },
  {
   "cell_type": "code",
   "execution_count": 105,
   "id": "adea4fde-7973-426b-949f-2ba18a7bee68",
   "metadata": {},
   "outputs": [
    {
     "data": {
      "text/plain": [
       "array([9.19779062e-01, 3.96797583e-02, 9.44952846e-01, 9.25632238e-01,\n",
       "       8.92382562e-01, 9.99954164e-01, 6.29727365e-05, 1.43613264e-01,\n",
       "       6.45014644e-01, 1.31695028e-02, 9.32562470e-01, 9.99879539e-01,\n",
       "       9.97465670e-01, 4.41798776e-01, 9.93222058e-01, 7.07813978e-01,\n",
       "       3.91346738e-02, 5.03084183e-01, 4.55849506e-02, 5.26154675e-02,\n",
       "       9.94204104e-01, 9.35611203e-02, 8.00425172e-01, 1.05517626e-01,\n",
       "       2.99746785e-02, 8.75729918e-01, 9.99899805e-01, 9.99226511e-01,\n",
       "       9.52882826e-01, 9.97884214e-01, 5.87518953e-05, 9.81349170e-01,\n",
       "       9.91484150e-04, 7.43335068e-01, 9.51095402e-01, 4.42926306e-03,\n",
       "       4.41798776e-01, 9.54482198e-01, 1.45358426e-04, 9.99815226e-01,\n",
       "       5.87518953e-05, 1.51089887e-04, 7.42590368e-01, 9.24023747e-01,\n",
       "       9.84149575e-01, 1.02570668e-01, 6.42655184e-03, 9.99929011e-01,\n",
       "       5.23062825e-01, 1.05517626e-01, 1.30180444e-04, 9.61741686e-01,\n",
       "       9.73593712e-01, 1.38314933e-01, 6.35987381e-05, 9.45381463e-01,\n",
       "       8.01661145e-03, 9.98120248e-01, 1.43275858e-04, 4.79271173e-01,\n",
       "       5.01096438e-05, 9.99480665e-01, 9.99945223e-01, 3.18083346e-01,\n",
       "       8.37786436e-01, 6.68005198e-02, 4.60291326e-01, 5.98474681e-01,\n",
       "       9.97142315e-01, 9.02997792e-01, 9.99687195e-01, 3.81396175e-03,\n",
       "       5.24304032e-01, 7.35328048e-02, 3.12487274e-01, 3.65728766e-01,\n",
       "       9.99658108e-01, 3.23462039e-01, 6.37677440e-05, 9.81470048e-01,\n",
       "       9.95059013e-01, 6.15926564e-01, 3.80440921e-01, 9.99941647e-01,\n",
       "       9.99959171e-01, 5.46482683e-04, 9.90809560e-01, 6.27463311e-02,\n",
       "       1.02786541e-01, 9.99942720e-01, 7.44136050e-02, 5.75871170e-01,\n",
       "       9.19551075e-01, 2.01943386e-02, 2.21797428e-03, 9.85043943e-01,\n",
       "       2.64095902e-01, 9.75220919e-01, 4.90861457e-05, 6.96758553e-03,\n",
       "       9.99952853e-01, 9.95792627e-01, 9.99948084e-01, 9.92747724e-01,\n",
       "       6.60454333e-01, 9.96240139e-01, 8.84095788e-01, 9.87945378e-01,\n",
       "       2.51367450e-01, 9.86392438e-01, 6.47376655e-05, 5.97113073e-01,\n",
       "       5.57725966e-01, 9.24023747e-01, 1.45867974e-01, 9.00759220e-01,\n",
       "       3.45672160e-01, 2.97660083e-02, 9.99949515e-01, 2.63272002e-02,\n",
       "       7.43335068e-01, 9.99930084e-01, 9.99932945e-01, 9.80977356e-01,\n",
       "       9.73908365e-01, 2.59966515e-02, 2.75424886e-02, 7.66950846e-01,\n",
       "       9.91586149e-01, 1.29046477e-02, 1.97798526e-03, 9.99635577e-01,\n",
       "       2.96463460e-01, 6.60506725e-01, 5.52776694e-01, 2.74344683e-01,\n",
       "       9.99941766e-01, 9.96280074e-01, 9.62519705e-01, 9.53058660e-01,\n",
       "       4.42565650e-01, 7.55419374e-01, 1.10875098e-02, 9.73990679e-01,\n",
       "       9.99941051e-01, 9.99907792e-01, 8.08317423e-01, 2.18430590e-02,\n",
       "       9.99943435e-01, 9.30061638e-01, 9.99911010e-01, 4.71138917e-02,\n",
       "       7.49542713e-01, 9.41333532e-01, 9.95948613e-01, 6.00121677e-01,\n",
       "       9.99949872e-01, 9.95956242e-01, 1.39471504e-03, 9.71979022e-01,\n",
       "       9.99002397e-01, 5.97831607e-01, 9.94741499e-01, 1.22490101e-01,\n",
       "       7.87099674e-02, 2.44681071e-02, 3.09186464e-04, 9.11617935e-01,\n",
       "       9.99949872e-01, 1.17217451e-01, 7.16547012e-01, 9.99948800e-01,\n",
       "       6.35257542e-01, 9.99958456e-01, 1.22490101e-01, 9.99772787e-01,\n",
       "       1.06181525e-01, 9.19779062e-01, 6.72646740e-04, 5.04924246e-05,\n",
       "       9.79423940e-01, 9.26006496e-01, 9.87383842e-01, 9.99952137e-01,\n",
       "       9.90626454e-01, 1.34136062e-03, 7.16547012e-01, 8.33366737e-02,\n",
       "       9.66611981e-01, 8.67166281e-01, 3.29911374e-02, 9.11753237e-01,\n",
       "       1.87599197e-01, 1.10430119e-04, 4.95065178e-05, 9.96111810e-01,\n",
       "       7.72353233e-05, 9.93337274e-01, 1.06182344e-01], dtype=float32)"
      ]
     },
     "execution_count": 117,
     "metadata": {},
     "output_type": "execute_result"
    }
   ],
   "source": [
    "probability_positive"
   ]
  },
  {
   "cell_type": "code",
   "execution_count": null,
   "id": "c9473400-2bae-4e31-b0a2-0869c7a31119",
   "metadata": {},
   "outputs": [],
   "source": []
  },
  {
   "cell_type": "code",
   "execution_count": null,
   "id": "4e2f7c6f-46f8-4259-b61a-16636a81aa23",
   "metadata": {},
   "outputs": [],
   "source": []
  },
  {
   "cell_type": "code",
   "execution_count": null,
   "id": "06735e1b-2f9b-406a-a547-c9d3d2c8d69a",
   "metadata": {},
   "outputs": [],
   "source": []
  },
  {
   "cell_type": "code",
   "execution_count": null,
   "id": "d2830636-de67-445e-8234-d75bb02ea81f",
   "metadata": {},
   "outputs": [],
   "source": []
  },
  {
   "cell_type": "code",
   "execution_count": null,
   "id": "619bebed-f2fc-4625-a393-7146635f7e1a",
   "metadata": {},
   "outputs": [],
   "source": []
  },
  {
   "cell_type": "code",
   "execution_count": null,
   "id": "69542e5a-cb4a-442c-9ac5-6ca3425731de",
   "metadata": {},
   "outputs": [],
   "source": []
  }
 ],
 "metadata": {
  "kernelspec": {
   "display_name": "Python 3 (ipykernel)",
   "language": "python",
   "name": "python3"
  },
  "language_info": {
   "codemirror_mode": {
    "name": "ipython",
    "version": 3
   },
   "file_extension": ".py",
   "mimetype": "text/x-python",
   "name": "python",
   "nbconvert_exporter": "python",
   "pygments_lexer": "ipython3",
   "version": "3.10.9"
  }
 },
 "nbformat": 4,
 "nbformat_minor": 5
}
