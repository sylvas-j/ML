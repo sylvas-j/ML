{
 "cells": [
  {
   "cell_type": "code",
   "execution_count": 1,
   "id": "9c952d3a-b692-4e73-b130-219125883758",
   "metadata": {
    "tags": []
   },
   "outputs": [],
   "source": [
    "import shutup; shutup.please()"
   ]
  },
  {
   "cell_type": "code",
   "execution_count": 2,
   "id": "340a7abd-664b-42d2-b980-670c2c7fd641",
   "metadata": {
    "tags": []
   },
   "outputs": [
    {
     "name": "stderr",
     "output_type": "stream",
     "text": [
      "2023-05-11 12:07:00.858092: I tensorflow/tsl/cuda/cudart_stub.cc:28] Could not find cuda drivers on your machine, GPU will not be used.\n",
      "2023-05-11 12:07:01.410982: I tensorflow/tsl/cuda/cudart_stub.cc:28] Could not find cuda drivers on your machine, GPU will not be used.\n",
      "2023-05-11 12:07:01.412916: I tensorflow/core/platform/cpu_feature_guard.cc:182] This TensorFlow binary is optimized to use available CPU instructions in performance-critical operations.\n",
      "To enable the following instructions: AVX2 FMA, in other operations, rebuild TensorFlow with the appropriate compiler flags.\n",
      "2023-05-11 12:07:02.897665: W tensorflow/compiler/tf2tensorrt/utils/py_utils.cc:38] TF-TRT Warning: Could not find TensorRT\n"
     ]
    }
   ],
   "source": [
    "import numpy as np\n",
    "import pandas as pd\n",
    "from keras.models import Sequential\n",
    "from keras.layers import Dense, SimpleRNN, Dropout, LSTM\n",
    "from keras.preprocessing.text import Tokenizer\n",
    "from keras.constraints import maxnorm\n",
    "import time\n",
    "import warnings\n",
    "from keras.utils import pad_sequences\n",
    "from tensorflow.keras.layers import Embedding\n",
    "from collections import Counter\n",
    "import itertools\n",
    "from sklearn.model_selection import train_test_split\n",
    "from sklearn.preprocessing import (\n",
    "    StandardScaler, LabelBinarizer, FunctionTransformer,PolynomialFeatures, OrdinalEncoder,LabelEncoder,MinMaxScaler\n",
    ")\n",
    "warnings.filterwarnings(\"ignore\")"
   ]
  },
  {
   "cell_type": "code",
   "execution_count": 3,
   "id": "31dd0fdc-2acb-4b92-ad7e-9c352d5d6df9",
   "metadata": {
    "tags": []
   },
   "outputs": [],
   "source": [
    "from sklearn.metrics import(\n",
    "    classification_report, confusion_matrix, accuracy_score, mean_squared_error, mean_absolute_error\n",
    ")\n",
    "import seaborn as sns"
   ]
  },
  {
   "cell_type": "code",
   "execution_count": 4,
   "id": "b02f42b3-1b14-46e3-b880-a4cb196d88cc",
   "metadata": {
    "tags": []
   },
   "outputs": [],
   "source": [
    "# import boto3\n",
    "# import tensorflow as tf\n",
    "# from keras.datasets import imdb\n",
    "# from tensorflow.python.client import device_lib"
   ]
  },
  {
   "cell_type": "markdown",
   "id": "6fa491d5-4e00-4490-b35a-c0d24407e79d",
   "metadata": {},
   "source": [
    "### Basic functions"
   ]
  },
  {
   "cell_type": "code",
   "execution_count": 5,
   "id": "3fa74e61-6c41-420a-8e16-9baa368b2364",
   "metadata": {
    "tags": []
   },
   "outputs": [],
   "source": [
    "\n",
    "# class for Y convertions\n",
    "class TextLabelEncoderDummy:\n",
    "\n",
    "    def labelencoder(y_df):\n",
    "        encoder = LabelEncoder()\n",
    "        encoder.fit(y_df)\n",
    "        encoded_Y = encoder.transform(y_df)\n",
    "        return encoded_Y, encoder\n",
    "\n",
    "\n",
    "    def encoded_to_dummy(encoded_Y):\n",
    "        # convert encoder variable to dummy variable\n",
    "        uniques, ids = np.unique(encoded_Y, return_inverse=True)\n",
    "        dummy_y = to_categorical(ids, len(uniques))\n",
    "        # dummy_y = np_utils.to_categorical(encoded_Y)\n",
    "        return dummy_y, uniques\n",
    "\n",
    "\n",
    "    def reverse_dummy_to_encoded(y_test):\n",
    "        reverse_dummy = uniques[y_test.argmax(1)]\n",
    "        return reverse_dummy\n",
    "\n",
    "\n",
    "    def reverse_encoded_to_text(reverse_dummy):\n",
    "        reverse_encoded = encoder.inverse_transform(reverse_dummy)\n",
    "        return reverse_encoded"
   ]
  },
  {
   "cell_type": "code",
   "execution_count": 6,
   "id": "1764fda1-c65d-48c3-a91d-f3bde83debca",
   "metadata": {
    "tags": []
   },
   "outputs": [
    {
     "data": {
      "text/html": [
       "<div>\n",
       "<style scoped>\n",
       "    .dataframe tbody tr th:only-of-type {\n",
       "        vertical-align: middle;\n",
       "    }\n",
       "\n",
       "    .dataframe tbody tr th {\n",
       "        vertical-align: top;\n",
       "    }\n",
       "\n",
       "    .dataframe thead th {\n",
       "        text-align: right;\n",
       "    }\n",
       "</style>\n",
       "<table border=\"1\" class=\"dataframe\">\n",
       "  <thead>\n",
       "    <tr style=\"text-align: right;\">\n",
       "      <th></th>\n",
       "      <th>raw_text</th>\n",
       "      <th>crime_types</th>\n",
       "      <th>sentence</th>\n",
       "      <th>tokenized_cleaned_text</th>\n",
       "      <th>lemmatized</th>\n",
       "      <th>tokens_back_to_text</th>\n",
       "    </tr>\n",
       "  </thead>\n",
       "  <tbody>\n",
       "    <tr>\n",
       "      <th>0</th>\n",
       "      <td>Mr. Solomon Sauls ran an illegal enterprise wi...</td>\n",
       "      <td>money laundry</td>\n",
       "      <td>1</td>\n",
       "      <td>['solomon', 'sauls', 'ran', 'illegal', 'enterp...</td>\n",
       "      <td>['solomon', 'saul', 'ran', 'illegal', 'enterpr...</td>\n",
       "      <td>solomon saul ran illegal enterprise purpose po...</td>\n",
       "    </tr>\n",
       "    <tr>\n",
       "      <th>1</th>\n",
       "      <td>SummaryHarmony Gold Mine (Pty) Limited is a mi...</td>\n",
       "      <td>money laundry</td>\n",
       "      <td>1</td>\n",
       "      <td>['summaryharmony', 'gold', 'mine', 'pty', 'lim...</td>\n",
       "      <td>['summaryharmony', 'gold', 'mine', 'pty', 'lim...</td>\n",
       "      <td>summaryharmony gold mine pty limited mining co...</td>\n",
       "    </tr>\n",
       "  </tbody>\n",
       "</table>\n",
       "</div>"
      ],
      "text/plain": [
       "                                            raw_text    crime_types  sentence   \n",
       "0  Mr. Solomon Sauls ran an illegal enterprise wi...  money laundry         1  \\\n",
       "1  SummaryHarmony Gold Mine (Pty) Limited is a mi...  money laundry         1   \n",
       "\n",
       "                              tokenized_cleaned_text   \n",
       "0  ['solomon', 'sauls', 'ran', 'illegal', 'enterp...  \\\n",
       "1  ['summaryharmony', 'gold', 'mine', 'pty', 'lim...   \n",
       "\n",
       "                                          lemmatized   \n",
       "0  ['solomon', 'saul', 'ran', 'illegal', 'enterpr...  \\\n",
       "1  ['summaryharmony', 'gold', 'mine', 'pty', 'lim...   \n",
       "\n",
       "                                 tokens_back_to_text  \n",
       "0  solomon saul ran illegal enterprise purpose po...  \n",
       "1  summaryharmony gold mine pty limited mining co...  "
      ]
     },
     "execution_count": 6,
     "metadata": {},
     "output_type": "execute_result"
    }
   ],
   "source": [
    "dff = pd.read_csv('../../../../datasets/sherloc/sherloc-court-case-token-back-to-text.csv')\n",
    "dff.head(2)"
   ]
  },
  {
   "cell_type": "code",
   "execution_count": 7,
   "id": "268444db-d1ae-45e0-9d8e-b97f2c8ffbf9",
   "metadata": {
    "tags": []
   },
   "outputs": [
    {
     "data": {
      "text/plain": [
       "1250"
      ]
     },
     "execution_count": 7,
     "metadata": {},
     "output_type": "execute_result"
    }
   ],
   "source": [
    "len(dff)"
   ]
  },
  {
   "cell_type": "code",
   "execution_count": 8,
   "id": "a764f191-0b67-42e8-acb5-a1bc27d8e5e1",
   "metadata": {
    "tags": []
   },
   "outputs": [],
   "source": [
    "X = dff.tokens_back_to_text.values"
   ]
  },
  {
   "cell_type": "code",
   "execution_count": 9,
   "id": "83fdfab6-f519-48cb-8938-47b94e928977",
   "metadata": {
    "tags": []
   },
   "outputs": [],
   "source": [
    "y = dff.crime_types.values"
   ]
  },
  {
   "cell_type": "code",
   "execution_count": 10,
   "id": "1966d1d7-50ed-4593-a77a-f2eb35e1ef20",
   "metadata": {
    "tags": []
   },
   "outputs": [
    {
     "data": {
      "text/plain": [
       "((1250,), (1250,))"
      ]
     },
     "execution_count": 10,
     "metadata": {},
     "output_type": "execute_result"
    }
   ],
   "source": [
    "X.shape, y.shape"
   ]
  },
  {
   "cell_type": "markdown",
   "id": "e2c29de7-b241-4e4c-ab38-336cd579443d",
   "metadata": {
    "tags": []
   },
   "source": [
    "### Feature Engineering on X"
   ]
  },
  {
   "cell_type": "code",
   "execution_count": 11,
   "id": "39aeb024-a78c-4de9-a64f-b6627b3460a6",
   "metadata": {
    "tags": []
   },
   "outputs": [],
   "source": [
    "# prepare tokenizer\n",
    "tokenizer = Tokenizer()\n",
    "tokenizer.fit_on_texts(X)"
   ]
  },
  {
   "cell_type": "code",
   "execution_count": 12,
   "id": "b25cbc97-ca05-42eb-9b52-b98662e17be6",
   "metadata": {
    "collapsed": true,
    "jupyter": {
     "outputs_hidden": true
    },
    "tags": []
   },
   "outputs": [
    {
     "data": {
      "text/plain": [
       "array(['solomon saul ran illegal enterprise purpose poach sell abalone haliotis midae south africa group abalone diver work supply illegally harvest abalone accuse bribed official department agriculture forestry fishery prevent confiscate abalone buy back abalone already seize authority corrupt official face charge separate march police search accuse house encounter cash accuse confess proceeds illegal activity february defendant plead guilty count involve run illegal enterprise corruption money laundering possess transport illegally harvest aggravate sentence seriousness corrupt government official engagement illegal abalone trade commercial scale financial accuse involve similar crime past previously receive prison sentence involvement another illegal enterprise focus abalone found responsible run illegal abalone business different area hand current trial solomon saul sentence year imprisonment run concurrently result effective sentence year determine run concurrently previous sentence year',\n",
       "       'summaryharmony gold mine pty limited mining company operating masimong gold mine district henneman south africa miner legally enter shaft able produce mining identity card use enter exit mine notwithstanding common knowledge clock system could breach allow illegal miner enter mine illegal mining operation inside mine know phenomenon illegal processing refinery plant found subsequently destroyed april underground operation expose illegal miner carry security agency operation makeshift gold processing plant bed letter book name list document discover together large quantity extract ore document include gold transaction note photograph point towards identity illegal investigation brought light ore worth zar million extract use processing plant yet site investigator discover material worth zar million ton ore move make ready transport use canvas one arrest operation people found arrest april july mostly mine premise one person arrest outside premise incriminate document evidence encounter group arrest consist national mozambique zimbabwe year old found vary degree involvement illegal enterprise lovemore chaba mlambo identify orchestrate illegal found guilty racketeering money laundering well contravention precious metal act criminal procedure act march virginia circuit court sentence prison sentence range appeal judgment front high court south africa free state division bloemfontein saw appeal reject march appealthe appellant argue caught conduct illegal mining operation respondent counter essential ingredient criminal racketeering activity conspiracy commit organize criminal offence participate unlawful enterprise hence appellant could prosecute racketeering charge even though caught court found implicit agreement among appellant manifest construction illegal refinery plant fact ore extract already laborious effort require collaboration furthermore name illegal miner found documentation seize site follow similar line argumentation court reject challenge establish common purpose organization appellant argue ore value zar million extract zar million ton worth ore found site imply lion share gold could still somewhere mine therefore mine operator would lose ore court deny argument appeal base fact ore encounter already extract prepared future transport turn show group capable remove extract ore mining premise furthermore court argue extract encounter ore would amount quantity ton make significant enough overlook hence unlikely still reside within premise mine paperwork seize illegal mining site document extract ore previously sell outside appellant argue identity perpetrator reasonably establish beyond doubt none appellant found either near shaft mining possession gold ore respondent argue appellant arrest staff mine security surface step elevator lead mine none able identify valid mine identity card yet many possession mining equipment safety head protector cap lamp hence court found unlikely arrest come shaft business mind participate ongoing illegal mining appeal reject',\n",
       "       'summarythe three defendant found guilty multiple count relate run illegal enterprise illegally harvest export abalone march sentence year harvest trading abalone reason concern south africa eastern cape since seaside city port elizabeth consider hub illegal trade abalone declare hotspot criminal enterprise kingpin number abalone mostly sell delicacy asia decline spark government respond issue establish dedicate team seed abalone patrol march member south african police service observe suspicious activity patrol along coast head towards noordhoek observe individual come water load back onto vehicle chase vehicle able arrest one suspect hot pursuit encounter abalone suspect car another suspect work defendant found possession abalone without permit month later south african police service launch investigation operation lead investigator described illegal operation defendant enterprise rely support several people defendant conduct operation basis different participant supply chain would limited knowledge overall operation abalone harvest diver use dive equipment provide accuse harvest abalone would packed marked identification mark respective harvester abalone would load onto motor vehicle driver would take weight house station abalone would sort size shell remove weight base weight diver would paid another driver would take abalone another location would store freezer yet another person would later pick transport processing plant abalone get clean cooked via city gauteng cape town abalone would ultimately ship china sell delicacy',\n",
       "       ...,\n",
       "       'defendant accuse kidnapping child father harbor isolated house detain purpose sell exchange sum money',\n",
       "       'defendant agree third person decease recruit child offer thereto sex exchange sum money show decease homosexual know recruiting young boy sex three carry criminal plan child consent offer',\n",
       "       'case initiate follow police enquiry general police department protection moral provide female entice commit prostitution guise false defendant accuse traffic woman purpose prostitution exchange financial reward operate criminal organize group specific task attract men gulf state entice young girl engage sexual relation guise fake marriage first defendant regard leader criminal organize group responsible arrange false marriage men gulf state third defendant pretend lawyer enable issue false marriage certificate claim orfy contract unofficial marriage contract fourth defendant responsible construct artificial hymen victim would appear virgin order charge high fee client enable two victim age age network exploit family victim financial need promising money financial privilege return marriage claimed girl would marry man mean financially support family'],\n",
       "      dtype=object)"
      ]
     },
     "execution_count": 12,
     "metadata": {},
     "output_type": "execute_result"
    }
   ],
   "source": [
    "X"
   ]
  },
  {
   "cell_type": "code",
   "execution_count": 13,
   "id": "871423e0-703e-4dd5-8e05-2175c1b71c30",
   "metadata": {
    "tags": []
   },
   "outputs": [
    {
     "name": "stdout",
     "output_type": "stream",
     "text": [
      "Found 11260 unique tokens.\n"
     ]
    }
   ],
   "source": [
    "word_index = tokenizer.word_index\n",
    "print('Found %s unique tokens.' % len(word_index))"
   ]
  },
  {
   "cell_type": "code",
   "execution_count": 14,
   "id": "d72245ba-5d34-46e9-8860-738b57c50bba",
   "metadata": {
    "tags": []
   },
   "outputs": [],
   "source": [
    "# integer encode the documents\n",
    "sequences = tokenizer.texts_to_sequences(X)"
   ]
  },
  {
   "cell_type": "code",
   "execution_count": 15,
   "id": "1d40a19e-5ddd-45d1-9ff6-3515881d47ba",
   "metadata": {
    "tags": []
   },
   "outputs": [],
   "source": [
    "# pad documents to a max length of 14 words\n",
    "maxlen = 25\n",
    "X = pad_sequences(sequences, maxlen=maxlen)"
   ]
  },
  {
   "cell_type": "code",
   "execution_count": 16,
   "id": "5dd92fd4-f469-4c08-b6e2-1f90f277c844",
   "metadata": {
    "tags": []
   },
   "outputs": [
    {
     "data": {
      "text/plain": [
       "(1250, 25)"
      ]
     },
     "execution_count": 16,
     "metadata": {},
     "output_type": "execute_result"
    }
   ],
   "source": [
    "X.shape"
   ]
  },
  {
   "cell_type": "code",
   "execution_count": 17,
   "id": "baf4d1ab-8728-4982-8aee-70b001daf48f",
   "metadata": {
    "tags": []
   },
   "outputs": [
    {
     "data": {
      "text/plain": [
       "array([[  42, 1124,  174, ...,  959,   35,   24],\n",
       "       [1242,  589,  149, ..., 1724,   50,  905],\n",
       "       [1242,   96,   27, ...,  770,   95, 4559],\n",
       "       ...,\n",
       "       [   0,    0,    0, ...,  251,  643,   14],\n",
       "       [  27, 3044,  146, ...,   52, 1167,  115],\n",
       "       [  13,    2,  524, ..., 1690,  232,  124]], dtype=int32)"
      ]
     },
     "execution_count": 17,
     "metadata": {},
     "output_type": "execute_result"
    }
   ],
   "source": [
    "X"
   ]
  },
  {
   "cell_type": "markdown",
   "id": "4065db1a-b251-4d4f-a6d8-12bd98fb1e5d",
   "metadata": {
    "tags": []
   },
   "source": [
    "### Checking how balanced the dataset is"
   ]
  },
  {
   "cell_type": "code",
   "execution_count": 18,
   "id": "721a4af5-5228-4f8c-af12-eeaf82405d5c",
   "metadata": {
    "tags": []
   },
   "outputs": [
    {
     "data": {
      "text/plain": [
       "8"
      ]
     },
     "execution_count": 18,
     "metadata": {},
     "output_type": "execute_result"
    }
   ],
   "source": [
    "len(pd.unique(y))"
   ]
  },
  {
   "cell_type": "code",
   "execution_count": 19,
   "id": "0ded04fc-f90f-4be2-ac9e-43867c4b38a4",
   "metadata": {
    "tags": []
   },
   "outputs": [
    {
     "name": "stdout",
     "output_type": "stream",
     "text": [
      "Counter({'trafficking in persons': 296, 'smuggling of migrants': 191, 'other crimes': 158, 'participation in organized criminal group': 144, 'drug offences': 131, 'trafficking in firearms': 129, 'money laundry': 106, 'cybercrime': 95})\n"
     ]
    }
   ],
   "source": [
    "counter = Counter(y)\n",
    "print(counter)"
   ]
  },
  {
   "cell_type": "markdown",
   "id": "32d85c24-3c25-4b4c-96c9-71278af73438",
   "metadata": {
    "jp-MarkdownHeadingCollapsed": true,
    "tags": []
   },
   "source": [
    "### SMOTE - balance the imbalanced dataset"
   ]
  },
  {
   "cell_type": "code",
   "execution_count": 16,
   "id": "a84f8d8f-bfbd-40c8-b95f-9c5eb9b72f08",
   "metadata": {
    "tags": []
   },
   "outputs": [
    {
     "ename": "ModuleNotFoundError",
     "evalue": "No module named 'imblearn'",
     "output_type": "error",
     "traceback": [
      "\u001b[0;31m---------------------------------------------------------------------------\u001b[0m",
      "\u001b[0;31mModuleNotFoundError\u001b[0m                       Traceback (most recent call last)",
      "Cell \u001b[0;32mIn[16], line 1\u001b[0m\n\u001b[0;32m----> 1\u001b[0m \u001b[38;5;28;01mfrom\u001b[39;00m \u001b[38;5;21;01mimblearn\u001b[39;00m\u001b[38;5;21;01m.\u001b[39;00m\u001b[38;5;21;01mover_sampling\u001b[39;00m \u001b[38;5;28;01mimport\u001b[39;00m SMOTE\n\u001b[1;32m      2\u001b[0m \u001b[38;5;28;01mfrom\u001b[39;00m \u001b[38;5;21;01mimblearn\u001b[39;00m\u001b[38;5;21;01m.\u001b[39;00m\u001b[38;5;21;01munder_sampling\u001b[39;00m \u001b[38;5;28;01mimport\u001b[39;00m RandomUnderSampler\n\u001b[1;32m      3\u001b[0m \u001b[38;5;28;01mfrom\u001b[39;00m \u001b[38;5;21;01mimblearn\u001b[39;00m\u001b[38;5;21;01m.\u001b[39;00m\u001b[38;5;21;01mpipeline\u001b[39;00m \u001b[38;5;28;01mimport\u001b[39;00m Pipeline\n",
      "\u001b[0;31mModuleNotFoundError\u001b[0m: No module named 'imblearn'"
     ]
    }
   ],
   "source": [
    "from imblearn.over_sampling import SMOTE\n",
    "from imblearn.under_sampling import RandomUnderSampler\n",
    "from imblearn.pipeline import Pipeline\n",
    "# define pipeline\n",
    "over = SMOTE(sampling_strategy=0.5)\n",
    "under = RandomUnderSampler(sampling_strategy=0.8)\n",
    "steps = [('o', over), ('u', under)]\n",
    "pipeline = Pipeline(steps=steps)\n",
    "# transform the dataset\n",
    "X, y = pipeline.fit_resample(X, y)"
   ]
  },
  {
   "cell_type": "code",
   "execution_count": 74,
   "id": "9d810a72-7399-40ac-b0c3-75ca225eae1d",
   "metadata": {},
   "outputs": [
    {
     "data": {
      "text/plain": [
       "((992,), (992, 25))"
      ]
     },
     "execution_count": 74,
     "metadata": {},
     "output_type": "execute_result"
    }
   ],
   "source": [
    "y.shape, X.shape"
   ]
  },
  {
   "cell_type": "code",
   "execution_count": 75,
   "id": "ccd6da14-880c-4586-8633-f7c15e0479d5",
   "metadata": {},
   "outputs": [
    {
     "name": "stdout",
     "output_type": "stream",
     "text": [
      "Counter({1: 551, 0: 441})\n"
     ]
    }
   ],
   "source": [
    "counter = Counter(y)\n",
    "print(counter)"
   ]
  },
  {
   "cell_type": "markdown",
   "id": "ee6c34ac-10f0-4a71-9a4b-e4c6c0602b80",
   "metadata": {
    "tags": []
   },
   "source": [
    "### categorized y"
   ]
  },
  {
   "cell_type": "code",
   "execution_count": 20,
   "id": "6d9cca5e-1d01-4c9e-ac14-cc46315d1b92",
   "metadata": {
    "tags": []
   },
   "outputs": [],
   "source": [
    "# One-hot encoding of labels\n",
    "\n",
    "from keras.utils.np_utils import to_categorical\n",
    "# y = to_categorical(y)\n",
    "\n",
    "encoded_Y, encoder = TextLabelEncoderDummy.labelencoder(y)\n",
    "dummy_y, uniques = TextLabelEncoderDummy.encoded_to_dummy(encoded_Y)"
   ]
  },
  {
   "cell_type": "code",
   "execution_count": 21,
   "id": "9dbdc351-9cf4-4661-98da-07f993cd43f9",
   "metadata": {
    "tags": []
   },
   "outputs": [
    {
     "data": {
      "text/plain": [
       "((1250,), (1250,), (1250, 8))"
      ]
     },
     "execution_count": 21,
     "metadata": {},
     "output_type": "execute_result"
    }
   ],
   "source": [
    "y.shape,encoded_Y.shape,dummy_y.shape"
   ]
  },
  {
   "cell_type": "code",
   "execution_count": 22,
   "id": "e21cc7a8-f44a-41e4-a990-2bc9354e8302",
   "metadata": {
    "tags": []
   },
   "outputs": [
    {
     "data": {
      "text/plain": [
       "(array([2, 2, 2, ..., 7, 7, 7]),\n",
       " array([[0., 0., 1., ..., 0., 0., 0.],\n",
       "        [0., 0., 1., ..., 0., 0., 0.],\n",
       "        [0., 0., 1., ..., 0., 0., 0.],\n",
       "        ...,\n",
       "        [0., 0., 0., ..., 0., 0., 1.],\n",
       "        [0., 0., 0., ..., 0., 0., 1.],\n",
       "        [0., 0., 0., ..., 0., 0., 1.]], dtype=float32))"
      ]
     },
     "execution_count": 22,
     "metadata": {},
     "output_type": "execute_result"
    }
   ],
   "source": [
    "encoded_Y,dummy_y"
   ]
  },
  {
   "cell_type": "code",
   "execution_count": 23,
   "id": "f5e4c927-2619-4e5d-9f64-33b9ac4fa9d3",
   "metadata": {
    "tags": []
   },
   "outputs": [
    {
     "data": {
      "text/plain": [
       "array([[0., 0., 1., ..., 0., 0., 0.],\n",
       "       [0., 0., 1., ..., 0., 0., 0.],\n",
       "       [0., 0., 1., ..., 0., 0., 0.],\n",
       "       ...,\n",
       "       [0., 0., 0., ..., 0., 0., 1.],\n",
       "       [0., 0., 0., ..., 0., 0., 1.],\n",
       "       [0., 0., 0., ..., 0., 0., 1.]], dtype=float32)"
      ]
     },
     "execution_count": 23,
     "metadata": {},
     "output_type": "execute_result"
    }
   ],
   "source": [
    "dummy_y"
   ]
  },
  {
   "cell_type": "code",
   "execution_count": 24,
   "id": "28a13453-14df-45a2-8160-c6b536628e29",
   "metadata": {
    "tags": []
   },
   "outputs": [
    {
     "data": {
      "text/plain": [
       "Counter({7: 296, 5: 191, 3: 158, 4: 144, 1: 131, 6: 129, 2: 106, 0: 95})"
      ]
     },
     "execution_count": 24,
     "metadata": {},
     "output_type": "execute_result"
    }
   ],
   "source": [
    "counter = Counter(itertools.chain(encoded_Y))\n",
    "counter"
   ]
  },
  {
   "cell_type": "markdown",
   "id": "da30925a-e6eb-499a-9a5a-63efa2688609",
   "metadata": {
    "tags": []
   },
   "source": [
    "### Split the dataset into training and test sets"
   ]
  },
  {
   "cell_type": "code",
   "execution_count": 25,
   "id": "60d6e7aa-8226-4834-84f7-681046ba2659",
   "metadata": {
    "tags": []
   },
   "outputs": [],
   "source": [
    "X_train, X_test, y_train, y_test = train_test_split(X, dummy_y, test_size=0.2, random_state=43)"
   ]
  },
  {
   "cell_type": "code",
   "execution_count": 26,
   "id": "0ae2f15c-cfd4-4e09-9314-dcb531523a5f",
   "metadata": {
    "tags": []
   },
   "outputs": [],
   "source": [
    "X_train, X_eval, y_train, y_eval = train_test_split(X_train, y_train, test_size=0.3, random_state=43)"
   ]
  },
  {
   "cell_type": "code",
   "execution_count": 27,
   "id": "bfb3463b-433b-4b6c-84e9-662b00902407",
   "metadata": {
    "tags": []
   },
   "outputs": [
    {
     "data": {
      "text/plain": [
       "((700, 25), (250, 25), (300, 25))"
      ]
     },
     "execution_count": 27,
     "metadata": {},
     "output_type": "execute_result"
    }
   ],
   "source": [
    "X_train.shape, X_test.shape, X_eval.shape"
   ]
  },
  {
   "cell_type": "code",
   "execution_count": 28,
   "id": "535c0786-f363-4a08-8e9a-79bdbd4f2505",
   "metadata": {
    "tags": []
   },
   "outputs": [
    {
     "data": {
      "text/plain": [
       "((700, 8), (250, 8), (300, 8))"
      ]
     },
     "execution_count": 28,
     "metadata": {},
     "output_type": "execute_result"
    }
   ],
   "source": [
    "y_train.shape, y_test.shape, y_eval.shape"
   ]
  },
  {
   "cell_type": "code",
   "execution_count": 29,
   "id": "8b5d2e16-df25-4718-b72f-569da2f47fe1",
   "metadata": {
    "tags": []
   },
   "outputs": [
    {
     "data": {
      "text/plain": [
       "Counter({0.0: 8750, 1.0: 1250})"
      ]
     },
     "execution_count": 29,
     "metadata": {},
     "output_type": "execute_result"
    }
   ],
   "source": [
    "counter = Counter(itertools.chain.from_iterable(dummy_y))\n",
    "counter"
   ]
  },
  {
   "cell_type": "markdown",
   "id": "ae2a6d88-76fe-4b0c-b1f0-21c9355377f9",
   "metadata": {},
   "source": [
    "## Modeling"
   ]
  },
  {
   "cell_type": "code",
   "execution_count": 30,
   "id": "8e21c853-420d-4250-8932-ec8b6b70ae3f",
   "metadata": {
    "tags": []
   },
   "outputs": [],
   "source": [
    "# Prepare hyperparameters of RNN\n",
    "vocab_size = len(word_index)+1\n",
    "output_dim = 32"
   ]
  },
  {
   "cell_type": "markdown",
   "id": "a3c8c76a-31de-41e3-8fcb-8fef4d89b4b2",
   "metadata": {
    "tags": []
   },
   "source": [
    "#### SRNN"
   ]
  },
  {
   "cell_type": "code",
   "execution_count": 31,
   "id": "88e297c8-b6c0-4a8e-8747-77386f6f802a",
   "metadata": {
    "tags": []
   },
   "outputs": [],
   "source": [
    "# SimpleRNN\n",
    "warnings.filterwarnings(\"ignore\")\n",
    "model = Sequential()\n",
    "model.add(Embedding(input_dim = vocab_size, output_dim = output_dim, input_length = maxlen, embeddings_constraint=maxnorm(3)))\n",
    "model.add(SimpleRNN(output_dim, return_sequences=True, kernel_constraint=maxnorm(3)))\n",
    "model.add(Dropout(0.2))\n",
    "model.add(SimpleRNN(output_dim, return_sequences=True, kernel_constraint=maxnorm(3)))\n",
    "model.add(Dropout(0.2))\n",
    "model.add(SimpleRNN(output_dim))\n",
    "model.add(Dense(8,activation='relu'))\n",
    "model.compile(loss = 'categorical_crossentropy', optimizer='adam', metrics = ['accuracy'])\n",
    "warnings.filterwarnings(\"ignore\")"
   ]
  },
  {
   "cell_type": "code",
   "execution_count": 32,
   "id": "4d73487a-25e9-4559-b81e-dc369571aaf2",
   "metadata": {
    "tags": []
   },
   "outputs": [
    {
     "name": "stdout",
     "output_type": "stream",
     "text": [
      "Model: \"sequential\"\n",
      "_________________________________________________________________\n",
      " Layer (type)                Output Shape              Param #   \n",
      "=================================================================\n",
      " embedding (Embedding)       (None, 25, 32)            360352    \n",
      "                                                                 \n",
      " simple_rnn (SimpleRNN)      (None, 25, 32)            2080      \n",
      "                                                                 \n",
      " dropout (Dropout)           (None, 25, 32)            0         \n",
      "                                                                 \n",
      " simple_rnn_1 (SimpleRNN)    (None, 25, 32)            2080      \n",
      "                                                                 \n",
      " dropout_1 (Dropout)         (None, 25, 32)            0         \n",
      "                                                                 \n",
      " simple_rnn_2 (SimpleRNN)    (None, 32)                2080      \n",
      "                                                                 \n",
      " dense (Dense)               (None, 8)                 264       \n",
      "                                                                 \n",
      "=================================================================\n",
      "Total params: 366,856\n",
      "Trainable params: 366,856\n",
      "Non-trainable params: 0\n",
      "_________________________________________________________________\n"
     ]
    }
   ],
   "source": [
    "model.summary()"
   ]
  },
  {
   "cell_type": "code",
   "execution_count": 33,
   "id": "8857889a-a7e0-4193-b888-59bc1e1976ab",
   "metadata": {
    "tags": []
   },
   "outputs": [
    {
     "name": "stdout",
     "output_type": "stream",
     "text": [
      "Epoch 1/10\n",
      "16/16 [==============================] - 4s 52ms/step - loss: 8.2623 - accuracy: 0.1268 - val_loss: 7.6787 - val_accuracy: 0.0853\n",
      "Epoch 2/10\n",
      "16/16 [==============================] - 1s 34ms/step - loss: 7.0842 - accuracy: 0.1431 - val_loss: 7.0445 - val_accuracy: 0.0758\n",
      "Epoch 3/10\n",
      "16/16 [==============================] - 0s 26ms/step - loss: 6.1811 - accuracy: 0.2556 - val_loss: 6.3481 - val_accuracy: 0.1517\n",
      "Epoch 4/10\n",
      "16/16 [==============================] - 0s 26ms/step - loss: 5.0576 - accuracy: 0.3047 - val_loss: 5.4932 - val_accuracy: 0.1564\n",
      "Epoch 5/10\n",
      "16/16 [==============================] - 0s 25ms/step - loss: 4.2041 - accuracy: 0.3333 - val_loss: 5.2558 - val_accuracy: 0.1943\n",
      "Epoch 6/10\n",
      "16/16 [==============================] - 0s 25ms/step - loss: 3.5594 - accuracy: 0.4581 - val_loss: 6.3544 - val_accuracy: 0.1754\n",
      "Epoch 7/10\n",
      "16/16 [==============================] - 0s 25ms/step - loss: 2.8983 - accuracy: 0.5378 - val_loss: 5.4424 - val_accuracy: 0.1564\n",
      "Epoch 8/10\n",
      "16/16 [==============================] - 0s 24ms/step - loss: 2.0149 - accuracy: 0.5910 - val_loss: 7.1052 - val_accuracy: 0.1564\n",
      "Epoch 9/10\n",
      "16/16 [==============================] - 0s 24ms/step - loss: 2.3461 - accuracy: 0.5808 - val_loss: 8.5972 - val_accuracy: 0.1422\n",
      "Epoch 10/10\n",
      "16/16 [==============================] - 0s 26ms/step - loss: 1.5560 - accuracy: 0.6503 - val_loss: 7.1648 - val_accuracy: 0.1517\n",
      "Accuracy: 13.00%\n",
      "Training duration(minutes): 0.12579893271128337\n"
     ]
    }
   ],
   "source": [
    "start = time.time()\n",
    "\n",
    "# Fit the model to the training set\n",
    "rnn_hist = model.fit(X_train, y_train, epochs=10, validation_split=0.3)\n",
    "# Final evaluation of the model\n",
    "rnn_scores = model.evaluate(X_eval, y_eval, verbose=0)\n",
    "print(\"Accuracy: %.2f%%\" % (rnn_scores[1]*100))\n",
    "warnings.filterwarnings(\"ignore\")\n",
    "\n",
    "end = time.time()\n",
    "total = (end-start)/60\n",
    "print('Training duration(minutes): {}'.format(total))"
   ]
  },
  {
   "cell_type": "code",
   "execution_count": 34,
   "id": "b7a55e60-951d-4c6e-82f3-669c6ad8f0d1",
   "metadata": {
    "tags": []
   },
   "outputs": [
    {
     "data": {
      "text/plain": [
       "[5.912405490875244, 0.12999999523162842]"
      ]
     },
     "execution_count": 34,
     "metadata": {},
     "output_type": "execute_result"
    }
   ],
   "source": [
    "rnn_scores"
   ]
  },
  {
   "cell_type": "code",
   "execution_count": 35,
   "id": "d8a586d7-08e2-4c63-ba2e-c50c62f555c6",
   "metadata": {
    "tags": []
   },
   "outputs": [],
   "source": [
    "# Save the LSTM model\n",
    "model.save('srnn.h5')"
   ]
  },
  {
   "cell_type": "markdown",
   "id": "78d45237-08f1-4204-80d2-642410884cca",
   "metadata": {
    "tags": []
   },
   "source": [
    "#### LSTM"
   ]
  },
  {
   "cell_type": "code",
   "execution_count": 36,
   "id": "df3915bc-cd52-4664-9a8b-3ca3cfbe6261",
   "metadata": {
    "tags": []
   },
   "outputs": [
    {
     "name": "stderr",
     "output_type": "stream",
     "text": [
      "2023-05-11 12:07:36.158531: I tensorflow/core/common_runtime/executor.cc:1197] [/device:CPU:0] (DEBUG INFO) Executor start aborting (this does not indicate an error and you can ignore this message): INVALID_ARGUMENT: You must feed a value for placeholder tensor 'gradients/split_2_grad/concat/split_2/split_dim' with dtype int32\n",
      "\t [[{{node gradients/split_2_grad/concat/split_2/split_dim}}]]\n",
      "2023-05-11 12:07:36.161437: I tensorflow/core/common_runtime/executor.cc:1197] [/device:CPU:0] (DEBUG INFO) Executor start aborting (this does not indicate an error and you can ignore this message): INVALID_ARGUMENT: You must feed a value for placeholder tensor 'gradients/split_grad/concat/split/split_dim' with dtype int32\n",
      "\t [[{{node gradients/split_grad/concat/split/split_dim}}]]\n",
      "2023-05-11 12:07:36.163383: I tensorflow/core/common_runtime/executor.cc:1197] [/device:CPU:0] (DEBUG INFO) Executor start aborting (this does not indicate an error and you can ignore this message): INVALID_ARGUMENT: You must feed a value for placeholder tensor 'gradients/split_1_grad/concat/split_1/split_dim' with dtype int32\n",
      "\t [[{{node gradients/split_1_grad/concat/split_1/split_dim}}]]\n",
      "2023-05-11 12:07:36.374684: I tensorflow/core/common_runtime/executor.cc:1197] [/device:CPU:0] (DEBUG INFO) Executor start aborting (this does not indicate an error and you can ignore this message): INVALID_ARGUMENT: You must feed a value for placeholder tensor 'gradients/split_2_grad/concat/split_2/split_dim' with dtype int32\n",
      "\t [[{{node gradients/split_2_grad/concat/split_2/split_dim}}]]\n",
      "2023-05-11 12:07:36.377036: I tensorflow/core/common_runtime/executor.cc:1197] [/device:CPU:0] (DEBUG INFO) Executor start aborting (this does not indicate an error and you can ignore this message): INVALID_ARGUMENT: You must feed a value for placeholder tensor 'gradients/split_grad/concat/split/split_dim' with dtype int32\n",
      "\t [[{{node gradients/split_grad/concat/split/split_dim}}]]\n",
      "2023-05-11 12:07:36.379029: I tensorflow/core/common_runtime/executor.cc:1197] [/device:CPU:0] (DEBUG INFO) Executor start aborting (this does not indicate an error and you can ignore this message): INVALID_ARGUMENT: You must feed a value for placeholder tensor 'gradients/split_1_grad/concat/split_1/split_dim' with dtype int32\n",
      "\t [[{{node gradients/split_1_grad/concat/split_1/split_dim}}]]\n",
      "2023-05-11 12:07:36.574265: I tensorflow/core/common_runtime/executor.cc:1197] [/device:CPU:0] (DEBUG INFO) Executor start aborting (this does not indicate an error and you can ignore this message): INVALID_ARGUMENT: You must feed a value for placeholder tensor 'gradients/split_2_grad/concat/split_2/split_dim' with dtype int32\n",
      "\t [[{{node gradients/split_2_grad/concat/split_2/split_dim}}]]\n",
      "2023-05-11 12:07:36.575659: I tensorflow/core/common_runtime/executor.cc:1197] [/device:CPU:0] (DEBUG INFO) Executor start aborting (this does not indicate an error and you can ignore this message): INVALID_ARGUMENT: You must feed a value for placeholder tensor 'gradients/split_grad/concat/split/split_dim' with dtype int32\n",
      "\t [[{{node gradients/split_grad/concat/split/split_dim}}]]\n",
      "2023-05-11 12:07:36.577249: I tensorflow/core/common_runtime/executor.cc:1197] [/device:CPU:0] (DEBUG INFO) Executor start aborting (this does not indicate an error and you can ignore this message): INVALID_ARGUMENT: You must feed a value for placeholder tensor 'gradients/split_1_grad/concat/split_1/split_dim' with dtype int32\n",
      "\t [[{{node gradients/split_1_grad/concat/split_1/split_dim}}]]\n"
     ]
    }
   ],
   "source": [
    "# LSTM\n",
    "model = Sequential()\n",
    "model.add(Embedding(input_dim = vocab_size, output_dim = output_dim, input_length = maxlen, embeddings_constraint=maxnorm(3)))\n",
    "model.add(LSTM(20, return_sequences=True, kernel_constraint=maxnorm(3)))\n",
    "model.add(Dropout(0.4))\n",
    "model.add(LSTM(10, return_sequences=True, kernel_constraint=maxnorm(3)))\n",
    "model.add(Dropout(0.4))\n",
    "model.add(LSTM(5, kernel_constraint=maxnorm(3)))\n",
    "model.add(Dense(8,activation='relu'))\n",
    "model.compile(loss = 'categorical_crossentropy', optimizer='adam', metrics = ['accuracy'])\n",
    "warnings.filterwarnings(\"ignore\")"
   ]
  },
  {
   "cell_type": "code",
   "execution_count": 37,
   "id": "f2337d73-db08-493c-b29a-1b43da7a1685",
   "metadata": {
    "tags": []
   },
   "outputs": [
    {
     "name": "stdout",
     "output_type": "stream",
     "text": [
      "Model: \"sequential_1\"\n",
      "_________________________________________________________________\n",
      " Layer (type)                Output Shape              Param #   \n",
      "=================================================================\n",
      " embedding_1 (Embedding)     (None, 25, 32)            360352    \n",
      "                                                                 \n",
      " lstm (LSTM)                 (None, 25, 20)            4240      \n",
      "                                                                 \n",
      " dropout_2 (Dropout)         (None, 25, 20)            0         \n",
      "                                                                 \n",
      " lstm_1 (LSTM)               (None, 25, 10)            1240      \n",
      "                                                                 \n",
      " dropout_3 (Dropout)         (None, 25, 10)            0         \n",
      "                                                                 \n",
      " lstm_2 (LSTM)               (None, 5)                 320       \n",
      "                                                                 \n",
      " dense_1 (Dense)             (None, 8)                 48        \n",
      "                                                                 \n",
      "=================================================================\n",
      "Total params: 366,200\n",
      "Trainable params: 366,200\n",
      "Non-trainable params: 0\n",
      "_________________________________________________________________\n"
     ]
    }
   ],
   "source": [
    "# save model\n",
    "model.summary()"
   ]
  },
  {
   "cell_type": "code",
   "execution_count": 39,
   "id": "6d3f1368-0476-4107-a99a-2e54350622d8",
   "metadata": {
    "tags": []
   },
   "outputs": [
    {
     "name": "stdout",
     "output_type": "stream",
     "text": [
      "Epoch 1/10\n"
     ]
    },
    {
     "name": "stderr",
     "output_type": "stream",
     "text": [
      "2023-05-11 12:07:37.022165: I tensorflow/core/common_runtime/executor.cc:1197] [/device:CPU:0] (DEBUG INFO) Executor start aborting (this does not indicate an error and you can ignore this message): INVALID_ARGUMENT: You must feed a value for placeholder tensor 'gradients/split_2_grad/concat/split_2/split_dim' with dtype int32\n",
      "\t [[{{node gradients/split_2_grad/concat/split_2/split_dim}}]]\n",
      "2023-05-11 12:07:37.024132: I tensorflow/core/common_runtime/executor.cc:1197] [/device:CPU:0] (DEBUG INFO) Executor start aborting (this does not indicate an error and you can ignore this message): INVALID_ARGUMENT: You must feed a value for placeholder tensor 'gradients/split_grad/concat/split/split_dim' with dtype int32\n",
      "\t [[{{node gradients/split_grad/concat/split/split_dim}}]]\n",
      "2023-05-11 12:07:37.025841: I tensorflow/core/common_runtime/executor.cc:1197] [/device:CPU:0] (DEBUG INFO) Executor start aborting (this does not indicate an error and you can ignore this message): INVALID_ARGUMENT: You must feed a value for placeholder tensor 'gradients/split_1_grad/concat/split_1/split_dim' with dtype int32\n",
      "\t [[{{node gradients/split_1_grad/concat/split_1/split_dim}}]]\n",
      "2023-05-11 12:07:37.265512: I tensorflow/core/common_runtime/executor.cc:1197] [/device:CPU:0] (DEBUG INFO) Executor start aborting (this does not indicate an error and you can ignore this message): INVALID_ARGUMENT: You must feed a value for placeholder tensor 'gradients/split_2_grad/concat/split_2/split_dim' with dtype int32\n",
      "\t [[{{node gradients/split_2_grad/concat/split_2/split_dim}}]]\n",
      "2023-05-11 12:07:37.267968: I tensorflow/core/common_runtime/executor.cc:1197] [/device:CPU:0] (DEBUG INFO) Executor start aborting (this does not indicate an error and you can ignore this message): INVALID_ARGUMENT: You must feed a value for placeholder tensor 'gradients/split_grad/concat/split/split_dim' with dtype int32\n",
      "\t [[{{node gradients/split_grad/concat/split/split_dim}}]]\n",
      "2023-05-11 12:07:37.269822: I tensorflow/core/common_runtime/executor.cc:1197] [/device:CPU:0] (DEBUG INFO) Executor start aborting (this does not indicate an error and you can ignore this message): INVALID_ARGUMENT: You must feed a value for placeholder tensor 'gradients/split_1_grad/concat/split_1/split_dim' with dtype int32\n",
      "\t [[{{node gradients/split_1_grad/concat/split_1/split_dim}}]]\n",
      "2023-05-11 12:07:37.477372: I tensorflow/core/common_runtime/executor.cc:1197] [/device:CPU:0] (DEBUG INFO) Executor start aborting (this does not indicate an error and you can ignore this message): INVALID_ARGUMENT: You must feed a value for placeholder tensor 'gradients/split_2_grad/concat/split_2/split_dim' with dtype int32\n",
      "\t [[{{node gradients/split_2_grad/concat/split_2/split_dim}}]]\n",
      "2023-05-11 12:07:37.480003: I tensorflow/core/common_runtime/executor.cc:1197] [/device:CPU:0] (DEBUG INFO) Executor start aborting (this does not indicate an error and you can ignore this message): INVALID_ARGUMENT: You must feed a value for placeholder tensor 'gradients/split_grad/concat/split/split_dim' with dtype int32\n",
      "\t [[{{node gradients/split_grad/concat/split/split_dim}}]]\n",
      "2023-05-11 12:07:37.481676: I tensorflow/core/common_runtime/executor.cc:1197] [/device:CPU:0] (DEBUG INFO) Executor start aborting (this does not indicate an error and you can ignore this message): INVALID_ARGUMENT: You must feed a value for placeholder tensor 'gradients/split_1_grad/concat/split_1/split_dim' with dtype int32\n",
      "\t [[{{node gradients/split_1_grad/concat/split_1/split_dim}}]]\n",
      "2023-05-11 12:07:38.693310: I tensorflow/core/common_runtime/executor.cc:1197] [/device:CPU:0] (DEBUG INFO) Executor start aborting (this does not indicate an error and you can ignore this message): INVALID_ARGUMENT: You must feed a value for placeholder tensor 'gradients/split_2_grad/concat/split_2/split_dim' with dtype int32\n",
      "\t [[{{node gradients/split_2_grad/concat/split_2/split_dim}}]]\n",
      "2023-05-11 12:07:38.695123: I tensorflow/core/common_runtime/executor.cc:1197] [/device:CPU:0] (DEBUG INFO) Executor start aborting (this does not indicate an error and you can ignore this message): INVALID_ARGUMENT: You must feed a value for placeholder tensor 'gradients/split_grad/concat/split/split_dim' with dtype int32\n",
      "\t [[{{node gradients/split_grad/concat/split/split_dim}}]]\n",
      "2023-05-11 12:07:38.696648: I tensorflow/core/common_runtime/executor.cc:1197] [/device:CPU:0] (DEBUG INFO) Executor start aborting (this does not indicate an error and you can ignore this message): INVALID_ARGUMENT: You must feed a value for placeholder tensor 'gradients/split_1_grad/concat/split_1/split_dim' with dtype int32\n",
      "\t [[{{node gradients/split_1_grad/concat/split_1/split_dim}}]]\n",
      "2023-05-11 12:07:38.953770: I tensorflow/core/common_runtime/executor.cc:1197] [/device:CPU:0] (DEBUG INFO) Executor start aborting (this does not indicate an error and you can ignore this message): INVALID_ARGUMENT: You must feed a value for placeholder tensor 'gradients/split_2_grad/concat/split_2/split_dim' with dtype int32\n",
      "\t [[{{node gradients/split_2_grad/concat/split_2/split_dim}}]]\n",
      "2023-05-11 12:07:38.955614: I tensorflow/core/common_runtime/executor.cc:1197] [/device:CPU:0] (DEBUG INFO) Executor start aborting (this does not indicate an error and you can ignore this message): INVALID_ARGUMENT: You must feed a value for placeholder tensor 'gradients/split_grad/concat/split/split_dim' with dtype int32\n",
      "\t [[{{node gradients/split_grad/concat/split/split_dim}}]]\n",
      "2023-05-11 12:07:38.957008: I tensorflow/core/common_runtime/executor.cc:1197] [/device:CPU:0] (DEBUG INFO) Executor start aborting (this does not indicate an error and you can ignore this message): INVALID_ARGUMENT: You must feed a value for placeholder tensor 'gradients/split_1_grad/concat/split_1/split_dim' with dtype int32\n",
      "\t [[{{node gradients/split_1_grad/concat/split_1/split_dim}}]]\n",
      "2023-05-11 12:07:39.226309: I tensorflow/core/common_runtime/executor.cc:1197] [/device:CPU:0] (DEBUG INFO) Executor start aborting (this does not indicate an error and you can ignore this message): INVALID_ARGUMENT: You must feed a value for placeholder tensor 'gradients/split_2_grad/concat/split_2/split_dim' with dtype int32\n",
      "\t [[{{node gradients/split_2_grad/concat/split_2/split_dim}}]]\n",
      "2023-05-11 12:07:39.229140: I tensorflow/core/common_runtime/executor.cc:1197] [/device:CPU:0] (DEBUG INFO) Executor start aborting (this does not indicate an error and you can ignore this message): INVALID_ARGUMENT: You must feed a value for placeholder tensor 'gradients/split_grad/concat/split/split_dim' with dtype int32\n",
      "\t [[{{node gradients/split_grad/concat/split/split_dim}}]]\n",
      "2023-05-11 12:07:39.231148: I tensorflow/core/common_runtime/executor.cc:1197] [/device:CPU:0] (DEBUG INFO) Executor start aborting (this does not indicate an error and you can ignore this message): INVALID_ARGUMENT: You must feed a value for placeholder tensor 'gradients/split_1_grad/concat/split_1/split_dim' with dtype int32\n",
      "\t [[{{node gradients/split_1_grad/concat/split_1/split_dim}}]]\n"
     ]
    },
    {
     "name": "stdout",
     "output_type": "stream",
     "text": [
      "15/16 [===========================>..] - ETA: 0s - loss: 8.2860 - accuracy: 0.2062"
     ]
    },
    {
     "name": "stderr",
     "output_type": "stream",
     "text": [
      "2023-05-11 12:07:42.586953: I tensorflow/core/common_runtime/executor.cc:1197] [/device:CPU:0] (DEBUG INFO) Executor start aborting (this does not indicate an error and you can ignore this message): INVALID_ARGUMENT: You must feed a value for placeholder tensor 'gradients/split_2_grad/concat/split_2/split_dim' with dtype int32\n",
      "\t [[{{node gradients/split_2_grad/concat/split_2/split_dim}}]]\n",
      "2023-05-11 12:07:42.588628: I tensorflow/core/common_runtime/executor.cc:1197] [/device:CPU:0] (DEBUG INFO) Executor start aborting (this does not indicate an error and you can ignore this message): INVALID_ARGUMENT: You must feed a value for placeholder tensor 'gradients/split_grad/concat/split/split_dim' with dtype int32\n",
      "\t [[{{node gradients/split_grad/concat/split/split_dim}}]]\n",
      "2023-05-11 12:07:42.590189: I tensorflow/core/common_runtime/executor.cc:1197] [/device:CPU:0] (DEBUG INFO) Executor start aborting (this does not indicate an error and you can ignore this message): INVALID_ARGUMENT: You must feed a value for placeholder tensor 'gradients/split_1_grad/concat/split_1/split_dim' with dtype int32\n",
      "\t [[{{node gradients/split_1_grad/concat/split_1/split_dim}}]]\n",
      "2023-05-11 12:07:42.782741: I tensorflow/core/common_runtime/executor.cc:1197] [/device:CPU:0] (DEBUG INFO) Executor start aborting (this does not indicate an error and you can ignore this message): INVALID_ARGUMENT: You must feed a value for placeholder tensor 'gradients/split_2_grad/concat/split_2/split_dim' with dtype int32\n",
      "\t [[{{node gradients/split_2_grad/concat/split_2/split_dim}}]]\n",
      "2023-05-11 12:07:42.784047: I tensorflow/core/common_runtime/executor.cc:1197] [/device:CPU:0] (DEBUG INFO) Executor start aborting (this does not indicate an error and you can ignore this message): INVALID_ARGUMENT: You must feed a value for placeholder tensor 'gradients/split_grad/concat/split/split_dim' with dtype int32\n",
      "\t [[{{node gradients/split_grad/concat/split/split_dim}}]]\n",
      "2023-05-11 12:07:42.785680: I tensorflow/core/common_runtime/executor.cc:1197] [/device:CPU:0] (DEBUG INFO) Executor start aborting (this does not indicate an error and you can ignore this message): INVALID_ARGUMENT: You must feed a value for placeholder tensor 'gradients/split_1_grad/concat/split_1/split_dim' with dtype int32\n",
      "\t [[{{node gradients/split_1_grad/concat/split_1/split_dim}}]]\n",
      "2023-05-11 12:07:43.007865: I tensorflow/core/common_runtime/executor.cc:1197] [/device:CPU:0] (DEBUG INFO) Executor start aborting (this does not indicate an error and you can ignore this message): INVALID_ARGUMENT: You must feed a value for placeholder tensor 'gradients/split_2_grad/concat/split_2/split_dim' with dtype int32\n",
      "\t [[{{node gradients/split_2_grad/concat/split_2/split_dim}}]]\n",
      "2023-05-11 12:07:43.009462: I tensorflow/core/common_runtime/executor.cc:1197] [/device:CPU:0] (DEBUG INFO) Executor start aborting (this does not indicate an error and you can ignore this message): INVALID_ARGUMENT: You must feed a value for placeholder tensor 'gradients/split_grad/concat/split/split_dim' with dtype int32\n",
      "\t [[{{node gradients/split_grad/concat/split/split_dim}}]]\n",
      "2023-05-11 12:07:43.010692: I tensorflow/core/common_runtime/executor.cc:1197] [/device:CPU:0] (DEBUG INFO) Executor start aborting (this does not indicate an error and you can ignore this message): INVALID_ARGUMENT: You must feed a value for placeholder tensor 'gradients/split_1_grad/concat/split_1/split_dim' with dtype int32\n",
      "\t [[{{node gradients/split_1_grad/concat/split_1/split_dim}}]]\n"
     ]
    },
    {
     "name": "stdout",
     "output_type": "stream",
     "text": [
      "16/16 [==============================] - 7s 108ms/step - loss: 8.2504 - accuracy: 0.2045 - val_loss: 5.7897 - val_accuracy: 0.1848\n",
      "Epoch 2/10\n",
      "16/16 [==============================] - 1s 41ms/step - loss: 5.7775 - accuracy: 0.2127 - val_loss: 5.4731 - val_accuracy: 0.1754\n",
      "Epoch 3/10\n",
      "16/16 [==============================] - 1s 40ms/step - loss: 5.6537 - accuracy: 0.3252 - val_loss: 5.4124 - val_accuracy: 0.3365\n",
      "Epoch 4/10\n",
      "16/16 [==============================] - 1s 39ms/step - loss: 5.5474 - accuracy: 0.3967 - val_loss: 5.4992 - val_accuracy: 0.3460\n",
      "Epoch 5/10\n",
      "16/16 [==============================] - 1s 39ms/step - loss: 5.4163 - accuracy: 0.4131 - val_loss: 5.6343 - val_accuracy: 0.3460\n",
      "Epoch 6/10\n",
      "16/16 [==============================] - 1s 42ms/step - loss: 5.3391 - accuracy: 0.4397 - val_loss: 5.8575 - val_accuracy: 0.3460\n",
      "Epoch 7/10\n",
      "16/16 [==============================] - 1s 38ms/step - loss: 5.2536 - accuracy: 0.4397 - val_loss: 5.9677 - val_accuracy: 0.3555\n",
      "Epoch 8/10\n",
      "16/16 [==============================] - 1s 38ms/step - loss: 5.2234 - accuracy: 0.4888 - val_loss: 6.3499 - val_accuracy: 0.3223\n",
      "Epoch 9/10\n",
      "16/16 [==============================] - 1s 39ms/step - loss: 5.1731 - accuracy: 0.4928 - val_loss: 7.0465 - val_accuracy: 0.3223\n",
      "Epoch 10/10\n",
      "16/16 [==============================] - 1s 50ms/step - loss: 5.1610 - accuracy: 0.4969 - val_loss: 7.3209 - val_accuracy: 0.3175\n",
      "Accuracy: 35.67%\n",
      "Training duration(minutes): 0.2123028039932251\n"
     ]
    }
   ],
   "source": [
    "start = time.time()\n",
    "# Fit the model to the training set\n",
    "lstm_hist = model.fit(X_train, y_train, epochs=10, validation_split=0.3)\n",
    "# Final evaluation of the model\n",
    "lstm_scores = model.evaluate(X_eval, y_eval, verbose=0)\n",
    "print(\"Accuracy: %.2f%%\" % (lstm_scores[1]*100))\n",
    "warnings.filterwarnings(\"ignore\")\n",
    "end = time.time()\n",
    "total = (end-start)/60\n",
    "print('Training duration(minutes): {}'.format(total))"
   ]
  },
  {
   "cell_type": "code",
   "execution_count": 62,
   "id": "2c62d622-02bb-447c-9c50-ba8f9f100567",
   "metadata": {
    "tags": []
   },
   "outputs": [],
   "source": [
    "# Save the LSTM model\n",
    "model.save('lstm.h5')"
   ]
  },
  {
   "cell_type": "code",
   "execution_count": 40,
   "id": "bb77bccc-0a6a-4966-9c6e-4655b1400b96",
   "metadata": {
    "tags": []
   },
   "outputs": [
    {
     "data": {
      "text/plain": [
       "[7.348002910614014, 0.3566666543483734]"
      ]
     },
     "execution_count": 40,
     "metadata": {},
     "output_type": "execute_result"
    }
   ],
   "source": [
    "lstm_scores"
   ]
  },
  {
   "cell_type": "code",
   "execution_count": 41,
   "id": "716f3ef8-1cfc-4094-8c49-461d1cc52055",
   "metadata": {
    "tags": []
   },
   "outputs": [],
   "source": [
    "# Accuracy\n",
    "# maxlen = 100\n",
    "srnn_acc = 60.38\n",
    "lstm_acc = 67.92\n",
    "# maxlen = 50\n",
    "srnn_acc = 53.46\n",
    "lstm_acc = 70.44\n",
    "# maxlen = 25\n",
    "srnn_acc = 60.38\n",
    "lstm_acc = 71.70"
   ]
  },
  {
   "cell_type": "markdown",
   "id": "5c597aa2-9c0e-46e6-b1fd-20425896b348",
   "metadata": {},
   "source": [
    "### Model Evaluation"
   ]
  },
  {
   "cell_type": "code",
   "execution_count": 42,
   "id": "0be2cc8f-b334-48e7-89fc-cfc39e4655a3",
   "metadata": {
    "tags": []
   },
   "outputs": [],
   "source": [
    "# rnn_hist.history"
   ]
  },
  {
   "cell_type": "code",
   "execution_count": 43,
   "id": "07c52469-2d1d-4c9c-8a2d-093c62aa96c6",
   "metadata": {
    "tags": []
   },
   "outputs": [
    {
     "data": {
      "image/png": "[encoded data removed]",
      "text/plain": [
       "<Figure size 640x480 with 1 Axes>"
      ]
     },
     "metadata": {},
     "output_type": "display_data"
    }
   ],
   "source": [
    "import matplotlib.pyplot as plt\n",
    "acc = rnn_hist.history['accuracy']\n",
    "val_acc = rnn_hist.history['val_accuracy']\n",
    "loss = rnn_hist.history['loss']\n",
    "val_loss = rnn_hist.history['val_loss']\n",
    "epochs = range(1, len(acc)+1)\n",
    "_ = plt.plot(epochs, acc, 'r', label='Training acc')\n",
    "_ = plt.plot(epochs, val_acc, 'b', label='Validation acc')\n",
    "_ = plt.title('SimpleRNN: Training and validation accuracy')\n",
    "_ = plt.xlabel('Epoch')\n",
    "_ = plt.ylabel('Accuracy')\n",
    "_ = plt.legend(loc='best')\n",
    "plt.show()"
   ]
  },
  {
   "cell_type": "code",
   "execution_count": 44,
   "id": "4dc17c44-87e7-41f6-a5ff-8439e91805dc",
   "metadata": {
    "tags": []
   },
   "outputs": [
    {
     "data": {
      "image/png": "[encoded data removed]",
      "text/plain": [
       "<Figure size 640x480 with 1 Axes>"
      ]
     },
     "metadata": {},
     "output_type": "display_data"
    }
   ],
   "source": [
    "_ = plt.plot(epochs, loss, 'r', label='Training loss')\n",
    "_ = plt.plot(epochs, val_loss, 'b', label='Validation loss')\n",
    "_ = plt.title('SimpleRNN: Training and validation loss')\n",
    "_ = plt.xlabel('Epoch')\n",
    "_ = plt.ylabel('Loss')\n",
    "_ = plt.legend(loc='best')\n",
    "plt.show()"
   ]
  },
  {
   "cell_type": "markdown",
   "id": "fabeea11-41c7-4e62-836b-c5144cbca8fa",
   "metadata": {
    "tags": []
   },
   "source": [
    "#### LSTM Result"
   ]
  },
  {
   "cell_type": "code",
   "execution_count": 45,
   "id": "33f52465-f902-4fb7-855b-d93d7661d317",
   "metadata": {
    "tags": []
   },
   "outputs": [
    {
     "data": {
      "image/png": "[encoded data removed]",
      "text/plain": [
       "<Figure size 640x480 with 1 Axes>"
      ]
     },
     "metadata": {},
     "output_type": "display_data"
    }
   ],
   "source": [
    "import matplotlib.pyplot as plt\n",
    "acc = lstm_hist.history['accuracy']\n",
    "val_acc = lstm_hist.history['val_accuracy']\n",
    "loss = lstm_hist.history['loss']\n",
    "val_loss = lstm_hist.history['val_loss']\n",
    "epochs = range(1, len(acc)+1)\n",
    "_ = plt.plot(epochs, acc, 'r', label='Training acc')\n",
    "_ = plt.plot(epochs, val_acc, 'b', label='Validation acc')\n",
    "_ = plt.title('LSTM: Training and validation accuracy')\n",
    "_ = plt.xlabel('Epoch')\n",
    "_ = plt.ylabel('Accuracy')\n",
    "_ = plt.legend(loc='best')\n",
    "plt.show()"
   ]
  },
  {
   "cell_type": "code",
   "execution_count": 46,
   "id": "b782286c-223e-43c4-a537-1a7da6f3c366",
   "metadata": {
    "tags": []
   },
   "outputs": [
    {
     "data": {
      "image/png": "[encoded data removed]",
      "text/plain": [
       "<Figure size 640x480 with 1 Axes>"
      ]
     },
     "metadata": {},
     "output_type": "display_data"
    }
   ],
   "source": [
    "_ = plt.plot(epochs, loss, 'r', label='Training loss')\n",
    "_ = plt.plot(epochs, val_loss, 'b', label='Validation loss')\n",
    "_ = plt.title('LSTM: Training and validation loss')\n",
    "_ = plt.xlabel('Epoch')\n",
    "_ = plt.ylabel('Loss')\n",
    "_ = plt.legend(loc='best')\n",
    "plt.show()"
   ]
  },
  {
   "cell_type": "code",
   "execution_count": null,
   "id": "bb954c1b-6152-4237-bbc3-a0a3e7a43b2b",
   "metadata": {},
   "outputs": [],
   "source": []
  },
  {
   "cell_type": "markdown",
   "id": "2ab01cf3-655a-4b1f-82eb-5fac02fdb18e",
   "metadata": {},
   "source": [
    "### Predict with the LSTM model"
   ]
  },
  {
   "cell_type": "code",
   "execution_count": 63,
   "id": "a80fd1b8-cceb-4411-a1b9-ca98b7651c90",
   "metadata": {
    "tags": []
   },
   "outputs": [
    {
     "name": "stderr",
     "output_type": "stream",
     "text": [
      "2023-05-11 13:54:53.744814: I tensorflow/core/common_runtime/executor.cc:1197] [/device:CPU:0] (DEBUG INFO) Executor start aborting (this does not indicate an error and you can ignore this message): INVALID_ARGUMENT: You must feed a value for placeholder tensor 'gradients/split_2_grad/concat/split_2/split_dim' with dtype int32\n",
      "\t [[{{node gradients/split_2_grad/concat/split_2/split_dim}}]]\n",
      "2023-05-11 13:54:53.746431: I tensorflow/core/common_runtime/executor.cc:1197] [/device:CPU:0] (DEBUG INFO) Executor start aborting (this does not indicate an error and you can ignore this message): INVALID_ARGUMENT: You must feed a value for placeholder tensor 'gradients/split_grad/concat/split/split_dim' with dtype int32\n",
      "\t [[{{node gradients/split_grad/concat/split/split_dim}}]]\n",
      "2023-05-11 13:54:53.747642: I tensorflow/core/common_runtime/executor.cc:1197] [/device:CPU:0] (DEBUG INFO) Executor start aborting (this does not indicate an error and you can ignore this message): INVALID_ARGUMENT: You must feed a value for placeholder tensor 'gradients/split_1_grad/concat/split_1/split_dim' with dtype int32\n",
      "\t [[{{node gradients/split_1_grad/concat/split_1/split_dim}}]]\n",
      "2023-05-11 13:54:53.953622: I tensorflow/core/common_runtime/executor.cc:1197] [/device:CPU:0] (DEBUG INFO) Executor start aborting (this does not indicate an error and you can ignore this message): INVALID_ARGUMENT: You must feed a value for placeholder tensor 'gradients/split_2_grad/concat/split_2/split_dim' with dtype int32\n",
      "\t [[{{node gradients/split_2_grad/concat/split_2/split_dim}}]]\n",
      "2023-05-11 13:54:53.955979: I tensorflow/core/common_runtime/executor.cc:1197] [/device:CPU:0] (DEBUG INFO) Executor start aborting (this does not indicate an error and you can ignore this message): INVALID_ARGUMENT: You must feed a value for placeholder tensor 'gradients/split_grad/concat/split/split_dim' with dtype int32\n",
      "\t [[{{node gradients/split_grad/concat/split/split_dim}}]]\n",
      "2023-05-11 13:54:53.957993: I tensorflow/core/common_runtime/executor.cc:1197] [/device:CPU:0] (DEBUG INFO) Executor start aborting (this does not indicate an error and you can ignore this message): INVALID_ARGUMENT: You must feed a value for placeholder tensor 'gradients/split_1_grad/concat/split_1/split_dim' with dtype int32\n",
      "\t [[{{node gradients/split_1_grad/concat/split_1/split_dim}}]]\n",
      "2023-05-11 13:54:54.197729: I tensorflow/core/common_runtime/executor.cc:1197] [/device:CPU:0] (DEBUG INFO) Executor start aborting (this does not indicate an error and you can ignore this message): INVALID_ARGUMENT: You must feed a value for placeholder tensor 'gradients/split_2_grad/concat/split_2/split_dim' with dtype int32\n",
      "\t [[{{node gradients/split_2_grad/concat/split_2/split_dim}}]]\n",
      "2023-05-11 13:54:54.199414: I tensorflow/core/common_runtime/executor.cc:1197] [/device:CPU:0] (DEBUG INFO) Executor start aborting (this does not indicate an error and you can ignore this message): INVALID_ARGUMENT: You must feed a value for placeholder tensor 'gradients/split_grad/concat/split/split_dim' with dtype int32\n",
      "\t [[{{node gradients/split_grad/concat/split/split_dim}}]]\n",
      "2023-05-11 13:54:54.200768: I tensorflow/core/common_runtime/executor.cc:1197] [/device:CPU:0] (DEBUG INFO) Executor start aborting (this does not indicate an error and you can ignore this message): INVALID_ARGUMENT: You must feed a value for placeholder tensor 'gradients/split_1_grad/concat/split_1/split_dim' with dtype int32\n",
      "\t [[{{node gradients/split_1_grad/concat/split_1/split_dim}}]]\n"
     ]
    }
   ],
   "source": [
    "from keras.models import load_model\n",
    "lstm = load_model('lstm.h5')\n",
    "\n",
    "warnings.filterwarnings(\"ignore\", category=FutureWarning)"
   ]
  },
  {
   "cell_type": "code",
   "execution_count": 64,
   "id": "1ecb1767-821a-44da-9703-59ab6e1d63c8",
   "metadata": {
    "tags": []
   },
   "outputs": [
    {
     "name": "stdout",
     "output_type": "stream",
     "text": [
      "Model: \"sequential_1\"\n",
      "_________________________________________________________________\n",
      " Layer (type)                Output Shape              Param #   \n",
      "=================================================================\n",
      " embedding_1 (Embedding)     (None, 25, 32)            360352    \n",
      "                                                                 \n",
      " lstm (LSTM)                 (None, 25, 20)            4240      \n",
      "                                                                 \n",
      " dropout_2 (Dropout)         (None, 25, 20)            0         \n",
      "                                                                 \n",
      " lstm_1 (LSTM)               (None, 25, 10)            1240      \n",
      "                                                                 \n",
      " dropout_3 (Dropout)         (None, 25, 10)            0         \n",
      "                                                                 \n",
      " lstm_2 (LSTM)               (None, 5)                 320       \n",
      "                                                                 \n",
      " dense_1 (Dense)             (None, 8)                 48        \n",
      "                                                                 \n",
      "=================================================================\n",
      "Total params: 366,200\n",
      "Trainable params: 366,200\n",
      "Non-trainable params: 0\n",
      "_________________________________________________________________\n"
     ]
    }
   ],
   "source": [
    "lstm.summary()"
   ]
  },
  {
   "cell_type": "code",
   "execution_count": 65,
   "id": "d403b15e-856f-4493-8471-47238b55d254",
   "metadata": {
    "tags": []
   },
   "outputs": [
    {
     "data": {
      "text/plain": [
       "Counter({0.0: 1750, 1.0: 250})"
      ]
     },
     "execution_count": 65,
     "metadata": {},
     "output_type": "execute_result"
    }
   ],
   "source": [
    "# list(itertools.chain.from_iterable(X_test))\n",
    "Counter(list(itertools.chain.from_iterable(y_test)))"
   ]
  },
  {
   "cell_type": "code",
   "execution_count": 66,
   "id": "df064da1-ca63-4790-bee9-166b5ad54776",
   "metadata": {
    "tags": []
   },
   "outputs": [
    {
     "name": "stderr",
     "output_type": "stream",
     "text": [
      "2023-05-11 13:54:56.091745: I tensorflow/core/common_runtime/executor.cc:1197] [/device:CPU:0] (DEBUG INFO) Executor start aborting (this does not indicate an error and you can ignore this message): INVALID_ARGUMENT: You must feed a value for placeholder tensor 'gradients/split_2_grad/concat/split_2/split_dim' with dtype int32\n",
      "\t [[{{node gradients/split_2_grad/concat/split_2/split_dim}}]]\n",
      "2023-05-11 13:54:56.093925: I tensorflow/core/common_runtime/executor.cc:1197] [/device:CPU:0] (DEBUG INFO) Executor start aborting (this does not indicate an error and you can ignore this message): INVALID_ARGUMENT: You must feed a value for placeholder tensor 'gradients/split_grad/concat/split/split_dim' with dtype int32\n",
      "\t [[{{node gradients/split_grad/concat/split/split_dim}}]]\n",
      "2023-05-11 13:54:56.095142: I tensorflow/core/common_runtime/executor.cc:1197] [/device:CPU:0] (DEBUG INFO) Executor start aborting (this does not indicate an error and you can ignore this message): INVALID_ARGUMENT: You must feed a value for placeholder tensor 'gradients/split_1_grad/concat/split_1/split_dim' with dtype int32\n",
      "\t [[{{node gradients/split_1_grad/concat/split_1/split_dim}}]]\n",
      "2023-05-11 13:54:56.282797: I tensorflow/core/common_runtime/executor.cc:1197] [/device:CPU:0] (DEBUG INFO) Executor start aborting (this does not indicate an error and you can ignore this message): INVALID_ARGUMENT: You must feed a value for placeholder tensor 'gradients/split_2_grad/concat/split_2/split_dim' with dtype int32\n",
      "\t [[{{node gradients/split_2_grad/concat/split_2/split_dim}}]]\n",
      "2023-05-11 13:54:56.285275: I tensorflow/core/common_runtime/executor.cc:1197] [/device:CPU:0] (DEBUG INFO) Executor start aborting (this does not indicate an error and you can ignore this message): INVALID_ARGUMENT: You must feed a value for placeholder tensor 'gradients/split_grad/concat/split/split_dim' with dtype int32\n",
      "\t [[{{node gradients/split_grad/concat/split/split_dim}}]]\n",
      "2023-05-11 13:54:56.287463: I tensorflow/core/common_runtime/executor.cc:1197] [/device:CPU:0] (DEBUG INFO) Executor start aborting (this does not indicate an error and you can ignore this message): INVALID_ARGUMENT: You must feed a value for placeholder tensor 'gradients/split_1_grad/concat/split_1/split_dim' with dtype int32\n",
      "\t [[{{node gradients/split_1_grad/concat/split_1/split_dim}}]]\n",
      "2023-05-11 13:54:56.505496: I tensorflow/core/common_runtime/executor.cc:1197] [/device:CPU:0] (DEBUG INFO) Executor start aborting (this does not indicate an error and you can ignore this message): INVALID_ARGUMENT: You must feed a value for placeholder tensor 'gradients/split_2_grad/concat/split_2/split_dim' with dtype int32\n",
      "\t [[{{node gradients/split_2_grad/concat/split_2/split_dim}}]]\n",
      "2023-05-11 13:54:56.507309: I tensorflow/core/common_runtime/executor.cc:1197] [/device:CPU:0] (DEBUG INFO) Executor start aborting (this does not indicate an error and you can ignore this message): INVALID_ARGUMENT: You must feed a value for placeholder tensor 'gradients/split_grad/concat/split/split_dim' with dtype int32\n",
      "\t [[{{node gradients/split_grad/concat/split/split_dim}}]]\n",
      "2023-05-11 13:54:56.508612: I tensorflow/core/common_runtime/executor.cc:1197] [/device:CPU:0] (DEBUG INFO) Executor start aborting (this does not indicate an error and you can ignore this message): INVALID_ARGUMENT: You must feed a value for placeholder tensor 'gradients/split_1_grad/concat/split_1/split_dim' with dtype int32\n",
      "\t [[{{node gradients/split_1_grad/concat/split_1/split_dim}}]]\n"
     ]
    },
    {
     "name": "stdout",
     "output_type": "stream",
     "text": [
      "8/8 [==============================] - 1s 7ms/step\n"
     ]
    }
   ],
   "source": [
    "predictions = lstm.predict(X_test)"
   ]
  },
  {
   "cell_type": "code",
   "execution_count": 67,
   "id": "e86741a1-0c78-4b97-a1cf-a717d0314c58",
   "metadata": {
    "tags": []
   },
   "outputs": [
    {
     "name": "stdout",
     "output_type": "stream",
     "text": [
      "(4,)\n"
     ]
    },
    {
     "data": {
      "text/plain": [
       "Counter({'trafficking in persons': 127,\n",
       "         'participation in organized criminal group': 95,\n",
       "         'smuggling of migrants': 21,\n",
       "         'other crimes': 7})"
      ]
     },
     "execution_count": 67,
     "metadata": {},
     "output_type": "execute_result"
    }
   ],
   "source": [
    "reverse_dummy_predicted =TextLabelEncoderDummy.reverse_dummy_to_encoded(predictions)\n",
    "print(pd.unique(reverse_dummy_predicted).shape)\n",
    "\n",
    "# reverse encoded Y to categorical variables\n",
    "# reverse_encoded_y_predicted = encoder.inverse_transform(reverse_dummy_predicted)\n",
    "# reverse_encoded_y_predicted\n",
    "\n",
    "reverse_encoded_y_predicted = TextLabelEncoderDummy.reverse_encoded_to_text(reverse_dummy_predicted)\n",
    "reverse_encoded_y_predicted\n",
    "Counter(list(itertools.chain(reverse_encoded_y_predicted)))"
   ]
  },
  {
   "cell_type": "code",
   "execution_count": 68,
   "id": "98fdd23c-9940-48c4-849c-9aa69e7a1308",
   "metadata": {
    "tags": []
   },
   "outputs": [
    {
     "name": "stdout",
     "output_type": "stream",
     "text": [
      "(8,)\n"
     ]
    },
    {
     "data": {
      "text/plain": [
       "Counter({'trafficking in persons': 127,\n",
       "         'participation in organized criminal group': 95,\n",
       "         'smuggling of migrants': 21,\n",
       "         'other crimes': 7})"
      ]
     },
     "execution_count": 68,
     "metadata": {},
     "output_type": "execute_result"
    }
   ],
   "source": [
    "reverse_dummy_test=TextLabelEncoderDummy.reverse_dummy_to_encoded(y_test)\n",
    "print(pd.unique(reverse_dummy_test).shape)\n",
    "\n",
    "# reverse encoded Y to categorical variables\n",
    "# reverse_encoded_y_predicted = encoder.inverse_transform(reverse_dummy_predicted)\n",
    "# reverse_encoded_y_predicted\n",
    "\n",
    "reverse_encoded_y_test = TextLabelEncoderDummy.reverse_encoded_to_text(reverse_dummy_predicted)\n",
    "reverse_encoded_y_test\n",
    "Counter(list(itertools.chain(reverse_encoded_y_test)))"
   ]
  },
  {
   "cell_type": "code",
   "execution_count": 78,
   "id": "51c954ee-fff4-4261-9fd6-e835b810f327",
   "metadata": {
    "tags": []
   },
   "outputs": [],
   "source": [
    "class ResultSummary:\n",
    "  # matrix = classification_report(actual,predicted,labels=[1,0])\n",
    "  def classification_reportx(y_test,y_predicted):\n",
    "    # matrix = classification_report(y_test,y_predicted, labels=pd.unique(y_predicted))\n",
    "    matrix = classification_report(y_test,y_predicted, labels=pd.unique(y_test))\n",
    "    # matrix = classification_report(reverse_encoded_y_test,reverse_encoded_y_predicted, labels=pd.unique(reverse_encoded_y_predicted))\n",
    "    print(matrix)\n",
    "  # classification_reportx(reverse_encoded_y_test,reverse_encoded_y_predicted)\n",
    "\n",
    "\n",
    "  # confusion_matrix(reverse_encoded_y_test, reverse_encoded_y_predicted)\n",
    "  # pd.crosstab(reverse_encoded_y_test, reverse_encoded_y_predicted, rownames=['True'], colnames=['Predicted'], margins=True)\n",
    "  def confusion_matrixx(y_test, y_pred,figsize1,figsize2):\n",
    "    %matplotlib inline\n",
    "    # fig, ax = plt.subplots(figsize=(12,10))\n",
    "    fig, ax = plt.subplots(figsize=(figsize1,figsize2))\n",
    "    # cm = confusion_matrix(reverse_encoded_y_test, reverse_encoded_y_predicted)\n",
    "    cm = confusion_matrix(y_test, y_pred)\n",
    "    # df_cm = pd.DataFrame(cm, index=pd.unique(reverse_encoded_y_test), columns=pd.unique(reverse_encoded_y_test))\n",
    "    df_cm = pd.DataFrame(cm, index=pd.unique(y_test), columns=pd.unique(y_test))\n",
    "    ax = sns.heatmap(df_cm,  cbar = False, cmap=\"BuGn\", annot=True, fmt=\"d\", linewidths=.5, ax=ax)\n",
    "    # plt.setp(ax.get_xticklabels(), rotation=45)\n",
    "    plt.ylabel('True label', fontweight='bold', fontsize = 18)\n",
    "    plt.xlabel('Predicted label', fontweight='bold', fontsize = 18) \n",
    "    plt.show()\n",
    "  # confusion_matrixx(reverse_encoded_y_test, reverse_encoded_y_predicted,12,10)\n",
    "  \n",
    "\n",
    "\n",
    "  def actual_n_predictions(reverse_encoded_y_test,reverse_encoded_y_predicted):\n",
    "    for i in range(len(reverse_encoded_y_test)):\n",
    "      print(\"Test: %s -------- Predicted: (%s)\" % (reverse_encoded_y_test[i], reverse_encoded_y_predicted[i]))\n"
   ]
  },
  {
   "cell_type": "code",
   "execution_count": 79,
   "id": "13ad3b50-bf83-4aef-a5ce-ffdbfbd858ee",
   "metadata": {
    "tags": []
   },
   "outputs": [
    {
     "data": {
      "text/plain": [
       "array([[0., 0., 0., ..., 0., 0., 1.],\n",
       "       [0., 0., 0., ..., 0., 0., 1.],\n",
       "       [0., 0., 1., ..., 0., 0., 0.],\n",
       "       ...,\n",
       "       [0., 0., 0., ..., 0., 0., 0.],\n",
       "       [0., 0., 0., ..., 1., 0., 0.],\n",
       "       [0., 0., 1., ..., 0., 0., 0.]], dtype=float32)"
      ]
     },
     "execution_count": 79,
     "metadata": {},
     "output_type": "execute_result"
    }
   ],
   "source": [
    "y_test"
   ]
  },
  {
   "cell_type": "code",
   "execution_count": 80,
   "id": "22799907-aba5-4d56-9504-04310cb845f2",
   "metadata": {
    "tags": []
   },
   "outputs": [
    {
     "name": "stdout",
     "output_type": "stream",
     "text": [
      "                                           precision    recall  f1-score   support\n",
      "\n",
      "                   trafficking in persons       1.00      1.00      1.00       127\n",
      "participation in organized criminal group       1.00      1.00      1.00        95\n",
      "                    smuggling of migrants       1.00      1.00      1.00        21\n",
      "                             other crimes       1.00      1.00      1.00         7\n",
      "\n",
      "                                 accuracy                           1.00       250\n",
      "                                macro avg       1.00      1.00      1.00       250\n",
      "                             weighted avg       1.00      1.00      1.00       250\n",
      "\n"
     ]
    },
    {
     "data": {
      "image/png": "[encoded data removed]",
      "text/plain": [
       "<Figure size 600x500 with 1 Axes>"
      ]
     },
     "metadata": {},
     "output_type": "display_data"
    },
    {
     "name": "stdout",
     "output_type": "stream",
     "text": [
      "Test: trafficking in persons -------- Predicted: (trafficking in persons)\n",
      "Test: trafficking in persons -------- Predicted: (trafficking in persons)\n",
      "Test: participation in organized criminal group -------- Predicted: (participation in organized criminal group)\n",
      "Test: trafficking in persons -------- Predicted: (trafficking in persons)\n",
      "Test: trafficking in persons -------- Predicted: (trafficking in persons)\n",
      "Test: trafficking in persons -------- Predicted: (trafficking in persons)\n",
      "Test: trafficking in persons -------- Predicted: (trafficking in persons)\n",
      "Test: trafficking in persons -------- Predicted: (trafficking in persons)\n",
      "Test: trafficking in persons -------- Predicted: (trafficking in persons)\n",
      "Test: trafficking in persons -------- Predicted: (trafficking in persons)\n",
      "Test: smuggling of migrants -------- Predicted: (smuggling of migrants)\n",
      "Test: participation in organized criminal group -------- Predicted: (participation in organized criminal group)\n",
      "Test: participation in organized criminal group -------- Predicted: (participation in organized criminal group)\n",
      "Test: participation in organized criminal group -------- Predicted: (participation in organized criminal group)\n",
      "Test: trafficking in persons -------- Predicted: (trafficking in persons)\n",
      "Test: smuggling of migrants -------- Predicted: (smuggling of migrants)\n",
      "Test: participation in organized criminal group -------- Predicted: (participation in organized criminal group)\n",
      "Test: participation in organized criminal group -------- Predicted: (participation in organized criminal group)\n",
      "Test: participation in organized criminal group -------- Predicted: (participation in organized criminal group)\n",
      "Test: trafficking in persons -------- Predicted: (trafficking in persons)\n",
      "Test: participation in organized criminal group -------- Predicted: (participation in organized criminal group)\n",
      "Test: trafficking in persons -------- Predicted: (trafficking in persons)\n",
      "Test: trafficking in persons -------- Predicted: (trafficking in persons)\n",
      "Test: participation in organized criminal group -------- Predicted: (participation in organized criminal group)\n",
      "Test: participation in organized criminal group -------- Predicted: (participation in organized criminal group)\n",
      "Test: trafficking in persons -------- Predicted: (trafficking in persons)\n",
      "Test: other crimes -------- Predicted: (other crimes)\n",
      "Test: smuggling of migrants -------- Predicted: (smuggling of migrants)\n",
      "Test: participation in organized criminal group -------- Predicted: (participation in organized criminal group)\n",
      "Test: other crimes -------- Predicted: (other crimes)\n",
      "Test: participation in organized criminal group -------- Predicted: (participation in organized criminal group)\n",
      "Test: participation in organized criminal group -------- Predicted: (participation in organized criminal group)\n",
      "Test: trafficking in persons -------- Predicted: (trafficking in persons)\n",
      "Test: trafficking in persons -------- Predicted: (trafficking in persons)\n",
      "Test: smuggling of migrants -------- Predicted: (smuggling of migrants)\n",
      "Test: trafficking in persons -------- Predicted: (trafficking in persons)\n",
      "Test: participation in organized criminal group -------- Predicted: (participation in organized criminal group)\n",
      "Test: smuggling of migrants -------- Predicted: (smuggling of migrants)\n",
      "Test: other crimes -------- Predicted: (other crimes)\n",
      "Test: participation in organized criminal group -------- Predicted: (participation in organized criminal group)\n",
      "Test: participation in organized criminal group -------- Predicted: (participation in organized criminal group)\n",
      "Test: trafficking in persons -------- Predicted: (trafficking in persons)\n",
      "Test: trafficking in persons -------- Predicted: (trafficking in persons)\n",
      "Test: trafficking in persons -------- Predicted: (trafficking in persons)\n",
      "Test: participation in organized criminal group -------- Predicted: (participation in organized criminal group)\n",
      "Test: participation in organized criminal group -------- Predicted: (participation in organized criminal group)\n",
      "Test: participation in organized criminal group -------- Predicted: (participation in organized criminal group)\n",
      "Test: trafficking in persons -------- Predicted: (trafficking in persons)\n",
      "Test: trafficking in persons -------- Predicted: (trafficking in persons)\n",
      "Test: trafficking in persons -------- Predicted: (trafficking in persons)\n",
      "Test: trafficking in persons -------- Predicted: (trafficking in persons)\n",
      "Test: participation in organized criminal group -------- Predicted: (participation in organized criminal group)\n",
      "Test: trafficking in persons -------- Predicted: (trafficking in persons)\n",
      "Test: smuggling of migrants -------- Predicted: (smuggling of migrants)\n",
      "Test: participation in organized criminal group -------- Predicted: (participation in organized criminal group)\n",
      "Test: participation in organized criminal group -------- Predicted: (participation in organized criminal group)\n",
      "Test: participation in organized criminal group -------- Predicted: (participation in organized criminal group)\n",
      "Test: trafficking in persons -------- Predicted: (trafficking in persons)\n",
      "Test: participation in organized criminal group -------- Predicted: (participation in organized criminal group)\n",
      "Test: participation in organized criminal group -------- Predicted: (participation in organized criminal group)\n",
      "Test: trafficking in persons -------- Predicted: (trafficking in persons)\n",
      "Test: smuggling of migrants -------- Predicted: (smuggling of migrants)\n",
      "Test: trafficking in persons -------- Predicted: (trafficking in persons)\n",
      "Test: participation in organized criminal group -------- Predicted: (participation in organized criminal group)\n",
      "Test: trafficking in persons -------- Predicted: (trafficking in persons)\n",
      "Test: trafficking in persons -------- Predicted: (trafficking in persons)\n",
      "Test: trafficking in persons -------- Predicted: (trafficking in persons)\n",
      "Test: participation in organized criminal group -------- Predicted: (participation in organized criminal group)\n",
      "Test: participation in organized criminal group -------- Predicted: (participation in organized criminal group)\n",
      "Test: trafficking in persons -------- Predicted: (trafficking in persons)\n",
      "Test: participation in organized criminal group -------- Predicted: (participation in organized criminal group)\n",
      "Test: trafficking in persons -------- Predicted: (trafficking in persons)\n",
      "Test: trafficking in persons -------- Predicted: (trafficking in persons)\n",
      "Test: trafficking in persons -------- Predicted: (trafficking in persons)\n",
      "Test: participation in organized criminal group -------- Predicted: (participation in organized criminal group)\n",
      "Test: participation in organized criminal group -------- Predicted: (participation in organized criminal group)\n",
      "Test: participation in organized criminal group -------- Predicted: (participation in organized criminal group)\n",
      "Test: participation in organized criminal group -------- Predicted: (participation in organized criminal group)\n",
      "Test: participation in organized criminal group -------- Predicted: (participation in organized criminal group)\n",
      "Test: participation in organized criminal group -------- Predicted: (participation in organized criminal group)\n",
      "Test: trafficking in persons -------- Predicted: (trafficking in persons)\n",
      "Test: trafficking in persons -------- Predicted: (trafficking in persons)\n",
      "Test: participation in organized criminal group -------- Predicted: (participation in organized criminal group)\n",
      "Test: trafficking in persons -------- Predicted: (trafficking in persons)\n",
      "Test: smuggling of migrants -------- Predicted: (smuggling of migrants)\n",
      "Test: trafficking in persons -------- Predicted: (trafficking in persons)\n",
      "Test: trafficking in persons -------- Predicted: (trafficking in persons)\n",
      "Test: smuggling of migrants -------- Predicted: (smuggling of migrants)\n",
      "Test: trafficking in persons -------- Predicted: (trafficking in persons)\n",
      "Test: participation in organized criminal group -------- Predicted: (participation in organized criminal group)\n",
      "Test: smuggling of migrants -------- Predicted: (smuggling of migrants)\n",
      "Test: participation in organized criminal group -------- Predicted: (participation in organized criminal group)\n",
      "Test: trafficking in persons -------- Predicted: (trafficking in persons)\n",
      "Test: trafficking in persons -------- Predicted: (trafficking in persons)\n",
      "Test: trafficking in persons -------- Predicted: (trafficking in persons)\n",
      "Test: trafficking in persons -------- Predicted: (trafficking in persons)\n",
      "Test: trafficking in persons -------- Predicted: (trafficking in persons)\n",
      "Test: trafficking in persons -------- Predicted: (trafficking in persons)\n",
      "Test: trafficking in persons -------- Predicted: (trafficking in persons)\n",
      "Test: participation in organized criminal group -------- Predicted: (participation in organized criminal group)\n",
      "Test: smuggling of migrants -------- Predicted: (smuggling of migrants)\n",
      "Test: participation in organized criminal group -------- Predicted: (participation in organized criminal group)\n",
      "Test: trafficking in persons -------- Predicted: (trafficking in persons)\n",
      "Test: participation in organized criminal group -------- Predicted: (participation in organized criminal group)\n",
      "Test: participation in organized criminal group -------- Predicted: (participation in organized criminal group)\n",
      "Test: participation in organized criminal group -------- Predicted: (participation in organized criminal group)\n",
      "Test: participation in organized criminal group -------- Predicted: (participation in organized criminal group)\n",
      "Test: participation in organized criminal group -------- Predicted: (participation in organized criminal group)\n",
      "Test: trafficking in persons -------- Predicted: (trafficking in persons)\n",
      "Test: trafficking in persons -------- Predicted: (trafficking in persons)\n",
      "Test: participation in organized criminal group -------- Predicted: (participation in organized criminal group)\n",
      "Test: trafficking in persons -------- Predicted: (trafficking in persons)\n",
      "Test: participation in organized criminal group -------- Predicted: (participation in organized criminal group)\n",
      "Test: other crimes -------- Predicted: (other crimes)\n",
      "Test: trafficking in persons -------- Predicted: (trafficking in persons)\n",
      "Test: trafficking in persons -------- Predicted: (trafficking in persons)\n",
      "Test: trafficking in persons -------- Predicted: (trafficking in persons)\n",
      "Test: participation in organized criminal group -------- Predicted: (participation in organized criminal group)\n",
      "Test: trafficking in persons -------- Predicted: (trafficking in persons)\n",
      "Test: trafficking in persons -------- Predicted: (trafficking in persons)\n",
      "Test: other crimes -------- Predicted: (other crimes)\n",
      "Test: trafficking in persons -------- Predicted: (trafficking in persons)\n",
      "Test: participation in organized criminal group -------- Predicted: (participation in organized criminal group)\n",
      "Test: trafficking in persons -------- Predicted: (trafficking in persons)\n",
      "Test: participation in organized criminal group -------- Predicted: (participation in organized criminal group)\n",
      "Test: other crimes -------- Predicted: (other crimes)\n",
      "Test: participation in organized criminal group -------- Predicted: (participation in organized criminal group)\n",
      "Test: trafficking in persons -------- Predicted: (trafficking in persons)\n",
      "Test: participation in organized criminal group -------- Predicted: (participation in organized criminal group)\n",
      "Test: participation in organized criminal group -------- Predicted: (participation in organized criminal group)\n",
      "Test: participation in organized criminal group -------- Predicted: (participation in organized criminal group)\n",
      "Test: trafficking in persons -------- Predicted: (trafficking in persons)\n",
      "Test: participation in organized criminal group -------- Predicted: (participation in organized criminal group)\n",
      "Test: participation in organized criminal group -------- Predicted: (participation in organized criminal group)\n",
      "Test: participation in organized criminal group -------- Predicted: (participation in organized criminal group)\n",
      "Test: smuggling of migrants -------- Predicted: (smuggling of migrants)\n",
      "Test: participation in organized criminal group -------- Predicted: (participation in organized criminal group)\n",
      "Test: trafficking in persons -------- Predicted: (trafficking in persons)\n",
      "Test: trafficking in persons -------- Predicted: (trafficking in persons)\n",
      "Test: trafficking in persons -------- Predicted: (trafficking in persons)\n",
      "Test: trafficking in persons -------- Predicted: (trafficking in persons)\n",
      "Test: participation in organized criminal group -------- Predicted: (participation in organized criminal group)\n",
      "Test: trafficking in persons -------- Predicted: (trafficking in persons)\n",
      "Test: participation in organized criminal group -------- Predicted: (participation in organized criminal group)\n",
      "Test: trafficking in persons -------- Predicted: (trafficking in persons)\n",
      "Test: trafficking in persons -------- Predicted: (trafficking in persons)\n",
      "Test: trafficking in persons -------- Predicted: (trafficking in persons)\n",
      "Test: participation in organized criminal group -------- Predicted: (participation in organized criminal group)\n",
      "Test: trafficking in persons -------- Predicted: (trafficking in persons)\n",
      "Test: participation in organized criminal group -------- Predicted: (participation in organized criminal group)\n",
      "Test: trafficking in persons -------- Predicted: (trafficking in persons)\n",
      "Test: trafficking in persons -------- Predicted: (trafficking in persons)\n",
      "Test: participation in organized criminal group -------- Predicted: (participation in organized criminal group)\n",
      "Test: trafficking in persons -------- Predicted: (trafficking in persons)\n",
      "Test: participation in organized criminal group -------- Predicted: (participation in organized criminal group)\n",
      "Test: trafficking in persons -------- Predicted: (trafficking in persons)\n",
      "Test: participation in organized criminal group -------- Predicted: (participation in organized criminal group)\n",
      "Test: trafficking in persons -------- Predicted: (trafficking in persons)\n",
      "Test: participation in organized criminal group -------- Predicted: (participation in organized criminal group)\n",
      "Test: participation in organized criminal group -------- Predicted: (participation in organized criminal group)\n",
      "Test: trafficking in persons -------- Predicted: (trafficking in persons)\n",
      "Test: smuggling of migrants -------- Predicted: (smuggling of migrants)\n",
      "Test: participation in organized criminal group -------- Predicted: (participation in organized criminal group)\n",
      "Test: trafficking in persons -------- Predicted: (trafficking in persons)\n",
      "Test: participation in organized criminal group -------- Predicted: (participation in organized criminal group)\n",
      "Test: trafficking in persons -------- Predicted: (trafficking in persons)\n",
      "Test: participation in organized criminal group -------- Predicted: (participation in organized criminal group)\n",
      "Test: smuggling of migrants -------- Predicted: (smuggling of migrants)\n",
      "Test: trafficking in persons -------- Predicted: (trafficking in persons)\n",
      "Test: participation in organized criminal group -------- Predicted: (participation in organized criminal group)\n",
      "Test: participation in organized criminal group -------- Predicted: (participation in organized criminal group)\n",
      "Test: smuggling of migrants -------- Predicted: (smuggling of migrants)\n",
      "Test: trafficking in persons -------- Predicted: (trafficking in persons)\n",
      "Test: trafficking in persons -------- Predicted: (trafficking in persons)\n",
      "Test: trafficking in persons -------- Predicted: (trafficking in persons)\n",
      "Test: trafficking in persons -------- Predicted: (trafficking in persons)\n",
      "Test: trafficking in persons -------- Predicted: (trafficking in persons)\n",
      "Test: participation in organized criminal group -------- Predicted: (participation in organized criminal group)\n",
      "Test: trafficking in persons -------- Predicted: (trafficking in persons)\n",
      "Test: trafficking in persons -------- Predicted: (trafficking in persons)\n",
      "Test: smuggling of migrants -------- Predicted: (smuggling of migrants)\n",
      "Test: trafficking in persons -------- Predicted: (trafficking in persons)\n",
      "Test: trafficking in persons -------- Predicted: (trafficking in persons)\n",
      "Test: trafficking in persons -------- Predicted: (trafficking in persons)\n",
      "Test: participation in organized criminal group -------- Predicted: (participation in organized criminal group)\n",
      "Test: participation in organized criminal group -------- Predicted: (participation in organized criminal group)\n",
      "Test: smuggling of migrants -------- Predicted: (smuggling of migrants)\n",
      "Test: participation in organized criminal group -------- Predicted: (participation in organized criminal group)\n",
      "Test: trafficking in persons -------- Predicted: (trafficking in persons)\n",
      "Test: trafficking in persons -------- Predicted: (trafficking in persons)\n",
      "Test: smuggling of migrants -------- Predicted: (smuggling of migrants)\n",
      "Test: trafficking in persons -------- Predicted: (trafficking in persons)\n",
      "Test: participation in organized criminal group -------- Predicted: (participation in organized criminal group)\n",
      "Test: trafficking in persons -------- Predicted: (trafficking in persons)\n",
      "Test: participation in organized criminal group -------- Predicted: (participation in organized criminal group)\n",
      "Test: trafficking in persons -------- Predicted: (trafficking in persons)\n",
      "Test: trafficking in persons -------- Predicted: (trafficking in persons)\n",
      "Test: trafficking in persons -------- Predicted: (trafficking in persons)\n",
      "Test: trafficking in persons -------- Predicted: (trafficking in persons)\n",
      "Test: participation in organized criminal group -------- Predicted: (participation in organized criminal group)\n",
      "Test: trafficking in persons -------- Predicted: (trafficking in persons)\n",
      "Test: trafficking in persons -------- Predicted: (trafficking in persons)\n",
      "Test: trafficking in persons -------- Predicted: (trafficking in persons)\n",
      "Test: trafficking in persons -------- Predicted: (trafficking in persons)\n",
      "Test: participation in organized criminal group -------- Predicted: (participation in organized criminal group)\n",
      "Test: participation in organized criminal group -------- Predicted: (participation in organized criminal group)\n",
      "Test: smuggling of migrants -------- Predicted: (smuggling of migrants)\n",
      "Test: trafficking in persons -------- Predicted: (trafficking in persons)\n",
      "Test: participation in organized criminal group -------- Predicted: (participation in organized criminal group)\n",
      "Test: trafficking in persons -------- Predicted: (trafficking in persons)\n",
      "Test: trafficking in persons -------- Predicted: (trafficking in persons)\n",
      "Test: participation in organized criminal group -------- Predicted: (participation in organized criminal group)\n",
      "Test: trafficking in persons -------- Predicted: (trafficking in persons)\n",
      "Test: participation in organized criminal group -------- Predicted: (participation in organized criminal group)\n",
      "Test: participation in organized criminal group -------- Predicted: (participation in organized criminal group)\n",
      "Test: trafficking in persons -------- Predicted: (trafficking in persons)\n",
      "Test: trafficking in persons -------- Predicted: (trafficking in persons)\n",
      "Test: other crimes -------- Predicted: (other crimes)\n",
      "Test: participation in organized criminal group -------- Predicted: (participation in organized criminal group)\n",
      "Test: trafficking in persons -------- Predicted: (trafficking in persons)\n",
      "Test: trafficking in persons -------- Predicted: (trafficking in persons)\n",
      "Test: participation in organized criminal group -------- Predicted: (participation in organized criminal group)\n",
      "Test: trafficking in persons -------- Predicted: (trafficking in persons)\n",
      "Test: trafficking in persons -------- Predicted: (trafficking in persons)\n",
      "Test: trafficking in persons -------- Predicted: (trafficking in persons)\n",
      "Test: trafficking in persons -------- Predicted: (trafficking in persons)\n",
      "Test: participation in organized criminal group -------- Predicted: (participation in organized criminal group)\n",
      "Test: trafficking in persons -------- Predicted: (trafficking in persons)\n",
      "Test: trafficking in persons -------- Predicted: (trafficking in persons)\n",
      "Test: trafficking in persons -------- Predicted: (trafficking in persons)\n",
      "Test: smuggling of migrants -------- Predicted: (smuggling of migrants)\n",
      "Test: trafficking in persons -------- Predicted: (trafficking in persons)\n",
      "Test: participation in organized criminal group -------- Predicted: (participation in organized criminal group)\n",
      "Test: trafficking in persons -------- Predicted: (trafficking in persons)\n",
      "Test: trafficking in persons -------- Predicted: (trafficking in persons)\n",
      "Test: trafficking in persons -------- Predicted: (trafficking in persons)\n",
      "Test: participation in organized criminal group -------- Predicted: (participation in organized criminal group)\n",
      "Test: trafficking in persons -------- Predicted: (trafficking in persons)\n",
      "Test: trafficking in persons -------- Predicted: (trafficking in persons)\n",
      "Test: participation in organized criminal group -------- Predicted: (participation in organized criminal group)\n",
      "Test: trafficking in persons -------- Predicted: (trafficking in persons)\n",
      "Test: trafficking in persons -------- Predicted: (trafficking in persons)\n",
      "Test: participation in organized criminal group -------- Predicted: (participation in organized criminal group)\n",
      "Test: trafficking in persons -------- Predicted: (trafficking in persons)\n",
      "Test: participation in organized criminal group -------- Predicted: (participation in organized criminal group)\n",
      "Test: trafficking in persons -------- Predicted: (trafficking in persons)\n",
      "Test: participation in organized criminal group -------- Predicted: (participation in organized criminal group)\n",
      "Test: trafficking in persons -------- Predicted: (trafficking in persons)\n",
      "Test: smuggling of migrants -------- Predicted: (smuggling of migrants)\n",
      "Test: participation in organized criminal group -------- Predicted: (participation in organized criminal group)\n"
     ]
    }
   ],
   "source": [
    "# matrix = classification_report(actual,predicted,labels=[1,0])\n",
    "ResultSummary.classification_reportx(reverse_encoded_y_test,reverse_encoded_y_predicted)\n",
    "ResultSummary.confusion_matrixx(reverse_encoded_y_test, reverse_encoded_y_predicted,6,5)\n",
    "ResultSummary.actual_n_predictions(reverse_encoded_y_test,reverse_encoded_y_predicted)"
   ]
  },
  {
   "cell_type": "code",
   "execution_count": 77,
   "id": "c9473400-2bae-4e31-b0a2-0869c7a31119",
   "metadata": {
    "tags": []
   },
   "outputs": [
    {
     "data": {
      "text/plain": [
       "(array([[0.        , 0.        , 0.        , ..., 0.        , 0.        ,\n",
       "         0.05467973],\n",
       "        [0.        , 0.        , 0.        , ..., 0.        , 0.        ,\n",
       "         0.04595109],\n",
       "        [0.        , 0.        , 0.00383572, ..., 0.00632493, 0.        ,\n",
       "         0.        ],\n",
       "        ...,\n",
       "        [0.        , 0.        , 0.        , ..., 0.        , 0.        ,\n",
       "         0.06107582],\n",
       "        [0.        , 0.        , 0.        , ..., 0.01685195, 0.        ,\n",
       "         0.0011576 ],\n",
       "        [0.        , 0.        , 0.01578333, ..., 0.00176378, 0.        ,\n",
       "         0.00518243]], dtype=float32),\n",
       " array([[0., 0., 0., ..., 0., 0., 1.],\n",
       "        [0., 0., 0., ..., 0., 0., 1.],\n",
       "        [0., 0., 1., ..., 0., 0., 0.],\n",
       "        ...,\n",
       "        [0., 0., 0., ..., 0., 0., 0.],\n",
       "        [0., 0., 0., ..., 1., 0., 0.],\n",
       "        [0., 0., 1., ..., 0., 0., 0.]], dtype=float32))"
      ]
     },
     "execution_count": 77,
     "metadata": {},
     "output_type": "execute_result"
    }
   ],
   "source": [
    "predictions,y_test"
   ]
  },
  {
   "cell_type": "code",
   "execution_count": null,
   "id": "4e2f7c6f-46f8-4259-b61a-16636a81aa23",
   "metadata": {},
   "outputs": [],
   "source": []
  },
  {
   "cell_type": "markdown",
   "id": "8c8b1903-9ef7-4c4a-a6e9-f28f15121cd1",
   "metadata": {},
   "source": [
    "## System GUI"
   ]
  },
  {
   "cell_type": "code",
   "execution_count": 84,
   "id": "d2830636-de67-445e-8234-d75bb02ea81f",
   "metadata": {
    "tags": []
   },
   "outputs": [
    {
     "ename": "ModuleNotFoundError",
     "evalue": "No module named 'tkinter'",
     "output_type": "error",
     "traceback": [
      "\u001b[0;31m---------------------------------------------------------------------------\u001b[0m",
      "\u001b[0;31mModuleNotFoundError\u001b[0m                       Traceback (most recent call last)",
      "Cell \u001b[0;32mIn[84], line 1\u001b[0m\n\u001b[0;32m----> 1\u001b[0m \u001b[38;5;28;01mimport\u001b[39;00m \u001b[38;5;21;01mtkinter\u001b[39;00m\n\u001b[1;32m      2\u001b[0m top \u001b[38;5;241m=\u001b[39m tkinter\u001b[38;5;241m.\u001b[39mTk()\n\u001b[1;32m      3\u001b[0m \u001b[38;5;66;03m# Code to add widgets will go here...\u001b[39;00m\n",
      "\u001b[0;31mModuleNotFoundError\u001b[0m: No module named 'tkinter'"
     ]
    }
   ],
   "source": [
    "import tkinter\n",
    "top = tkinter.Tk()\n",
    "# Code to add widgets will go here...\n",
    "top.mainloop()"
   ]
  },
  {
   "cell_type": "code",
   "execution_count": null,
   "id": "619bebed-f2fc-4625-a393-7146635f7e1a",
   "metadata": {},
   "outputs": [],
   "source": []
  },
  {
   "cell_type": "code",
   "execution_count": null,
   "id": "69542e5a-cb4a-442c-9ac5-6ca3425731de",
   "metadata": {},
   "outputs": [],
   "source": []
  }
 ],
 "metadata": {
  "kernelspec": {
   "display_name": "Python 3 (ipykernel)",
   "language": "python",
   "name": "python3"
  },
  "language_info": {
   "codemirror_mode": {
    "name": "ipython",
    "version": 3
   },
   "file_extension": ".py",
   "mimetype": "text/x-python",
   "name": "python",
   "nbconvert_exporter": "python",
   "pygments_lexer": "ipython3",
   "version": "3.10.6"
  }
 },
 "nbformat": 4,
 "nbformat_minor": 5
}
