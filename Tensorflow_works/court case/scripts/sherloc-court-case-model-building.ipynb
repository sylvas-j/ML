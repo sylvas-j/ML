{
 "cells": [
  {
   "cell_type": "code",
   "execution_count": 1,
   "id": "340a7abd-664b-42d2-b980-670c2c7fd641",
   "metadata": {},
   "outputs": [
    {
     "name": "stderr",
     "output_type": "stream",
     "text": [
      "2023-04-20 14:56:10.290731: I tensorflow/tsl/cuda/cudart_stub.cc:28] Could not find cuda drivers on your machine, GPU will not be used.\n",
      "2023-04-20 14:56:11.022108: I tensorflow/tsl/cuda/cudart_stub.cc:28] Could not find cuda drivers on your machine, GPU will not be used.\n",
      "2023-04-20 14:56:11.026684: I tensorflow/core/platform/cpu_feature_guard.cc:182] This TensorFlow binary is optimized to use available CPU instructions in performance-critical operations.\n",
      "To enable the following instructions: AVX2 FMA, in other operations, rebuild TensorFlow with the appropriate compiler flags.\n",
      "2023-04-20 14:56:13.222881: W tensorflow/compiler/tf2tensorrt/utils/py_utils.cc:38] TF-TRT Warning: Could not find TensorRT\n"
     ]
    }
   ],
   "source": [
    "import numpy as np\n",
    "import pandas as pd\n",
    "# import boto3\n",
    "import tensorflow as tf\n",
    "from keras.datasets import imdb\n",
    "from keras.models import Sequential\n",
    "from keras.layers import Dense, SimpleRNN\n",
    "from keras.layers import LSTM\n",
    "from keras.preprocessing.text import Tokenizer\n",
    "from tensorflow.python.client import device_lib\n",
    "from keras.constraints import maxnorm\n",
    "from keras.layers import Dropout\n",
    "import time\n",
    "import warnings\n",
    "warnings.filterwarnings(\"ignore\")\n"
   ]
  },
  {
   "cell_type": "code",
   "execution_count": 2,
   "id": "d7ea671e-a195-469f-a98e-98bfdabe530e",
   "metadata": {},
   "outputs": [],
   "source": [
    "from keras.utils import pad_sequences\n",
    "from tensorflow.keras.layers import Embedding"
   ]
  },
  {
   "cell_type": "code",
   "execution_count": 3,
   "id": "4f6d6c2e-e96a-409b-a340-6a126c49854d",
   "metadata": {},
   "outputs": [],
   "source": [
    "from collections import Counter\n",
    "import itertools"
   ]
  },
  {
   "cell_type": "code",
   "execution_count": 4,
   "id": "cbb6a02c-6e1d-4110-9647-263959874b2c",
   "metadata": {},
   "outputs": [],
   "source": [
    "from sklearn.model_selection import train_test_split"
   ]
  },
  {
   "cell_type": "code",
   "execution_count": 75,
   "id": "6b29499d-1b27-4e51-869b-7a77d8e56d07",
   "metadata": {},
   "outputs": [],
   "source": [
    "# from keras.preprocessing.sequence import pad_sequences\n",
    "# from keras.layers.embeddings import Embedding\n",
    "# from tensorflow.keras.layers import Embedding\n",
    "#from keras.preprocessing import sequence"
   ]
  },
  {
   "cell_type": "code",
   "execution_count": 5,
   "id": "1764fda1-c65d-48c3-a91d-f3bde83debca",
   "metadata": {},
   "outputs": [
    {
     "data": {
      "text/html": [
       "<div>\n",
       "<style scoped>\n",
       "    .dataframe tbody tr th:only-of-type {\n",
       "        vertical-align: middle;\n",
       "    }\n",
       "\n",
       "    .dataframe tbody tr th {\n",
       "        vertical-align: top;\n",
       "    }\n",
       "\n",
       "    .dataframe thead th {\n",
       "        text-align: right;\n",
       "    }\n",
       "</style>\n",
       "<table border=\"1\" class=\"dataframe\">\n",
       "  <thead>\n",
       "    <tr style=\"text-align: right;\">\n",
       "      <th></th>\n",
       "      <th>raw_text</th>\n",
       "      <th>crime_types</th>\n",
       "      <th>sentence</th>\n",
       "      <th>tokenized_cleaned_text</th>\n",
       "      <th>lemmatized</th>\n",
       "      <th>tokens_back_to_text</th>\n",
       "    </tr>\n",
       "  </thead>\n",
       "  <tbody>\n",
       "    <tr>\n",
       "      <th>0</th>\n",
       "      <td>Mr. Solomon Sauls ran an illegal enterprise wi...</td>\n",
       "      <td>money laundry</td>\n",
       "      <td>1</td>\n",
       "      <td>['solomon', 'sauls', 'ran', 'illegal', 'enterp...</td>\n",
       "      <td>['solomon', 'saul', 'ran', 'illegal', 'enterpr...</td>\n",
       "      <td>solomon saul ran illegal enterprise purpose po...</td>\n",
       "    </tr>\n",
       "    <tr>\n",
       "      <th>1</th>\n",
       "      <td>SummaryHarmony Gold Mine (Pty) Limited is a mi...</td>\n",
       "      <td>money laundry</td>\n",
       "      <td>1</td>\n",
       "      <td>['summaryharmony', 'gold', 'mine', 'pty', 'lim...</td>\n",
       "      <td>['summaryharmony', 'gold', 'mine', 'pty', 'lim...</td>\n",
       "      <td>summaryharmony gold mine pty limited mining co...</td>\n",
       "    </tr>\n",
       "  </tbody>\n",
       "</table>\n",
       "</div>"
      ],
      "text/plain": [
       "                                            raw_text    crime_types  sentence   \n",
       "0  Mr. Solomon Sauls ran an illegal enterprise wi...  money laundry         1  \\\n",
       "1  SummaryHarmony Gold Mine (Pty) Limited is a mi...  money laundry         1   \n",
       "\n",
       "                              tokenized_cleaned_text   \n",
       "0  ['solomon', 'sauls', 'ran', 'illegal', 'enterp...  \\\n",
       "1  ['summaryharmony', 'gold', 'mine', 'pty', 'lim...   \n",
       "\n",
       "                                          lemmatized   \n",
       "0  ['solomon', 'saul', 'ran', 'illegal', 'enterpr...  \\\n",
       "1  ['summaryharmony', 'gold', 'mine', 'pty', 'lim...   \n",
       "\n",
       "                                 tokens_back_to_text  \n",
       "0  solomon saul ran illegal enterprise purpose po...  \n",
       "1  summaryharmony gold mine pty limited mining co...  "
      ]
     },
     "execution_count": 5,
     "metadata": {},
     "output_type": "execute_result"
    }
   ],
   "source": [
    "dff = pd.read_csv('../../../../datasets/sherloc/sherloc-court-case-token-back-to-text.csv')\n",
    "dff.head(2)"
   ]
  },
  {
   "cell_type": "code",
   "execution_count": 6,
   "id": "268444db-d1ae-45e0-9d8e-b97f2c8ffbf9",
   "metadata": {},
   "outputs": [
    {
     "data": {
      "text/plain": [
       "1250"
      ]
     },
     "execution_count": 6,
     "metadata": {},
     "output_type": "execute_result"
    }
   ],
   "source": [
    "len(dff)"
   ]
  },
  {
   "cell_type": "code",
   "execution_count": 7,
   "id": "a764f191-0b67-42e8-acb5-a1bc27d8e5e1",
   "metadata": {},
   "outputs": [],
   "source": [
    "X = dff.tokens_back_to_text.values"
   ]
  },
  {
   "cell_type": "code",
   "execution_count": 55,
   "id": "83fdfab6-f519-48cb-8938-47b94e928977",
   "metadata": {},
   "outputs": [],
   "source": [
    "y = dff.sentence.values"
   ]
  },
  {
   "cell_type": "code",
   "execution_count": 20,
   "id": "68cbfd8a-e0aa-457b-bf87-c449da79d5e3",
   "metadata": {},
   "outputs": [],
   "source": [
    "XX = list(dff.tokens_back_to_text)"
   ]
  },
  {
   "cell_type": "code",
   "execution_count": 9,
   "id": "1966d1d7-50ed-4593-a77a-f2eb35e1ef20",
   "metadata": {},
   "outputs": [
    {
     "data": {
      "text/plain": [
       "((1250,), (1250,))"
      ]
     },
     "execution_count": 9,
     "metadata": {},
     "output_type": "execute_result"
    }
   ],
   "source": [
    "X.shape, y.shape"
   ]
  },
  {
   "cell_type": "markdown",
   "id": "e2c29de7-b241-4e4c-ab38-336cd579443d",
   "metadata": {},
   "source": [
    "## Feature Engineering"
   ]
  },
  {
   "cell_type": "code",
   "execution_count": 10,
   "id": "39aeb024-a78c-4de9-a64f-b6627b3460a6",
   "metadata": {},
   "outputs": [],
   "source": [
    "# prepare tokenizer\n",
    "tokenizer = Tokenizer()\n",
    "tokenizer.fit_on_texts(X)"
   ]
  },
  {
   "cell_type": "code",
   "execution_count": 17,
   "id": "b25cbc97-ca05-42eb-9b52-b98662e17be6",
   "metadata": {
    "collapsed": true,
    "jupyter": {
     "outputs_hidden": true
    },
    "tags": []
   },
   "outputs": [
    {
     "data": {
      "text/plain": [
       "array(['solomon saul ran illegal enterprise purpose poach sell abalone haliotis midae south africa group abalone diver work supply illegally harvest abalone accuse bribed official department agriculture forestry fishery prevent confiscate abalone buy back abalone already seize authority corrupt official face charge separate march police search accuse house encounter cash accuse confess proceeds illegal activity february defendant plead guilty count involve run illegal enterprise corruption money laundering possess transport illegally harvest aggravate sentence seriousness corrupt government official engagement illegal abalone trade commercial scale financial accuse involve similar crime past previously receive prison sentence involvement another illegal enterprise focus abalone found responsible run illegal abalone business different area hand current trial solomon saul sentence year imprisonment run concurrently result effective sentence year determine run concurrently previous sentence year',\n",
       "       'summaryharmony gold mine pty limited mining company operating masimong gold mine district henneman south africa miner legally enter shaft able produce mining identity card use enter exit mine notwithstanding common knowledge clock system could breach allow illegal miner enter mine illegal mining operation inside mine know phenomenon illegal processing refinery plant found subsequently destroyed april underground operation expose illegal miner carry security agency operation makeshift gold processing plant bed letter book name list document discover together large quantity extract ore document include gold transaction note photograph point towards identity illegal investigation brought light ore worth zar million extract use processing plant yet site investigator discover material worth zar million ton ore move make ready transport use canvas one arrest operation people found arrest april july mostly mine premise one person arrest outside premise incriminate document evidence encounter group arrest consist national mozambique zimbabwe year old found vary degree involvement illegal enterprise lovemore chaba mlambo identify orchestrate illegal found guilty racketeering money laundering well contravention precious metal act criminal procedure act march virginia circuit court sentence prison sentence range appeal judgment front high court south africa free state division bloemfontein saw appeal reject march appealthe appellant argue caught conduct illegal mining operation respondent counter essential ingredient criminal racketeering activity conspiracy commit organize criminal offence participate unlawful enterprise hence appellant could prosecute racketeering charge even though caught court found implicit agreement among appellant manifest construction illegal refinery plant fact ore extract already laborious effort require collaboration furthermore name illegal miner found documentation seize site follow similar line argumentation court reject challenge establish common purpose organization appellant argue ore value zar million extract zar million ton worth ore found site imply lion share gold could still somewhere mine therefore mine operator would lose ore court deny argument appeal base fact ore encounter already extract prepared future transport turn show group capable remove extract ore mining premise furthermore court argue extract encounter ore would amount quantity ton make significant enough overlook hence unlikely still reside within premise mine paperwork seize illegal mining site document extract ore previously sell outside appellant argue identity perpetrator reasonably establish beyond doubt none appellant found either near shaft mining possession gold ore respondent argue appellant arrest staff mine security surface step elevator lead mine none able identify valid mine identity card yet many possession mining equipment safety head protector cap lamp hence court found unlikely arrest come shaft business mind participate ongoing illegal mining appeal reject',\n",
       "       'summarythe three defendant found guilty multiple count relate run illegal enterprise illegally harvest export abalone march sentence year harvest trading abalone reason concern south africa eastern cape since seaside city port elizabeth consider hub illegal trade abalone declare hotspot criminal enterprise kingpin number abalone mostly sell delicacy asia decline spark government respond issue establish dedicate team seed abalone patrol march member south african police service observe suspicious activity patrol along coast head towards noordhoek observe individual come water load back onto vehicle chase vehicle able arrest one suspect hot pursuit encounter abalone suspect car another suspect work defendant found possession abalone without permit month later south african police service launch investigation operation lead investigator described illegal operation defendant enterprise rely support several people defendant conduct operation basis different participant supply chain would limited knowledge overall operation abalone harvest diver use dive equipment provide accuse harvest abalone would packed marked identification mark respective harvester abalone would load onto motor vehicle driver would take weight house station abalone would sort size shell remove weight base weight diver would paid another driver would take abalone another location would store freezer yet another person would later pick transport processing plant abalone get clean cooked via city gauteng cape town abalone would ultimately ship china sell delicacy',\n",
       "       ...,\n",
       "       'defendant accuse kidnapping child father harbor isolated house detain purpose sell exchange sum money',\n",
       "       'defendant agree third person decease recruit child offer thereto sex exchange sum money show decease homosexual know recruiting young boy sex three carry criminal plan child consent offer',\n",
       "       'case initiate follow police enquiry general police department protection moral provide female entice commit prostitution guise false defendant accuse traffic woman purpose prostitution exchange financial reward operate criminal organize group specific task attract men gulf state entice young girl engage sexual relation guise fake marriage first defendant regard leader criminal organize group responsible arrange false marriage men gulf state third defendant pretend lawyer enable issue false marriage certificate claim orfy contract unofficial marriage contract fourth defendant responsible construct artificial hymen victim would appear virgin order charge high fee client enable two victim age age network exploit family victim financial need promising money financial privilege return marriage claimed girl would marry man mean financially support family'],\n",
       "      dtype=object)"
      ]
     },
     "execution_count": 17,
     "metadata": {},
     "output_type": "execute_result"
    }
   ],
   "source": [
    "X"
   ]
  },
  {
   "cell_type": "code",
   "execution_count": 11,
   "id": "871423e0-703e-4dd5-8e05-2175c1b71c30",
   "metadata": {},
   "outputs": [
    {
     "name": "stdout",
     "output_type": "stream",
     "text": [
      "Found 11260 unique tokens.\n"
     ]
    }
   ],
   "source": [
    "word_index = tokenizer.word_index\n",
    "print('Found %s unique tokens.' % len(word_index))"
   ]
  },
  {
   "cell_type": "code",
   "execution_count": 12,
   "id": "d72245ba-5d34-46e9-8860-738b57c50bba",
   "metadata": {},
   "outputs": [],
   "source": [
    "# integer encode the documents\n",
    "sequences = tokenizer.texts_to_sequences(X)"
   ]
  },
  {
   "cell_type": "code",
   "execution_count": 109,
   "id": "1d40a19e-5ddd-45d1-9ff6-3515881d47ba",
   "metadata": {},
   "outputs": [],
   "source": [
    "# pad documents to a max length of 14 words\n",
    "maxlen = 25\n",
    "X = pad_sequences(sequences, maxlen=maxlen)"
   ]
  },
  {
   "cell_type": "code",
   "execution_count": 110,
   "id": "5dd92fd4-f469-4c08-b6e2-1f90f277c844",
   "metadata": {},
   "outputs": [
    {
     "data": {
      "text/plain": [
       "(1250, 25)"
      ]
     },
     "execution_count": 110,
     "metadata": {},
     "output_type": "execute_result"
    }
   ],
   "source": [
    "X.shape"
   ]
  },
  {
   "cell_type": "code",
   "execution_count": 76,
   "id": "baf4d1ab-8728-4982-8aee-70b001daf48f",
   "metadata": {},
   "outputs": [
    {
     "data": {
      "text/plain": [
       "array([[  42, 1124,  174, ...,  959,   35,   24],\n",
       "       [1242,  589,  149, ..., 1724,   50,  905],\n",
       "       [1242,   96,   27, ...,  770,   95, 4559],\n",
       "       ...,\n",
       "       [   0,    0,    0, ...,  251,  643,   14],\n",
       "       [  27, 3044,  146, ...,   52, 1167,  115],\n",
       "       [  13,    2,  524, ..., 1690,  232,  124]], dtype=int32)"
      ]
     },
     "execution_count": 76,
     "metadata": {},
     "output_type": "execute_result"
    }
   ],
   "source": [
    "X"
   ]
  },
  {
   "cell_type": "code",
   "execution_count": 111,
   "id": "0ded04fc-f90f-4be2-ac9e-43867c4b38a4",
   "metadata": {
    "tags": []
   },
   "outputs": [
    {
     "name": "stdout",
     "output_type": "stream",
     "text": [
      "Counter({1: 882, 0: 368})\n"
     ]
    }
   ],
   "source": [
    "y = dff.sentence.values\n",
    "counter = Counter(y)\n",
    "print(counter)"
   ]
  },
  {
   "cell_type": "markdown",
   "id": "32d85c24-3c25-4b4c-96c9-71278af73438",
   "metadata": {
    "jp-MarkdownHeadingCollapsed": true,
    "tags": []
   },
   "source": [
    "### SMOTE - balance the imbalanced dataset"
   ]
  },
  {
   "cell_type": "code",
   "execution_count": 78,
   "id": "a84f8d8f-bfbd-40c8-b95f-9c5eb9b72f08",
   "metadata": {},
   "outputs": [],
   "source": [
    "from imblearn.over_sampling import SMOTE\n",
    "from imblearn.under_sampling import RandomUnderSampler\n",
    "from imblearn.pipeline import Pipeline\n",
    "# define pipeline\n",
    "over = SMOTE(sampling_strategy=0.5)\n",
    "under = RandomUnderSampler(sampling_strategy=0.8)\n",
    "steps = [('o', over), ('u', under)]\n",
    "pipeline = Pipeline(steps=steps)\n",
    "# transform the dataset\n",
    "X, y = pipeline.fit_resample(X, y)"
   ]
  },
  {
   "cell_type": "code",
   "execution_count": 79,
   "id": "9d810a72-7399-40ac-b0c3-75ca225eae1d",
   "metadata": {},
   "outputs": [
    {
     "data": {
      "text/plain": [
       "((992,), (992, 25))"
      ]
     },
     "execution_count": 79,
     "metadata": {},
     "output_type": "execute_result"
    }
   ],
   "source": [
    "y.shape, X.shape"
   ]
  },
  {
   "cell_type": "code",
   "execution_count": 80,
   "id": "ccd6da14-880c-4586-8633-f7c15e0479d5",
   "metadata": {},
   "outputs": [
    {
     "name": "stdout",
     "output_type": "stream",
     "text": [
      "Counter({1: 551, 0: 441})\n"
     ]
    }
   ],
   "source": [
    "counter = Counter(y)\n",
    "print(counter)"
   ]
  },
  {
   "cell_type": "markdown",
   "id": "ee6c34ac-10f0-4a71-9a4b-e4c6c0602b80",
   "metadata": {},
   "source": [
    "### categorized y"
   ]
  },
  {
   "cell_type": "code",
   "execution_count": 112,
   "id": "6d9cca5e-1d01-4c9e-ac14-cc46315d1b92",
   "metadata": {},
   "outputs": [],
   "source": [
    "# One-hot encoding of labels\n",
    "from keras.utils.np_utils import to_categorical\n",
    "y = to_categorical(y)"
   ]
  },
  {
   "cell_type": "code",
   "execution_count": 113,
   "id": "9dbdc351-9cf4-4661-98da-07f993cd43f9",
   "metadata": {},
   "outputs": [
    {
     "data": {
      "text/plain": [
       "(1250, 2)"
      ]
     },
     "execution_count": 113,
     "metadata": {},
     "output_type": "execute_result"
    }
   ],
   "source": [
    "y.shape"
   ]
  },
  {
   "cell_type": "markdown",
   "id": "da30925a-e6eb-499a-9a5a-63efa2688609",
   "metadata": {},
   "source": [
    "### Split the dataset into training and test sets"
   ]
  },
  {
   "cell_type": "code",
   "execution_count": 114,
   "id": "60d6e7aa-8226-4834-84f7-681046ba2659",
   "metadata": {},
   "outputs": [],
   "source": [
    "X_train, X_test, y_train, y_test = train_test_split(X, y, test_size=0.2, random_state=43)"
   ]
  },
  {
   "cell_type": "code",
   "execution_count": 115,
   "id": "0ae2f15c-cfd4-4e09-9314-dcb531523a5f",
   "metadata": {},
   "outputs": [],
   "source": [
    "X_train, X_eval, y_train, y_eval = train_test_split(X_train, y_train, test_size=0.2, random_state=43)"
   ]
  },
  {
   "cell_type": "code",
   "execution_count": 116,
   "id": "bfb3463b-433b-4b6c-84e9-662b00902407",
   "metadata": {},
   "outputs": [
    {
     "data": {
      "text/plain": [
       "((800, 25), (250, 25), (200, 25))"
      ]
     },
     "execution_count": 116,
     "metadata": {},
     "output_type": "execute_result"
    }
   ],
   "source": [
    "X_train.shape, X_test.shape, X_eval.shape"
   ]
  },
  {
   "cell_type": "markdown",
   "id": "ae2a6d88-76fe-4b0c-b1f0-21c9355377f9",
   "metadata": {},
   "source": [
    "## Modeling - Simple RNN and LSTM"
   ]
  },
  {
   "cell_type": "code",
   "execution_count": 117,
   "id": "8e21c853-420d-4250-8932-ec8b6b70ae3f",
   "metadata": {},
   "outputs": [],
   "source": [
    "# Prepare hyperparameters of RNN\n",
    "vocab_size = len(word_index)+1\n",
    "output_dim = 32"
   ]
  },
  {
   "cell_type": "code",
   "execution_count": 118,
   "id": "88e297c8-b6c0-4a8e-8747-77386f6f802a",
   "metadata": {},
   "outputs": [],
   "source": [
    "# SimpleRNN\n",
    "warnings.filterwarnings(\"ignore\")\n",
    "model = Sequential()\n",
    "model.add(Embedding(input_dim = vocab_size, output_dim = output_dim, input_length = maxlen, embeddings_constraint=maxnorm(3)))\n",
    "model.add(SimpleRNN(output_dim, return_sequences=True, kernel_constraint=maxnorm(3)))\n",
    "model.add(Dropout(0.2))\n",
    "model.add(SimpleRNN(output_dim, return_sequences=True, kernel_constraint=maxnorm(3)))\n",
    "model.add(Dropout(0.2))\n",
    "model.add(SimpleRNN(output_dim))\n",
    "model.add(Dense(2,activation='softmax'))\n",
    "model.compile(loss = 'binary_crossentropy', optimizer='adam', metrics = ['accuracy'])\n",
    "warnings.filterwarnings(\"ignore\")"
   ]
  },
  {
   "cell_type": "code",
   "execution_count": 119,
   "id": "4d73487a-25e9-4559-b81e-dc369571aaf2",
   "metadata": {},
   "outputs": [
    {
     "name": "stdout",
     "output_type": "stream",
     "text": [
      "Model: \"sequential_6\"\n",
      "_________________________________________________________________\n",
      " Layer (type)                Output Shape              Param #   \n",
      "=================================================================\n",
      " embedding_6 (Embedding)     (None, 25, 32)            360352    \n",
      "                                                                 \n",
      " simple_rnn_9 (SimpleRNN)    (None, 25, 32)            2080      \n",
      "                                                                 \n",
      " dropout_12 (Dropout)        (None, 25, 32)            0         \n",
      "                                                                 \n",
      " simple_rnn_10 (SimpleRNN)   (None, 25, 32)            2080      \n",
      "                                                                 \n",
      " dropout_13 (Dropout)        (None, 25, 32)            0         \n",
      "                                                                 \n",
      " simple_rnn_11 (SimpleRNN)   (None, 32)                2080      \n",
      "                                                                 \n",
      " dense_6 (Dense)             (None, 2)                 66        \n",
      "                                                                 \n",
      "=================================================================\n",
      "Total params: 366,658\n",
      "Trainable params: 366,658\n",
      "Non-trainable params: 0\n",
      "_________________________________________________________________\n"
     ]
    }
   ],
   "source": [
    "model.summary()"
   ]
  },
  {
   "cell_type": "code",
   "execution_count": 120,
   "id": "8857889a-a7e0-4193-b888-59bc1e1976ab",
   "metadata": {},
   "outputs": [
    {
     "name": "stdout",
     "output_type": "stream",
     "text": [
      "Epoch 1/10\n",
      "18/18 [==============================] - 4s 49ms/step - loss: 0.6332 - accuracy: 0.6821 - val_loss: 0.6116 - val_accuracy: 0.6917\n",
      "Epoch 2/10\n",
      "18/18 [==============================] - 0s 26ms/step - loss: 0.4794 - accuracy: 0.7893 - val_loss: 0.5794 - val_accuracy: 0.7083\n",
      "Epoch 3/10\n",
      "18/18 [==============================] - 1s 32ms/step - loss: 0.2241 - accuracy: 0.9732 - val_loss: 0.6262 - val_accuracy: 0.6750\n",
      "Epoch 4/10\n",
      "18/18 [==============================] - 1s 29ms/step - loss: 0.0728 - accuracy: 0.9964 - val_loss: 0.6702 - val_accuracy: 0.6750\n",
      "Epoch 5/10\n",
      "18/18 [==============================] - 1s 29ms/step - loss: 0.0413 - accuracy: 0.9964 - val_loss: 0.7228 - val_accuracy: 0.6625\n",
      "Epoch 6/10\n",
      "18/18 [==============================] - 0s 25ms/step - loss: 0.0306 - accuracy: 0.9964 - val_loss: 0.7638 - val_accuracy: 0.6833\n",
      "Epoch 7/10\n",
      "18/18 [==============================] - 0s 26ms/step - loss: 0.0270 - accuracy: 0.9946 - val_loss: 0.7637 - val_accuracy: 0.6792\n",
      "Epoch 8/10\n",
      "18/18 [==============================] - 0s 25ms/step - loss: 0.0264 - accuracy: 0.9964 - val_loss: 0.7959 - val_accuracy: 0.6667\n",
      "Epoch 9/10\n",
      "18/18 [==============================] - 0s 25ms/step - loss: 0.0268 - accuracy: 0.9946 - val_loss: 0.7982 - val_accuracy: 0.6792\n",
      "Epoch 10/10\n",
      "18/18 [==============================] - 0s 26ms/step - loss: 0.0253 - accuracy: 0.9964 - val_loss: 0.7889 - val_accuracy: 0.6917\n",
      "Accuracy: 71.00%\n",
      "Training duration(minutes): 0.1361439347267151\n"
     ]
    }
   ],
   "source": [
    "start = time.time()\n",
    "\n",
    "# Fit the model to the training set\n",
    "rnn_hist = model.fit(X_train, y_train, epochs=10, validation_split=0.3)\n",
    "# Final evaluation of the model\n",
    "rnn_scores = model.evaluate(X_eval, y_eval, verbose=0)\n",
    "print(\"Accuracy: %.2f%%\" % (rnn_scores[1]*100))\n",
    "warnings.filterwarnings(\"ignore\")\n",
    "\n",
    "end = time.time()\n",
    "total = (end-start)/60\n",
    "print('Training duration(minutes): {}'.format(total))"
   ]
  },
  {
   "cell_type": "code",
   "execution_count": 140,
   "id": "b7a55e60-951d-4c6e-82f3-669c6ad8f0d1",
   "metadata": {},
   "outputs": [
    {
     "data": {
      "text/plain": [
       "[0.9833414554595947, 0.7549999952316284]"
      ]
     },
     "execution_count": 140,
     "metadata": {},
     "output_type": "execute_result"
    }
   ],
   "source": [
    "rnn_scores"
   ]
  },
  {
   "cell_type": "code",
   "execution_count": 121,
   "id": "d8a586d7-08e2-4c63-ba2e-c50c62f555c6",
   "metadata": {
    "tags": []
   },
   "outputs": [],
   "source": [
    "# Save the LSTM model\n",
    "model.save('srnn.h5')"
   ]
  },
  {
   "cell_type": "code",
   "execution_count": 145,
   "id": "df3915bc-cd52-4664-9a8b-3ca3cfbe6261",
   "metadata": {
    "tags": []
   },
   "outputs": [
    {
     "name": "stderr",
     "output_type": "stream",
     "text": [
      "2023-04-20 15:54:43.639780: I tensorflow/core/common_runtime/executor.cc:1197] [/device:CPU:0] (DEBUG INFO) Executor start aborting (this does not indicate an error and you can ignore this message): INVALID_ARGUMENT: You must feed a value for placeholder tensor 'gradients/split_2_grad/concat/split_2/split_dim' with dtype int32\n",
      "\t [[{{node gradients/split_2_grad/concat/split_2/split_dim}}]]\n",
      "2023-04-20 15:54:43.641867: I tensorflow/core/common_runtime/executor.cc:1197] [/device:CPU:0] (DEBUG INFO) Executor start aborting (this does not indicate an error and you can ignore this message): INVALID_ARGUMENT: You must feed a value for placeholder tensor 'gradients/split_grad/concat/split/split_dim' with dtype int32\n",
      "\t [[{{node gradients/split_grad/concat/split/split_dim}}]]\n",
      "2023-04-20 15:54:43.643518: I tensorflow/core/common_runtime/executor.cc:1197] [/device:CPU:0] (DEBUG INFO) Executor start aborting (this does not indicate an error and you can ignore this message): INVALID_ARGUMENT: You must feed a value for placeholder tensor 'gradients/split_1_grad/concat/split_1/split_dim' with dtype int32\n",
      "\t [[{{node gradients/split_1_grad/concat/split_1/split_dim}}]]\n",
      "2023-04-20 15:54:43.896108: I tensorflow/core/common_runtime/executor.cc:1197] [/device:CPU:0] (DEBUG INFO) Executor start aborting (this does not indicate an error and you can ignore this message): INVALID_ARGUMENT: You must feed a value for placeholder tensor 'gradients/split_2_grad/concat/split_2/split_dim' with dtype int32\n",
      "\t [[{{node gradients/split_2_grad/concat/split_2/split_dim}}]]\n",
      "2023-04-20 15:54:43.898030: I tensorflow/core/common_runtime/executor.cc:1197] [/device:CPU:0] (DEBUG INFO) Executor start aborting (this does not indicate an error and you can ignore this message): INVALID_ARGUMENT: You must feed a value for placeholder tensor 'gradients/split_grad/concat/split/split_dim' with dtype int32\n",
      "\t [[{{node gradients/split_grad/concat/split/split_dim}}]]\n",
      "2023-04-20 15:54:43.899526: I tensorflow/core/common_runtime/executor.cc:1197] [/device:CPU:0] (DEBUG INFO) Executor start aborting (this does not indicate an error and you can ignore this message): INVALID_ARGUMENT: You must feed a value for placeholder tensor 'gradients/split_1_grad/concat/split_1/split_dim' with dtype int32\n",
      "\t [[{{node gradients/split_1_grad/concat/split_1/split_dim}}]]\n",
      "2023-04-20 15:54:44.173159: I tensorflow/core/common_runtime/executor.cc:1197] [/device:CPU:0] (DEBUG INFO) Executor start aborting (this does not indicate an error and you can ignore this message): INVALID_ARGUMENT: You must feed a value for placeholder tensor 'gradients/split_2_grad/concat/split_2/split_dim' with dtype int32\n",
      "\t [[{{node gradients/split_2_grad/concat/split_2/split_dim}}]]\n",
      "2023-04-20 15:54:44.175105: I tensorflow/core/common_runtime/executor.cc:1197] [/device:CPU:0] (DEBUG INFO) Executor start aborting (this does not indicate an error and you can ignore this message): INVALID_ARGUMENT: You must feed a value for placeholder tensor 'gradients/split_grad/concat/split/split_dim' with dtype int32\n",
      "\t [[{{node gradients/split_grad/concat/split/split_dim}}]]\n",
      "2023-04-20 15:54:44.176452: I tensorflow/core/common_runtime/executor.cc:1197] [/device:CPU:0] (DEBUG INFO) Executor start aborting (this does not indicate an error and you can ignore this message): INVALID_ARGUMENT: You must feed a value for placeholder tensor 'gradients/split_1_grad/concat/split_1/split_dim' with dtype int32\n",
      "\t [[{{node gradients/split_1_grad/concat/split_1/split_dim}}]]\n"
     ]
    }
   ],
   "source": [
    "# LSTM\n",
    "model = Sequential()\n",
    "model.add(Embedding(input_dim = vocab_size, output_dim = output_dim, input_length = maxlen, embeddings_constraint=maxnorm(3)))\n",
    "model.add(LSTM(20, return_sequences=True, kernel_constraint=maxnorm(3)))\n",
    "model.add(Dropout(0.2))\n",
    "model.add(LSTM(10, return_sequences=True, kernel_constraint=maxnorm(3)))\n",
    "model.add(Dropout(0.2))\n",
    "model.add(LSTM(5, kernel_constraint=maxnorm(3)))\n",
    "model.add(Dense(2,activation='softmax'))\n",
    "model.compile(loss = 'categorical_crossentropy', optimizer='adam', metrics = ['accuracy'])\n",
    "warnings.filterwarnings(\"ignore\")"
   ]
  },
  {
   "cell_type": "code",
   "execution_count": 146,
   "id": "f2337d73-db08-493c-b29a-1b43da7a1685",
   "metadata": {},
   "outputs": [
    {
     "name": "stdout",
     "output_type": "stream",
     "text": [
      "Model: \"sequential_9\"\n",
      "_________________________________________________________________\n",
      " Layer (type)                Output Shape              Param #   \n",
      "=================================================================\n",
      " embedding_9 (Embedding)     (None, 25, 32)            360352    \n",
      "                                                                 \n",
      " lstm_15 (LSTM)              (None, 25, 20)            4240      \n",
      "                                                                 \n",
      " dropout_18 (Dropout)        (None, 25, 20)            0         \n",
      "                                                                 \n",
      " lstm_16 (LSTM)              (None, 25, 10)            1240      \n",
      "                                                                 \n",
      " dropout_19 (Dropout)        (None, 25, 10)            0         \n",
      "                                                                 \n",
      " lstm_17 (LSTM)              (None, 5)                 320       \n",
      "                                                                 \n",
      " dense_9 (Dense)             (None, 2)                 12        \n",
      "                                                                 \n",
      "=================================================================\n",
      "Total params: 366,164\n",
      "Trainable params: 366,164\n",
      "Non-trainable params: 0\n",
      "_________________________________________________________________\n"
     ]
    }
   ],
   "source": [
    "model.summary()"
   ]
  },
  {
   "cell_type": "code",
   "execution_count": 147,
   "id": "0cd225bc-73a3-4a70-949c-4595973d1b33",
   "metadata": {},
   "outputs": [],
   "source": [
    "# Save the LSTM model\n",
    "model.save('lstm.h5')"
   ]
  },
  {
   "cell_type": "code",
   "execution_count": 148,
   "id": "6d3f1368-0476-4107-a99a-2e54350622d8",
   "metadata": {},
   "outputs": [
    {
     "name": "stdout",
     "output_type": "stream",
     "text": [
      "Epoch 1/10\n"
     ]
    },
    {
     "name": "stderr",
     "output_type": "stream",
     "text": [
      "2023-04-20 15:54:47.548467: I tensorflow/core/common_runtime/executor.cc:1197] [/device:CPU:0] (DEBUG INFO) Executor start aborting (this does not indicate an error and you can ignore this message): INVALID_ARGUMENT: You must feed a value for placeholder tensor 'gradients/split_2_grad/concat/split_2/split_dim' with dtype int32\n",
      "\t [[{{node gradients/split_2_grad/concat/split_2/split_dim}}]]\n",
      "2023-04-20 15:54:47.550398: I tensorflow/core/common_runtime/executor.cc:1197] [/device:CPU:0] (DEBUG INFO) Executor start aborting (this does not indicate an error and you can ignore this message): INVALID_ARGUMENT: You must feed a value for placeholder tensor 'gradients/split_grad/concat/split/split_dim' with dtype int32\n",
      "\t [[{{node gradients/split_grad/concat/split/split_dim}}]]\n",
      "2023-04-20 15:54:47.552087: I tensorflow/core/common_runtime/executor.cc:1197] [/device:CPU:0] (DEBUG INFO) Executor start aborting (this does not indicate an error and you can ignore this message): INVALID_ARGUMENT: You must feed a value for placeholder tensor 'gradients/split_1_grad/concat/split_1/split_dim' with dtype int32\n",
      "\t [[{{node gradients/split_1_grad/concat/split_1/split_dim}}]]\n",
      "2023-04-20 15:54:47.780688: I tensorflow/core/common_runtime/executor.cc:1197] [/device:CPU:0] (DEBUG INFO) Executor start aborting (this does not indicate an error and you can ignore this message): INVALID_ARGUMENT: You must feed a value for placeholder tensor 'gradients/split_2_grad/concat/split_2/split_dim' with dtype int32\n",
      "\t [[{{node gradients/split_2_grad/concat/split_2/split_dim}}]]\n",
      "2023-04-20 15:54:47.783683: I tensorflow/core/common_runtime/executor.cc:1197] [/device:CPU:0] (DEBUG INFO) Executor start aborting (this does not indicate an error and you can ignore this message): INVALID_ARGUMENT: You must feed a value for placeholder tensor 'gradients/split_grad/concat/split/split_dim' with dtype int32\n",
      "\t [[{{node gradients/split_grad/concat/split/split_dim}}]]\n",
      "2023-04-20 15:54:47.786208: I tensorflow/core/common_runtime/executor.cc:1197] [/device:CPU:0] (DEBUG INFO) Executor start aborting (this does not indicate an error and you can ignore this message): INVALID_ARGUMENT: You must feed a value for placeholder tensor 'gradients/split_1_grad/concat/split_1/split_dim' with dtype int32\n",
      "\t [[{{node gradients/split_1_grad/concat/split_1/split_dim}}]]\n",
      "2023-04-20 15:54:48.018666: I tensorflow/core/common_runtime/executor.cc:1197] [/device:CPU:0] (DEBUG INFO) Executor start aborting (this does not indicate an error and you can ignore this message): INVALID_ARGUMENT: You must feed a value for placeholder tensor 'gradients/split_2_grad/concat/split_2/split_dim' with dtype int32\n",
      "\t [[{{node gradients/split_2_grad/concat/split_2/split_dim}}]]\n",
      "2023-04-20 15:54:48.020942: I tensorflow/core/common_runtime/executor.cc:1197] [/device:CPU:0] (DEBUG INFO) Executor start aborting (this does not indicate an error and you can ignore this message): INVALID_ARGUMENT: You must feed a value for placeholder tensor 'gradients/split_grad/concat/split/split_dim' with dtype int32\n",
      "\t [[{{node gradients/split_grad/concat/split/split_dim}}]]\n",
      "2023-04-20 15:54:48.022546: I tensorflow/core/common_runtime/executor.cc:1197] [/device:CPU:0] (DEBUG INFO) Executor start aborting (this does not indicate an error and you can ignore this message): INVALID_ARGUMENT: You must feed a value for placeholder tensor 'gradients/split_1_grad/concat/split_1/split_dim' with dtype int32\n",
      "\t [[{{node gradients/split_1_grad/concat/split_1/split_dim}}]]\n",
      "2023-04-20 15:54:49.425928: I tensorflow/core/common_runtime/executor.cc:1197] [/device:CPU:0] (DEBUG INFO) Executor start aborting (this does not indicate an error and you can ignore this message): INVALID_ARGUMENT: You must feed a value for placeholder tensor 'gradients/split_2_grad/concat/split_2/split_dim' with dtype int32\n",
      "\t [[{{node gradients/split_2_grad/concat/split_2/split_dim}}]]\n",
      "2023-04-20 15:54:49.428349: I tensorflow/core/common_runtime/executor.cc:1197] [/device:CPU:0] (DEBUG INFO) Executor start aborting (this does not indicate an error and you can ignore this message): INVALID_ARGUMENT: You must feed a value for placeholder tensor 'gradients/split_grad/concat/split/split_dim' with dtype int32\n",
      "\t [[{{node gradients/split_grad/concat/split/split_dim}}]]\n",
      "2023-04-20 15:54:49.430226: I tensorflow/core/common_runtime/executor.cc:1197] [/device:CPU:0] (DEBUG INFO) Executor start aborting (this does not indicate an error and you can ignore this message): INVALID_ARGUMENT: You must feed a value for placeholder tensor 'gradients/split_1_grad/concat/split_1/split_dim' with dtype int32\n",
      "\t [[{{node gradients/split_1_grad/concat/split_1/split_dim}}]]\n",
      "2023-04-20 15:54:49.645636: I tensorflow/core/common_runtime/executor.cc:1197] [/device:CPU:0] (DEBUG INFO) Executor start aborting (this does not indicate an error and you can ignore this message): INVALID_ARGUMENT: You must feed a value for placeholder tensor 'gradients/split_2_grad/concat/split_2/split_dim' with dtype int32\n",
      "\t [[{{node gradients/split_2_grad/concat/split_2/split_dim}}]]\n",
      "2023-04-20 15:54:49.648353: I tensorflow/core/common_runtime/executor.cc:1197] [/device:CPU:0] (DEBUG INFO) Executor start aborting (this does not indicate an error and you can ignore this message): INVALID_ARGUMENT: You must feed a value for placeholder tensor 'gradients/split_grad/concat/split/split_dim' with dtype int32\n",
      "\t [[{{node gradients/split_grad/concat/split/split_dim}}]]\n",
      "2023-04-20 15:54:49.650459: I tensorflow/core/common_runtime/executor.cc:1197] [/device:CPU:0] (DEBUG INFO) Executor start aborting (this does not indicate an error and you can ignore this message): INVALID_ARGUMENT: You must feed a value for placeholder tensor 'gradients/split_1_grad/concat/split_1/split_dim' with dtype int32\n",
      "\t [[{{node gradients/split_1_grad/concat/split_1/split_dim}}]]\n",
      "2023-04-20 15:54:49.873156: I tensorflow/core/common_runtime/executor.cc:1197] [/device:CPU:0] (DEBUG INFO) Executor start aborting (this does not indicate an error and you can ignore this message): INVALID_ARGUMENT: You must feed a value for placeholder tensor 'gradients/split_2_grad/concat/split_2/split_dim' with dtype int32\n",
      "\t [[{{node gradients/split_2_grad/concat/split_2/split_dim}}]]\n",
      "2023-04-20 15:54:49.875655: I tensorflow/core/common_runtime/executor.cc:1197] [/device:CPU:0] (DEBUG INFO) Executor start aborting (this does not indicate an error and you can ignore this message): INVALID_ARGUMENT: You must feed a value for placeholder tensor 'gradients/split_grad/concat/split/split_dim' with dtype int32\n",
      "\t [[{{node gradients/split_grad/concat/split/split_dim}}]]\n",
      "2023-04-20 15:54:49.877349: I tensorflow/core/common_runtime/executor.cc:1197] [/device:CPU:0] (DEBUG INFO) Executor start aborting (this does not indicate an error and you can ignore this message): INVALID_ARGUMENT: You must feed a value for placeholder tensor 'gradients/split_1_grad/concat/split_1/split_dim' with dtype int32\n",
      "\t [[{{node gradients/split_1_grad/concat/split_1/split_dim}}]]\n"
     ]
    },
    {
     "name": "stdout",
     "output_type": "stream",
     "text": [
      "17/18 [===========================>..] - ETA: 0s - loss: 0.6384 - accuracy: 0.7096"
     ]
    },
    {
     "name": "stderr",
     "output_type": "stream",
     "text": [
      "2023-04-20 15:54:53.016805: I tensorflow/core/common_runtime/executor.cc:1197] [/device:CPU:0] (DEBUG INFO) Executor start aborting (this does not indicate an error and you can ignore this message): INVALID_ARGUMENT: You must feed a value for placeholder tensor 'gradients/split_2_grad/concat/split_2/split_dim' with dtype int32\n",
      "\t [[{{node gradients/split_2_grad/concat/split_2/split_dim}}]]\n",
      "2023-04-20 15:54:53.018496: I tensorflow/core/common_runtime/executor.cc:1197] [/device:CPU:0] (DEBUG INFO) Executor start aborting (this does not indicate an error and you can ignore this message): INVALID_ARGUMENT: You must feed a value for placeholder tensor 'gradients/split_grad/concat/split/split_dim' with dtype int32\n",
      "\t [[{{node gradients/split_grad/concat/split/split_dim}}]]\n",
      "2023-04-20 15:54:53.019788: I tensorflow/core/common_runtime/executor.cc:1197] [/device:CPU:0] (DEBUG INFO) Executor start aborting (this does not indicate an error and you can ignore this message): INVALID_ARGUMENT: You must feed a value for placeholder tensor 'gradients/split_1_grad/concat/split_1/split_dim' with dtype int32\n",
      "\t [[{{node gradients/split_1_grad/concat/split_1/split_dim}}]]\n",
      "2023-04-20 15:54:53.217520: I tensorflow/core/common_runtime/executor.cc:1197] [/device:CPU:0] (DEBUG INFO) Executor start aborting (this does not indicate an error and you can ignore this message): INVALID_ARGUMENT: You must feed a value for placeholder tensor 'gradients/split_2_grad/concat/split_2/split_dim' with dtype int32\n",
      "\t [[{{node gradients/split_2_grad/concat/split_2/split_dim}}]]\n",
      "2023-04-20 15:54:53.220268: I tensorflow/core/common_runtime/executor.cc:1197] [/device:CPU:0] (DEBUG INFO) Executor start aborting (this does not indicate an error and you can ignore this message): INVALID_ARGUMENT: You must feed a value for placeholder tensor 'gradients/split_grad/concat/split/split_dim' with dtype int32\n",
      "\t [[{{node gradients/split_grad/concat/split/split_dim}}]]\n",
      "2023-04-20 15:54:53.222994: I tensorflow/core/common_runtime/executor.cc:1197] [/device:CPU:0] (DEBUG INFO) Executor start aborting (this does not indicate an error and you can ignore this message): INVALID_ARGUMENT: You must feed a value for placeholder tensor 'gradients/split_1_grad/concat/split_1/split_dim' with dtype int32\n",
      "\t [[{{node gradients/split_1_grad/concat/split_1/split_dim}}]]\n",
      "2023-04-20 15:54:53.435876: I tensorflow/core/common_runtime/executor.cc:1197] [/device:CPU:0] (DEBUG INFO) Executor start aborting (this does not indicate an error and you can ignore this message): INVALID_ARGUMENT: You must feed a value for placeholder tensor 'gradients/split_2_grad/concat/split_2/split_dim' with dtype int32\n",
      "\t [[{{node gradients/split_2_grad/concat/split_2/split_dim}}]]\n",
      "2023-04-20 15:54:53.438445: I tensorflow/core/common_runtime/executor.cc:1197] [/device:CPU:0] (DEBUG INFO) Executor start aborting (this does not indicate an error and you can ignore this message): INVALID_ARGUMENT: You must feed a value for placeholder tensor 'gradients/split_grad/concat/split/split_dim' with dtype int32\n",
      "\t [[{{node gradients/split_grad/concat/split/split_dim}}]]\n",
      "2023-04-20 15:54:53.440548: I tensorflow/core/common_runtime/executor.cc:1197] [/device:CPU:0] (DEBUG INFO) Executor start aborting (this does not indicate an error and you can ignore this message): INVALID_ARGUMENT: You must feed a value for placeholder tensor 'gradients/split_1_grad/concat/split_1/split_dim' with dtype int32\n",
      "\t [[{{node gradients/split_1_grad/concat/split_1/split_dim}}]]\n"
     ]
    },
    {
     "name": "stdout",
     "output_type": "stream",
     "text": [
      "18/18 [==============================] - 7s 98ms/step - loss: 0.6367 - accuracy: 0.7107 - val_loss: 0.6116 - val_accuracy: 0.6917\n",
      "Epoch 2/10\n",
      "18/18 [==============================] - 1s 42ms/step - loss: 0.5634 - accuracy: 0.7196 - val_loss: 0.5993 - val_accuracy: 0.6917\n",
      "Epoch 3/10\n",
      "18/18 [==============================] - 1s 40ms/step - loss: 0.4172 - accuracy: 0.8000 - val_loss: 0.5100 - val_accuracy: 0.7750\n",
      "Epoch 4/10\n",
      "18/18 [==============================] - 1s 39ms/step - loss: 0.1987 - accuracy: 0.9786 - val_loss: 0.5975 - val_accuracy: 0.7542\n",
      "Epoch 5/10\n",
      "18/18 [==============================] - 1s 39ms/step - loss: 0.1399 - accuracy: 0.9875 - val_loss: 0.6625 - val_accuracy: 0.7042\n",
      "Epoch 6/10\n",
      "18/18 [==============================] - 1s 39ms/step - loss: 0.1074 - accuracy: 0.9946 - val_loss: 0.7264 - val_accuracy: 0.6833\n",
      "Epoch 7/10\n",
      "18/18 [==============================] - 1s 39ms/step - loss: 0.0870 - accuracy: 0.9964 - val_loss: 0.7148 - val_accuracy: 0.7375\n",
      "Epoch 8/10\n",
      "18/18 [==============================] - 1s 40ms/step - loss: 0.0754 - accuracy: 0.9964 - val_loss: 0.7487 - val_accuracy: 0.7250\n",
      "Epoch 9/10\n",
      "18/18 [==============================] - 1s 40ms/step - loss: 0.0669 - accuracy: 0.9964 - val_loss: 0.7877 - val_accuracy: 0.7167\n",
      "Epoch 10/10\n",
      "18/18 [==============================] - 1s 39ms/step - loss: 0.0603 - accuracy: 0.9964 - val_loss: 0.8469 - val_accuracy: 0.6958\n",
      "Accuracy: 77.00%\n",
      "Training duration(minutes): 0.22020960251490276\n"
     ]
    }
   ],
   "source": [
    "start = time.time()\n",
    "\n",
    "# Fit the model to the training set\n",
    "lstm_hist = model.fit(X_train, y_train, epochs=10, validation_split=0.3)\n",
    "# Final evaluation of the model\n",
    "warnings.filterwarnings(\"ignore\")\n",
    "lstm_scores = model.evaluate(X_eval, y_eval, verbose=0)\n",
    "print(\"Accuracy: %.2f%%\" % (lstm_scores[1]*100))\n",
    "warnings.filterwarnings(\"ignore\")\n",
    "end = time.time()\n",
    "total = (end-start)/60\n",
    "print('Training duration(minutes): {}'.format(total))"
   ]
  },
  {
   "cell_type": "code",
   "execution_count": null,
   "id": "bb77bccc-0a6a-4966-9c6e-4655b1400b96",
   "metadata": {},
   "outputs": [],
   "source": [
    "lstm_score"
   ]
  },
  {
   "cell_type": "code",
   "execution_count": 126,
   "id": "716f3ef8-1cfc-4094-8c49-461d1cc52055",
   "metadata": {
    "tags": []
   },
   "outputs": [],
   "source": [
    "# Accuracy\n",
    "# maxlen = 100\n",
    "srnn_acc = 60.38\n",
    "lstm_acc = 67.92\n",
    "# maxlen = 50\n",
    "srnn_acc = 53.46\n",
    "lstm_acc = 70.44\n",
    "# maxlen = 25\n",
    "srnn_acc = 60.38\n",
    "lstm_acc = 71.70"
   ]
  },
  {
   "cell_type": "markdown",
   "id": "5c597aa2-9c0e-46e6-b1fd-20425896b348",
   "metadata": {},
   "source": [
    "### Model Evaluation"
   ]
  },
  {
   "cell_type": "markdown",
   "id": "e598f665-3ae6-4659-80a0-3180bb0fbaf0",
   "metadata": {},
   "source": [
    "#### SimpleRNN Result"
   ]
  },
  {
   "cell_type": "code",
   "execution_count": 127,
   "id": "0be2cc8f-b334-48e7-89fc-cfc39e4655a3",
   "metadata": {
    "tags": []
   },
   "outputs": [],
   "source": [
    "# rnn_hist.history"
   ]
  },
  {
   "cell_type": "code",
   "execution_count": 128,
   "id": "07c52469-2d1d-4c9c-8a2d-093c62aa96c6",
   "metadata": {},
   "outputs": [
    {
     "data": {
      "image/png": "[encoded data removed]",
      "text/plain": [
       "<Figure size 640x480 with 1 Axes>"
      ]
     },
     "metadata": {},
     "output_type": "display_data"
    }
   ],
   "source": [
    "import matplotlib.pyplot as plt\n",
    "acc = rnn_hist.history['accuracy']\n",
    "val_acc = rnn_hist.history['val_accuracy']\n",
    "loss = rnn_hist.history['loss']\n",
    "val_loss = rnn_hist.history['val_loss']\n",
    "epochs = range(1, len(acc)+1)\n",
    "_ = plt.plot(epochs, acc, 'r', label='Training acc')\n",
    "_ = plt.plot(epochs, val_acc, 'b', label='Validation acc')\n",
    "_ = plt.title('SimpleRNN: Training and validation accuracy')\n",
    "_ = plt.xlabel('Epoch')\n",
    "_ = plt.ylabel('Accuracy')\n",
    "_ = plt.legend(loc='best')\n",
    "plt.show()"
   ]
  },
  {
   "cell_type": "code",
   "execution_count": 129,
   "id": "4dc17c44-87e7-41f6-a5ff-8439e91805dc",
   "metadata": {},
   "outputs": [
    {
     "data": {
      "image/png": "[encoded data removed]",
      "text/plain": [
       "<Figure size 640x480 with 1 Axes>"
      ]
     },
     "metadata": {},
     "output_type": "display_data"
    }
   ],
   "source": [
    "_ = plt.plot(epochs, loss, 'r', label='Training loss')\n",
    "_ = plt.plot(epochs, val_loss, 'b', label='Validation loss')\n",
    "_ = plt.title('SimpleRNN: Training and validation loss')\n",
    "_ = plt.xlabel('Epoch')\n",
    "_ = plt.ylabel('Loss')\n",
    "_ = plt.legend(loc='best')\n",
    "plt.show()"
   ]
  },
  {
   "cell_type": "markdown",
   "id": "fabeea11-41c7-4e62-836b-c5144cbca8fa",
   "metadata": {},
   "source": [
    "#### LSTM Result"
   ]
  },
  {
   "cell_type": "code",
   "execution_count": 149,
   "id": "33f52465-f902-4fb7-855b-d93d7661d317",
   "metadata": {},
   "outputs": [
    {
     "data": {
      "image/png": "[encoded data removed]",
      "text/plain": [
       "<Figure size 640x480 with 1 Axes>"
      ]
     },
     "metadata": {},
     "output_type": "display_data"
    }
   ],
   "source": [
    "import matplotlib.pyplot as plt\n",
    "acc = lstm_hist.history['accuracy']\n",
    "val_acc = lstm_hist.history['val_accuracy']\n",
    "loss = lstm_hist.history['loss']\n",
    "val_loss = lstm_hist.history['val_loss']\n",
    "epochs = range(1, len(acc)+1)\n",
    "_ = plt.plot(epochs, acc, 'r', label='Training acc')\n",
    "_ = plt.plot(epochs, val_acc, 'b', label='Validation acc')\n",
    "_ = plt.title('LSTM: Training and validation accuracy')\n",
    "_ = plt.xlabel('Epoch')\n",
    "_ = plt.ylabel('Accuracy')\n",
    "_ = plt.legend(loc='best')\n",
    "plt.show()"
   ]
  },
  {
   "cell_type": "code",
   "execution_count": 131,
   "id": "b782286c-223e-43c4-a537-1a7da6f3c366",
   "metadata": {},
   "outputs": [
    {
     "data": {
      "image/png": "[encoded data removed]",
      "text/plain": [
       "<Figure size 640x480 with 1 Axes>"
      ]
     },
     "metadata": {},
     "output_type": "display_data"
    }
   ],
   "source": [
    "_ = plt.plot(epochs, loss, 'r', label='Training loss')\n",
    "_ = plt.plot(epochs, val_loss, 'b', label='Validation loss')\n",
    "_ = plt.title('LSTM: Training and validation loss')\n",
    "_ = plt.xlabel('Epoch')\n",
    "_ = plt.ylabel('Loss')\n",
    "_ = plt.legend(loc='best')\n",
    "plt.show()"
   ]
  },
  {
   "cell_type": "code",
   "execution_count": null,
   "id": "bb954c1b-6152-4237-bbc3-a0a3e7a43b2b",
   "metadata": {},
   "outputs": [],
   "source": []
  },
  {
   "cell_type": "markdown",
   "id": "2ab01cf3-655a-4b1f-82eb-5fac02fdb18e",
   "metadata": {},
   "source": [
    "### Predict with the LSTM model"
   ]
  },
  {
   "cell_type": "code",
   "execution_count": 132,
   "id": "a80fd1b8-cceb-4411-a1b9-ca98b7651c90",
   "metadata": {},
   "outputs": [
    {
     "name": "stderr",
     "output_type": "stream",
     "text": [
      "2023-04-20 15:18:11.714216: I tensorflow/core/common_runtime/executor.cc:1197] [/device:CPU:0] (DEBUG INFO) Executor start aborting (this does not indicate an error and you can ignore this message): INVALID_ARGUMENT: You must feed a value for placeholder tensor 'gradients/split_2_grad/concat/split_2/split_dim' with dtype int32\n",
      "\t [[{{node gradients/split_2_grad/concat/split_2/split_dim}}]]\n",
      "2023-04-20 15:18:11.718232: I tensorflow/core/common_runtime/executor.cc:1197] [/device:CPU:0] (DEBUG INFO) Executor start aborting (this does not indicate an error and you can ignore this message): INVALID_ARGUMENT: You must feed a value for placeholder tensor 'gradients/split_grad/concat/split/split_dim' with dtype int32\n",
      "\t [[{{node gradients/split_grad/concat/split/split_dim}}]]\n",
      "2023-04-20 15:18:11.720163: I tensorflow/core/common_runtime/executor.cc:1197] [/device:CPU:0] (DEBUG INFO) Executor start aborting (this does not indicate an error and you can ignore this message): INVALID_ARGUMENT: You must feed a value for placeholder tensor 'gradients/split_1_grad/concat/split_1/split_dim' with dtype int32\n",
      "\t [[{{node gradients/split_1_grad/concat/split_1/split_dim}}]]\n",
      "2023-04-20 15:18:12.015246: I tensorflow/core/common_runtime/executor.cc:1197] [/device:CPU:0] (DEBUG INFO) Executor start aborting (this does not indicate an error and you can ignore this message): INVALID_ARGUMENT: You must feed a value for placeholder tensor 'gradients/split_2_grad/concat/split_2/split_dim' with dtype int32\n",
      "\t [[{{node gradients/split_2_grad/concat/split_2/split_dim}}]]\n",
      "2023-04-20 15:18:12.017423: I tensorflow/core/common_runtime/executor.cc:1197] [/device:CPU:0] (DEBUG INFO) Executor start aborting (this does not indicate an error and you can ignore this message): INVALID_ARGUMENT: You must feed a value for placeholder tensor 'gradients/split_grad/concat/split/split_dim' with dtype int32\n",
      "\t [[{{node gradients/split_grad/concat/split/split_dim}}]]\n",
      "2023-04-20 15:18:12.018952: I tensorflow/core/common_runtime/executor.cc:1197] [/device:CPU:0] (DEBUG INFO) Executor start aborting (this does not indicate an error and you can ignore this message): INVALID_ARGUMENT: You must feed a value for placeholder tensor 'gradients/split_1_grad/concat/split_1/split_dim' with dtype int32\n",
      "\t [[{{node gradients/split_1_grad/concat/split_1/split_dim}}]]\n",
      "2023-04-20 15:18:12.276514: I tensorflow/core/common_runtime/executor.cc:1197] [/device:CPU:0] (DEBUG INFO) Executor start aborting (this does not indicate an error and you can ignore this message): INVALID_ARGUMENT: You must feed a value for placeholder tensor 'gradients/split_2_grad/concat/split_2/split_dim' with dtype int32\n",
      "\t [[{{node gradients/split_2_grad/concat/split_2/split_dim}}]]\n",
      "2023-04-20 15:18:12.278656: I tensorflow/core/common_runtime/executor.cc:1197] [/device:CPU:0] (DEBUG INFO) Executor start aborting (this does not indicate an error and you can ignore this message): INVALID_ARGUMENT: You must feed a value for placeholder tensor 'gradients/split_grad/concat/split/split_dim' with dtype int32\n",
      "\t [[{{node gradients/split_grad/concat/split/split_dim}}]]\n",
      "2023-04-20 15:18:12.280057: I tensorflow/core/common_runtime/executor.cc:1197] [/device:CPU:0] (DEBUG INFO) Executor start aborting (this does not indicate an error and you can ignore this message): INVALID_ARGUMENT: You must feed a value for placeholder tensor 'gradients/split_1_grad/concat/split_1/split_dim' with dtype int32\n",
      "\t [[{{node gradients/split_1_grad/concat/split_1/split_dim}}]]\n"
     ]
    }
   ],
   "source": [
    "from keras.models import load_model\n",
    "lstm = load_model('lstm.h5')\n",
    "warnings.filterwarnings(\"ignore\")"
   ]
  },
  {
   "cell_type": "code",
   "execution_count": 133,
   "id": "1ecb1767-821a-44da-9703-59ab6e1d63c8",
   "metadata": {},
   "outputs": [
    {
     "name": "stdout",
     "output_type": "stream",
     "text": [
      "Model: \"sequential_7\"\n",
      "_________________________________________________________________\n",
      " Layer (type)                Output Shape              Param #   \n",
      "=================================================================\n",
      " embedding_7 (Embedding)     (None, 25, 32)            360352    \n",
      "                                                                 \n",
      " lstm_9 (LSTM)               (None, 25, 32)            8320      \n",
      "                                                                 \n",
      " dropout_14 (Dropout)        (None, 25, 32)            0         \n",
      "                                                                 \n",
      " lstm_10 (LSTM)              (None, 25, 32)            8320      \n",
      "                                                                 \n",
      " dropout_15 (Dropout)        (None, 25, 32)            0         \n",
      "                                                                 \n",
      " lstm_11 (LSTM)              (None, 32)                8320      \n",
      "                                                                 \n",
      " dense_7 (Dense)             (None, 2)                 66        \n",
      "                                                                 \n",
      "=================================================================\n",
      "Total params: 385,378\n",
      "Trainable params: 385,378\n",
      "Non-trainable params: 0\n",
      "_________________________________________________________________\n"
     ]
    }
   ],
   "source": [
    "lstm.summary()"
   ]
  },
  {
   "cell_type": "code",
   "execution_count": 134,
   "id": "d403b15e-856f-4493-8471-47238b55d254",
   "metadata": {},
   "outputs": [
    {
     "data": {
      "text/plain": [
       "Counter({0.0: 250, 1.0: 250})"
      ]
     },
     "execution_count": 134,
     "metadata": {},
     "output_type": "execute_result"
    }
   ],
   "source": [
    "# list(itertools.chain.from_iterable(X_test))\n",
    "Counter(list(itertools.chain.from_iterable(y_test)))"
   ]
  },
  {
   "cell_type": "code",
   "execution_count": 135,
   "id": "df064da1-ca63-4790-bee9-166b5ad54776",
   "metadata": {
    "tags": []
   },
   "outputs": [
    {
     "name": "stderr",
     "output_type": "stream",
     "text": [
      "2023-04-20 15:21:23.956803: I tensorflow/core/common_runtime/executor.cc:1197] [/device:CPU:0] (DEBUG INFO) Executor start aborting (this does not indicate an error and you can ignore this message): INVALID_ARGUMENT: You must feed a value for placeholder tensor 'gradients/split_2_grad/concat/split_2/split_dim' with dtype int32\n",
      "\t [[{{node gradients/split_2_grad/concat/split_2/split_dim}}]]\n",
      "2023-04-20 15:21:23.959581: I tensorflow/core/common_runtime/executor.cc:1197] [/device:CPU:0] (DEBUG INFO) Executor start aborting (this does not indicate an error and you can ignore this message): INVALID_ARGUMENT: You must feed a value for placeholder tensor 'gradients/split_grad/concat/split/split_dim' with dtype int32\n",
      "\t [[{{node gradients/split_grad/concat/split/split_dim}}]]\n",
      "2023-04-20 15:21:23.961423: I tensorflow/core/common_runtime/executor.cc:1197] [/device:CPU:0] (DEBUG INFO) Executor start aborting (this does not indicate an error and you can ignore this message): INVALID_ARGUMENT: You must feed a value for placeholder tensor 'gradients/split_1_grad/concat/split_1/split_dim' with dtype int32\n",
      "\t [[{{node gradients/split_1_grad/concat/split_1/split_dim}}]]\n",
      "2023-04-20 15:21:24.180487: I tensorflow/core/common_runtime/executor.cc:1197] [/device:CPU:0] (DEBUG INFO) Executor start aborting (this does not indicate an error and you can ignore this message): INVALID_ARGUMENT: You must feed a value for placeholder tensor 'gradients/split_2_grad/concat/split_2/split_dim' with dtype int32\n",
      "\t [[{{node gradients/split_2_grad/concat/split_2/split_dim}}]]\n",
      "2023-04-20 15:21:24.182419: I tensorflow/core/common_runtime/executor.cc:1197] [/device:CPU:0] (DEBUG INFO) Executor start aborting (this does not indicate an error and you can ignore this message): INVALID_ARGUMENT: You must feed a value for placeholder tensor 'gradients/split_grad/concat/split/split_dim' with dtype int32\n",
      "\t [[{{node gradients/split_grad/concat/split/split_dim}}]]\n",
      "2023-04-20 15:21:24.184584: I tensorflow/core/common_runtime/executor.cc:1197] [/device:CPU:0] (DEBUG INFO) Executor start aborting (this does not indicate an error and you can ignore this message): INVALID_ARGUMENT: You must feed a value for placeholder tensor 'gradients/split_1_grad/concat/split_1/split_dim' with dtype int32\n",
      "\t [[{{node gradients/split_1_grad/concat/split_1/split_dim}}]]\n",
      "2023-04-20 15:21:24.408536: I tensorflow/core/common_runtime/executor.cc:1197] [/device:CPU:0] (DEBUG INFO) Executor start aborting (this does not indicate an error and you can ignore this message): INVALID_ARGUMENT: You must feed a value for placeholder tensor 'gradients/split_2_grad/concat/split_2/split_dim' with dtype int32\n",
      "\t [[{{node gradients/split_2_grad/concat/split_2/split_dim}}]]\n",
      "2023-04-20 15:21:24.410355: I tensorflow/core/common_runtime/executor.cc:1197] [/device:CPU:0] (DEBUG INFO) Executor start aborting (this does not indicate an error and you can ignore this message): INVALID_ARGUMENT: You must feed a value for placeholder tensor 'gradients/split_grad/concat/split/split_dim' with dtype int32\n",
      "\t [[{{node gradients/split_grad/concat/split/split_dim}}]]\n",
      "2023-04-20 15:21:24.411858: I tensorflow/core/common_runtime/executor.cc:1197] [/device:CPU:0] (DEBUG INFO) Executor start aborting (this does not indicate an error and you can ignore this message): INVALID_ARGUMENT: You must feed a value for placeholder tensor 'gradients/split_1_grad/concat/split_1/split_dim' with dtype int32\n",
      "\t [[{{node gradients/split_1_grad/concat/split_1/split_dim}}]]\n"
     ]
    },
    {
     "name": "stdout",
     "output_type": "stream",
     "text": [
      "8/8 [==============================] - 1s 9ms/step\n"
     ]
    }
   ],
   "source": [
    "predictions = lstm.predict(X_test)"
   ]
  },
  {
   "cell_type": "code",
   "execution_count": 136,
   "id": "1548823d-0be5-4562-a88b-dd57ef7d614b",
   "metadata": {
    "tags": []
   },
   "outputs": [
    {
     "data": {
      "text/plain": [
       "array([0.4977959 , 0.5026902 , 0.49809253, 0.49969834, 0.5015027 ,\n",
       "       0.4998441 , 0.5032908 , 0.5004094 , 0.5027386 , 0.50071347,\n",
       "       0.50179887, 0.50000525, 0.4990157 , 0.4989892 , 0.50030094,\n",
       "       0.49926868, 0.4987393 , 0.49897572, 0.5016884 , 0.5028844 ,\n",
       "       0.50054395, 0.49963805, 0.50085956, 0.49990064, 0.49873143,\n",
       "       0.5006212 , 0.4957953 , 0.50064   , 0.49950296, 0.5027653 ,\n",
       "       0.5019367 , 0.5001731 , 0.49828714, 0.50042295, 0.49957097,\n",
       "       0.50081193, 0.50113887, 0.49812904, 0.5019777 , 0.5023559 ,\n",
       "       0.49939936, 0.50176233, 0.4996788 , 0.49840486, 0.50141567,\n",
       "       0.50105625, 0.4998655 , 0.50376856, 0.50192934, 0.49991187,\n",
       "       0.5020288 , 0.5000674 , 0.500017  , 0.5001889 , 0.5013401 ,\n",
       "       0.4980401 , 0.49879977, 0.5006904 , 0.49789956, 0.498689  ,\n",
       "       0.49958688, 0.49945146, 0.5001643 , 0.4996829 , 0.50119245,\n",
       "       0.49970874, 0.5014302 , 0.4986328 , 0.50094   , 0.49905944,\n",
       "       0.50124335, 0.5014457 , 0.4993706 , 0.4991633 , 0.4987891 ,\n",
       "       0.49939275, 0.4998655 , 0.50125855, 0.49981505, 0.49939936,\n",
       "       0.50347245, 0.49750265, 0.5046001 , 0.50121665, 0.5024695 ,\n",
       "       0.50030446, 0.5046514 , 0.50130576, 0.49908665, 0.49897572,\n",
       "       0.5008452 , 0.5024552 , 0.49830037, 0.4985691 , 0.5006877 ,\n",
       "       0.50151557, 0.49825177, 0.49907506, 0.50181395, 0.49746585,\n",
       "       0.49991992, 0.5007247 , 0.49911857, 0.5007882 , 0.4983019 ,\n",
       "       0.5013223 , 0.49968258, 0.49933064, 0.50053567, 0.49958688,\n",
       "       0.4994239 , 0.501346  , 0.49992737, 0.50278133, 0.49939907,\n",
       "       0.49889278, 0.4983496 , 0.49902344, 0.5026121 , 0.49779403,\n",
       "       0.5024415 , 0.50157493, 0.50183725, 0.49923512, 0.5001443 ,\n",
       "       0.5001457 , 0.50281703, 0.5016521 , 0.498689  , 0.5008408 ,\n",
       "       0.49897572, 0.49901223, 0.50113887, 0.49990064, 0.5005388 ,\n",
       "       0.501493  , 0.4988894 , 0.49914098, 0.5018397 , 0.5003466 ,\n",
       "       0.4996564 , 0.5001605 , 0.50031066, 0.49976677, 0.49914098,\n",
       "       0.49861628, 0.49927837, 0.50029105, 0.50030446, 0.49992737,\n",
       "       0.5032474 , 0.49901223, 0.4968378 , 0.500104  , 0.49594647,\n",
       "       0.5011104 , 0.49859512, 0.49925408, 0.5008435 , 0.5004596 ,\n",
       "       0.49582043, 0.5008283 , 0.50110066, 0.5022616 , 0.4990157 ,\n",
       "       0.5011429 , 0.50137013, 0.4990063 , 0.5034737 , 0.5058847 ,\n",
       "       0.50174826, 0.4994827 , 0.4993415 , 0.50109303, 0.5006332 ,\n",
       "       0.5026816 , 0.4996307 , 0.49897572, 0.4991162 , 0.4981328 ,\n",
       "       0.4998673 , 0.5025483 , 0.49913707, 0.49995616, 0.5016884 ,\n",
       "       0.49897572, 0.49954283, 0.50031465, 0.50285196, 0.5019356 ,\n",
       "       0.49940956, 0.50308746, 0.49658787, 0.5021733 , 0.49976444,\n",
       "       0.5011538 , 0.50040907, 0.5005967 , 0.49584833, 0.49904636,\n",
       "       0.5043467 , 0.49813756, 0.5031665 , 0.5015791 , 0.50080204,\n",
       "       0.50254816, 0.500191  , 0.5014167 , 0.50028086, 0.49824396,\n",
       "       0.49962497, 0.50245297, 0.4993771 , 0.49789846, 0.5023559 ,\n",
       "       0.4981328 , 0.49862623, 0.49927643, 0.49841985, 0.5003466 ,\n",
       "       0.5000281 , 0.5035521 , 0.5004605 , 0.4985531 , 0.5004091 ,\n",
       "       0.4997246 , 0.4968378 , 0.50059354, 0.49996206, 0.4980115 ,\n",
       "       0.50090086, 0.4995693 , 0.4988822 , 0.5009424 , 0.5002112 ,\n",
       "       0.49924183, 0.49959224, 0.49805748, 0.49953356, 0.4988245 ,\n",
       "       0.49963138, 0.50199467, 0.49840486, 0.5005566 , 0.50024706,\n",
       "       0.4987235 , 0.50102997, 0.49920985, 0.4984069 , 0.49959224],\n",
       "      dtype=float32)"
      ]
     },
     "execution_count": 136,
     "metadata": {},
     "output_type": "execute_result"
    }
   ],
   "source": [
    "predictions[:,0]"
   ]
  },
  {
   "cell_type": "code",
   "execution_count": 137,
   "id": "c6299e1a-d33b-490b-9b0b-2ac35fcbddbd",
   "metadata": {},
   "outputs": [],
   "source": [
    "probability_positive = predictions[:,1]"
   ]
  },
  {
   "cell_type": "code",
   "execution_count": 138,
   "id": "ae16b992-4ca0-42f7-b64c-7d5d7f54fc6f",
   "metadata": {},
   "outputs": [
    {
     "data": {
      "text/plain": [
       "250"
      ]
     },
     "execution_count": 138,
     "metadata": {},
     "output_type": "execute_result"
    }
   ],
   "source": [
    "len(probability_positive)"
   ]
  },
  {
   "cell_type": "code",
   "execution_count": 139,
   "id": "adea4fde-7973-426b-949f-2ba18a7bee68",
   "metadata": {},
   "outputs": [
    {
     "data": {
      "text/plain": [
       "array([0.5022041 , 0.4973097 , 0.50190747, 0.5003016 , 0.4984973 ,\n",
       "       0.5001558 , 0.4967092 , 0.49959064, 0.49726146, 0.49928668,\n",
       "       0.49820113, 0.4999948 , 0.5009843 , 0.50101084, 0.4996991 ,\n",
       "       0.5007313 , 0.50126064, 0.50102425, 0.49831152, 0.49711567,\n",
       "       0.4994561 , 0.5003619 , 0.49914035, 0.5000993 , 0.5012686 ,\n",
       "       0.49937865, 0.50420463, 0.49936008, 0.50049704, 0.49723464,\n",
       "       0.49806336, 0.49982676, 0.5017128 , 0.49957705, 0.50042903,\n",
       "       0.4991881 , 0.4988612 , 0.501871  , 0.49802223, 0.4976441 ,\n",
       "       0.5006007 , 0.49823767, 0.5003211 , 0.5015951 , 0.4985843 ,\n",
       "       0.49894372, 0.5001344 , 0.49623144, 0.49807063, 0.5000881 ,\n",
       "       0.49797118, 0.4999326 , 0.49998298, 0.4998112 , 0.49865994,\n",
       "       0.5019598 , 0.5012002 , 0.49930957, 0.50210035, 0.50131106,\n",
       "       0.5004132 , 0.5005486 , 0.49983558, 0.50031704, 0.49880764,\n",
       "       0.5002912 , 0.4985698 , 0.5013672 , 0.49906   , 0.50094056,\n",
       "       0.4987567 , 0.49855426, 0.50062925, 0.5008367 , 0.5012109 ,\n",
       "       0.50060725, 0.5001344 , 0.49874145, 0.5001851 , 0.5006007 ,\n",
       "       0.49652758, 0.50249726, 0.49539986, 0.49878338, 0.49753046,\n",
       "       0.49969557, 0.49534866, 0.49869418, 0.5009133 , 0.50102425,\n",
       "       0.49915487, 0.49754485, 0.5016996 , 0.50143087, 0.49931225,\n",
       "       0.4984843 , 0.50174826, 0.5009248 , 0.49818605, 0.5025341 ,\n",
       "       0.5000801 , 0.49927536, 0.50088143, 0.49921185, 0.501698  ,\n",
       "       0.4986776 , 0.50031734, 0.50066924, 0.49946427, 0.5004132 ,\n",
       "       0.50057614, 0.4986539 , 0.50007266, 0.4972188 , 0.500601  ,\n",
       "       0.5011071 , 0.5016504 , 0.5009765 , 0.49738786, 0.502206  ,\n",
       "       0.49755847, 0.49842507, 0.49816266, 0.50076485, 0.4998556 ,\n",
       "       0.4998542 , 0.497183  , 0.4983479 , 0.50131106, 0.49915922,\n",
       "       0.50102425, 0.5009877 , 0.4988612 , 0.5000993 , 0.4994612 ,\n",
       "       0.49850693, 0.50111043, 0.50085896, 0.49816024, 0.49965343,\n",
       "       0.5003436 , 0.4998394 , 0.4996893 , 0.5002333 , 0.50085896,\n",
       "       0.50138366, 0.5007217 , 0.499709  , 0.49969557, 0.50007266,\n",
       "       0.49675265, 0.5009877 , 0.50316226, 0.49989602, 0.5040534 ,\n",
       "       0.49888945, 0.5014049 , 0.50074583, 0.4991565 , 0.49954054,\n",
       "       0.5041796 , 0.49917164, 0.49889934, 0.49773848, 0.5009843 ,\n",
       "       0.49885714, 0.49862978, 0.50099367, 0.49652633, 0.49411523,\n",
       "       0.49825177, 0.5005173 , 0.5006585 , 0.49890697, 0.49936688,\n",
       "       0.49731836, 0.50036925, 0.50102425, 0.50088376, 0.5018671 ,\n",
       "       0.5001327 , 0.49745178, 0.5008628 , 0.5000438 , 0.49831152,\n",
       "       0.50102425, 0.5004571 , 0.49968532, 0.49714795, 0.4980644 ,\n",
       "       0.50059044, 0.49691254, 0.50341207, 0.49782667, 0.5002356 ,\n",
       "       0.4988461 , 0.49959096, 0.4994033 , 0.5041516 , 0.5009536 ,\n",
       "       0.49565318, 0.5018624 , 0.49683344, 0.49842095, 0.4991979 ,\n",
       "       0.4974519 , 0.49980915, 0.4985833 , 0.49971902, 0.501756  ,\n",
       "       0.5003749 , 0.49754706, 0.50062275, 0.50210154, 0.4976441 ,\n",
       "       0.5018671 , 0.5013737 , 0.50072366, 0.5015802 , 0.49965343,\n",
       "       0.499972  , 0.49644783, 0.49953964, 0.50144684, 0.49959087,\n",
       "       0.5002754 , 0.50316226, 0.49940646, 0.50003797, 0.5019884 ,\n",
       "       0.4990991 , 0.50043064, 0.50111777, 0.49905762, 0.49978888,\n",
       "       0.5007582 , 0.5004078 , 0.50194246, 0.50046647, 0.50117546,\n",
       "       0.5003686 , 0.49800518, 0.501595  , 0.49944335, 0.499753  ,\n",
       "       0.5012765 , 0.49896997, 0.5007901 , 0.5015931 , 0.5004078 ],\n",
       "      dtype=float32)"
      ]
     },
     "execution_count": 139,
     "metadata": {},
     "output_type": "execute_result"
    }
   ],
   "source": [
    "probability_positive"
   ]
  },
  {
   "cell_type": "code",
   "execution_count": null,
   "id": "c9473400-2bae-4e31-b0a2-0869c7a31119",
   "metadata": {},
   "outputs": [],
   "source": []
  },
  {
   "cell_type": "code",
   "execution_count": null,
   "id": "4e2f7c6f-46f8-4259-b61a-16636a81aa23",
   "metadata": {},
   "outputs": [],
   "source": []
  },
  {
   "cell_type": "code",
   "execution_count": null,
   "id": "06735e1b-2f9b-406a-a547-c9d3d2c8d69a",
   "metadata": {},
   "outputs": [],
   "source": []
  },
  {
   "cell_type": "code",
   "execution_count": null,
   "id": "d2830636-de67-445e-8234-d75bb02ea81f",
   "metadata": {},
   "outputs": [],
   "source": []
  },
  {
   "cell_type": "code",
   "execution_count": null,
   "id": "619bebed-f2fc-4625-a393-7146635f7e1a",
   "metadata": {},
   "outputs": [],
   "source": []
  },
  {
   "cell_type": "code",
   "execution_count": null,
   "id": "69542e5a-cb4a-442c-9ac5-6ca3425731de",
   "metadata": {},
   "outputs": [],
   "source": []
  }
 ],
 "metadata": {
  "kernelspec": {
   "display_name": "Python 3 (ipykernel)",
   "language": "python",
   "name": "python3"
  },
  "language_info": {
   "codemirror_mode": {
    "name": "ipython",
    "version": 3
   },
   "file_extension": ".py",
   "mimetype": "text/x-python",
   "name": "python",
   "nbconvert_exporter": "python",
   "pygments_lexer": "ipython3",
   "version": "3.10.9"
  }
 },
 "nbformat": 4,
 "nbformat_minor": 5
}
