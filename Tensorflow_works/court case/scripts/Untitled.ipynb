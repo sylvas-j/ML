{
 "cells": [
  {
   "cell_type": "code",
   "execution_count": 1,
   "id": "3829dc3c-b95f-4cb3-bc18-07fb7be70d70",
   "metadata": {
    "tags": []
   },
   "outputs": [
    {
     "name": "stdout",
     "output_type": "stream",
     "text": [
      "HTTP/1.1 200 OK\n",
      "Server: nginx/1.6.2\n",
      "Date: Tue, 09 May 2023 12:15:36 GMT\n",
      "Content-Type: text/html\n",
      "Content-Length: 394\n",
      "Last-Modified: Sun, 23 Jan 2022 10:39:25 GMT\n",
      "Connection: close\n",
      "ETag: \"61ed305d-18a\"\n",
      "Access-Control-Allow-Origin: *\n",
      "Accept-Ranges: bytes\n",
      "\n",
      "<!DOCTYPE html>\n",
      "<html lang=\"en\">\n",
      "<head>\n",
      "    <meta charset=\"UTF-8\">\n",
      "    <meta name=\"viewport\" content=\"width=device-width, initial-scale=1.0\">\n",
      "    <link rel=\"stylesheet\" href=\"format.css\">\n",
      "    <title>My html page</title>\n",
      "</head>\n",
      "<body>\n",
      "\n",
      "    <p>\n",
      "        Today is a beautiful day. We go swimming and fishing.\n",
      "    </p>\n",
      "    \n",
      "    <p>\n",
      "         Hello there. How are you?\n",
      "    </p>\n",
      "    \n",
      "</body>\n",
      "</html>\n",
      "\n",
      "\n"
     ]
    }
   ],
   "source": [
    "import socket\n",
    "\n",
    "with socket.socket(socket.AF_INET, socket.SOCK_STREAM) as s:\n",
    "\n",
    "    s.connect((\"webcode.me\" , 80))\n",
    "    s.sendall(b\"GET / HTTP/1.1\\r\\nHost: webcode.me\\r\\nAccept: text/html\\r\\nConnection: close\\r\\n\\r\\n\")\n",
    "\n",
    "    while True:\n",
    "\n",
    "        data = s.recv(1024)\n",
    "\n",
    "        if not data:\n",
    "            break\n",
    "\n",
    "        print(data.decode())"
   ]
  },
  {
   "cell_type": "code",
   "execution_count": null,
   "id": "cc62e93e-c4d9-47f2-a0cb-5faedcdd5e61",
   "metadata": {},
   "outputs": [],
   "source": []
  }
 ],
 "metadata": {
  "kernelspec": {
   "display_name": "Python 3 (ipykernel)",
   "language": "python",
   "name": "python3"
  },
  "language_info": {
   "codemirror_mode": {
    "name": "ipython",
    "version": 3
   },
   "file_extension": ".py",
   "mimetype": "text/x-python",
   "name": "python",
   "nbconvert_exporter": "python",
   "pygments_lexer": "ipython3",
   "version": "3.10.6"
  }
 },
 "nbformat": 4,
 "nbformat_minor": 5
}
