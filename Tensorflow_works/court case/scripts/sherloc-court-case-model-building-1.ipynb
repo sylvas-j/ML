{
 "cells": [
  {
   "cell_type": "code",
   "execution_count": 3,
   "id": "340a7abd-664b-42d2-b980-670c2c7fd641",
   "metadata": {
    "collapsed": true,
    "jupyter": {
     "outputs_hidden": true
    },
    "tags": []
   },
   "outputs": [
    {
     "name": "stderr",
     "output_type": "stream",
     "text": [
      "2023-04-25 14:44:55.531868: I tensorflow/tsl/cuda/cudart_stub.cc:28] Could not find cuda drivers on your machine, GPU will not be used.\n",
      "2023-04-25 14:44:56.256978: I tensorflow/tsl/cuda/cudart_stub.cc:28] Could not find cuda drivers on your machine, GPU will not be used.\n",
      "2023-04-25 14:44:56.262619: I tensorflow/core/platform/cpu_feature_guard.cc:182] This TensorFlow binary is optimized to use available CPU instructions in performance-critical operations.\n",
      "To enable the following instructions: AVX2 FMA, in other operations, rebuild TensorFlow with the appropriate compiler flags.\n",
      "2023-04-25 14:44:58.658557: W tensorflow/compiler/tf2tensorrt/utils/py_utils.cc:38] TF-TRT Warning: Could not find TensorRT\n"
     ]
    }
   ],
   "source": [
    "import numpy as np\n",
    "import pandas as pd\n",
    "from keras.models import Sequential\n",
    "from keras.layers import Dense, SimpleRNN, Dropout, LSTM\n",
    "from keras.preprocessing.text import Tokenizer\n",
    "from keras.constraints import maxnorm\n",
    "import time\n",
    "import warnings\n",
    "from keras.utils import pad_sequences\n",
    "from tensorflow.keras.layers import Embedding\n",
    "from collections import Counter\n",
    "import itertools\n",
    "from sklearn.model_selection import train_test_split\n",
    "from sklearn.preprocessing import (\n",
    "    StandardScaler, LabelBinarizer, FunctionTransformer,PolynomialFeatures, OrdinalEncoder,LabelEncoder,MinMaxScaler\n",
    ")\n",
    "warnings.filterwarnings(\"ignore\")"
   ]
  },
  {
   "cell_type": "code",
   "execution_count": null,
   "id": "b02f42b3-1b14-46e3-b880-a4cb196d88cc",
   "metadata": {},
   "outputs": [],
   "source": [
    "# import boto3\n",
    "# import tensorflow as tf\n",
    "# from keras.datasets import imdb\n",
    "# from tensorflow.python.client import device_lib"
   ]
  },
  {
   "cell_type": "markdown",
   "id": "6fa491d5-4e00-4490-b35a-c0d24407e79d",
   "metadata": {},
   "source": [
    "### Basic functions"
   ]
  },
  {
   "cell_type": "code",
   "execution_count": 49,
   "id": "3fa74e61-6c41-420a-8e16-9baa368b2364",
   "metadata": {},
   "outputs": [],
   "source": [
    "\n",
    "# class for Y convertions\n",
    "class TextLabelEncoderDummy:\n",
    "\n",
    "    def labelencoder(y_df):\n",
    "        encoder = LabelEncoder()\n",
    "        encoder.fit(y_df)\n",
    "        encoded_Y = encoder.transform(y_df)\n",
    "        return encoded_Y, encoder\n",
    "\n",
    "\n",
    "    def encoded_to_dummy(encoded_Y):\n",
    "        # convert encoder variable to dummy variable\n",
    "        uniques, ids = np.unique(encoded_Y, return_inverse=True)\n",
    "        dummy_y = np_utils.to_categorical(ids, len(uniques))\n",
    "        # dummy_y = np_utils.to_categorical(encoded_Y)\n",
    "        return dummy_y, uniques\n",
    "\n",
    "\n",
    "    def reverse_dummy_to_encoded(y_test):\n",
    "        reverse_dummy = uniques[y_test.argmax(1)]\n",
    "        return reverse_dummy\n",
    "\n",
    "\n",
    "    def reverse_encoded_to_text(reverse_dummy):\n",
    "        reverse_encoded = encoder.inverse_transform(reverse_dummy)\n",
    "        return reverse_encoded"
   ]
  },
  {
   "cell_type": "code",
   "execution_count": 8,
   "id": "1764fda1-c65d-48c3-a91d-f3bde83debca",
   "metadata": {},
   "outputs": [
    {
     "data": {
      "text/html": [
       "<div>\n",
       "<style scoped>\n",
       "    .dataframe tbody tr th:only-of-type {\n",
       "        vertical-align: middle;\n",
       "    }\n",
       "\n",
       "    .dataframe tbody tr th {\n",
       "        vertical-align: top;\n",
       "    }\n",
       "\n",
       "    .dataframe thead th {\n",
       "        text-align: right;\n",
       "    }\n",
       "</style>\n",
       "<table border=\"1\" class=\"dataframe\">\n",
       "  <thead>\n",
       "    <tr style=\"text-align: right;\">\n",
       "      <th></th>\n",
       "      <th>raw_text</th>\n",
       "      <th>crime_types</th>\n",
       "      <th>sentence</th>\n",
       "      <th>tokenized_cleaned_text</th>\n",
       "      <th>lemmatized</th>\n",
       "      <th>tokens_back_to_text</th>\n",
       "    </tr>\n",
       "  </thead>\n",
       "  <tbody>\n",
       "    <tr>\n",
       "      <th>0</th>\n",
       "      <td>Mr. Solomon Sauls ran an illegal enterprise wi...</td>\n",
       "      <td>money laundry</td>\n",
       "      <td>1</td>\n",
       "      <td>['solomon', 'sauls', 'ran', 'illegal', 'enterp...</td>\n",
       "      <td>['solomon', 'saul', 'ran', 'illegal', 'enterpr...</td>\n",
       "      <td>solomon saul ran illegal enterprise purpose po...</td>\n",
       "    </tr>\n",
       "    <tr>\n",
       "      <th>1</th>\n",
       "      <td>SummaryHarmony Gold Mine (Pty) Limited is a mi...</td>\n",
       "      <td>money laundry</td>\n",
       "      <td>1</td>\n",
       "      <td>['summaryharmony', 'gold', 'mine', 'pty', 'lim...</td>\n",
       "      <td>['summaryharmony', 'gold', 'mine', 'pty', 'lim...</td>\n",
       "      <td>summaryharmony gold mine pty limited mining co...</td>\n",
       "    </tr>\n",
       "  </tbody>\n",
       "</table>\n",
       "</div>"
      ],
      "text/plain": [
       "                                            raw_text    crime_types  sentence   \n",
       "0  Mr. Solomon Sauls ran an illegal enterprise wi...  money laundry         1  \\\n",
       "1  SummaryHarmony Gold Mine (Pty) Limited is a mi...  money laundry         1   \n",
       "\n",
       "                              tokenized_cleaned_text   \n",
       "0  ['solomon', 'sauls', 'ran', 'illegal', 'enterp...  \\\n",
       "1  ['summaryharmony', 'gold', 'mine', 'pty', 'lim...   \n",
       "\n",
       "                                          lemmatized   \n",
       "0  ['solomon', 'saul', 'ran', 'illegal', 'enterpr...  \\\n",
       "1  ['summaryharmony', 'gold', 'mine', 'pty', 'lim...   \n",
       "\n",
       "                                 tokens_back_to_text  \n",
       "0  solomon saul ran illegal enterprise purpose po...  \n",
       "1  summaryharmony gold mine pty limited mining co...  "
      ]
     },
     "execution_count": 8,
     "metadata": {},
     "output_type": "execute_result"
    }
   ],
   "source": [
    "dff = pd.read_csv('../../../../datasets/sherloc/sherloc-court-case-token-back-to-text.csv')\n",
    "dff.head(2)"
   ]
  },
  {
   "cell_type": "code",
   "execution_count": 9,
   "id": "268444db-d1ae-45e0-9d8e-b97f2c8ffbf9",
   "metadata": {},
   "outputs": [
    {
     "data": {
      "text/plain": [
       "1250"
      ]
     },
     "execution_count": 9,
     "metadata": {},
     "output_type": "execute_result"
    }
   ],
   "source": [
    "len(dff)"
   ]
  },
  {
   "cell_type": "code",
   "execution_count": 69,
   "id": "a764f191-0b67-42e8-acb5-a1bc27d8e5e1",
   "metadata": {},
   "outputs": [],
   "source": [
    "X = dff.tokens_back_to_text.values"
   ]
  },
  {
   "cell_type": "code",
   "execution_count": 11,
   "id": "83fdfab6-f519-48cb-8938-47b94e928977",
   "metadata": {},
   "outputs": [],
   "source": [
    "y = dff.sentence.values"
   ]
  },
  {
   "cell_type": "code",
   "execution_count": 13,
   "id": "1966d1d7-50ed-4593-a77a-f2eb35e1ef20",
   "metadata": {},
   "outputs": [
    {
     "data": {
      "text/plain": [
       "((1250,), (1250,))"
      ]
     },
     "execution_count": 13,
     "metadata": {},
     "output_type": "execute_result"
    }
   ],
   "source": [
    "X.shape, y.shape"
   ]
  },
  {
   "cell_type": "markdown",
   "id": "e2c29de7-b241-4e4c-ab38-336cd579443d",
   "metadata": {
    "tags": []
   },
   "source": [
    "### Feature Engineering on X"
   ]
  },
  {
   "cell_type": "code",
   "execution_count": 14,
   "id": "39aeb024-a78c-4de9-a64f-b6627b3460a6",
   "metadata": {},
   "outputs": [],
   "source": [
    "# prepare tokenizer\n",
    "tokenizer = Tokenizer()\n",
    "tokenizer.fit_on_texts(X)"
   ]
  },
  {
   "cell_type": "code",
   "execution_count": 15,
   "id": "b25cbc97-ca05-42eb-9b52-b98662e17be6",
   "metadata": {
    "collapsed": true,
    "jupyter": {
     "outputs_hidden": true
    },
    "tags": []
   },
   "outputs": [
    {
     "data": {
      "text/plain": [
       "array(['solomon saul ran illegal enterprise purpose poach sell abalone haliotis midae south africa group abalone diver work supply illegally harvest abalone accuse bribed official department agriculture forestry fishery prevent confiscate abalone buy back abalone already seize authority corrupt official face charge separate march police search accuse house encounter cash accuse confess proceeds illegal activity february defendant plead guilty count involve run illegal enterprise corruption money laundering possess transport illegally harvest aggravate sentence seriousness corrupt government official engagement illegal abalone trade commercial scale financial accuse involve similar crime past previously receive prison sentence involvement another illegal enterprise focus abalone found responsible run illegal abalone business different area hand current trial solomon saul sentence year imprisonment run concurrently result effective sentence year determine run concurrently previous sentence year',\n",
       "       'summaryharmony gold mine pty limited mining company operating masimong gold mine district henneman south africa miner legally enter shaft able produce mining identity card use enter exit mine notwithstanding common knowledge clock system could breach allow illegal miner enter mine illegal mining operation inside mine know phenomenon illegal processing refinery plant found subsequently destroyed april underground operation expose illegal miner carry security agency operation makeshift gold processing plant bed letter book name list document discover together large quantity extract ore document include gold transaction note photograph point towards identity illegal investigation brought light ore worth zar million extract use processing plant yet site investigator discover material worth zar million ton ore move make ready transport use canvas one arrest operation people found arrest april july mostly mine premise one person arrest outside premise incriminate document evidence encounter group arrest consist national mozambique zimbabwe year old found vary degree involvement illegal enterprise lovemore chaba mlambo identify orchestrate illegal found guilty racketeering money laundering well contravention precious metal act criminal procedure act march virginia circuit court sentence prison sentence range appeal judgment front high court south africa free state division bloemfontein saw appeal reject march appealthe appellant argue caught conduct illegal mining operation respondent counter essential ingredient criminal racketeering activity conspiracy commit organize criminal offence participate unlawful enterprise hence appellant could prosecute racketeering charge even though caught court found implicit agreement among appellant manifest construction illegal refinery plant fact ore extract already laborious effort require collaboration furthermore name illegal miner found documentation seize site follow similar line argumentation court reject challenge establish common purpose organization appellant argue ore value zar million extract zar million ton worth ore found site imply lion share gold could still somewhere mine therefore mine operator would lose ore court deny argument appeal base fact ore encounter already extract prepared future transport turn show group capable remove extract ore mining premise furthermore court argue extract encounter ore would amount quantity ton make significant enough overlook hence unlikely still reside within premise mine paperwork seize illegal mining site document extract ore previously sell outside appellant argue identity perpetrator reasonably establish beyond doubt none appellant found either near shaft mining possession gold ore respondent argue appellant arrest staff mine security surface step elevator lead mine none able identify valid mine identity card yet many possession mining equipment safety head protector cap lamp hence court found unlikely arrest come shaft business mind participate ongoing illegal mining appeal reject',\n",
       "       'summarythe three defendant found guilty multiple count relate run illegal enterprise illegally harvest export abalone march sentence year harvest trading abalone reason concern south africa eastern cape since seaside city port elizabeth consider hub illegal trade abalone declare hotspot criminal enterprise kingpin number abalone mostly sell delicacy asia decline spark government respond issue establish dedicate team seed abalone patrol march member south african police service observe suspicious activity patrol along coast head towards noordhoek observe individual come water load back onto vehicle chase vehicle able arrest one suspect hot pursuit encounter abalone suspect car another suspect work defendant found possession abalone without permit month later south african police service launch investigation operation lead investigator described illegal operation defendant enterprise rely support several people defendant conduct operation basis different participant supply chain would limited knowledge overall operation abalone harvest diver use dive equipment provide accuse harvest abalone would packed marked identification mark respective harvester abalone would load onto motor vehicle driver would take weight house station abalone would sort size shell remove weight base weight diver would paid another driver would take abalone another location would store freezer yet another person would later pick transport processing plant abalone get clean cooked via city gauteng cape town abalone would ultimately ship china sell delicacy',\n",
       "       ...,\n",
       "       'defendant accuse kidnapping child father harbor isolated house detain purpose sell exchange sum money',\n",
       "       'defendant agree third person decease recruit child offer thereto sex exchange sum money show decease homosexual know recruiting young boy sex three carry criminal plan child consent offer',\n",
       "       'case initiate follow police enquiry general police department protection moral provide female entice commit prostitution guise false defendant accuse traffic woman purpose prostitution exchange financial reward operate criminal organize group specific task attract men gulf state entice young girl engage sexual relation guise fake marriage first defendant regard leader criminal organize group responsible arrange false marriage men gulf state third defendant pretend lawyer enable issue false marriage certificate claim orfy contract unofficial marriage contract fourth defendant responsible construct artificial hymen victim would appear virgin order charge high fee client enable two victim age age network exploit family victim financial need promising money financial privilege return marriage claimed girl would marry man mean financially support family'],\n",
       "      dtype=object)"
      ]
     },
     "execution_count": 15,
     "metadata": {},
     "output_type": "execute_result"
    }
   ],
   "source": [
    "X"
   ]
  },
  {
   "cell_type": "code",
   "execution_count": 16,
   "id": "871423e0-703e-4dd5-8e05-2175c1b71c30",
   "metadata": {},
   "outputs": [
    {
     "name": "stdout",
     "output_type": "stream",
     "text": [
      "Found 11260 unique tokens.\n"
     ]
    }
   ],
   "source": [
    "word_index = tokenizer.word_index\n",
    "print('Found %s unique tokens.' % len(word_index))"
   ]
  },
  {
   "cell_type": "code",
   "execution_count": 70,
   "id": "d72245ba-5d34-46e9-8860-738b57c50bba",
   "metadata": {},
   "outputs": [],
   "source": [
    "# integer encode the documents\n",
    "sequences = tokenizer.texts_to_sequences(X)"
   ]
  },
  {
   "cell_type": "code",
   "execution_count": 71,
   "id": "1d40a19e-5ddd-45d1-9ff6-3515881d47ba",
   "metadata": {},
   "outputs": [],
   "source": [
    "# pad documents to a max length of 14 words\n",
    "maxlen = 25\n",
    "X = pad_sequences(sequences, maxlen=maxlen)"
   ]
  },
  {
   "cell_type": "code",
   "execution_count": 72,
   "id": "5dd92fd4-f469-4c08-b6e2-1f90f277c844",
   "metadata": {},
   "outputs": [
    {
     "data": {
      "text/plain": [
       "(1250, 25)"
      ]
     },
     "execution_count": 72,
     "metadata": {},
     "output_type": "execute_result"
    }
   ],
   "source": [
    "X.shape"
   ]
  },
  {
   "cell_type": "code",
   "execution_count": 20,
   "id": "baf4d1ab-8728-4982-8aee-70b001daf48f",
   "metadata": {},
   "outputs": [
    {
     "data": {
      "text/plain": [
       "array([[  42, 1124,  174, ...,  959,   35,   24],\n",
       "       [1242,  589,  149, ..., 1724,   50,  905],\n",
       "       [1242,   96,   27, ...,  770,   95, 4559],\n",
       "       ...,\n",
       "       [   0,    0,    0, ...,  251,  643,   14],\n",
       "       [  27, 3044,  146, ...,   52, 1167,  115],\n",
       "       [  13,    2,  524, ..., 1690,  232,  124]], dtype=int32)"
      ]
     },
     "execution_count": 20,
     "metadata": {},
     "output_type": "execute_result"
    }
   ],
   "source": [
    "X"
   ]
  },
  {
   "cell_type": "markdown",
   "id": "4065db1a-b251-4d4f-a6d8-12bd98fb1e5d",
   "metadata": {
    "jp-MarkdownHeadingCollapsed": true,
    "tags": []
   },
   "source": [
    "### Checking how balanced the dataset is"
   ]
  },
  {
   "cell_type": "code",
   "execution_count": 21,
   "id": "0ded04fc-f90f-4be2-ac9e-43867c4b38a4",
   "metadata": {
    "tags": []
   },
   "outputs": [
    {
     "name": "stdout",
     "output_type": "stream",
     "text": [
      "Counter({1: 882, 0: 368})\n"
     ]
    }
   ],
   "source": [
    "counter = Counter(y)\n",
    "print(counter)"
   ]
  },
  {
   "cell_type": "markdown",
   "id": "32d85c24-3c25-4b4c-96c9-71278af73438",
   "metadata": {
    "jp-MarkdownHeadingCollapsed": true,
    "tags": []
   },
   "source": [
    "### SMOTE - balance the imbalanced dataset"
   ]
  },
  {
   "cell_type": "code",
   "execution_count": 73,
   "id": "a84f8d8f-bfbd-40c8-b95f-9c5eb9b72f08",
   "metadata": {},
   "outputs": [],
   "source": [
    "from imblearn.over_sampling import SMOTE\n",
    "from imblearn.under_sampling import RandomUnderSampler\n",
    "from imblearn.pipeline import Pipeline\n",
    "# define pipeline\n",
    "over = SMOTE(sampling_strategy=0.5)\n",
    "under = RandomUnderSampler(sampling_strategy=0.8)\n",
    "steps = [('o', over), ('u', under)]\n",
    "pipeline = Pipeline(steps=steps)\n",
    "# transform the dataset\n",
    "X, y = pipeline.fit_resample(X, y)"
   ]
  },
  {
   "cell_type": "code",
   "execution_count": 74,
   "id": "9d810a72-7399-40ac-b0c3-75ca225eae1d",
   "metadata": {},
   "outputs": [
    {
     "data": {
      "text/plain": [
       "((992,), (992, 25))"
      ]
     },
     "execution_count": 74,
     "metadata": {},
     "output_type": "execute_result"
    }
   ],
   "source": [
    "y.shape, X.shape"
   ]
  },
  {
   "cell_type": "code",
   "execution_count": 75,
   "id": "ccd6da14-880c-4586-8633-f7c15e0479d5",
   "metadata": {},
   "outputs": [
    {
     "name": "stdout",
     "output_type": "stream",
     "text": [
      "Counter({1: 551, 0: 441})\n"
     ]
    }
   ],
   "source": [
    "counter = Counter(y)\n",
    "print(counter)"
   ]
  },
  {
   "cell_type": "markdown",
   "id": "ee6c34ac-10f0-4a71-9a4b-e4c6c0602b80",
   "metadata": {
    "jp-MarkdownHeadingCollapsed": true,
    "tags": []
   },
   "source": [
    "### categorized y"
   ]
  },
  {
   "cell_type": "code",
   "execution_count": 76,
   "id": "6d9cca5e-1d01-4c9e-ac14-cc46315d1b92",
   "metadata": {},
   "outputs": [],
   "source": [
    "# One-hot encoding of labels\n",
    "# from keras.utils.np_utils import to_categorical\n",
    "# y = to_categorical(y)\n",
    "\n",
    "encoded_Y, encoder = TextLabelEncoderDummy.labelencoder(y)\n",
    "dummy_y, uniques = TextLabelEncoderDummy.encoded_to_dummy(encoded_Y)"
   ]
  },
  {
   "cell_type": "code",
   "execution_count": 77,
   "id": "9dbdc351-9cf4-4661-98da-07f993cd43f9",
   "metadata": {},
   "outputs": [
    {
     "data": {
      "text/plain": [
       "(992, 2)"
      ]
     },
     "execution_count": 77,
     "metadata": {},
     "output_type": "execute_result"
    }
   ],
   "source": [
    "y.shape"
   ]
  },
  {
   "cell_type": "markdown",
   "id": "da30925a-e6eb-499a-9a5a-63efa2688609",
   "metadata": {
    "jp-MarkdownHeadingCollapsed": true,
    "tags": []
   },
   "source": [
    "### Split the dataset into training and test sets"
   ]
  },
  {
   "cell_type": "code",
   "execution_count": 78,
   "id": "60d6e7aa-8226-4834-84f7-681046ba2659",
   "metadata": {},
   "outputs": [],
   "source": [
    "X_train, X_test, y_train, y_test = train_test_split(X, y, test_size=0.2, random_state=43)"
   ]
  },
  {
   "cell_type": "code",
   "execution_count": 79,
   "id": "0ae2f15c-cfd4-4e09-9314-dcb531523a5f",
   "metadata": {},
   "outputs": [],
   "source": [
    "X_train, X_eval, y_train, y_eval = train_test_split(X_train, y_train, test_size=0.3, random_state=43)"
   ]
  },
  {
   "cell_type": "code",
   "execution_count": 80,
   "id": "bfb3463b-433b-4b6c-84e9-662b00902407",
   "metadata": {},
   "outputs": [
    {
     "data": {
      "text/plain": [
       "((555, 25), (199, 25), (238, 25))"
      ]
     },
     "execution_count": 80,
     "metadata": {},
     "output_type": "execute_result"
    }
   ],
   "source": [
    "X_train.shape, X_test.shape, X_eval.shape"
   ]
  },
  {
   "cell_type": "markdown",
   "id": "ae2a6d88-76fe-4b0c-b1f0-21c9355377f9",
   "metadata": {},
   "source": [
    "## Modeling - LSTM"
   ]
  },
  {
   "cell_type": "code",
   "execution_count": 81,
   "id": "8e21c853-420d-4250-8932-ec8b6b70ae3f",
   "metadata": {},
   "outputs": [],
   "source": [
    "# Prepare hyperparameters of RNN\n",
    "vocab_size = len(word_index)+1\n",
    "output_dim = 32"
   ]
  },
  {
   "cell_type": "code",
   "execution_count": 31,
   "id": "88e297c8-b6c0-4a8e-8747-77386f6f802a",
   "metadata": {},
   "outputs": [],
   "source": [
    "# SimpleRNN\n",
    "warnings.filterwarnings(\"ignore\")\n",
    "model = Sequential()\n",
    "model.add(Embedding(input_dim = vocab_size, output_dim = output_dim, input_length = maxlen, embeddings_constraint=maxnorm(3)))\n",
    "model.add(SimpleRNN(output_dim, return_sequences=True, kernel_constraint=maxnorm(3)))\n",
    "model.add(Dropout(0.2))\n",
    "model.add(SimpleRNN(output_dim, return_sequences=True, kernel_constraint=maxnorm(3)))\n",
    "model.add(Dropout(0.2))\n",
    "model.add(SimpleRNN(output_dim))\n",
    "model.add(Dense(2,activation='softmax'))\n",
    "model.compile(loss = 'binary_crossentropy', optimizer='adam', metrics = ['accuracy'])\n",
    "warnings.filterwarnings(\"ignore\")"
   ]
  },
  {
   "cell_type": "code",
   "execution_count": 32,
   "id": "4d73487a-25e9-4559-b81e-dc369571aaf2",
   "metadata": {
    "collapsed": true,
    "jupyter": {
     "outputs_hidden": true
    },
    "tags": []
   },
   "outputs": [
    {
     "name": "stdout",
     "output_type": "stream",
     "text": [
      "Model: \"sequential\"\n",
      "_________________________________________________________________\n",
      " Layer (type)                Output Shape              Param #   \n",
      "=================================================================\n",
      " embedding (Embedding)       (None, 25, 32)            360352    \n",
      "                                                                 \n",
      " simple_rnn (SimpleRNN)      (None, 25, 32)            2080      \n",
      "                                                                 \n",
      " dropout (Dropout)           (None, 25, 32)            0         \n",
      "                                                                 \n",
      " simple_rnn_1 (SimpleRNN)    (None, 25, 32)            2080      \n",
      "                                                                 \n",
      " dropout_1 (Dropout)         (None, 25, 32)            0         \n",
      "                                                                 \n",
      " simple_rnn_2 (SimpleRNN)    (None, 32)                2080      \n",
      "                                                                 \n",
      " dense (Dense)               (None, 2)                 66        \n",
      "                                                                 \n",
      "=================================================================\n",
      "Total params: 366,658\n",
      "Trainable params: 366,658\n",
      "Non-trainable params: 0\n",
      "_________________________________________________________________\n"
     ]
    }
   ],
   "source": [
    "model.summary()"
   ]
  },
  {
   "cell_type": "code",
   "execution_count": 33,
   "id": "8857889a-a7e0-4193-b888-59bc1e1976ab",
   "metadata": {
    "collapsed": true,
    "jupyter": {
     "outputs_hidden": true,
     "source_hidden": true
    },
    "tags": []
   },
   "outputs": [
    {
     "name": "stdout",
     "output_type": "stream",
     "text": [
      "Epoch 1/10\n",
      "13/13 [==============================] - 4s 68ms/step - loss: 0.7185 - accuracy: 0.5387 - val_loss: 0.7146 - val_accuracy: 0.5030\n",
      "Epoch 2/10\n",
      "13/13 [==============================] - 0s 28ms/step - loss: 0.5591 - accuracy: 0.7938 - val_loss: 0.7320 - val_accuracy: 0.4910\n",
      "Epoch 3/10\n",
      "13/13 [==============================] - 0s 34ms/step - loss: 0.3132 - accuracy: 0.9356 - val_loss: 0.9101 - val_accuracy: 0.4850\n",
      "Epoch 4/10\n",
      "13/13 [==============================] - 0s 26ms/step - loss: 0.1250 - accuracy: 0.9845 - val_loss: 1.0745 - val_accuracy: 0.4731\n",
      "Epoch 5/10\n",
      "13/13 [==============================] - 0s 26ms/step - loss: 0.0644 - accuracy: 0.9948 - val_loss: 1.2060 - val_accuracy: 0.4671\n",
      "Epoch 6/10\n",
      "13/13 [==============================] - 0s 30ms/step - loss: 0.0459 - accuracy: 0.9948 - val_loss: 1.2574 - val_accuracy: 0.4850\n",
      "Epoch 7/10\n",
      "13/13 [==============================] - 0s 27ms/step - loss: 0.0395 - accuracy: 0.9948 - val_loss: 1.2833 - val_accuracy: 0.5090\n",
      "Epoch 8/10\n",
      "13/13 [==============================] - 0s 27ms/step - loss: 0.0334 - accuracy: 0.9948 - val_loss: 1.3208 - val_accuracy: 0.4970\n",
      "Epoch 9/10\n",
      "13/13 [==============================] - 0s 30ms/step - loss: 0.0444 - accuracy: 0.9794 - val_loss: 1.3587 - val_accuracy: 0.4790\n",
      "Epoch 10/10\n",
      "13/13 [==============================] - 0s 26ms/step - loss: 0.0386 - accuracy: 0.9948 - val_loss: 1.3529 - val_accuracy: 0.5210\n",
      "Accuracy: 57.56%\n",
      "Training duration(minutes): 0.12296523253122965\n"
     ]
    }
   ],
   "source": [
    "start = time.time()\n",
    "\n",
    "# Fit the model to the training set\n",
    "rnn_hist = model.fit(X_train, y_train, epochs=10, validation_split=0.3)\n",
    "# Final evaluation of the model\n",
    "rnn_scores = model.evaluate(X_eval, y_eval, verbose=0)\n",
    "print(\"Accuracy: %.2f%%\" % (rnn_scores[1]*100))\n",
    "warnings.filterwarnings(\"ignore\")\n",
    "\n",
    "end = time.time()\n",
    "total = (end-start)/60\n",
    "print('Training duration(minutes): {}'.format(total))"
   ]
  },
  {
   "cell_type": "code",
   "execution_count": 34,
   "id": "b7a55e60-951d-4c6e-82f3-669c6ad8f0d1",
   "metadata": {},
   "outputs": [
    {
     "data": {
      "text/plain": [
       "[1.1015920639038086, 0.575630247592926]"
      ]
     },
     "execution_count": 34,
     "metadata": {},
     "output_type": "execute_result"
    }
   ],
   "source": [
    "rnn_scores"
   ]
  },
  {
   "cell_type": "code",
   "execution_count": 35,
   "id": "d8a586d7-08e2-4c63-ba2e-c50c62f555c6",
   "metadata": {
    "tags": []
   },
   "outputs": [],
   "source": [
    "# Save the LSTM model\n",
    "model.save('srnn.h5')"
   ]
  },
  {
   "cell_type": "markdown",
   "id": "78d45237-08f1-4204-80d2-642410884cca",
   "metadata": {
    "jp-MarkdownHeadingCollapsed": true,
    "tags": []
   },
   "source": [
    "#### LSTM"
   ]
  },
  {
   "cell_type": "code",
   "execution_count": 91,
   "id": "df3915bc-cd52-4664-9a8b-3ca3cfbe6261",
   "metadata": {
    "collapsed": true,
    "jupyter": {
     "outputs_hidden": true
    },
    "tags": []
   },
   "outputs": [
    {
     "name": "stderr",
     "output_type": "stream",
     "text": [
      "2023-04-25 22:47:33.859505: I tensorflow/core/common_runtime/executor.cc:1197] [/device:CPU:0] (DEBUG INFO) Executor start aborting (this does not indicate an error and you can ignore this message): INVALID_ARGUMENT: You must feed a value for placeholder tensor 'gradients/split_2_grad/concat/split_2/split_dim' with dtype int32\n",
      "\t [[{{node gradients/split_2_grad/concat/split_2/split_dim}}]]\n",
      "2023-04-25 22:47:33.867685: I tensorflow/core/common_runtime/executor.cc:1197] [/device:CPU:0] (DEBUG INFO) Executor start aborting (this does not indicate an error and you can ignore this message): INVALID_ARGUMENT: You must feed a value for placeholder tensor 'gradients/split_grad/concat/split/split_dim' with dtype int32\n",
      "\t [[{{node gradients/split_grad/concat/split/split_dim}}]]\n",
      "2023-04-25 22:47:33.870006: I tensorflow/core/common_runtime/executor.cc:1197] [/device:CPU:0] (DEBUG INFO) Executor start aborting (this does not indicate an error and you can ignore this message): INVALID_ARGUMENT: You must feed a value for placeholder tensor 'gradients/split_1_grad/concat/split_1/split_dim' with dtype int32\n",
      "\t [[{{node gradients/split_1_grad/concat/split_1/split_dim}}]]\n",
      "2023-04-25 22:47:34.236346: I tensorflow/core/common_runtime/executor.cc:1197] [/device:CPU:0] (DEBUG INFO) Executor start aborting (this does not indicate an error and you can ignore this message): INVALID_ARGUMENT: You must feed a value for placeholder tensor 'gradients/split_2_grad/concat/split_2/split_dim' with dtype int32\n",
      "\t [[{{node gradients/split_2_grad/concat/split_2/split_dim}}]]\n",
      "2023-04-25 22:47:34.238599: I tensorflow/core/common_runtime/executor.cc:1197] [/device:CPU:0] (DEBUG INFO) Executor start aborting (this does not indicate an error and you can ignore this message): INVALID_ARGUMENT: You must feed a value for placeholder tensor 'gradients/split_grad/concat/split/split_dim' with dtype int32\n",
      "\t [[{{node gradients/split_grad/concat/split/split_dim}}]]\n",
      "2023-04-25 22:47:34.240008: I tensorflow/core/common_runtime/executor.cc:1197] [/device:CPU:0] (DEBUG INFO) Executor start aborting (this does not indicate an error and you can ignore this message): INVALID_ARGUMENT: You must feed a value for placeholder tensor 'gradients/split_1_grad/concat/split_1/split_dim' with dtype int32\n",
      "\t [[{{node gradients/split_1_grad/concat/split_1/split_dim}}]]\n",
      "2023-04-25 22:47:34.494677: I tensorflow/core/common_runtime/executor.cc:1197] [/device:CPU:0] (DEBUG INFO) Executor start aborting (this does not indicate an error and you can ignore this message): INVALID_ARGUMENT: You must feed a value for placeholder tensor 'gradients/split_2_grad/concat/split_2/split_dim' with dtype int32\n",
      "\t [[{{node gradients/split_2_grad/concat/split_2/split_dim}}]]\n",
      "2023-04-25 22:47:34.496480: I tensorflow/core/common_runtime/executor.cc:1197] [/device:CPU:0] (DEBUG INFO) Executor start aborting (this does not indicate an error and you can ignore this message): INVALID_ARGUMENT: You must feed a value for placeholder tensor 'gradients/split_grad/concat/split/split_dim' with dtype int32\n",
      "\t [[{{node gradients/split_grad/concat/split/split_dim}}]]\n",
      "2023-04-25 22:47:34.497948: I tensorflow/core/common_runtime/executor.cc:1197] [/device:CPU:0] (DEBUG INFO) Executor start aborting (this does not indicate an error and you can ignore this message): INVALID_ARGUMENT: You must feed a value for placeholder tensor 'gradients/split_1_grad/concat/split_1/split_dim' with dtype int32\n",
      "\t [[{{node gradients/split_1_grad/concat/split_1/split_dim}}]]\n"
     ]
    }
   ],
   "source": [
    "# LSTM\n",
    "model = Sequential()\n",
    "model.add(Embedding(input_dim = vocab_size, output_dim = output_dim, input_length = maxlen, embeddings_constraint=maxnorm(3)))\n",
    "model.add(LSTM(20, return_sequences=True, kernel_constraint=maxnorm(3)))\n",
    "model.add(Dropout(0.4))\n",
    "model.add(LSTM(10, return_sequences=True, kernel_constraint=maxnorm(3)))\n",
    "model.add(Dropout(0.4))\n",
    "model.add(LSTM(5, kernel_constraint=maxnorm(3)))\n",
    "model.add(Dense(2,activation='softmax'))\n",
    "model.compile(loss = 'categorical_crossentropy', optimizer='adam', metrics = ['accuracy'])\n",
    "warnings.filterwarnings(\"ignore\")"
   ]
  },
  {
   "cell_type": "code",
   "execution_count": 88,
   "id": "f2337d73-db08-493c-b29a-1b43da7a1685",
   "metadata": {
    "collapsed": true,
    "jupyter": {
     "outputs_hidden": true
    },
    "tags": []
   },
   "outputs": [
    {
     "name": "stdout",
     "output_type": "stream",
     "text": [
      "Model: \"sequential_3\"\n",
      "_________________________________________________________________\n",
      " Layer (type)                Output Shape              Param #   \n",
      "=================================================================\n",
      " embedding_3 (Embedding)     (None, 25, 32)            360352    \n",
      "                                                                 \n",
      " lstm_6 (LSTM)               (None, 25, 20)            4240      \n",
      "                                                                 \n",
      " dropout_6 (Dropout)         (None, 25, 20)            0         \n",
      "                                                                 \n",
      " lstm_7 (LSTM)               (None, 25, 10)            1240      \n",
      "                                                                 \n",
      " dropout_7 (Dropout)         (None, 25, 10)            0         \n",
      "                                                                 \n",
      " lstm_8 (LSTM)               (None, 5)                 320       \n",
      "                                                                 \n",
      " dense_3 (Dense)             (None, 2)                 12        \n",
      "                                                                 \n",
      "=================================================================\n",
      "Total params: 366,164\n",
      "Trainable params: 366,164\n",
      "Non-trainable params: 0\n",
      "_________________________________________________________________\n"
     ]
    }
   ],
   "source": [
    "# Save the LSTM model\n",
    "model.save('lstm.h5')\n",
    "# save model\n",
    "model.summary()"
   ]
  },
  {
   "cell_type": "code",
   "execution_count": 90,
   "id": "6d3f1368-0476-4107-a99a-2e54350622d8",
   "metadata": {
    "collapsed": true,
    "jupyter": {
     "outputs_hidden": true
    },
    "tags": []
   },
   "outputs": [
    {
     "name": "stdout",
     "output_type": "stream",
     "text": [
      "Epoch 1/10\n"
     ]
    },
    {
     "name": "stderr",
     "output_type": "stream",
     "text": [
      "2023-04-25 22:46:22.333659: I tensorflow/core/common_runtime/executor.cc:1197] [/device:CPU:0] (DEBUG INFO) Executor start aborting (this does not indicate an error and you can ignore this message): INVALID_ARGUMENT: You must feed a value for placeholder tensor 'gradients/split_2_grad/concat/split_2/split_dim' with dtype int32\n",
      "\t [[{{node gradients/split_2_grad/concat/split_2/split_dim}}]]\n",
      "2023-04-25 22:46:22.336340: I tensorflow/core/common_runtime/executor.cc:1197] [/device:CPU:0] (DEBUG INFO) Executor start aborting (this does not indicate an error and you can ignore this message): INVALID_ARGUMENT: You must feed a value for placeholder tensor 'gradients/split_grad/concat/split/split_dim' with dtype int32\n",
      "\t [[{{node gradients/split_grad/concat/split/split_dim}}]]\n",
      "2023-04-25 22:46:22.338299: I tensorflow/core/common_runtime/executor.cc:1197] [/device:CPU:0] (DEBUG INFO) Executor start aborting (this does not indicate an error and you can ignore this message): INVALID_ARGUMENT: You must feed a value for placeholder tensor 'gradients/split_1_grad/concat/split_1/split_dim' with dtype int32\n",
      "\t [[{{node gradients/split_1_grad/concat/split_1/split_dim}}]]\n",
      "2023-04-25 22:46:22.654055: I tensorflow/core/common_runtime/executor.cc:1197] [/device:CPU:0] (DEBUG INFO) Executor start aborting (this does not indicate an error and you can ignore this message): INVALID_ARGUMENT: You must feed a value for placeholder tensor 'gradients/split_2_grad/concat/split_2/split_dim' with dtype int32\n",
      "\t [[{{node gradients/split_2_grad/concat/split_2/split_dim}}]]\n",
      "2023-04-25 22:46:22.656727: I tensorflow/core/common_runtime/executor.cc:1197] [/device:CPU:0] (DEBUG INFO) Executor start aborting (this does not indicate an error and you can ignore this message): INVALID_ARGUMENT: You must feed a value for placeholder tensor 'gradients/split_grad/concat/split/split_dim' with dtype int32\n",
      "\t [[{{node gradients/split_grad/concat/split/split_dim}}]]\n",
      "2023-04-25 22:46:22.658669: I tensorflow/core/common_runtime/executor.cc:1197] [/device:CPU:0] (DEBUG INFO) Executor start aborting (this does not indicate an error and you can ignore this message): INVALID_ARGUMENT: You must feed a value for placeholder tensor 'gradients/split_1_grad/concat/split_1/split_dim' with dtype int32\n",
      "\t [[{{node gradients/split_1_grad/concat/split_1/split_dim}}]]\n",
      "2023-04-25 22:46:22.972596: I tensorflow/core/common_runtime/executor.cc:1197] [/device:CPU:0] (DEBUG INFO) Executor start aborting (this does not indicate an error and you can ignore this message): INVALID_ARGUMENT: You must feed a value for placeholder tensor 'gradients/split_2_grad/concat/split_2/split_dim' with dtype int32\n",
      "\t [[{{node gradients/split_2_grad/concat/split_2/split_dim}}]]\n",
      "2023-04-25 22:46:22.975239: I tensorflow/core/common_runtime/executor.cc:1197] [/device:CPU:0] (DEBUG INFO) Executor start aborting (this does not indicate an error and you can ignore this message): INVALID_ARGUMENT: You must feed a value for placeholder tensor 'gradients/split_grad/concat/split/split_dim' with dtype int32\n",
      "\t [[{{node gradients/split_grad/concat/split/split_dim}}]]\n",
      "2023-04-25 22:46:22.977190: I tensorflow/core/common_runtime/executor.cc:1197] [/device:CPU:0] (DEBUG INFO) Executor start aborting (this does not indicate an error and you can ignore this message): INVALID_ARGUMENT: You must feed a value for placeholder tensor 'gradients/split_1_grad/concat/split_1/split_dim' with dtype int32\n",
      "\t [[{{node gradients/split_1_grad/concat/split_1/split_dim}}]]\n",
      "2023-04-25 22:46:24.816492: I tensorflow/core/common_runtime/executor.cc:1197] [/device:CPU:0] (DEBUG INFO) Executor start aborting (this does not indicate an error and you can ignore this message): INVALID_ARGUMENT: You must feed a value for placeholder tensor 'gradients/split_2_grad/concat/split_2/split_dim' with dtype int32\n",
      "\t [[{{node gradients/split_2_grad/concat/split_2/split_dim}}]]\n",
      "2023-04-25 22:46:24.818797: I tensorflow/core/common_runtime/executor.cc:1197] [/device:CPU:0] (DEBUG INFO) Executor start aborting (this does not indicate an error and you can ignore this message): INVALID_ARGUMENT: You must feed a value for placeholder tensor 'gradients/split_grad/concat/split/split_dim' with dtype int32\n",
      "\t [[{{node gradients/split_grad/concat/split/split_dim}}]]\n",
      "2023-04-25 22:46:24.820601: I tensorflow/core/common_runtime/executor.cc:1197] [/device:CPU:0] (DEBUG INFO) Executor start aborting (this does not indicate an error and you can ignore this message): INVALID_ARGUMENT: You must feed a value for placeholder tensor 'gradients/split_1_grad/concat/split_1/split_dim' with dtype int32\n",
      "\t [[{{node gradients/split_1_grad/concat/split_1/split_dim}}]]\n",
      "2023-04-25 22:46:25.149506: I tensorflow/core/common_runtime/executor.cc:1197] [/device:CPU:0] (DEBUG INFO) Executor start aborting (this does not indicate an error and you can ignore this message): INVALID_ARGUMENT: You must feed a value for placeholder tensor 'gradients/split_2_grad/concat/split_2/split_dim' with dtype int32\n",
      "\t [[{{node gradients/split_2_grad/concat/split_2/split_dim}}]]\n",
      "2023-04-25 22:46:25.152010: I tensorflow/core/common_runtime/executor.cc:1197] [/device:CPU:0] (DEBUG INFO) Executor start aborting (this does not indicate an error and you can ignore this message): INVALID_ARGUMENT: You must feed a value for placeholder tensor 'gradients/split_grad/concat/split/split_dim' with dtype int32\n",
      "\t [[{{node gradients/split_grad/concat/split/split_dim}}]]\n",
      "2023-04-25 22:46:25.153913: I tensorflow/core/common_runtime/executor.cc:1197] [/device:CPU:0] (DEBUG INFO) Executor start aborting (this does not indicate an error and you can ignore this message): INVALID_ARGUMENT: You must feed a value for placeholder tensor 'gradients/split_1_grad/concat/split_1/split_dim' with dtype int32\n",
      "\t [[{{node gradients/split_1_grad/concat/split_1/split_dim}}]]\n",
      "2023-04-25 22:46:25.491882: I tensorflow/core/common_runtime/executor.cc:1197] [/device:CPU:0] (DEBUG INFO) Executor start aborting (this does not indicate an error and you can ignore this message): INVALID_ARGUMENT: You must feed a value for placeholder tensor 'gradients/split_2_grad/concat/split_2/split_dim' with dtype int32\n",
      "\t [[{{node gradients/split_2_grad/concat/split_2/split_dim}}]]\n",
      "2023-04-25 22:46:25.494429: I tensorflow/core/common_runtime/executor.cc:1197] [/device:CPU:0] (DEBUG INFO) Executor start aborting (this does not indicate an error and you can ignore this message): INVALID_ARGUMENT: You must feed a value for placeholder tensor 'gradients/split_grad/concat/split/split_dim' with dtype int32\n",
      "\t [[{{node gradients/split_grad/concat/split/split_dim}}]]\n",
      "2023-04-25 22:46:25.496355: I tensorflow/core/common_runtime/executor.cc:1197] [/device:CPU:0] (DEBUG INFO) Executor start aborting (this does not indicate an error and you can ignore this message): INVALID_ARGUMENT: You must feed a value for placeholder tensor 'gradients/split_1_grad/concat/split_1/split_dim' with dtype int32\n",
      "\t [[{{node gradients/split_1_grad/concat/split_1/split_dim}}]]\n"
     ]
    },
    {
     "name": "stdout",
     "output_type": "stream",
     "text": [
      "13/13 [==============================] - ETA: 0s - loss: 0.6898 - accuracy: 0.5515"
     ]
    },
    {
     "name": "stderr",
     "output_type": "stream",
     "text": [
      "2023-04-25 22:46:29.519607: I tensorflow/core/common_runtime/executor.cc:1197] [/device:CPU:0] (DEBUG INFO) Executor start aborting (this does not indicate an error and you can ignore this message): INVALID_ARGUMENT: You must feed a value for placeholder tensor 'gradients/split_2_grad/concat/split_2/split_dim' with dtype int32\n",
      "\t [[{{node gradients/split_2_grad/concat/split_2/split_dim}}]]\n",
      "2023-04-25 22:46:29.521387: I tensorflow/core/common_runtime/executor.cc:1197] [/device:CPU:0] (DEBUG INFO) Executor start aborting (this does not indicate an error and you can ignore this message): INVALID_ARGUMENT: You must feed a value for placeholder tensor 'gradients/split_grad/concat/split/split_dim' with dtype int32\n",
      "\t [[{{node gradients/split_grad/concat/split/split_dim}}]]\n",
      "2023-04-25 22:46:29.523215: I tensorflow/core/common_runtime/executor.cc:1197] [/device:CPU:0] (DEBUG INFO) Executor start aborting (this does not indicate an error and you can ignore this message): INVALID_ARGUMENT: You must feed a value for placeholder tensor 'gradients/split_1_grad/concat/split_1/split_dim' with dtype int32\n",
      "\t [[{{node gradients/split_1_grad/concat/split_1/split_dim}}]]\n",
      "2023-04-25 22:46:29.774818: I tensorflow/core/common_runtime/executor.cc:1197] [/device:CPU:0] (DEBUG INFO) Executor start aborting (this does not indicate an error and you can ignore this message): INVALID_ARGUMENT: You must feed a value for placeholder tensor 'gradients/split_2_grad/concat/split_2/split_dim' with dtype int32\n",
      "\t [[{{node gradients/split_2_grad/concat/split_2/split_dim}}]]\n",
      "2023-04-25 22:46:29.777110: I tensorflow/core/common_runtime/executor.cc:1197] [/device:CPU:0] (DEBUG INFO) Executor start aborting (this does not indicate an error and you can ignore this message): INVALID_ARGUMENT: You must feed a value for placeholder tensor 'gradients/split_grad/concat/split/split_dim' with dtype int32\n",
      "\t [[{{node gradients/split_grad/concat/split/split_dim}}]]\n",
      "2023-04-25 22:46:29.779004: I tensorflow/core/common_runtime/executor.cc:1197] [/device:CPU:0] (DEBUG INFO) Executor start aborting (this does not indicate an error and you can ignore this message): INVALID_ARGUMENT: You must feed a value for placeholder tensor 'gradients/split_1_grad/concat/split_1/split_dim' with dtype int32\n",
      "\t [[{{node gradients/split_1_grad/concat/split_1/split_dim}}]]\n",
      "2023-04-25 22:46:30.007679: I tensorflow/core/common_runtime/executor.cc:1197] [/device:CPU:0] (DEBUG INFO) Executor start aborting (this does not indicate an error and you can ignore this message): INVALID_ARGUMENT: You must feed a value for placeholder tensor 'gradients/split_2_grad/concat/split_2/split_dim' with dtype int32\n",
      "\t [[{{node gradients/split_2_grad/concat/split_2/split_dim}}]]\n",
      "2023-04-25 22:46:30.010059: I tensorflow/core/common_runtime/executor.cc:1197] [/device:CPU:0] (DEBUG INFO) Executor start aborting (this does not indicate an error and you can ignore this message): INVALID_ARGUMENT: You must feed a value for placeholder tensor 'gradients/split_grad/concat/split/split_dim' with dtype int32\n",
      "\t [[{{node gradients/split_grad/concat/split/split_dim}}]]\n",
      "2023-04-25 22:46:30.012009: I tensorflow/core/common_runtime/executor.cc:1197] [/device:CPU:0] (DEBUG INFO) Executor start aborting (this does not indicate an error and you can ignore this message): INVALID_ARGUMENT: You must feed a value for placeholder tensor 'gradients/split_1_grad/concat/split_1/split_dim' with dtype int32\n",
      "\t [[{{node gradients/split_1_grad/concat/split_1/split_dim}}]]\n"
     ]
    },
    {
     "name": "stdout",
     "output_type": "stream",
     "text": [
      "13/13 [==============================] - 8s 156ms/step - loss: 0.6898 - accuracy: 0.5515 - val_loss: 0.6842 - val_accuracy: 0.5689\n",
      "Epoch 2/10\n",
      "13/13 [==============================] - 1s 50ms/step - loss: 0.6764 - accuracy: 0.5593 - val_loss: 0.6756 - val_accuracy: 0.5689\n",
      "Epoch 3/10\n",
      "13/13 [==============================] - 1s 51ms/step - loss: 0.6380 - accuracy: 0.5670 - val_loss: 0.6524 - val_accuracy: 0.6048\n",
      "Epoch 4/10\n",
      "13/13 [==============================] - 1s 51ms/step - loss: 0.5051 - accuracy: 0.8144 - val_loss: 0.6090 - val_accuracy: 0.6707\n",
      "Epoch 5/10\n",
      "13/13 [==============================] - 1s 50ms/step - loss: 0.3431 - accuracy: 0.9485 - val_loss: 0.6570 - val_accuracy: 0.6647\n",
      "Epoch 6/10\n",
      "13/13 [==============================] - 1s 47ms/step - loss: 0.2387 - accuracy: 0.9820 - val_loss: 0.7155 - val_accuracy: 0.6347\n",
      "Epoch 7/10\n",
      "13/13 [==============================] - 1s 47ms/step - loss: 0.1873 - accuracy: 0.9871 - val_loss: 0.7869 - val_accuracy: 0.6347\n",
      "Epoch 8/10\n",
      "13/13 [==============================] - 1s 54ms/step - loss: 0.1511 - accuracy: 0.9871 - val_loss: 0.8523 - val_accuracy: 0.6287\n",
      "Epoch 9/10\n",
      "13/13 [==============================] - 1s 49ms/step - loss: 0.1257 - accuracy: 0.9897 - val_loss: 0.8988 - val_accuracy: 0.6347\n",
      "Epoch 10/10\n",
      "13/13 [==============================] - 1s 50ms/step - loss: 0.1065 - accuracy: 0.9897 - val_loss: 0.9460 - val_accuracy: 0.6347\n",
      "Accuracy: 60.92%\n",
      "Training duration(minutes): 0.271990692615509\n"
     ]
    }
   ],
   "source": [
    "start = time.time()\n",
    "# Fit the model to the training set\n",
    "lstm_hist = model.fit(X_train, y_train, epochs=10, validation_split=0.3)\n",
    "# Final evaluation of the model\n",
    "lstm_scores = model.evaluate(X_eval, y_eval, verbose=0)\n",
    "print(\"Accuracy: %.2f%%\" % (lstm_scores[1]*100))\n",
    "warnings.filterwarnings(\"ignore\")\n",
    "end = time.time()\n",
    "total = (end-start)/60\n",
    "print('Training duration(minutes): {}'.format(total))"
   ]
  },
  {
   "cell_type": "code",
   "execution_count": 84,
   "id": "bb77bccc-0a6a-4966-9c6e-4655b1400b96",
   "metadata": {},
   "outputs": [
    {
     "data": {
      "text/plain": [
       "[0.9148911833763123, 0.668067216873169]"
      ]
     },
     "execution_count": 84,
     "metadata": {},
     "output_type": "execute_result"
    }
   ],
   "source": [
    "lstm_scores"
   ]
  },
  {
   "cell_type": "code",
   "execution_count": 42,
   "id": "716f3ef8-1cfc-4094-8c49-461d1cc52055",
   "metadata": {
    "tags": []
   },
   "outputs": [],
   "source": [
    "# Accuracy\n",
    "# maxlen = 100\n",
    "srnn_acc = 60.38\n",
    "lstm_acc = 67.92\n",
    "# maxlen = 50\n",
    "srnn_acc = 53.46\n",
    "lstm_acc = 70.44\n",
    "# maxlen = 25\n",
    "srnn_acc = 60.38\n",
    "lstm_acc = 71.70"
   ]
  },
  {
   "cell_type": "markdown",
   "id": "5c597aa2-9c0e-46e6-b1fd-20425896b348",
   "metadata": {},
   "source": [
    "### Model Evaluation"
   ]
  },
  {
   "cell_type": "code",
   "execution_count": 43,
   "id": "0be2cc8f-b334-48e7-89fc-cfc39e4655a3",
   "metadata": {
    "tags": []
   },
   "outputs": [],
   "source": [
    "# rnn_hist.history"
   ]
  },
  {
   "cell_type": "code",
   "execution_count": 44,
   "id": "07c52469-2d1d-4c9c-8a2d-093c62aa96c6",
   "metadata": {},
   "outputs": [
    {
     "data": {
      "image/png": "[encoded data removed]",
      "text/plain": [
       "<Figure size 640x480 with 1 Axes>"
      ]
     },
     "metadata": {},
     "output_type": "display_data"
    }
   ],
   "source": [
    "import matplotlib.pyplot as plt\n",
    "acc = rnn_hist.history['accuracy']\n",
    "val_acc = rnn_hist.history['val_accuracy']\n",
    "loss = rnn_hist.history['loss']\n",
    "val_loss = rnn_hist.history['val_loss']\n",
    "epochs = range(1, len(acc)+1)\n",
    "_ = plt.plot(epochs, acc, 'r', label='Training acc')\n",
    "_ = plt.plot(epochs, val_acc, 'b', label='Validation acc')\n",
    "_ = plt.title('SimpleRNN: Training and validation accuracy')\n",
    "_ = plt.xlabel('Epoch')\n",
    "_ = plt.ylabel('Accuracy')\n",
    "_ = plt.legend(loc='best')\n",
    "plt.show()"
   ]
  },
  {
   "cell_type": "code",
   "execution_count": 45,
   "id": "4dc17c44-87e7-41f6-a5ff-8439e91805dc",
   "metadata": {},
   "outputs": [
    {
     "data": {
      "image/png": "[encoded data removed]",
      "text/plain": [
       "<Figure size 640x480 with 1 Axes>"
      ]
     },
     "metadata": {},
     "output_type": "display_data"
    }
   ],
   "source": [
    "_ = plt.plot(epochs, loss, 'r', label='Training loss')\n",
    "_ = plt.plot(epochs, val_loss, 'b', label='Validation loss')\n",
    "_ = plt.title('SimpleRNN: Training and validation loss')\n",
    "_ = plt.xlabel('Epoch')\n",
    "_ = plt.ylabel('Loss')\n",
    "_ = plt.legend(loc='best')\n",
    "plt.show()"
   ]
  },
  {
   "cell_type": "markdown",
   "id": "fabeea11-41c7-4e62-836b-c5144cbca8fa",
   "metadata": {
    "jp-MarkdownHeadingCollapsed": true,
    "tags": []
   },
   "source": [
    "#### LSTM Result"
   ]
  },
  {
   "cell_type": "code",
   "execution_count": 85,
   "id": "33f52465-f902-4fb7-855b-d93d7661d317",
   "metadata": {},
   "outputs": [
    {
     "data": {
      "image/png": "[encoded data removed]",
      "text/plain": [
       "<Figure size 640x480 with 1 Axes>"
      ]
     },
     "metadata": {},
     "output_type": "display_data"
    }
   ],
   "source": [
    "import matplotlib.pyplot as plt\n",
    "acc = lstm_hist.history['accuracy']\n",
    "val_acc = lstm_hist.history['val_accuracy']\n",
    "loss = lstm_hist.history['loss']\n",
    "val_loss = lstm_hist.history['val_loss']\n",
    "epochs = range(1, len(acc)+1)\n",
    "_ = plt.plot(epochs, acc, 'r', label='Training acc')\n",
    "_ = plt.plot(epochs, val_acc, 'b', label='Validation acc')\n",
    "_ = plt.title('LSTM: Training and validation accuracy')\n",
    "_ = plt.xlabel('Epoch')\n",
    "_ = plt.ylabel('Accuracy')\n",
    "_ = plt.legend(loc='best')\n",
    "plt.show()"
   ]
  },
  {
   "cell_type": "code",
   "execution_count": 86,
   "id": "b782286c-223e-43c4-a537-1a7da6f3c366",
   "metadata": {},
   "outputs": [
    {
     "data": {
      "image/png": "[encoded data removed]",
      "text/plain": [
       "<Figure size 640x480 with 1 Axes>"
      ]
     },
     "metadata": {},
     "output_type": "display_data"
    }
   ],
   "source": [
    "_ = plt.plot(epochs, loss, 'r', label='Training loss')\n",
    "_ = plt.plot(epochs, val_loss, 'b', label='Validation loss')\n",
    "_ = plt.title('LSTM: Training and validation loss')\n",
    "_ = plt.xlabel('Epoch')\n",
    "_ = plt.ylabel('Loss')\n",
    "_ = plt.legend(loc='best')\n",
    "plt.show()"
   ]
  },
  {
   "cell_type": "code",
   "execution_count": null,
   "id": "bb954c1b-6152-4237-bbc3-a0a3e7a43b2b",
   "metadata": {},
   "outputs": [],
   "source": []
  },
  {
   "cell_type": "markdown",
   "id": "2ab01cf3-655a-4b1f-82eb-5fac02fdb18e",
   "metadata": {},
   "source": [
    "### Predict with the LSTM model"
   ]
  },
  {
   "cell_type": "code",
   "execution_count": 92,
   "id": "a80fd1b8-cceb-4411-a1b9-ca98b7651c90",
   "metadata": {
    "collapsed": true,
    "jupyter": {
     "outputs_hidden": true
    },
    "tags": []
   },
   "outputs": [
    {
     "name": "stderr",
     "output_type": "stream",
     "text": [
      "2023-04-25 22:51:40.620200: I tensorflow/core/common_runtime/executor.cc:1197] [/device:CPU:0] (DEBUG INFO) Executor start aborting (this does not indicate an error and you can ignore this message): INVALID_ARGUMENT: You must feed a value for placeholder tensor 'gradients/split_2_grad/concat/split_2/split_dim' with dtype int32\n",
      "\t [[{{node gradients/split_2_grad/concat/split_2/split_dim}}]]\n",
      "2023-04-25 22:51:40.622655: I tensorflow/core/common_runtime/executor.cc:1197] [/device:CPU:0] (DEBUG INFO) Executor start aborting (this does not indicate an error and you can ignore this message): INVALID_ARGUMENT: You must feed a value for placeholder tensor 'gradients/split_grad/concat/split/split_dim' with dtype int32\n",
      "\t [[{{node gradients/split_grad/concat/split/split_dim}}]]\n",
      "2023-04-25 22:51:40.624057: I tensorflow/core/common_runtime/executor.cc:1197] [/device:CPU:0] (DEBUG INFO) Executor start aborting (this does not indicate an error and you can ignore this message): INVALID_ARGUMENT: You must feed a value for placeholder tensor 'gradients/split_1_grad/concat/split_1/split_dim' with dtype int32\n",
      "\t [[{{node gradients/split_1_grad/concat/split_1/split_dim}}]]\n",
      "2023-04-25 22:51:40.889300: I tensorflow/core/common_runtime/executor.cc:1197] [/device:CPU:0] (DEBUG INFO) Executor start aborting (this does not indicate an error and you can ignore this message): INVALID_ARGUMENT: You must feed a value for placeholder tensor 'gradients/split_2_grad/concat/split_2/split_dim' with dtype int32\n",
      "\t [[{{node gradients/split_2_grad/concat/split_2/split_dim}}]]\n",
      "2023-04-25 22:51:40.891595: I tensorflow/core/common_runtime/executor.cc:1197] [/device:CPU:0] (DEBUG INFO) Executor start aborting (this does not indicate an error and you can ignore this message): INVALID_ARGUMENT: You must feed a value for placeholder tensor 'gradients/split_grad/concat/split/split_dim' with dtype int32\n",
      "\t [[{{node gradients/split_grad/concat/split/split_dim}}]]\n",
      "2023-04-25 22:51:40.893429: I tensorflow/core/common_runtime/executor.cc:1197] [/device:CPU:0] (DEBUG INFO) Executor start aborting (this does not indicate an error and you can ignore this message): INVALID_ARGUMENT: You must feed a value for placeholder tensor 'gradients/split_1_grad/concat/split_1/split_dim' with dtype int32\n",
      "\t [[{{node gradients/split_1_grad/concat/split_1/split_dim}}]]\n",
      "2023-04-25 22:51:41.142867: I tensorflow/core/common_runtime/executor.cc:1197] [/device:CPU:0] (DEBUG INFO) Executor start aborting (this does not indicate an error and you can ignore this message): INVALID_ARGUMENT: You must feed a value for placeholder tensor 'gradients/split_2_grad/concat/split_2/split_dim' with dtype int32\n",
      "\t [[{{node gradients/split_2_grad/concat/split_2/split_dim}}]]\n",
      "2023-04-25 22:51:41.145099: I tensorflow/core/common_runtime/executor.cc:1197] [/device:CPU:0] (DEBUG INFO) Executor start aborting (this does not indicate an error and you can ignore this message): INVALID_ARGUMENT: You must feed a value for placeholder tensor 'gradients/split_grad/concat/split/split_dim' with dtype int32\n",
      "\t [[{{node gradients/split_grad/concat/split/split_dim}}]]\n",
      "2023-04-25 22:51:41.146959: I tensorflow/core/common_runtime/executor.cc:1197] [/device:CPU:0] (DEBUG INFO) Executor start aborting (this does not indicate an error and you can ignore this message): INVALID_ARGUMENT: You must feed a value for placeholder tensor 'gradients/split_1_grad/concat/split_1/split_dim' with dtype int32\n",
      "\t [[{{node gradients/split_1_grad/concat/split_1/split_dim}}]]\n"
     ]
    }
   ],
   "source": [
    "from keras.models import load_model\n",
    "lstm = load_model('lstm.h5')\n",
    "warnings.filterwarnings(\"ignore\")"
   ]
  },
  {
   "cell_type": "code",
   "execution_count": 133,
   "id": "1ecb1767-821a-44da-9703-59ab6e1d63c8",
   "metadata": {
    "collapsed": true,
    "jupyter": {
     "outputs_hidden": true
    },
    "tags": []
   },
   "outputs": [
    {
     "name": "stdout",
     "output_type": "stream",
     "text": [
      "Model: \"sequential_7\"\n",
      "_________________________________________________________________\n",
      " Layer (type)                Output Shape              Param #   \n",
      "=================================================================\n",
      " embedding_7 (Embedding)     (None, 25, 32)            360352    \n",
      "                                                                 \n",
      " lstm_9 (LSTM)               (None, 25, 32)            8320      \n",
      "                                                                 \n",
      " dropout_14 (Dropout)        (None, 25, 32)            0         \n",
      "                                                                 \n",
      " lstm_10 (LSTM)              (None, 25, 32)            8320      \n",
      "                                                                 \n",
      " dropout_15 (Dropout)        (None, 25, 32)            0         \n",
      "                                                                 \n",
      " lstm_11 (LSTM)              (None, 32)                8320      \n",
      "                                                                 \n",
      " dense_7 (Dense)             (None, 2)                 66        \n",
      "                                                                 \n",
      "=================================================================\n",
      "Total params: 385,378\n",
      "Trainable params: 385,378\n",
      "Non-trainable params: 0\n",
      "_________________________________________________________________\n"
     ]
    }
   ],
   "source": [
    "lstm.summary()"
   ]
  },
  {
   "cell_type": "code",
   "execution_count": 102,
   "id": "d403b15e-856f-4493-8471-47238b55d254",
   "metadata": {},
   "outputs": [
    {
     "data": {
      "text/plain": [
       "Counter({0.0: 199, 1.0: 199})"
      ]
     },
     "execution_count": 102,
     "metadata": {},
     "output_type": "execute_result"
    }
   ],
   "source": [
    "# list(itertools.chain.from_iterable(X_test))\n",
    "Counter(list(itertools.chain.from_iterable(y_test)))"
   ]
  },
  {
   "cell_type": "code",
   "execution_count": 93,
   "id": "df064da1-ca63-4790-bee9-166b5ad54776",
   "metadata": {
    "collapsed": true,
    "jupyter": {
     "outputs_hidden": true
    },
    "tags": []
   },
   "outputs": [
    {
     "name": "stderr",
     "output_type": "stream",
     "text": [
      "2023-04-25 22:51:53.820588: I tensorflow/core/common_runtime/executor.cc:1197] [/device:CPU:0] (DEBUG INFO) Executor start aborting (this does not indicate an error and you can ignore this message): INVALID_ARGUMENT: You must feed a value for placeholder tensor 'gradients/split_2_grad/concat/split_2/split_dim' with dtype int32\n",
      "\t [[{{node gradients/split_2_grad/concat/split_2/split_dim}}]]\n",
      "2023-04-25 22:51:53.822672: I tensorflow/core/common_runtime/executor.cc:1197] [/device:CPU:0] (DEBUG INFO) Executor start aborting (this does not indicate an error and you can ignore this message): INVALID_ARGUMENT: You must feed a value for placeholder tensor 'gradients/split_grad/concat/split/split_dim' with dtype int32\n",
      "\t [[{{node gradients/split_grad/concat/split/split_dim}}]]\n",
      "2023-04-25 22:51:53.824022: I tensorflow/core/common_runtime/executor.cc:1197] [/device:CPU:0] (DEBUG INFO) Executor start aborting (this does not indicate an error and you can ignore this message): INVALID_ARGUMENT: You must feed a value for placeholder tensor 'gradients/split_1_grad/concat/split_1/split_dim' with dtype int32\n",
      "\t [[{{node gradients/split_1_grad/concat/split_1/split_dim}}]]\n",
      "2023-04-25 22:51:54.101422: I tensorflow/core/common_runtime/executor.cc:1197] [/device:CPU:0] (DEBUG INFO) Executor start aborting (this does not indicate an error and you can ignore this message): INVALID_ARGUMENT: You must feed a value for placeholder tensor 'gradients/split_2_grad/concat/split_2/split_dim' with dtype int32\n",
      "\t [[{{node gradients/split_2_grad/concat/split_2/split_dim}}]]\n",
      "2023-04-25 22:51:54.103649: I tensorflow/core/common_runtime/executor.cc:1197] [/device:CPU:0] (DEBUG INFO) Executor start aborting (this does not indicate an error and you can ignore this message): INVALID_ARGUMENT: You must feed a value for placeholder tensor 'gradients/split_grad/concat/split/split_dim' with dtype int32\n",
      "\t [[{{node gradients/split_grad/concat/split/split_dim}}]]\n",
      "2023-04-25 22:51:54.105659: I tensorflow/core/common_runtime/executor.cc:1197] [/device:CPU:0] (DEBUG INFO) Executor start aborting (this does not indicate an error and you can ignore this message): INVALID_ARGUMENT: You must feed a value for placeholder tensor 'gradients/split_1_grad/concat/split_1/split_dim' with dtype int32\n",
      "\t [[{{node gradients/split_1_grad/concat/split_1/split_dim}}]]\n",
      "2023-04-25 22:51:54.500964: I tensorflow/core/common_runtime/executor.cc:1197] [/device:CPU:0] (DEBUG INFO) Executor start aborting (this does not indicate an error and you can ignore this message): INVALID_ARGUMENT: You must feed a value for placeholder tensor 'gradients/split_2_grad/concat/split_2/split_dim' with dtype int32\n",
      "\t [[{{node gradients/split_2_grad/concat/split_2/split_dim}}]]\n",
      "2023-04-25 22:51:54.503050: I tensorflow/core/common_runtime/executor.cc:1197] [/device:CPU:0] (DEBUG INFO) Executor start aborting (this does not indicate an error and you can ignore this message): INVALID_ARGUMENT: You must feed a value for placeholder tensor 'gradients/split_grad/concat/split/split_dim' with dtype int32\n",
      "\t [[{{node gradients/split_grad/concat/split/split_dim}}]]\n",
      "2023-04-25 22:51:54.504587: I tensorflow/core/common_runtime/executor.cc:1197] [/device:CPU:0] (DEBUG INFO) Executor start aborting (this does not indicate an error and you can ignore this message): INVALID_ARGUMENT: You must feed a value for placeholder tensor 'gradients/split_1_grad/concat/split_1/split_dim' with dtype int32\n",
      "\t [[{{node gradients/split_1_grad/concat/split_1/split_dim}}]]\n"
     ]
    },
    {
     "name": "stdout",
     "output_type": "stream",
     "text": [
      "7/7 [==============================] - 2s 9ms/step\n"
     ]
    }
   ],
   "source": [
    "predictions = lstm.predict(X_test)"
   ]
  },
  {
   "cell_type": "code",
   "execution_count": 95,
   "id": "e86741a1-0c78-4b97-a1cf-a717d0314c58",
   "metadata": {},
   "outputs": [
    {
     "name": "stdout",
     "output_type": "stream",
     "text": [
      "(2,)\n"
     ]
    },
    {
     "data": {
      "text/plain": [
       "array([1, 0, 1, 0, 1, 1, 1, 0, 1, 1, 0, 1, 1, 0, 0, 1, 0, 1, 1, 1, 0, 1,\n",
       "       0, 1, 0, 0, 1, 1, 1, 0, 1, 0, 0, 1, 0, 0, 1, 0, 0, 0, 1, 0, 0, 1,\n",
       "       0, 1, 0, 1, 1, 1, 1, 1, 1, 1, 1, 1, 0, 0, 0, 1, 1, 1, 1, 1, 0, 0,\n",
       "       0, 0, 1, 0, 0, 0, 1, 1, 0, 0, 1, 0, 1, 1, 0, 1, 1, 0, 1, 1, 0, 1,\n",
       "       0, 1, 0, 1, 0, 1, 0, 1, 1, 0, 1, 0, 0, 1, 0, 1, 1, 0, 0, 1, 0, 1,\n",
       "       1, 1, 1, 0, 1, 1, 0, 1, 0, 1, 1, 1, 0, 0, 1, 0, 1, 1, 0, 1, 0, 0,\n",
       "       0, 1, 0, 1, 0, 1, 1, 0, 1, 1, 0, 0, 1, 0, 1, 0, 0, 0, 1, 0, 1, 0,\n",
       "       0, 0, 1, 1, 0, 0, 0, 1, 0, 1, 1, 0, 1, 1, 0, 0, 0, 1, 1, 0, 0, 1,\n",
       "       0, 1, 0, 1, 0, 0, 0, 0, 0, 1, 0, 0, 0, 0, 1, 0, 0, 1, 1, 0, 1, 1,\n",
       "       0])"
      ]
     },
     "execution_count": 95,
     "metadata": {},
     "output_type": "execute_result"
    }
   ],
   "source": [
    "reverse_dummy_predicted =TextLabelEncoderDummy.reverse_dummy_to_encoded(predictions)\n",
    "print(pd.unique(reverse_dummy_predicted).shape)\n",
    "\n",
    "# reverse encoded Y to categorical variables\n",
    "# reverse_encoded_y_predicted = encoder.inverse_transform(reverse_dummy_predicted)\n",
    "# reverse_encoded_y_predicted\n",
    "\n",
    "reverse_encoded_y_predicted = TextLabelEncoderDummy.reverse_encoded_to_text(reverse_dummy_predicted)\n",
    "reverse_encoded_y_predicted"
   ]
  },
  {
   "cell_type": "code",
   "execution_count": 101,
   "id": "81d54dd6-4f91-46ea-8d74-b46074faad30",
   "metadata": {},
   "outputs": [
    {
     "data": {
      "text/plain": [
       "Counter({1: 101, 0: 98})"
      ]
     },
     "execution_count": 101,
     "metadata": {},
     "output_type": "execute_result"
    }
   ],
   "source": [
    "# len(reverse_encoded_y_predicted)\n",
    "Counter(list(itertools.chain(reverse_encoded_y_predicted)))"
   ]
  },
  {
   "cell_type": "code",
   "execution_count": 137,
   "id": "c6299e1a-d33b-490b-9b0b-2ac35fcbddbd",
   "metadata": {},
   "outputs": [],
   "source": [
    "probability_positive = predictions[:,1]"
   ]
  },
  {
   "cell_type": "code",
   "execution_count": 138,
   "id": "ae16b992-4ca0-42f7-b64c-7d5d7f54fc6f",
   "metadata": {},
   "outputs": [
    {
     "data": {
      "text/plain": [
       "250"
      ]
     },
     "execution_count": 138,
     "metadata": {},
     "output_type": "execute_result"
    }
   ],
   "source": [
    "len(probability_positive)"
   ]
  },
  {
   "cell_type": "code",
   "execution_count": null,
   "id": "c9473400-2bae-4e31-b0a2-0869c7a31119",
   "metadata": {},
   "outputs": [],
   "source": []
  },
  {
   "cell_type": "code",
   "execution_count": null,
   "id": "4e2f7c6f-46f8-4259-b61a-16636a81aa23",
   "metadata": {},
   "outputs": [],
   "source": []
  },
  {
   "cell_type": "code",
   "execution_count": null,
   "id": "06735e1b-2f9b-406a-a547-c9d3d2c8d69a",
   "metadata": {},
   "outputs": [],
   "source": []
  },
  {
   "cell_type": "code",
   "execution_count": null,
   "id": "d2830636-de67-445e-8234-d75bb02ea81f",
   "metadata": {},
   "outputs": [],
   "source": []
  },
  {
   "cell_type": "code",
   "execution_count": null,
   "id": "619bebed-f2fc-4625-a393-7146635f7e1a",
   "metadata": {},
   "outputs": [],
   "source": []
  },
  {
   "cell_type": "code",
   "execution_count": null,
   "id": "69542e5a-cb4a-442c-9ac5-6ca3425731de",
   "metadata": {},
   "outputs": [],
   "source": []
  }
 ],
 "metadata": {
  "kernelspec": {
   "display_name": "Python 3 (ipykernel)",
   "language": "python",
   "name": "python3"
  },
  "language_info": {
   "codemirror_mode": {
    "name": "ipython",
    "version": 3
   },
   "file_extension": ".py",
   "mimetype": "text/x-python",
   "name": "python",
   "nbconvert_exporter": "python",
   "pygments_lexer": "ipython3",
   "version": "3.10.9"
  }
 },
 "nbformat": 4,
 "nbformat_minor": 5
}
