{
 "cells": [
  {
   "cell_type": "code",
   "execution_count": null,
   "id": "4de26877-5d85-44bb-8a9b-631113c5b607",
   "metadata": {},
   "outputs": [],
   "source": []
  },
  {
   "cell_type": "markdown",
   "id": "eccc7878-1e4e-4150-becb-6e256e879b06",
   "metadata": {},
   "source": [
    "## System GUI"
   ]
  },
  {
   "cell_type": "code",
   "execution_count": 1,
   "id": "a422f40e-af14-4fa1-a9e0-60ad444283a1",
   "metadata": {
    "tags": []
   },
   "outputs": [],
   "source": [
    "import tkinter as tk\n",
    "m = tk.Tk()\n",
    "m.title('Counting Seconds')\n",
    "button = tk.Button(m, text='Stop', width=25,bg='grey',activebackground='red', command=m.destroy)\n",
    "button.pack()\n",
    "tk.Label(m, text='First Name').pack()\n",
    "e1 = tk.Entry(m)\n",
    "e1.pack()\n",
    "tk.Label(m, text='Last Name').pack()\n",
    "e2 = tk.Entry(m)\n",
    "e2.pack()\n",
    "# e2.grid(row=1, column=1)\n",
    "frame = tk.Frame(m)\n",
    "frame.pack()\n",
    "bottomframe = tk.Frame(m)\n",
    "bottomframe.pack( side = tk.BOTTOM )\n",
    "redbutton = tk.Button(frame, text = 'Red', fg ='red')\n",
    "redbutton.pack( side = tk.LEFT)\n",
    "greenbutton = tk.Button(frame, text = 'Brown', fg='brown')\n",
    "greenbutton.pack( side = tk.LEFT )\n",
    "bluebutton = tk.Button(frame, text ='Blue', fg ='blue')\n",
    "bluebutton.pack( side = tk.LEFT )\n",
    "blackbutton = tk.Button(bottomframe, text ='Black', fg ='black')\n",
    "blackbutton.pack( side = tk.BOTTOM)\n",
    "m.mainloop()"
   ]
  },
  {
   "cell_type": "code",
   "execution_count": 37,
   "id": "6232cf47-35b0-4b9f-a468-34bbf0fecd17",
   "metadata": {
    "tags": []
   },
   "outputs": [],
   "source": [
    "from tkinter import *   \n",
    "m = tk.Tk()\n",
    "m.title('Counting Seconds')\n",
    "button = tk.Button(m, text='Stop', width=25,bg='grey',activebackground='red', command=m.destroy)\n",
    "button.pack()\n",
    "tk.Label(m, text='First Name').pack()\n",
    "e1 = tk.Entry(m)\n",
    "e1.pack()\n",
    "frame = tk.Frame(m,bg='green',bd=5,highlightcolor='white',highlightbackground='white')\n",
    "frame.pack()\n",
    "\n",
    "redbutton = tk.Button(frame, text = 'Red', fg ='red')\n",
    "redbutton.grid(row=0,column=0)\n",
    "redbutton = tk.Button(frame, text = 'Red', fg ='red')\n",
    "redbutton.grid(row=0,column=1)\n",
    "redbutton = tk.Button(frame, text = 'Red', fg ='red')\n",
    "redbutton.grid(row=0,column=2)\n",
    "redbutton = tk.Button(frame, text = 'Red', fg ='red')\n",
    "redbutton.grid(row=0,column=4)\n",
    "frame = tk.Frame(m, height=500, width=500, bg='brown',bd=5,highlightcolor='white',highlightbackground='white')\n",
    "frame.pack()\n",
    "m.mainloop()"
   ]
  }
 ],
 "metadata": {
  "kernelspec": {
   "display_name": "Python 3 (ipykernel)",
   "language": "python",
   "name": "python3"
  },
  "language_info": {
   "codemirror_mode": {
    "name": "ipython",
    "version": 3
   },
   "file_extension": ".py",
   "mimetype": "text/x-python",
   "name": "python",
   "nbconvert_exporter": "python",
   "pygments_lexer": "ipython3",
   "version": "3.10.6"
  }
 },
 "nbformat": 4,
 "nbformat_minor": 5
}
