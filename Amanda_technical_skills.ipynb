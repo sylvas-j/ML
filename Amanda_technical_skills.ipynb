{
  "nbformat": 4,
  "nbformat_minor": 0,
  "metadata": {
    "colab": {
      "name": "Amanda_technical_skills.ipynb",
      "provenance": [],
      "collapsed_sections": [],
      "toc_visible": true,
      "authorship_tag": "ABX9TyP9MOZA2mCX8MSCs+AwvLpU",
      "include_colab_link": true
    },
    "kernelspec": {
      "name": "python3",
      "display_name": "Python 3"
    },
    "language_info": {
      "name": "python"
    }
  },
  "cells": [
    {
      "cell_type": "markdown",
      "metadata": {
        "id": "view-in-github",
        "colab_type": "text"
      },
      "source": [
        "<a href=\"https://colab.research.google.com/github/sylvas-j/ML/blob/master/Amanda_technical_skills.ipynb\" target=\"_parent\"><img src=\"https://colab.research.google.com/assets/colab-badge.svg\" alt=\"Open In Colab\"/></a>"
      ]
    },
    {
      "cell_type": "markdown",
      "source": [
        "# Amanda teschnical skills set found from raw dataset"
      ],
      "metadata": {
        "id": "_lgkxlix88yq"
      }
    },
    {
      "cell_type": "markdown",
      "source": [
        "## Import relevant libraries"
      ],
      "metadata": {
        "id": "ccVl6ql39RgR"
      }
    },
    {
      "cell_type": "code",
      "source": [
        "from pandas import DataFrame\n",
        "import pandas as pd\n",
        "import numpy as np\n",
        "import seaborn as sns\n",
        "from google.colab import drive\n"
      ],
      "metadata": {
        "id": "30TJi7HS9L7h"
      },
      "execution_count": null,
      "outputs": []
    },
    {
      "cell_type": "markdown",
      "source": [
        "## Connect colab to google drive to access dataset"
      ],
      "metadata": {
        "id": "tZHc4Y1hYlZD"
      }
    },
    {
      "cell_type": "code",
      "source": [
        "# mounting drive to colab\n",
        "drive.mount('/content/drive')"
      ],
      "metadata": {
        "colab": {
          "base_uri": "https://localhost:8080/"
        },
        "id": "Ga3nAlrUYvz9",
        "outputId": "dfe34665-33a7-4e08-a34e-18e21222d2d8"
      },
      "execution_count": null,
      "outputs": [
        {
          "output_type": "stream",
          "name": "stdout",
          "text": [
            "Mounted at /content/drive\n"
          ]
        }
      ]
    },
    {
      "cell_type": "code",
      "source": [
        "data = pd.read_csv(\"/content/drive/My Drive/Colab Notebooks/hw_saver_llc_test/Raw_Skills_Dataset.csv\")\n",
        "skills_data = pd.read_csv(\"/content/drive/My Drive/Colab Notebooks/hw_saver_llc_test/Example_Technical_Skills.csv\")"
      ],
      "metadata": {
        "id": "rIUdDQ8_YzOr"
      },
      "execution_count": null,
      "outputs": []
    },
    {
      "cell_type": "code",
      "source": [
        "data.head()"
      ],
      "metadata": {
        "colab": {
          "base_uri": "https://localhost:8080/",
          "height": 206
        },
        "id": "peZs2gaQSU75",
        "outputId": "f3e72b78-d188-408c-8ab4-5c6487468ab7"
      },
      "execution_count": null,
      "outputs": [
        {
          "output_type": "execute_result",
          "data": {
            "text/plain": [
              "          RAW DATA\n",
              "0         What ifs\n",
              "1        seniority\n",
              "2      familiarity\n",
              "3  functionalities\n",
              "4          Lambdas"
            ],
            "text/html": [
              "\n",
              "  <div id=\"df-24adf9ce-fab1-47ea-87a6-51479554dae7\">\n",
              "    <div class=\"colab-df-container\">\n",
              "      <div>\n",
              "<style scoped>\n",
              "    .dataframe tbody tr th:only-of-type {\n",
              "        vertical-align: middle;\n",
              "    }\n",
              "\n",
              "    .dataframe tbody tr th {\n",
              "        vertical-align: top;\n",
              "    }\n",
              "\n",
              "    .dataframe thead th {\n",
              "        text-align: right;\n",
              "    }\n",
              "</style>\n",
              "<table border=\"1\" class=\"dataframe\">\n",
              "  <thead>\n",
              "    <tr style=\"text-align: right;\">\n",
              "      <th></th>\n",
              "      <th>RAW DATA</th>\n",
              "    </tr>\n",
              "  </thead>\n",
              "  <tbody>\n",
              "    <tr>\n",
              "      <th>0</th>\n",
              "      <td>What ifs</td>\n",
              "    </tr>\n",
              "    <tr>\n",
              "      <th>1</th>\n",
              "      <td>seniority</td>\n",
              "    </tr>\n",
              "    <tr>\n",
              "      <th>2</th>\n",
              "      <td>familiarity</td>\n",
              "    </tr>\n",
              "    <tr>\n",
              "      <th>3</th>\n",
              "      <td>functionalities</td>\n",
              "    </tr>\n",
              "    <tr>\n",
              "      <th>4</th>\n",
              "      <td>Lambdas</td>\n",
              "    </tr>\n",
              "  </tbody>\n",
              "</table>\n",
              "</div>\n",
              "      <button class=\"colab-df-convert\" onclick=\"convertToInteractive('df-24adf9ce-fab1-47ea-87a6-51479554dae7')\"\n",
              "              title=\"Convert this dataframe to an interactive table.\"\n",
              "              style=\"display:none;\">\n",
              "        \n",
              "  <svg xmlns=\"http://www.w3.org/2000/svg\" height=\"24px\"viewBox=\"0 0 24 24\"\n",
              "       width=\"24px\">\n",
              "    <path d=\"M0 0h24v24H0V0z\" fill=\"none\"/>\n",
              "    <path d=\"M18.56 5.44l.94 2.06.94-2.06 2.06-.94-2.06-.94-.94-2.06-.94 2.06-2.06.94zm-11 1L8.5 8.5l.94-2.06 2.06-.94-2.06-.94L8.5 2.5l-.94 2.06-2.06.94zm10 10l.94 2.06.94-2.06 2.06-.94-2.06-.94-.94-2.06-.94 2.06-2.06.94z\"/><path d=\"M17.41 7.96l-1.37-1.37c-.4-.4-.92-.59-1.43-.59-.52 0-1.04.2-1.43.59L10.3 9.45l-7.72 7.72c-.78.78-.78 2.05 0 2.83L4 21.41c.39.39.9.59 1.41.59.51 0 1.02-.2 1.41-.59l7.78-7.78 2.81-2.81c.8-.78.8-2.07 0-2.86zM5.41 20L4 18.59l7.72-7.72 1.47 1.35L5.41 20z\"/>\n",
              "  </svg>\n",
              "      </button>\n",
              "      \n",
              "  <style>\n",
              "    .colab-df-container {\n",
              "      display:flex;\n",
              "      flex-wrap:wrap;\n",
              "      gap: 12px;\n",
              "    }\n",
              "\n",
              "    .colab-df-convert {\n",
              "      background-color: #E8F0FE;\n",
              "      border: none;\n",
              "      border-radius: 50%;\n",
              "      cursor: pointer;\n",
              "      display: none;\n",
              "      fill: #1967D2;\n",
              "      height: 32px;\n",
              "      padding: 0 0 0 0;\n",
              "      width: 32px;\n",
              "    }\n",
              "\n",
              "    .colab-df-convert:hover {\n",
              "      background-color: #E2EBFA;\n",
              "      box-shadow: 0px 1px 2px rgba(60, 64, 67, 0.3), 0px 1px 3px 1px rgba(60, 64, 67, 0.15);\n",
              "      fill: #174EA6;\n",
              "    }\n",
              "\n",
              "    [theme=dark] .colab-df-convert {\n",
              "      background-color: #3B4455;\n",
              "      fill: #D2E3FC;\n",
              "    }\n",
              "\n",
              "    [theme=dark] .colab-df-convert:hover {\n",
              "      background-color: #434B5C;\n",
              "      box-shadow: 0px 1px 3px 1px rgba(0, 0, 0, 0.15);\n",
              "      filter: drop-shadow(0px 1px 2px rgba(0, 0, 0, 0.3));\n",
              "      fill: #FFFFFF;\n",
              "    }\n",
              "  </style>\n",
              "\n",
              "      <script>\n",
              "        const buttonEl =\n",
              "          document.querySelector('#df-24adf9ce-fab1-47ea-87a6-51479554dae7 button.colab-df-convert');\n",
              "        buttonEl.style.display =\n",
              "          google.colab.kernel.accessAllowed ? 'block' : 'none';\n",
              "\n",
              "        async function convertToInteractive(key) {\n",
              "          const element = document.querySelector('#df-24adf9ce-fab1-47ea-87a6-51479554dae7');\n",
              "          const dataTable =\n",
              "            await google.colab.kernel.invokeFunction('convertToInteractive',\n",
              "                                                     [key], {});\n",
              "          if (!dataTable) return;\n",
              "\n",
              "          const docLinkHtml = 'Like what you see? Visit the ' +\n",
              "            '<a target=\"_blank\" href=https://colab.research.google.com/notebooks/data_table.ipynb>data table notebook</a>'\n",
              "            + ' to learn more about interactive tables.';\n",
              "          element.innerHTML = '';\n",
              "          dataTable['output_type'] = 'display_data';\n",
              "          await google.colab.output.renderOutput(dataTable, element);\n",
              "          const docLink = document.createElement('div');\n",
              "          docLink.innerHTML = docLinkHtml;\n",
              "          element.appendChild(docLink);\n",
              "        }\n",
              "      </script>\n",
              "    </div>\n",
              "  </div>\n",
              "  "
            ]
          },
          "metadata": {},
          "execution_count": 5
        }
      ]
    },
    {
      "cell_type": "code",
      "source": [
        "skills_data.head()"
      ],
      "metadata": {
        "colab": {
          "base_uri": "https://localhost:8080/",
          "height": 206
        },
        "id": "y-FMVQ-iSdm-",
        "outputId": "574c22d7-2e65-4e94-dfb6-027a004e4633"
      },
      "execution_count": null,
      "outputs": [
        {
          "output_type": "execute_result",
          "data": {
            "text/plain": [
              "                       Technology Skills\n",
              "0                    SAP Fiori Developer\n",
              "1  Oracle Instance Management & Strategy\n",
              "2           Boomi Master Data Management\n",
              "3  Digital Manufacturing on Cloud ( DMC)\n",
              "4                                 DevOps"
            ],
            "text/html": [
              "\n",
              "  <div id=\"df-83cf17ba-d0a0-43b8-9e27-51f6e3ab8c15\">\n",
              "    <div class=\"colab-df-container\">\n",
              "      <div>\n",
              "<style scoped>\n",
              "    .dataframe tbody tr th:only-of-type {\n",
              "        vertical-align: middle;\n",
              "    }\n",
              "\n",
              "    .dataframe tbody tr th {\n",
              "        vertical-align: top;\n",
              "    }\n",
              "\n",
              "    .dataframe thead th {\n",
              "        text-align: right;\n",
              "    }\n",
              "</style>\n",
              "<table border=\"1\" class=\"dataframe\">\n",
              "  <thead>\n",
              "    <tr style=\"text-align: right;\">\n",
              "      <th></th>\n",
              "      <th>Technology Skills</th>\n",
              "    </tr>\n",
              "  </thead>\n",
              "  <tbody>\n",
              "    <tr>\n",
              "      <th>0</th>\n",
              "      <td>SAP Fiori Developer</td>\n",
              "    </tr>\n",
              "    <tr>\n",
              "      <th>1</th>\n",
              "      <td>Oracle Instance Management &amp; Strategy</td>\n",
              "    </tr>\n",
              "    <tr>\n",
              "      <th>2</th>\n",
              "      <td>Boomi Master Data Management</td>\n",
              "    </tr>\n",
              "    <tr>\n",
              "      <th>3</th>\n",
              "      <td>Digital Manufacturing on Cloud ( DMC)</td>\n",
              "    </tr>\n",
              "    <tr>\n",
              "      <th>4</th>\n",
              "      <td>DevOps</td>\n",
              "    </tr>\n",
              "  </tbody>\n",
              "</table>\n",
              "</div>\n",
              "      <button class=\"colab-df-convert\" onclick=\"convertToInteractive('df-83cf17ba-d0a0-43b8-9e27-51f6e3ab8c15')\"\n",
              "              title=\"Convert this dataframe to an interactive table.\"\n",
              "              style=\"display:none;\">\n",
              "        \n",
              "  <svg xmlns=\"http://www.w3.org/2000/svg\" height=\"24px\"viewBox=\"0 0 24 24\"\n",
              "       width=\"24px\">\n",
              "    <path d=\"M0 0h24v24H0V0z\" fill=\"none\"/>\n",
              "    <path d=\"M18.56 5.44l.94 2.06.94-2.06 2.06-.94-2.06-.94-.94-2.06-.94 2.06-2.06.94zm-11 1L8.5 8.5l.94-2.06 2.06-.94-2.06-.94L8.5 2.5l-.94 2.06-2.06.94zm10 10l.94 2.06.94-2.06 2.06-.94-2.06-.94-.94-2.06-.94 2.06-2.06.94z\"/><path d=\"M17.41 7.96l-1.37-1.37c-.4-.4-.92-.59-1.43-.59-.52 0-1.04.2-1.43.59L10.3 9.45l-7.72 7.72c-.78.78-.78 2.05 0 2.83L4 21.41c.39.39.9.59 1.41.59.51 0 1.02-.2 1.41-.59l7.78-7.78 2.81-2.81c.8-.78.8-2.07 0-2.86zM5.41 20L4 18.59l7.72-7.72 1.47 1.35L5.41 20z\"/>\n",
              "  </svg>\n",
              "      </button>\n",
              "      \n",
              "  <style>\n",
              "    .colab-df-container {\n",
              "      display:flex;\n",
              "      flex-wrap:wrap;\n",
              "      gap: 12px;\n",
              "    }\n",
              "\n",
              "    .colab-df-convert {\n",
              "      background-color: #E8F0FE;\n",
              "      border: none;\n",
              "      border-radius: 50%;\n",
              "      cursor: pointer;\n",
              "      display: none;\n",
              "      fill: #1967D2;\n",
              "      height: 32px;\n",
              "      padding: 0 0 0 0;\n",
              "      width: 32px;\n",
              "    }\n",
              "\n",
              "    .colab-df-convert:hover {\n",
              "      background-color: #E2EBFA;\n",
              "      box-shadow: 0px 1px 2px rgba(60, 64, 67, 0.3), 0px 1px 3px 1px rgba(60, 64, 67, 0.15);\n",
              "      fill: #174EA6;\n",
              "    }\n",
              "\n",
              "    [theme=dark] .colab-df-convert {\n",
              "      background-color: #3B4455;\n",
              "      fill: #D2E3FC;\n",
              "    }\n",
              "\n",
              "    [theme=dark] .colab-df-convert:hover {\n",
              "      background-color: #434B5C;\n",
              "      box-shadow: 0px 1px 3px 1px rgba(0, 0, 0, 0.15);\n",
              "      filter: drop-shadow(0px 1px 2px rgba(0, 0, 0, 0.3));\n",
              "      fill: #FFFFFF;\n",
              "    }\n",
              "  </style>\n",
              "\n",
              "      <script>\n",
              "        const buttonEl =\n",
              "          document.querySelector('#df-83cf17ba-d0a0-43b8-9e27-51f6e3ab8c15 button.colab-df-convert');\n",
              "        buttonEl.style.display =\n",
              "          google.colab.kernel.accessAllowed ? 'block' : 'none';\n",
              "\n",
              "        async function convertToInteractive(key) {\n",
              "          const element = document.querySelector('#df-83cf17ba-d0a0-43b8-9e27-51f6e3ab8c15');\n",
              "          const dataTable =\n",
              "            await google.colab.kernel.invokeFunction('convertToInteractive',\n",
              "                                                     [key], {});\n",
              "          if (!dataTable) return;\n",
              "\n",
              "          const docLinkHtml = 'Like what you see? Visit the ' +\n",
              "            '<a target=\"_blank\" href=https://colab.research.google.com/notebooks/data_table.ipynb>data table notebook</a>'\n",
              "            + ' to learn more about interactive tables.';\n",
              "          element.innerHTML = '';\n",
              "          dataTable['output_type'] = 'display_data';\n",
              "          await google.colab.output.renderOutput(dataTable, element);\n",
              "          const docLink = document.createElement('div');\n",
              "          docLink.innerHTML = docLinkHtml;\n",
              "          element.appendChild(docLink);\n",
              "        }\n",
              "      </script>\n",
              "    </div>\n",
              "  </div>\n",
              "  "
            ]
          },
          "metadata": {},
          "execution_count": 6
        }
      ]
    },
    {
      "cell_type": "markdown",
      "source": [
        "## Let's search for relevant insight from dataset"
      ],
      "metadata": {
        "id": "pytFs4i8Yxbi"
      }
    },
    {
      "cell_type": "code",
      "source": [
        "# number of columns and the likes\n",
        "data.info()"
      ],
      "metadata": {
        "colab": {
          "base_uri": "https://localhost:8080/"
        },
        "id": "UDZ8NAaDcOfi",
        "outputId": "e2bea42e-8c55-46fd-c5f4-a1c8f15ef0c1"
      },
      "execution_count": null,
      "outputs": [
        {
          "output_type": "stream",
          "name": "stdout",
          "text": [
            "<class 'pandas.core.frame.DataFrame'>\n",
            "RangeIndex: 34116 entries, 0 to 34115\n",
            "Data columns (total 1 columns):\n",
            " #   Column    Non-Null Count  Dtype \n",
            "---  ------    --------------  ----- \n",
            " 0   RAW DATA  34116 non-null  object\n",
            "dtypes: object(1)\n",
            "memory usage: 266.7+ KB\n"
          ]
        }
      ]
    },
    {
      "cell_type": "code",
      "source": [
        "# checking for duplicates etc\n",
        "data.describe(), skills_data.describe()\n",
        "# from the info below, the dataset only contains 15677 unique values, the rest are duplicate"
      ],
      "metadata": {
        "colab": {
          "base_uri": "https://localhost:8080/"
        },
        "id": "Qvl3DlpWcrl6",
        "outputId": "b289fb95-d931-4348-d8b0-745783f058fb"
      },
      "execution_count": null,
      "outputs": [
        {
          "output_type": "execute_result",
          "data": {
            "text/plain": [
              "(       RAW DATA\n",
              " count     34116\n",
              " unique    15677\n",
              " top      Python\n",
              " freq        272,        Technology Skills\n",
              " count                979\n",
              " unique               897\n",
              " top          DEC - Other\n",
              " freq                   3)"
            ]
          },
          "metadata": {},
          "execution_count": 12
        }
      ]
    },
    {
      "cell_type": "markdown",
      "source": [
        "## Data Wrangling"
      ],
      "metadata": {
        "id": "W8AGEnFTdzC7"
      }
    },
    {
      "cell_type": "code",
      "source": [
        "# removing duplicate values\n",
        "unique_data=pd.unique(data['RAW DATA'])\n",
        "# unique_data\n",
        "eg_data = pd.unique(skills_data['Technology Skills'])\n",
        "# eg_data"
      ],
      "metadata": {
        "id": "Qfkw-wVPdk0K"
      },
      "execution_count": null,
      "outputs": []
    },
    {
      "cell_type": "code",
      "source": [
        "# converting data array to dataframe\n",
        "df1 = pd.DataFrame(unique_data, columns =['raw_data'])\n",
        "df2 = pd.DataFrame(eg_data, columns =['eg_data'])\n",
        "\n",
        "df1.describe(), df2.describe()\n",
        "# our new dataset now constant only unique values"
      ],
      "metadata": {
        "colab": {
          "base_uri": "https://localhost:8080/"
        },
        "id": "XcTd-oWag6kj",
        "outputId": "0c361a95-9251-4888-cd8e-827350644e32"
      },
      "execution_count": null,
      "outputs": [
        {
          "output_type": "execute_result",
          "data": {
            "text/plain": [
              "(        raw_data\n",
              " count      15677\n",
              " unique     15677\n",
              " top     What ifs\n",
              " freq           1,                     eg_data\n",
              " count                   897\n",
              " unique                  897\n",
              " top     SAP Fiori Developer\n",
              " freq                      1)"
            ]
          },
          "metadata": {},
          "execution_count": 16
        }
      ]
    },
    {
      "cell_type": "markdown",
      "source": [
        "### Having gotten all the unigue data in the raw dataset, let's get the technical skills from the rest"
      ],
      "metadata": {
        "id": "3aR-NAI2Stlw"
      }
    },
    {
      "cell_type": "code",
      "source": [
        "# for index,row in df1.iterrows():\n",
        "#   print(row['raw_data'])\n",
        "#   break\n",
        "\n",
        "# for index2,value in skills_data.iterrows():\n",
        "#   print(value['Technology Skills'])\n",
        "#   break\n",
        "\n",
        "# skills_data['Technology Skills'].value_counts()\n",
        "df2['eg_data'].value_counts()"
      ],
      "metadata": {
        "colab": {
          "base_uri": "https://localhost:8080/"
        },
        "id": "H28Js7gTXeTB",
        "outputId": "891f206e-3647-4710-b259-a9e90b117789"
      },
      "execution_count": null,
      "outputs": [
        {
          "output_type": "execute_result",
          "data": {
            "text/plain": [
              "SAP Fiori Developer                         1\n",
              "Intrusion Prevention Systems (IPS)          1\n",
              "Oracle Design Thinking                      1\n",
              "Net Pay Validation                          1\n",
              "Multi-Source Deliv (Vendors\\Contractors)    1\n",
              "                                           ..\n",
              "SAP TM Freight Forwarder                    1\n",
              "JDE Modules Functional Testing              1\n",
              "HP - Cloud Computing                        1\n",
              "Hyperion Strategic Fin. Performance Mgmt    1\n",
              "Oracle ESB                                  1\n",
              "Name: eg_data, Length: 897, dtype: int64"
            ]
          },
          "metadata": {},
          "execution_count": 17
        }
      ]
    },
    {
      "cell_type": "code",
      "source": [
        "df1.head"
      ],
      "metadata": {
        "colab": {
          "base_uri": "https://localhost:8080/"
        },
        "id": "Dyn-srToXt8b",
        "outputId": "8f91029f-17c9-4984-c5f3-475ee5c9f311"
      },
      "execution_count": null,
      "outputs": [
        {
          "output_type": "execute_result",
          "data": {
            "text/plain": [
              "<bound method NDFrame.head of                                                    0\n",
              "0                                           What ifs\n",
              "1                                          seniority\n",
              "2                                        familiarity\n",
              "3                                    functionalities\n",
              "4                                            Lambdas\n",
              "...                                              ...\n",
              "15672                           Leadership qualities\n",
              "15673                                       Actalent\n",
              "15674                                 all applicants\n",
              "15675  Self-motivated, enthusiastic and strong drive\n",
              "15676                                    negotiation\n",
              "\n",
              "[15677 rows x 1 columns]>"
            ]
          },
          "metadata": {},
          "execution_count": 16
        }
      ]
    },
    {
      "cell_type": "code",
      "source": [
        "# Comparing the two dataframe to check and extract the match from the unigue dataset\n",
        "# df1['prices_match'] = np.where(df1['price_1'] == df2['price_2'], 'True', 'False')\n",
        "matched_data = []\n",
        "for index1,row in df1.iterrows():\n",
        "  # print(row)\n",
        "  for index2,value in df2.iterrows():\n",
        "    # print('tech skill:'+str(value['eg_data']))\n",
        "    if str(value['eg_data']) == str(row['raw_data']):\n",
        "      matched_data.append(row['raw_data'])\n",
        "    # if index1 > 1:\n",
        "    #   break\n",
        "\n",
        "print(matched_data)"
      ],
      "metadata": {
        "colab": {
          "base_uri": "https://localhost:8080/"
        },
        "id": "vCfa_l7LTBFh",
        "outputId": "3c67ba01-3511-46bc-8bf3-54d89c97008b"
      },
      "execution_count": null,
      "outputs": [
        {
          "output_type": "stream",
          "name": "stdout",
          "text": [
            "['MySQL', 'SCSS', 'EAC', 'DevOps', 'OpenShift', 'GitHub', 'NetSuite', 'Bitbucket', 'Ethereum', 'Kotlin', 'Bash', 'FTP', 'OneStream', 'Consul', 'Force.com', 'Amazon Lambda', 'Radius', 'Gulp', 'Guidewire PolicyCenter', 'Adobe Photoshop', 'Eclipse', 'Phantom', 'Magento', 'Microsoft Azure Networking', 'ActiveMQ', 'SAP Lumira', 'SAP Analytics Cloud', 'PostGIS', 'SAS JMP', 'NuGet', 'DRM', 'SAS Enterprise Guide', 'Katalon', 'Apache Oozie', 'Octopus Deploy', 'SAS Base']\n"
          ]
        }
      ]
    },
    {
      "cell_type": "code",
      "source": [
        "# https://colab.research.google.com/drive/1xajrEVespIv6lDK__IvQTeK2A40QE5AA?usp=sharing"
      ],
      "metadata": {
        "id": "CV-N_oq0TXKt"
      },
      "execution_count": null,
      "outputs": []
    }
  ]
}